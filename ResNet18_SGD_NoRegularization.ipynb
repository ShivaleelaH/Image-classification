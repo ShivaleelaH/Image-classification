{
  "nbformat": 4,
  "nbformat_minor": 0,
  "metadata": {
    "accelerator": "GPU",
    "colab": {
      "name": "ResNet18_SGD_NoRegularization.ipynb",
      "provenance": [],
      "collapsed_sections": []
    },
    "kernelspec": {
      "display_name": "Python 3",
      "name": "python3"
    }
  },
  "cells": [
    {
      "cell_type": "markdown",
      "metadata": {
        "id": "5XVw9ThRmEiz"
      },
      "source": [
        "*   Network     : ResNet18\n",
        "*   Optimizer   : SGD\n",
        "*   Regularizer : No regularization\n",
        "\n",
        "Ref for code: https://github.com/priya-dwivedi/Deep-Learning/blob/master/resnet_keras/Residual_Networks_yourself.ipynb"
      ]
    },
    {
      "cell_type": "code",
      "metadata": {
        "id": "KDAQC2UHmIlv",
        "outputId": "ae96c887-6a18-4567-ad11-6a1327602f97",
        "colab": {
          "base_uri": "https://localhost:8080/",
          "height": 88
        }
      },
      "source": [
        "from __future__ import print_function\n",
        "\n",
        "import keras\n",
        "from keras import optimizers\n",
        "from keras import backend as K\n",
        "from keras import regularizers\n",
        "from keras import callbacks\n",
        "\n",
        "from keras.applications.imagenet_utils import preprocess_input\n",
        "from keras.datasets import cifar100\n",
        "from keras.initializers import glorot_uniform\n",
        "from keras.layers.core import Lambda\n",
        "from keras.layers import Input, Add, Dense, Activation, ZeroPadding2D, BatchNormalization, Flatten, Conv2D, AveragePooling2D, MaxPooling2D, GlobalMaxPooling2D\n",
        "from keras.models import Model, load_model\n",
        "from keras.preprocessing.image import ImageDataGenerator\n",
        "from keras.utils import layer_utils, data_utils, vis_utils, plot_model #data_utils.get_file #vis_utils.model_to_dot\n",
        "\n",
        "import numpy as np\n",
        "import pydot\n",
        "import scipy.misc\n",
        "import matplotlib.pyplot as plt\n",
        "import tensorflow as tf\n",
        "\n",
        "from IPython.display import SVG\n",
        "from sklearn.model_selection import train_test_split\n",
        "from sklearn.metrics import accuracy_score, precision_score, recall_score, confusion_matrix, classification_report\n",
        "from matplotlib.pyplot import imshow\n",
        "%matplotlib inline\n",
        "\n",
        "import keras.backend as K\n",
        "K.set_image_data_format('channels_last')\n",
        "K.set_learning_phase(1)"
      ],
      "execution_count": null,
      "outputs": [
        {
          "output_type": "stream",
          "text": [
            "WARNING:tensorflow:From <ipython-input-1-b889844015e7>:32: set_learning_phase (from tensorflow.python.keras.backend) is deprecated and will be removed after 2020-10-11.\n",
            "Instructions for updating:\n",
            "Simply pass a True/False value to the `training` argument of the `__call__` method of your layer or model.\n"
          ],
          "name": "stdout"
        }
      ]
    },
    {
      "cell_type": "code",
      "metadata": {
        "id": "FMRfyaDwmsM9",
        "outputId": "52d3834b-9813-4500-f425-be2eaaf731e8",
        "colab": {
          "base_uri": "https://localhost:8080/",
          "height": 51
        }
      },
      "source": [
        "#Loading cifar100 dataset and dividing into Train, Validation and Test sets\n",
        "\n",
        "(X_train, Y_train), (x_test, y_test_o) = cifar100.load_data()\n",
        "\n",
        "X_train = X_train.astype('float32')\n",
        "x_test = x_test.astype('float32')\n",
        "\n",
        "x_train, x_validation, y_train, y_validation = train_test_split(X_train, Y_train, test_size=0.2, random_state=42)\n",
        "\n",
        "y_train = keras.utils.to_categorical(y_train, 100)\n",
        "y_validation = keras.utils.to_categorical(y_validation, 100)\n",
        "y_test = keras.utils.to_categorical(y_test_o, 100)"
      ],
      "execution_count": null,
      "outputs": [
        {
          "output_type": "stream",
          "text": [
            "Downloading data from https://www.cs.toronto.edu/~kriz/cifar-100-python.tar.gz\n",
            "169009152/169001437 [==============================] - 4s 0us/step\n"
          ],
          "name": "stdout"
        }
      ]
    },
    {
      "cell_type": "code",
      "metadata": {
        "id": "4Y082EW8IMeQ"
      },
      "source": [
        "#Definition of hyper parameters and other characteristics of the network like the activation functions\n",
        "\n",
        "num_classes = 100\n",
        "weight_decay = 0.0005\n",
        "x_shape = [32,32,3]\n",
        "\n",
        "conv_activation_func = 'elu'\n",
        "\n",
        "batch_size = 32\n",
        "maxepoches = 100\n",
        "l_rate = 0.001\n",
        "lr_decay = 1e-6\n",
        "# lr_drop = 20"
      ],
      "execution_count": null,
      "outputs": []
    },
    {
      "cell_type": "code",
      "metadata": {
        "id": "jIzvG1OVt-J6"
      },
      "source": [
        "def identity_block(X, f, filters):\n",
        "    # Retrieve Filters\n",
        "    F1, F2 = filters\n",
        "    \n",
        "    # Save the input value to add back to the main path. \n",
        "    X_shortcut = X\n",
        "    \n",
        "    # First component of main path\n",
        "    X = Conv2D(filters = F1, kernel_size = (3, 3), strides = (1,1), padding = 'same')(X)\n",
        "    X = Activation(conv_activation_func)(X)\n",
        "\n",
        "    # Second component of main path \n",
        "    X = Conv2D(filters = F2, kernel_size = (3, 3), strides = (1,1), padding = 'same')(X)\n",
        "    X = Activation(conv_activation_func)(X)\n",
        "\n",
        "    # Final step: Add shortcut value to main path, and pass it through a RELU activation \n",
        "    X = Add()([X, X_shortcut])\n",
        "    X = Activation(conv_activation_func)(X)\n",
        "       \n",
        "    return X"
      ],
      "execution_count": null,
      "outputs": []
    },
    {
      "cell_type": "code",
      "metadata": {
        "id": "DxOzxG_HuCvJ"
      },
      "source": [
        "def convolutional_block(X, f, filters, s = 2):\n",
        "    # Retrieve Filters\n",
        "    F1, F2 = filters\n",
        "    \n",
        "    # Save the input value\n",
        "    X_shortcut = X\n",
        "\n",
        "    ##### MAIN PATH #####\n",
        "    # First component of main path \n",
        "    X = Conv2D(F1, (3, 3), strides = (s,s), padding='same')(X)\n",
        "    X = Activation(conv_activation_func)(X)\n",
        "\n",
        "    # Second component of main path\n",
        "    X = Conv2D(filters = F2, kernel_size = (3, 3), strides = (1,1), padding = 'same')(X)\n",
        "    X = Activation(conv_activation_func)(X)\n",
        "\n",
        "    ##### SHORTCUT PATH #### \n",
        "    X_shortcut = Conv2D(filters = F2, kernel_size = (3, 3), strides = (s,s), padding = 'same')(X_shortcut)\n",
        "\n",
        "    # Final step: Add shortcut value to main path, and pass it through a RELU activation \n",
        "    X = Add()([X, X_shortcut])\n",
        "    X = Activation(conv_activation_func)(X)\n",
        "    \n",
        "    return X"
      ],
      "execution_count": null,
      "outputs": []
    },
    {
      "cell_type": "code",
      "metadata": {
        "id": "RYNrHaw4uHHg"
      },
      "source": [
        "def ResNet18(input_shape=(32, 32, 3), classes=100):\n",
        "    # Define the input as a tensor with shape input_shape\n",
        "    X_input = Input(input_shape)\n",
        "\n",
        "    # Zero-Padding\n",
        "    X = ZeroPadding2D((3, 3))(X_input)\n",
        "\n",
        "    # Stage 1\n",
        "    X = Conv2D(32, (3, 3), strides=(2, 2), padding='same')(X)\n",
        "    X = Activation(conv_activation_func)(X)\n",
        "    X = MaxPooling2D((3, 3), strides=(2, 2))(X)\n",
        "\n",
        "    # Stage 2\n",
        "    X = convolutional_block(X, f=3, filters=[64, 64], s=1)\n",
        "    X = identity_block(X, 3, [64, 64])\n",
        "\n",
        "    # Stage 3\n",
        "    X = convolutional_block(X, f = 3, filters = [128, 128], s = 2)\n",
        "    X = identity_block(X, 3, [128, 128])\n",
        "\n",
        "    # Stage 4\n",
        "    X = convolutional_block(X, f = 3, filters = [256, 256], s = 2)\n",
        "    X = identity_block(X, 3, [256, 256])\n",
        "\n",
        "    # Stage 5\n",
        "    X = convolutional_block(X, f = 3, filters = [512, 512], s = 2)\n",
        "    X = identity_block(X, 3, [512, 512])\n",
        "\n",
        "    # AVGPOOL\n",
        "    X = AveragePooling2D((2,2))(X)\n",
        "\n",
        "    # output layer\n",
        "    X = Flatten()(X)\n",
        "    X = Dense(classes, activation='softmax')(X)\n",
        "    \n",
        "    # Create model\n",
        "    model = Model(inputs = X_input, outputs = X)\n",
        "\n",
        "    return model"
      ],
      "execution_count": null,
      "outputs": []
    },
    {
      "cell_type": "code",
      "metadata": {
        "id": "t6BnNEjrvYEa"
      },
      "source": [
        "model = ResNet18(input_shape = (32, 32, 3), classes = 100)"
      ],
      "execution_count": null,
      "outputs": []
    },
    {
      "cell_type": "code",
      "metadata": {
        "id": "r-Upv7iwwtw4"
      },
      "source": [
        "#Definition of SGD optimizer\n",
        "sgd = optimizers.SGD(learning_rate=l_rate)#, decay=lr_decay) #momentum=0.9, nesterov=True\n",
        "\n",
        "#Compiling the model\n",
        "model.compile(loss='categorical_crossentropy', optimizer=sgd, metrics=['accuracy'])"
      ],
      "execution_count": null,
      "outputs": []
    },
    {
      "cell_type": "code",
      "metadata": {
        "id": "6HIM_I06rgYW"
      },
      "source": [
        "#data augmentation\n",
        "datagen = ImageDataGenerator(\n",
        "    featurewise_center=False,  # set input mean to 0 over the dataset\n",
        "    samplewise_center=False,  # set each sample mean to 0\n",
        "    featurewise_std_normalization=False,  # divide inputs by std of the dataset\n",
        "    samplewise_std_normalization=False,  # divide each input by its std\n",
        "    zca_whitening=False,  # apply ZCA whitening\n",
        "    rotation_range=15,  # randomly rotate images in the range (degrees, 0 to 180)\n",
        "    width_shift_range=0.1,  # randomly shift images horizontally (fraction of total width)\n",
        "    height_shift_range=0.1,  # randomly shift images vertically (fraction of total height)\n",
        "    horizontal_flip=True,  # randomly flip images\n",
        "    vertical_flip=False)  # randomly flip images\n",
        "# (std, mean, and principal components if ZCA whitening is applied).\n",
        "datagen.fit(x_train)"
      ],
      "execution_count": null,
      "outputs": []
    },
    {
      "cell_type": "code",
      "metadata": {
        "id": "ONokb92Cs9Y_"
      },
      "source": [
        "#Defintion of callbacks with EarlyStopping \n",
        "\n",
        "callback = callbacks.EarlyStopping(monitor='val_loss', patience=10)"
      ],
      "execution_count": null,
      "outputs": []
    },
    {
      "cell_type": "code",
      "metadata": {
        "id": "7Me3UuaY-7og"
      },
      "source": [
        "#Definition of saving the best weights of the model with ModelCheckpoint\n",
        "\n",
        "checkpoint_path = \"checkpoints\"\n",
        "checkpoint = callbacks.ModelCheckpoint(filepath=checkpoint_path, monitor='val_loss', save_best_only=True, save_weights_only=True, verbose=1, mode='min')"
      ],
      "execution_count": null,
      "outputs": []
    },
    {
      "cell_type": "code",
      "metadata": {
        "id": "gD2Ya7QQ8TbB",
        "outputId": "a176deb4-c732-4476-c2c7-9b84a1bc8c1b",
        "colab": {
          "base_uri": "https://localhost:8080/",
          "height": 1000
        }
      },
      "source": [
        "#Training the model in the training dataset\n",
        "\n",
        "history = model.fit(datagen.flow(x_train, y_train), epochs = maxepoches, batch_size = batch_size, validation_data=(x_validation, y_validation), callbacks=[callback, checkpoint])\n",
        "model.save_weights('ResNet18_SGD_NoRegularization.h5')"
      ],
      "execution_count": null,
      "outputs": [
        {
          "output_type": "stream",
          "text": [
            "Epoch 1/100\n",
            "1250/1250 [==============================] - ETA: 0s - loss: 4.3334 - accuracy: 0.0620\n",
            "Epoch 00001: val_loss improved from inf to 3.96033, saving model to checkpoints\n",
            "1250/1250 [==============================] - 32s 26ms/step - loss: 4.3334 - accuracy: 0.0620 - val_loss: 3.9603 - val_accuracy: 0.0988\n",
            "Epoch 2/100\n",
            "1250/1250 [==============================] - ETA: 0s - loss: 3.7667 - accuracy: 0.1303\n",
            "Epoch 00002: val_loss improved from 3.96033 to 3.62638, saving model to checkpoints\n",
            "1250/1250 [==============================] - 32s 25ms/step - loss: 3.7667 - accuracy: 0.1303 - val_loss: 3.6264 - val_accuracy: 0.1602\n",
            "Epoch 3/100\n",
            "1250/1250 [==============================] - ETA: 0s - loss: 3.5102 - accuracy: 0.1706\n",
            "Epoch 00003: val_loss improved from 3.62638 to 3.37699, saving model to checkpoints\n",
            "1250/1250 [==============================] - 31s 25ms/step - loss: 3.5102 - accuracy: 0.1706 - val_loss: 3.3770 - val_accuracy: 0.1973\n",
            "Epoch 4/100\n",
            "1248/1250 [============================>.] - ETA: 0s - loss: 3.3338 - accuracy: 0.2039\n",
            "Epoch 00004: val_loss improved from 3.37699 to 3.24337, saving model to checkpoints\n",
            "1250/1250 [==============================] - 31s 25ms/step - loss: 3.3337 - accuracy: 0.2039 - val_loss: 3.2434 - val_accuracy: 0.2199\n",
            "Epoch 5/100\n",
            "1250/1250 [==============================] - ETA: 0s - loss: 3.2056 - accuracy: 0.2222\n",
            "Epoch 00005: val_loss improved from 3.24337 to 3.18149, saving model to checkpoints\n",
            "1250/1250 [==============================] - 31s 25ms/step - loss: 3.2056 - accuracy: 0.2222 - val_loss: 3.1815 - val_accuracy: 0.2316\n",
            "Epoch 6/100\n",
            "1248/1250 [============================>.] - ETA: 0s - loss: 3.1017 - accuracy: 0.2441\n",
            "Epoch 00006: val_loss improved from 3.18149 to 3.04153, saving model to checkpoints\n",
            "1250/1250 [==============================] - 31s 25ms/step - loss: 3.1014 - accuracy: 0.2441 - val_loss: 3.0415 - val_accuracy: 0.2543\n",
            "Epoch 7/100\n",
            "1249/1250 [============================>.] - ETA: 0s - loss: 3.0081 - accuracy: 0.2634\n",
            "Epoch 00007: val_loss improved from 3.04153 to 2.96895, saving model to checkpoints\n",
            "1250/1250 [==============================] - 31s 25ms/step - loss: 3.0077 - accuracy: 0.2635 - val_loss: 2.9690 - val_accuracy: 0.2689\n",
            "Epoch 8/100\n",
            "1248/1250 [============================>.] - ETA: 0s - loss: 2.9380 - accuracy: 0.2751\n",
            "Epoch 00008: val_loss improved from 2.96895 to 2.88144, saving model to checkpoints\n",
            "1250/1250 [==============================] - 31s 25ms/step - loss: 2.9382 - accuracy: 0.2751 - val_loss: 2.8814 - val_accuracy: 0.2934\n",
            "Epoch 9/100\n",
            "1250/1250 [==============================] - ETA: 0s - loss: 2.8651 - accuracy: 0.2870\n",
            "Epoch 00009: val_loss improved from 2.88144 to 2.85739, saving model to checkpoints\n",
            "1250/1250 [==============================] - 31s 25ms/step - loss: 2.8651 - accuracy: 0.2870 - val_loss: 2.8574 - val_accuracy: 0.2951\n",
            "Epoch 10/100\n",
            "1248/1250 [============================>.] - ETA: 0s - loss: 2.7954 - accuracy: 0.3025\n",
            "Epoch 00010: val_loss improved from 2.85739 to 2.81965, saving model to checkpoints\n",
            "1250/1250 [==============================] - 31s 25ms/step - loss: 2.7952 - accuracy: 0.3026 - val_loss: 2.8196 - val_accuracy: 0.3056\n",
            "Epoch 11/100\n",
            "1249/1250 [============================>.] - ETA: 0s - loss: 2.7452 - accuracy: 0.3141\n",
            "Epoch 00011: val_loss did not improve from 2.81965\n",
            "1250/1250 [==============================] - 31s 24ms/step - loss: 2.7451 - accuracy: 0.3141 - val_loss: 2.8713 - val_accuracy: 0.2930\n",
            "Epoch 12/100\n",
            "1249/1250 [============================>.] - ETA: 0s - loss: 2.6977 - accuracy: 0.3222\n",
            "Epoch 00012: val_loss did not improve from 2.81965\n",
            "1250/1250 [==============================] - 31s 25ms/step - loss: 2.6976 - accuracy: 0.3223 - val_loss: 3.0140 - val_accuracy: 0.2685\n",
            "Epoch 13/100\n",
            "1250/1250 [==============================] - ETA: 0s - loss: 2.6385 - accuracy: 0.3336\n",
            "Epoch 00013: val_loss improved from 2.81965 to 2.67670, saving model to checkpoints\n",
            "1250/1250 [==============================] - 31s 25ms/step - loss: 2.6385 - accuracy: 0.3336 - val_loss: 2.6767 - val_accuracy: 0.3324\n",
            "Epoch 14/100\n",
            "1250/1250 [==============================] - ETA: 0s - loss: 2.5954 - accuracy: 0.3441\n",
            "Epoch 00014: val_loss improved from 2.67670 to 2.63179, saving model to checkpoints\n",
            "1250/1250 [==============================] - 31s 25ms/step - loss: 2.5954 - accuracy: 0.3441 - val_loss: 2.6318 - val_accuracy: 0.3431\n",
            "Epoch 15/100\n",
            "1248/1250 [============================>.] - ETA: 0s - loss: 2.5523 - accuracy: 0.3505\n",
            "Epoch 00015: val_loss did not improve from 2.63179\n",
            "1250/1250 [==============================] - 31s 25ms/step - loss: 2.5520 - accuracy: 0.3505 - val_loss: 2.6398 - val_accuracy: 0.3427\n",
            "Epoch 16/100\n",
            "1250/1250 [==============================] - ETA: 0s - loss: 2.5078 - accuracy: 0.3603\n",
            "Epoch 00016: val_loss did not improve from 2.63179\n",
            "1250/1250 [==============================] - 31s 24ms/step - loss: 2.5078 - accuracy: 0.3603 - val_loss: 2.6531 - val_accuracy: 0.3354\n",
            "Epoch 17/100\n",
            "1249/1250 [============================>.] - ETA: 0s - loss: 2.4756 - accuracy: 0.3662\n",
            "Epoch 00017: val_loss improved from 2.63179 to 2.62743, saving model to checkpoints\n",
            "1250/1250 [==============================] - 31s 25ms/step - loss: 2.4758 - accuracy: 0.3662 - val_loss: 2.6274 - val_accuracy: 0.3405\n",
            "Epoch 18/100\n",
            "1250/1250 [==============================] - ETA: 0s - loss: 2.4284 - accuracy: 0.3745\n",
            "Epoch 00018: val_loss did not improve from 2.62743\n",
            "1250/1250 [==============================] - 31s 25ms/step - loss: 2.4284 - accuracy: 0.3745 - val_loss: 2.6787 - val_accuracy: 0.3360\n",
            "Epoch 19/100\n",
            "1248/1250 [============================>.] - ETA: 0s - loss: 2.3909 - accuracy: 0.3839\n",
            "Epoch 00019: val_loss improved from 2.62743 to 2.58664, saving model to checkpoints\n",
            "1250/1250 [==============================] - 31s 25ms/step - loss: 2.3913 - accuracy: 0.3839 - val_loss: 2.5866 - val_accuracy: 0.3544\n",
            "Epoch 20/100\n",
            "1248/1250 [============================>.] - ETA: 0s - loss: 2.3541 - accuracy: 0.3938\n",
            "Epoch 00020: val_loss improved from 2.58664 to 2.54257, saving model to checkpoints\n",
            "1250/1250 [==============================] - 31s 25ms/step - loss: 2.3538 - accuracy: 0.3940 - val_loss: 2.5426 - val_accuracy: 0.3611\n",
            "Epoch 21/100\n",
            "1248/1250 [============================>.] - ETA: 0s - loss: 2.3206 - accuracy: 0.3995\n",
            "Epoch 00021: val_loss did not improve from 2.54257\n",
            "1250/1250 [==============================] - 31s 24ms/step - loss: 2.3213 - accuracy: 0.3994 - val_loss: 2.6117 - val_accuracy: 0.3510\n",
            "Epoch 22/100\n",
            "1248/1250 [============================>.] - ETA: 0s - loss: 2.2848 - accuracy: 0.4077\n",
            "Epoch 00022: val_loss did not improve from 2.54257\n",
            "1250/1250 [==============================] - 31s 25ms/step - loss: 2.2847 - accuracy: 0.4076 - val_loss: 2.5844 - val_accuracy: 0.3558\n",
            "Epoch 23/100\n",
            "1249/1250 [============================>.] - ETA: 0s - loss: 2.2483 - accuracy: 0.4164\n",
            "Epoch 00023: val_loss did not improve from 2.54257\n",
            "1250/1250 [==============================] - 31s 25ms/step - loss: 2.2483 - accuracy: 0.4164 - val_loss: 2.5478 - val_accuracy: 0.3614\n",
            "Epoch 24/100\n",
            "1248/1250 [============================>.] - ETA: 0s - loss: 2.2154 - accuracy: 0.4219\n",
            "Epoch 00024: val_loss did not improve from 2.54257\n",
            "1250/1250 [==============================] - 31s 24ms/step - loss: 2.2153 - accuracy: 0.4220 - val_loss: 2.6418 - val_accuracy: 0.3509\n",
            "Epoch 25/100\n",
            "1248/1250 [============================>.] - ETA: 0s - loss: 2.1798 - accuracy: 0.4302\n",
            "Epoch 00025: val_loss did not improve from 2.54257\n",
            "1250/1250 [==============================] - 31s 25ms/step - loss: 2.1802 - accuracy: 0.4302 - val_loss: 2.6288 - val_accuracy: 0.3530\n",
            "Epoch 26/100\n",
            "1249/1250 [============================>.] - ETA: 0s - loss: 2.1497 - accuracy: 0.4339\n",
            "Epoch 00026: val_loss improved from 2.54257 to 2.51511, saving model to checkpoints\n",
            "1250/1250 [==============================] - 31s 25ms/step - loss: 2.1500 - accuracy: 0.4338 - val_loss: 2.5151 - val_accuracy: 0.3721\n",
            "Epoch 27/100\n",
            "1248/1250 [============================>.] - ETA: 0s - loss: 2.1247 - accuracy: 0.4422\n",
            "Epoch 00027: val_loss improved from 2.51511 to 2.47913, saving model to checkpoints\n",
            "1250/1250 [==============================] - 31s 25ms/step - loss: 2.1249 - accuracy: 0.4422 - val_loss: 2.4791 - val_accuracy: 0.3799\n",
            "Epoch 28/100\n",
            "1248/1250 [============================>.] - ETA: 0s - loss: 2.0895 - accuracy: 0.4457\n",
            "Epoch 00028: val_loss did not improve from 2.47913\n",
            "1250/1250 [==============================] - 31s 25ms/step - loss: 2.0894 - accuracy: 0.4457 - val_loss: 2.5708 - val_accuracy: 0.3727\n",
            "Epoch 29/100\n",
            "1249/1250 [============================>.] - ETA: 0s - loss: 2.0537 - accuracy: 0.4591\n",
            "Epoch 00029: val_loss did not improve from 2.47913\n",
            "1250/1250 [==============================] - 31s 25ms/step - loss: 2.0541 - accuracy: 0.4590 - val_loss: 2.4840 - val_accuracy: 0.3846\n",
            "Epoch 30/100\n",
            "1250/1250 [==============================] - ETA: 0s - loss: 2.0247 - accuracy: 0.4646\n",
            "Epoch 00030: val_loss did not improve from 2.47913\n",
            "1250/1250 [==============================] - 31s 25ms/step - loss: 2.0247 - accuracy: 0.4646 - val_loss: 2.5021 - val_accuracy: 0.3842\n",
            "Epoch 31/100\n",
            "1249/1250 [============================>.] - ETA: 0s - loss: 1.9903 - accuracy: 0.4675\n",
            "Epoch 00031: val_loss did not improve from 2.47913\n",
            "1250/1250 [==============================] - 31s 25ms/step - loss: 1.9902 - accuracy: 0.4674 - val_loss: 2.4870 - val_accuracy: 0.3892\n",
            "Epoch 32/100\n",
            "1248/1250 [============================>.] - ETA: 0s - loss: 1.9612 - accuracy: 0.4765\n",
            "Epoch 00032: val_loss did not improve from 2.47913\n",
            "1250/1250 [==============================] - 31s 24ms/step - loss: 1.9610 - accuracy: 0.4766 - val_loss: 2.5030 - val_accuracy: 0.3876\n",
            "Epoch 33/100\n",
            "1250/1250 [==============================] - ETA: 0s - loss: 1.9268 - accuracy: 0.4846\n",
            "Epoch 00033: val_loss did not improve from 2.47913\n",
            "1250/1250 [==============================] - 31s 25ms/step - loss: 1.9268 - accuracy: 0.4846 - val_loss: 2.5220 - val_accuracy: 0.3828\n",
            "Epoch 34/100\n",
            "1249/1250 [============================>.] - ETA: 0s - loss: 1.9022 - accuracy: 0.4914\n",
            "Epoch 00034: val_loss did not improve from 2.47913\n",
            "1250/1250 [==============================] - 31s 24ms/step - loss: 1.9023 - accuracy: 0.4914 - val_loss: 2.5072 - val_accuracy: 0.3889\n",
            "Epoch 35/100\n",
            "1248/1250 [============================>.] - ETA: 0s - loss: 1.8774 - accuracy: 0.4975\n",
            "Epoch 00035: val_loss did not improve from 2.47913\n",
            "1250/1250 [==============================] - 30s 24ms/step - loss: 1.8775 - accuracy: 0.4974 - val_loss: 2.5029 - val_accuracy: 0.3917\n",
            "Epoch 36/100\n",
            "1248/1250 [============================>.] - ETA: 0s - loss: 1.8422 - accuracy: 0.5020\n",
            "Epoch 00036: val_loss did not improve from 2.47913\n",
            "1250/1250 [==============================] - 31s 25ms/step - loss: 1.8423 - accuracy: 0.5020 - val_loss: 2.5723 - val_accuracy: 0.3764\n",
            "Epoch 37/100\n",
            "1248/1250 [============================>.] - ETA: 0s - loss: 1.8029 - accuracy: 0.5148\n",
            "Epoch 00037: val_loss did not improve from 2.47913\n",
            "1250/1250 [==============================] - 31s 25ms/step - loss: 1.8026 - accuracy: 0.5149 - val_loss: 2.5808 - val_accuracy: 0.3798\n"
          ],
          "name": "stdout"
        }
      ]
    },
    {
      "cell_type": "code",
      "metadata": {
        "id": "eC_U-0EVw7C8",
        "outputId": "6383c52e-51a6-47da-e04f-bc726c8d8dbb",
        "colab": {
          "base_uri": "https://localhost:8080/",
          "height": 295
        }
      },
      "source": [
        "#Plot the Training and Validation accuracy v/s Epochs\n",
        "#history.keys() = ['accuracy', 'loss', 'val_accuracy', 'val_loss']\n",
        "\n",
        "plt.plot(history.history['accuracy'])\n",
        "plt.plot(history.history['val_accuracy'])\n",
        "plt.title('Model accuracy')\n",
        "plt.ylabel('Accuracy')\n",
        "plt.xlabel('Epochs')\n",
        "plt.legend(['train', 'validation'], loc='upper left')\n",
        "plt.show()"
      ],
      "execution_count": null,
      "outputs": [
        {
          "output_type": "display_data",
          "data": {
            "image/png": "[encoded data removed]",
            "text/plain": [
              "<Figure size 432x288 with 1 Axes>"
            ]
          },
          "metadata": {
            "tags": [],
            "needs_background": "light"
          }
        }
      ]
    },
    {
      "cell_type": "code",
      "metadata": {
        "id": "xwJLGbO46d9O",
        "outputId": "c926a285-c313-45f5-a71c-047bc37509f6",
        "colab": {
          "base_uri": "https://localhost:8080/",
          "height": 295
        }
      },
      "source": [
        "#Plot the Training and Validation loss v/s Epochs\n",
        "\n",
        "plt.plot(history.history['loss'])\n",
        "plt.plot(history.history['val_loss'])\n",
        "plt.title('Model loss')\n",
        "plt.ylabel('Loss')\n",
        "plt.xlabel('Epochs')\n",
        "plt.legend(['train', 'validation'], loc='upper left')\n",
        "plt.show()"
      ],
      "execution_count": null,
      "outputs": [
        {
          "output_type": "display_data",
          "data": {
            "image/png": "[encoded data removed]",
            "text/plain": [
              "<Figure size 432x288 with 1 Axes>"
            ]
          },
          "metadata": {
            "tags": [],
            "needs_background": "light"
          }
        }
      ]
    },
    {
      "cell_type": "code",
      "metadata": {
        "id": "zWmEnHJZEC0r",
        "outputId": "85aaebb5-8f8b-46f6-f65f-f52a246075c2",
        "colab": {
          "base_uri": "https://localhost:8080/",
          "height": 34
        }
      },
      "source": [
        "#Testing the model using the best weights of the model\n",
        "\n",
        "model_test = ResNet18(input_shape = (32, 32, 3), classes = 100)\n",
        "model_test.compile(loss='categorical_crossentropy', optimizer='sgd', metrics=['accuracy'])\n",
        "\n",
        "model_test.load_weights('./ResNet18_SGD_NoRegularization.h5')\n",
        "loss, acc = model_test.evaluate(x_test,  y_test, verbose=2)\n",
        "\n",
        "predict_y_test_o = model_test.predict(x_test, verbose=0)"
      ],
      "execution_count": null,
      "outputs": [
        {
          "output_type": "stream",
          "text": [
            "313/313 - 2s - loss: 2.5683 - accuracy: 0.3900\n"
          ],
          "name": "stdout"
        }
      ]
    },
    {
      "cell_type": "code",
      "metadata": {
        "id": "PCj02TcH-pwq",
        "outputId": "4ff8c6a2-2614-4d12-b2ec-b48dd3b3a74a",
        "colab": {
          "base_uri": "https://localhost:8080/",
          "height": 187
        }
      },
      "source": [
        "# #Precision, recall and accuracy of the model on test data\n",
        "predict_y_test = np.argmax(predict_y_test_o, axis=1)\n",
        "\n",
        "# accuracy: (tp + tn) / (p + n)\n",
        "accuracy = accuracy_score(y_test_o, predict_y_test)\n",
        "print('Accuracy: %f' % accuracy)\n",
        "\n",
        "# precision tp / (tp + fp)\n",
        "precision = precision_score(y_test_o, predict_y_test, average='macro')\n",
        "print('Precision: %f' % precision)\n",
        "\n",
        "# recall: tp / (tp + fn)\n",
        "recall = recall_score(y_test_o, predict_y_test, average='macro')\n",
        "print('Recall: %f' % recall)\n",
        "\n",
        "# Confusion matrix\n",
        "confusion_matrix_ = confusion_matrix(y_test_o, predict_y_test)\n",
        "print(confusion_matrix_)"
      ],
      "execution_count": null,
      "outputs": [
        {
          "output_type": "stream",
          "text": [
            "Accuracy: 0.390000\n",
            "Precision: 0.420470\n",
            "Recall: 0.390000\n",
            "[[57  0  0 ...  0  0  0]\n",
            " [ 0 48  0 ...  0  1  0]\n",
            " [ 0  0 37 ...  4  1  0]\n",
            " ...\n",
            " [ 0  0  0 ... 53  0  0]\n",
            " [ 0  1  7 ...  2 16  0]\n",
            " [ 0  0  1 ...  0  0 26]]\n"
          ],
          "name": "stdout"
        }
      ]
    },
    {
      "cell_type": "code",
      "metadata": {
        "id": "NvJlAWR0-sRm",
        "outputId": "60a6eae7-d587-4093-ba4d-27d0cb2c56d5",
        "colab": {
          "base_uri": "https://localhost:8080/",
          "height": 271
        }
      },
      "source": [
        "import seaborn as sb\n",
        "heat_map = sb.heatmap(confusion_matrix_)\n",
        "plt.show()"
      ],
      "execution_count": null,
      "outputs": [
        {
          "output_type": "display_data",
          "data": {
            "image/png": "[encoded data removed]",
            "text/plain": [
              "<Figure size 432x288 with 2 Axes>"
            ]
          },
          "metadata": {
            "tags": [],
            "needs_background": "light"
          }
        }
      ]
    },
    {
      "cell_type": "code",
      "metadata": {
        "id": "TJUTdX8-TAhi"
      },
      "source": [
        ""
      ],
      "execution_count": null,
      "outputs": []
    }
  ]
}