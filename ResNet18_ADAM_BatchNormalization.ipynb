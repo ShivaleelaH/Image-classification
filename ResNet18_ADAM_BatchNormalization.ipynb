{
  "nbformat": 4,
  "nbformat_minor": 0,
  "metadata": {
    "colab": {
      "name": "ResNet18_ADAM_BatchNormalization.ipynb",
      "provenance": [],
      "collapsed_sections": []
    },
    "kernelspec": {
      "name": "python3",
      "display_name": "Python 3"
    },
    "accelerator": "GPU"
  },
  "cells": [
    {
      "cell_type": "markdown",
      "metadata": {
        "id": "bw3rY6l8qcZt"
      },
      "source": [
        "*   Network     : ResNet18\n",
        "*   Optimizer   : ADAM\n",
        "*   Regularizer : Batch normalization\n",
        "\n",
        "Ref for code: https://github.com/priya-dwivedi/Deep-Learning/blob/master/resnet_keras/Residual_Networks_yourself.ipynb"
      ]
    },
    {
      "cell_type": "code",
      "metadata": {
        "id": "rbAcaDV-pQev",
        "outputId": "dc9f21e0-0b7f-4ba4-d9c8-fe42d29c1f15",
        "colab": {
          "base_uri": "https://localhost:8080/",
          "height": 88
        }
      },
      "source": [
        "from __future__ import print_function\n",
        "\n",
        "import keras\n",
        "from keras import optimizers\n",
        "from keras import backend as K\n",
        "from keras import regularizers\n",
        "from keras import callbacks\n",
        "\n",
        "from keras.applications.imagenet_utils import preprocess_input\n",
        "from keras.datasets import cifar100\n",
        "from keras.initializers import glorot_uniform\n",
        "from keras.layers.core import Lambda\n",
        "from keras.layers import Input, Add, Dense, Activation, ZeroPadding2D, BatchNormalization, Flatten, Conv2D, AveragePooling2D, MaxPooling2D, GlobalMaxPooling2D\n",
        "from keras.models import Model, load_model\n",
        "from keras.preprocessing.image import ImageDataGenerator\n",
        "from keras.utils import layer_utils, data_utils, vis_utils, plot_model #data_utils.get_file #vis_utils.model_to_dot\n",
        "\n",
        "import numpy as np\n",
        "import pydot\n",
        "import scipy.misc\n",
        "import matplotlib.pyplot as plt\n",
        "import tensorflow as tf\n",
        "\n",
        "from IPython.display import SVG\n",
        "from sklearn.model_selection import train_test_split\n",
        "from sklearn.metrics import accuracy_score, precision_score, recall_score, confusion_matrix, classification_report\n",
        "from matplotlib.pyplot import imshow\n",
        "%matplotlib inline\n",
        "\n",
        "import keras.backend as K\n",
        "K.set_image_data_format('channels_last')\n",
        "K.set_learning_phase(1)"
      ],
      "execution_count": 1,
      "outputs": [
        {
          "output_type": "stream",
          "text": [
            "WARNING:tensorflow:From <ipython-input-1-b889844015e7>:32: set_learning_phase (from tensorflow.python.keras.backend) is deprecated and will be removed after 2020-10-11.\n",
            "Instructions for updating:\n",
            "Simply pass a True/False value to the `training` argument of the `__call__` method of your layer or model.\n"
          ],
          "name": "stdout"
        }
      ]
    },
    {
      "cell_type": "code",
      "metadata": {
        "id": "zN2UOnnipTvT"
      },
      "source": [
        "#Loading cifar100 dataset and dividing into Train, Validation and Test sets\n",
        "\n",
        "(X_train, Y_train), (x_test, y_test_o) = cifar100.load_data()\n",
        "\n",
        "X_train = X_train.astype('float32')\n",
        "x_test = x_test.astype('float32')\n",
        "\n",
        "x_train, x_validation, y_train, y_validation = train_test_split(X_train, Y_train, test_size=0.2, random_state=42)\n",
        "\n",
        "y_train = keras.utils.to_categorical(y_train, 100)\n",
        "y_validation = keras.utils.to_categorical(y_validation, 100)\n",
        "y_test = keras.utils.to_categorical(y_test_o, 100)"
      ],
      "execution_count": 2,
      "outputs": []
    },
    {
      "cell_type": "code",
      "metadata": {
        "id": "oW6qbmnLpV1S"
      },
      "source": [
        "#Definition of hyper parameters and other characteristics of the network like the activation functions\n",
        "\n",
        "num_classes = 100\n",
        "weight_decay = 0.0005\n",
        "x_shape = [32,32,3]\n",
        "\n",
        "conv_activation_func = 'elu'\n",
        "\n",
        "batch_size = 32\n",
        "maxepoches = 100\n",
        "l_rate = 0.001\n",
        "lr_decay = 1e-6\n",
        "# lr_drop = 20"
      ],
      "execution_count": 3,
      "outputs": []
    },
    {
      "cell_type": "code",
      "metadata": {
        "id": "d8EaRrxzpXkj"
      },
      "source": [
        "def identity_block(X, f, filters):\n",
        "    # Retrieve Filters\n",
        "    F1, F2 = filters\n",
        "    \n",
        "    # Save the input value to add back to the main path. \n",
        "    X_shortcut = X\n",
        "    \n",
        "    # First component of main path\n",
        "    X = Conv2D(filters = F1, kernel_size = (3, 3), strides = (1,1), padding = 'same')(X)\n",
        "    X = BatchNormalization(axis = 3)(X)\n",
        "    X = Activation(conv_activation_func)(X)\n",
        "\n",
        "    # Second component of main path\n",
        "    X = Conv2D(filters = F2, kernel_size = (3, 3), strides = (1,1), padding = 'same')(X)\n",
        "    X = BatchNormalization(axis = 3)(X)\n",
        "    X = Activation(conv_activation_func)(X)\n",
        "\n",
        "    # Final step: Add shortcut value to main path, and pass it through a RELU activation \n",
        "    X = Add()([X, X_shortcut])\n",
        "    X = Activation(conv_activation_func)(X)\n",
        "       \n",
        "    return X"
      ],
      "execution_count": 4,
      "outputs": []
    },
    {
      "cell_type": "code",
      "metadata": {
        "id": "0MXvhC4VpZL6"
      },
      "source": [
        "def convolutional_block(X, f, filters, s = 2):\n",
        "    # Retrieve Filters\n",
        "    F1, F2 = filters\n",
        "    \n",
        "    # Save the input value\n",
        "    X_shortcut = X\n",
        "\n",
        "    ##### MAIN PATH #####\n",
        "    # First component of main path \n",
        "    X = Conv2D(F1, (3, 3), strides = (s,s), padding='same')(X)\n",
        "    X = BatchNormalization(axis = 3)(X)\n",
        "    X = Activation(conv_activation_func)(X)\n",
        "\n",
        "    # Second component of main path\n",
        "    X = Conv2D(filters = F2, kernel_size = (3, 3), strides = (1,1), padding = 'same')(X)\n",
        "    X = BatchNormalization(axis = 3)(X)\n",
        "    X = Activation(conv_activation_func)(X)\n",
        "\n",
        "    ##### SHORTCUT PATH #### \n",
        "    X_shortcut = Conv2D(filters = F2, kernel_size = (3, 3), strides = (s,s), padding = 'same')(X_shortcut)\n",
        "    X_shortcut = BatchNormalization(axis = 3)(X_shortcut)\n",
        "\n",
        "    # Final step: Add shortcut value to main path, and pass it through a RELU activation\n",
        "    X = Add()([X, X_shortcut])\n",
        "    X = Activation(conv_activation_func)(X)\n",
        "    \n",
        "    return X"
      ],
      "execution_count": 5,
      "outputs": []
    },
    {
      "cell_type": "code",
      "metadata": {
        "id": "52cAlUPgpa39"
      },
      "source": [
        "def ResNet18(input_shape=(32, 32, 3), classes=100):\n",
        "    # Define the input as a tensor with shape input_shape\n",
        "    X_input = Input(input_shape)\n",
        "\n",
        "    # Zero-Padding\n",
        "    X = ZeroPadding2D((3, 3))(X_input)\n",
        "\n",
        "    # Stage 1\n",
        "    X = Conv2D(32, (3, 3), strides=(2, 2), padding='same')(X)\n",
        "    X = BatchNormalization(axis=3)(X)\n",
        "    X = Activation(conv_activation_func)(X)\n",
        "    X = MaxPooling2D((3, 3), strides=(2, 2))(X)\n",
        "\n",
        "    # Stage 2\n",
        "    X = convolutional_block(X, f=3, filters=[64, 64], s=1)\n",
        "    X = identity_block(X, 3, [64, 64])\n",
        "\n",
        "    # Stage 3 \n",
        "    X = convolutional_block(X, f = 3, filters = [128, 128], s = 2)\n",
        "    X = identity_block(X, 3, [128, 128])\n",
        "\n",
        "    # Stage 4 \n",
        "    X = convolutional_block(X, f = 3, filters = [256, 256], s = 2)\n",
        "    X = identity_block(X, 3, [256, 256])\n",
        "\n",
        "    # Stage 5 \n",
        "    X = convolutional_block(X, f = 3, filters = [512, 512], s = 2)\n",
        "    X = identity_block(X, 3, [512, 512])\n",
        "\n",
        "    # AVGPOOL \n",
        "    X = AveragePooling2D((2,2))(X)\n",
        "\n",
        "    # output layer\n",
        "    X = Flatten()(X)\n",
        "    X = Dense(classes, activation='softmax')(X)\n",
        "    \n",
        "    # Create model\n",
        "    model = Model(inputs = X_input, outputs = X)\n",
        "\n",
        "    return model"
      ],
      "execution_count": 6,
      "outputs": []
    },
    {
      "cell_type": "code",
      "metadata": {
        "id": "get-QjNDpc-j"
      },
      "source": [
        "model = ResNet18(input_shape = (32, 32, 3), classes = 100)"
      ],
      "execution_count": 7,
      "outputs": []
    },
    {
      "cell_type": "code",
      "metadata": {
        "id": "rSzbHfZZpecb"
      },
      "source": [
        "#Definition of ADAM optimizer\n",
        "adam = optimizers.Adam(learning_rate=l_rate)#, clipnorm=1.0)\n",
        "\n",
        "#Compiling the model\n",
        "model.compile(loss='categorical_crossentropy', optimizer=adam, metrics=['accuracy'])"
      ],
      "execution_count": 8,
      "outputs": []
    },
    {
      "cell_type": "code",
      "metadata": {
        "id": "_Irx8FCLpoIB"
      },
      "source": [
        "#data augmentation\n",
        "datagen = ImageDataGenerator(\n",
        "    featurewise_center=True,  # set input mean to 0 over the dataset\n",
        "    samplewise_center=False,  # set each sample mean to 0\n",
        "    featurewise_std_normalization=True,  # divide inputs by std of the dataset\n",
        "    samplewise_std_normalization=False,  # divide each input by its std\n",
        "    zca_whitening=False,  # apply ZCA whitening\n",
        "    rotation_range=15,  # randomly rotate images in the range (degrees, 0 to 180)\n",
        "    width_shift_range=0.1,  # randomly shift images horizontally (fraction of total width)\n",
        "    height_shift_range=0.1,  # randomly shift images vertically (fraction of total height)\n",
        "    horizontal_flip=True,  # randomly flip images\n",
        "    vertical_flip=False)  # randomly flip images\n",
        "# (std, mean, and principal components if ZCA whitening is applied).\n",
        "datagen.fit(x_train)"
      ],
      "execution_count": 9,
      "outputs": []
    },
    {
      "cell_type": "code",
      "metadata": {
        "id": "AvsqvnEupqi_"
      },
      "source": [
        "#Defintion of callbacks with EarlyStopping \n",
        "\n",
        "callback = callbacks.EarlyStopping(monitor='val_loss', patience=10)"
      ],
      "execution_count": 10,
      "outputs": []
    },
    {
      "cell_type": "code",
      "metadata": {
        "id": "VpyV1O80psMh"
      },
      "source": [
        "#Definition of saving the best weights of the model with ModelCheckpoint\n",
        "\n",
        "checkpoint_path = \"checkpoints\"\n",
        "checkpoint = callbacks.ModelCheckpoint(filepath=checkpoint_path, monitor='val_loss', save_best_only=True, save_weights_only=True, verbose=1, mode='min')"
      ],
      "execution_count": 11,
      "outputs": []
    },
    {
      "cell_type": "code",
      "metadata": {
        "id": "JZXx24p0pthL",
        "outputId": "7b9fa288-588b-4cc7-c7a8-a9498abb5154",
        "colab": {
          "base_uri": "https://localhost:8080/",
          "height": 1000
        }
      },
      "source": [
        "#Training the model in the training dataset\n",
        "\n",
        "history = model.fit(x_train, y_train, epochs = maxepoches, batch_size = batch_size, validation_data=(x_validation, y_validation), callbacks=[callback, checkpoint])\n",
        "model.save_weights('ResNet18_ADAM_BatchNormalization.h5')"
      ],
      "execution_count": 12,
      "outputs": [
        {
          "output_type": "stream",
          "text": [
            "Epoch 1/100\n",
            "1249/1250 [============================>.] - ETA: 0s - loss: 3.4414 - accuracy: 0.1805\n",
            "Epoch 00001: val_loss improved from inf to 3.09171, saving model to checkpoints\n",
            "1250/1250 [==============================] - 31s 24ms/step - loss: 3.4406 - accuracy: 0.1806 - val_loss: 3.0917 - val_accuracy: 0.2331\n",
            "Epoch 2/100\n",
            "1249/1250 [============================>.] - ETA: 0s - loss: 2.6628 - accuracy: 0.3187\n",
            "Epoch 00002: val_loss did not improve from 3.09171\n",
            "1250/1250 [==============================] - 30s 24ms/step - loss: 2.6627 - accuracy: 0.3187 - val_loss: 3.2138 - val_accuracy: 0.2517\n",
            "Epoch 3/100\n",
            "1248/1250 [============================>.] - ETA: 0s - loss: 2.2891 - accuracy: 0.3963\n",
            "Epoch 00003: val_loss improved from 3.09171 to 2.39879, saving model to checkpoints\n",
            "1250/1250 [==============================] - 30s 24ms/step - loss: 2.2888 - accuracy: 0.3964 - val_loss: 2.3988 - val_accuracy: 0.3854\n",
            "Epoch 4/100\n",
            "1248/1250 [============================>.] - ETA: 0s - loss: 1.9909 - accuracy: 0.4629\n",
            "Epoch 00004: val_loss improved from 2.39879 to 2.32182, saving model to checkpoints\n",
            "1250/1250 [==============================] - 30s 24ms/step - loss: 1.9911 - accuracy: 0.4629 - val_loss: 2.3218 - val_accuracy: 0.4056\n",
            "Epoch 5/100\n",
            "1249/1250 [============================>.] - ETA: 0s - loss: 1.7242 - accuracy: 0.5259\n",
            "Epoch 00005: val_loss improved from 2.32182 to 2.19700, saving model to checkpoints\n",
            "1250/1250 [==============================] - 30s 24ms/step - loss: 1.7240 - accuracy: 0.5260 - val_loss: 2.1970 - val_accuracy: 0.4328\n",
            "Epoch 6/100\n",
            "1249/1250 [============================>.] - ETA: 0s - loss: 1.4352 - accuracy: 0.5931\n",
            "Epoch 00006: val_loss did not improve from 2.19700\n",
            "1250/1250 [==============================] - 30s 24ms/step - loss: 1.4354 - accuracy: 0.5930 - val_loss: 2.3364 - val_accuracy: 0.4263\n",
            "Epoch 7/100\n",
            "1250/1250 [==============================] - ETA: 0s - loss: 1.1386 - accuracy: 0.6681\n",
            "Epoch 00007: val_loss did not improve from 2.19700\n",
            "1250/1250 [==============================] - 30s 24ms/step - loss: 1.1386 - accuracy: 0.6681 - val_loss: 2.3913 - val_accuracy: 0.4374\n",
            "Epoch 8/100\n",
            "1248/1250 [============================>.] - ETA: 0s - loss: 0.8547 - accuracy: 0.7422\n",
            "Epoch 00008: val_loss did not improve from 2.19700\n",
            "1250/1250 [==============================] - 30s 24ms/step - loss: 0.8552 - accuracy: 0.7421 - val_loss: 2.8149 - val_accuracy: 0.4004\n",
            "Epoch 9/100\n",
            "1248/1250 [============================>.] - ETA: 0s - loss: 0.6009 - accuracy: 0.8164\n",
            "Epoch 00009: val_loss did not improve from 2.19700\n",
            "1250/1250 [==============================] - 30s 24ms/step - loss: 0.6011 - accuracy: 0.8163 - val_loss: 2.7194 - val_accuracy: 0.4399\n",
            "Epoch 10/100\n",
            "1250/1250 [==============================] - ETA: 0s - loss: 0.4356 - accuracy: 0.8619\n",
            "Epoch 00010: val_loss did not improve from 2.19700\n",
            "1250/1250 [==============================] - 30s 24ms/step - loss: 0.4356 - accuracy: 0.8619 - val_loss: 3.0649 - val_accuracy: 0.4274\n",
            "Epoch 11/100\n",
            "1248/1250 [============================>.] - ETA: 0s - loss: 0.3207 - accuracy: 0.8977\n",
            "Epoch 00011: val_loss did not improve from 2.19700\n",
            "1250/1250 [==============================] - 30s 24ms/step - loss: 0.3208 - accuracy: 0.8976 - val_loss: 3.5463 - val_accuracy: 0.4034\n",
            "Epoch 12/100\n",
            "1250/1250 [==============================] - ETA: 0s - loss: 0.2606 - accuracy: 0.9175\n",
            "Epoch 00012: val_loss did not improve from 2.19700\n",
            "1250/1250 [==============================] - 30s 24ms/step - loss: 0.2606 - accuracy: 0.9175 - val_loss: 3.4430 - val_accuracy: 0.4192\n",
            "Epoch 13/100\n",
            "1250/1250 [==============================] - ETA: 0s - loss: 0.2262 - accuracy: 0.9275\n",
            "Epoch 00013: val_loss did not improve from 2.19700\n",
            "1250/1250 [==============================] - 30s 24ms/step - loss: 0.2262 - accuracy: 0.9275 - val_loss: 3.4788 - val_accuracy: 0.4413\n",
            "Epoch 14/100\n",
            "1248/1250 [============================>.] - ETA: 0s - loss: 0.1943 - accuracy: 0.9371\n",
            "Epoch 00014: val_loss did not improve from 2.19700\n",
            "1250/1250 [==============================] - 30s 24ms/step - loss: 0.1943 - accuracy: 0.9372 - val_loss: 3.5720 - val_accuracy: 0.4395\n",
            "Epoch 15/100\n",
            "1249/1250 [============================>.] - ETA: 0s - loss: 0.1836 - accuracy: 0.9413\n",
            "Epoch 00015: val_loss did not improve from 2.19700\n",
            "1250/1250 [==============================] - 30s 24ms/step - loss: 0.1837 - accuracy: 0.9412 - val_loss: 3.7263 - val_accuracy: 0.4273\n"
          ],
          "name": "stdout"
        }
      ]
    },
    {
      "cell_type": "code",
      "metadata": {
        "id": "XqCzC27opwvc",
        "outputId": "87a68b13-40c4-4f6f-dd2c-33167f4895cc",
        "colab": {
          "base_uri": "https://localhost:8080/",
          "height": 295
        }
      },
      "source": [
        "#Plot the Training and Validation accuracy v/s Epochs\n",
        "#history.keys() = ['accuracy', 'loss', 'val_accuracy', 'val_loss']\n",
        "\n",
        "plt.plot(history.history['accuracy'])\n",
        "plt.plot(history.history['val_accuracy'])\n",
        "plt.title('Model accuracy')\n",
        "plt.ylabel('Accuracy')\n",
        "plt.xlabel('Epochs')\n",
        "plt.legend(['train', 'validation'], loc='upper left')\n",
        "plt.show()"
      ],
      "execution_count": 13,
      "outputs": [
        {
          "output_type": "display_data",
          "data": {
            "image/png": "[encoded data removed]",
            "text/plain": [
              "<Figure size 432x288 with 1 Axes>"
            ]
          },
          "metadata": {
            "tags": [],
            "needs_background": "light"
          }
        }
      ]
    },
    {
      "cell_type": "code",
      "metadata": {
        "id": "kHfV5s0opyft",
        "outputId": "f97faa45-39b2-4013-c28e-5c1326173165",
        "colab": {
          "base_uri": "https://localhost:8080/",
          "height": 295
        }
      },
      "source": [
        "#Plot the Training and Validation loss v/s Epochs\n",
        "\n",
        "plt.plot(history.history['loss'])\n",
        "plt.plot(history.history['val_loss'])\n",
        "plt.title('Model loss')\n",
        "plt.ylabel('Loss')\n",
        "plt.xlabel('Epochs')\n",
        "plt.legend(['train', 'validation'], loc='upper left')\n",
        "plt.show()"
      ],
      "execution_count": 14,
      "outputs": [
        {
          "output_type": "display_data",
          "data": {
            "image/png": "[encoded data removed]",
            "text/plain": [
              "<Figure size 432x288 with 1 Axes>"
            ]
          },
          "metadata": {
            "tags": [],
            "needs_background": "light"
          }
        }
      ]
    },
    {
      "cell_type": "code",
      "metadata": {
        "id": "-dlzmdJtp0uj",
        "outputId": "dd7c043a-4b4e-4414-8f39-c85c2d705568",
        "colab": {
          "base_uri": "https://localhost:8080/",
          "height": 34
        }
      },
      "source": [
        "#Testing the model using the best weights of the model\n",
        "\n",
        "model_test = ResNet18(input_shape = (32, 32, 3), classes = 100)\n",
        "model_test.compile(loss='categorical_crossentropy', optimizer='adam', metrics=['accuracy'])\n",
        "\n",
        "model_test.load_weights('./ResNet18_ADAM_BatchNormalization.h5')\n",
        "loss, acc = model_test.evaluate(x_test,  y_test, verbose=2)\n",
        "\n",
        "predict_y_test_o = model_test.predict(x_test, verbose=0)"
      ],
      "execution_count": 15,
      "outputs": [
        {
          "output_type": "stream",
          "text": [
            "313/313 - 2s - loss: 3.7078 - accuracy: 0.4395\n"
          ],
          "name": "stdout"
        }
      ]
    },
    {
      "cell_type": "code",
      "metadata": {
        "id": "tsvLQyc3p7rn",
        "outputId": "3fcfc6bc-905e-4ec5-cddf-ef1c6a52affa",
        "colab": {
          "base_uri": "https://localhost:8080/",
          "height": 187
        }
      },
      "source": [
        "# #Precision, recall and accuracy of the model on test data\n",
        "predict_y_test = np.argmax(predict_y_test_o, axis=1)\n",
        "\n",
        "# accuracy: (tp + tn) / (p + n)\n",
        "accuracy = accuracy_score(y_test_o, predict_y_test)\n",
        "print('Accuracy: %f' % accuracy)\n",
        "\n",
        "# precision tp / (tp + fp)\n",
        "precision = precision_score(y_test_o, predict_y_test, average='macro')\n",
        "print('Precision: %f' % precision)\n",
        "\n",
        "# recall: tp / (tp + fn)\n",
        "recall = recall_score(y_test_o, predict_y_test, average='macro')\n",
        "print('Recall: %f' % recall)\n",
        "\n",
        "# Confusion matrix\n",
        "confusion_matrix_ = confusion_matrix(y_test_o, predict_y_test)\n",
        "print(confusion_matrix_)"
      ],
      "execution_count": 16,
      "outputs": [
        {
          "output_type": "stream",
          "text": [
            "Accuracy: 0.439500\n",
            "Precision: 0.468948\n",
            "Recall: 0.439500\n",
            "[[68  1  0 ...  0  0  0]\n",
            " [ 0 54  0 ...  0  0  0]\n",
            " [ 0  0 18 ...  0 12  1]\n",
            " ...\n",
            " [ 0  0  0 ... 46  1  0]\n",
            " [ 0  0  2 ...  0 26  1]\n",
            " [ 0  0  0 ...  0  1 52]]\n"
          ],
          "name": "stdout"
        }
      ]
    },
    {
      "cell_type": "code",
      "metadata": {
        "id": "WaCyzB7Yp9rW",
        "outputId": "c0e1c4cc-0dc1-4957-9955-d8afab439ad2",
        "colab": {
          "base_uri": "https://localhost:8080/",
          "height": 272
        }
      },
      "source": [
        "import seaborn as sb\n",
        "heat_map = sb.heatmap(confusion_matrix_)\n",
        "plt.show()"
      ],
      "execution_count": 17,
      "outputs": [
        {
          "output_type": "display_data",
          "data": {
            "image/png": "[encoded data removed]",
            "text/plain": [
              "<Figure size 432x288 with 2 Axes>"
            ]
          },
          "metadata": {
            "tags": [],
            "needs_background": "light"
          }
        }
      ]
    }
  ]
}