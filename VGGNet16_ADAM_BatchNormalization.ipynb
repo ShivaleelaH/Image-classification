{
  "nbformat": 4,
  "nbformat_minor": 0,
  "metadata": {
    "colab": {
      "name": "VGGNet16_ADAM_BatchNormalization.ipynb",
      "provenance": [],
      "collapsed_sections": []
    },
    "kernelspec": {
      "name": "python3",
      "display_name": "Python 3"
    },
    "accelerator": "GPU"
  },
  "cells": [
    {
      "cell_type": "markdown",
      "metadata": {
        "id": "qA2oFbJ2bFl2"
      },
      "source": [
        "*   Network     : VGG16\n",
        "*   Optimizer   : ADAM\n",
        "*   Regularizer : Batch normalization\n",
        "\n",
        "Ref for code: https://github.com/geifmany/cifar-vgg/blob/master/cifar100vgg.py"
      ]
    },
    {
      "cell_type": "code",
      "metadata": {
        "id": "Z_PnIa9VbJLw"
      },
      "source": [
        "from __future__ import print_function\n",
        "\n",
        "import keras\n",
        "from keras import optimizers\n",
        "from keras import backend as K\n",
        "from keras import regularizers\n",
        "from keras import callbacks\n",
        "\n",
        "from keras.datasets import cifar100\n",
        "from keras.layers.core import Lambda\n",
        "from keras.layers import Dense, Dropout, Activation, Flatten, Conv2D, MaxPooling2D, BatchNormalization\n",
        "from keras.models import Sequential\n",
        "from keras.preprocessing.image import ImageDataGenerator\n",
        "\n",
        "from sklearn.model_selection import train_test_split\n",
        "from sklearn.metrics import accuracy_score, precision_score, recall_score, confusion_matrix, classification_report\n",
        "\n",
        "import numpy as np\n",
        "import matplotlib.pyplot as plt"
      ],
      "execution_count": null,
      "outputs": []
    },
    {
      "cell_type": "code",
      "metadata": {
        "id": "OzP3SAtxbMuP"
      },
      "source": [
        "#Loading cifar100 dataset and dividing into Train, Validation and Test sets\n",
        "\n",
        "(X_train, Y_train), (x_test, y_test_o) = cifar100.load_data()\n",
        "\n",
        "X_train = X_train.astype('float32')\n",
        "x_test = x_test.astype('float32')\n",
        "\n",
        "x_train, x_validation, y_train, y_validation = train_test_split(X_train, Y_train, test_size=0.2, random_state=42)\n",
        "\n",
        "y_train = keras.utils.to_categorical(y_train, 100)\n",
        "y_validation = keras.utils.to_categorical(y_validation, 100)\n",
        "y_test = keras.utils.to_categorical(y_test_o, 100)"
      ],
      "execution_count": null,
      "outputs": []
    },
    {
      "cell_type": "code",
      "metadata": {
        "id": "9bv44TjsbOg6"
      },
      "source": [
        "#Definition of hyper parameters and other characteristics of the network like the activation functions\n",
        "\n",
        "num_classes = 100\n",
        "weight_decay = 0.0005\n",
        "x_shape = [32,32,3]\n",
        "\n",
        "conv_activation_func = 'elu'\n",
        "dense_activation_func = 'elu'\n",
        "ouput_activation_func = 'softmax'\n",
        "\n",
        "batch_size = 128\n",
        "maxepoches = 300\n",
        "l_rate = 0.00005\n",
        "# lr_decay = 1e-6\n",
        "# lr_drop = 20"
      ],
      "execution_count": null,
      "outputs": []
    },
    {
      "cell_type": "code",
      "metadata": {
        "id": "SCB07_lwbTW9"
      },
      "source": [
        "#Model definition of VGG16\n",
        "def createModel():\n",
        "  model = Sequential()\n",
        "  weight_decay = 0.0005 #Hyper parameter\n",
        "\n",
        "  model.add(Conv2D(64, (3, 3), padding='same', input_shape=x_shape))\n",
        "  # model.add(BatchNormalization())\n",
        "  model.add(Activation(conv_activation_func))\n",
        "\n",
        "  model.add(Conv2D(64, (3, 3), padding='same'))\n",
        "  model.add(BatchNormalization())\n",
        "  model.add(Activation(conv_activation_func))\n",
        "\n",
        "  model.add(MaxPooling2D(pool_size=(2, 2), strides=2))\n",
        "\n",
        "  model.add(Conv2D(128, (3, 3), padding='same'))\n",
        "  # model.add(BatchNormalization())\n",
        "  model.add(Activation(conv_activation_func))\n",
        "\n",
        "  model.add(Conv2D(128, (3, 3), padding='same'))\n",
        "  # model.add(BatchNormalization())\n",
        "  model.add(Activation(conv_activation_func))\n",
        "\n",
        "  model.add(MaxPooling2D(pool_size=(2, 2), strides=2))\n",
        "\n",
        "  model.add(Conv2D(256, (3, 3), padding='same'))\n",
        "  # model.add(BatchNormalization())\n",
        "  model.add(Activation(conv_activation_func))\n",
        "\n",
        "  model.add(Conv2D(256, (3, 3), padding='same'))\n",
        "  # model.add(BatchNormalization())\n",
        "  model.add(Activation(conv_activation_func))\n",
        "\n",
        "  model.add(Conv2D(256, (3, 3), padding='same'))\n",
        "  # model.add(BatchNormalization())\n",
        "  model.add(Activation(conv_activation_func))\n",
        "\n",
        "  model.add(MaxPooling2D(pool_size=(2, 2), strides=2))\n",
        "\n",
        "  model.add(Conv2D(512, (3, 3), padding='same'))\n",
        "  # model.add(BatchNormalization())\n",
        "  model.add(Activation(conv_activation_func))\n",
        "\n",
        "  model.add(Conv2D(512, (3, 3), padding='same'))\n",
        "  # model.add(BatchNormalization())\n",
        "  model.add(Activation(conv_activation_func))\n",
        "\n",
        "  model.add(Conv2D(512, (3, 3), padding='same'))\n",
        "  # model.add(BatchNormalization())\n",
        "  model.add(Activation(conv_activation_func))\n",
        "\n",
        "  model.add(MaxPooling2D(pool_size=(2, 2), strides=2))\n",
        "\n",
        "  # model.add(Conv2D(512, (3, 3), padding='same'))\n",
        "  # model.add(BatchNormalization())\n",
        "  # model.add(Activation(conv_activation_func))\n",
        "\n",
        "  # model.add(Conv2D(512, (3, 3), padding='same'))\n",
        "  # model.add(BatchNormalization())\n",
        "  # model.add(Activation(conv_activation_func))\n",
        "\n",
        "  # model.add(Conv2D(512, (3, 3), padding='same'))\n",
        "  # model.add(BatchNormalization())\n",
        "  # model.add(Activation(conv_activation_func))\n",
        "\n",
        "  # model.add(MaxPooling2D(pool_size=(2, 2), strides=2))\n",
        "\n",
        "  model.add(Flatten())\n",
        "\n",
        "  model.add(Dense(512))\n",
        "  model.add(Activation(dense_activation_func))\n",
        "\n",
        "  model.add(Dense(512))\n",
        "  model.add(Activation(dense_activation_func))\n",
        "\n",
        "  model.add(Dense(num_classes))\n",
        "  model.add(Activation(ouput_activation_func))\n",
        "\n",
        "  #Definition of ADAM optimizer\n",
        "  adam = optimizers.Adam(learning_rate=l_rate, clipvalue=1.0)\n",
        "\n",
        "  #Compiling the model\n",
        "  model.compile(loss='categorical_crossentropy', optimizer=adam, metrics=['accuracy'])\n",
        "\n",
        "  return model"
      ],
      "execution_count": null,
      "outputs": []
    },
    {
      "cell_type": "code",
      "metadata": {
        "id": "2sBIOrNAbYQr"
      },
      "source": [
        "#data augmentation\n",
        "datagen = ImageDataGenerator(\n",
        "    featurewise_center=False,  # set input mean to 0 over the dataset\n",
        "    samplewise_center=False,  # set each sample mean to 0\n",
        "    featurewise_std_normalization=False,  # divide inputs by std of the dataset\n",
        "    samplewise_std_normalization=False,  # divide each input by its std\n",
        "    zca_whitening=False,  # apply ZCA whitening\n",
        "    rotation_range=15,  # randomly rotate images in the range (degrees, 0 to 180)\n",
        "    width_shift_range=0.1,  # randomly shift images horizontally (fraction of total width)\n",
        "    height_shift_range=0.1,  # randomly shift images vertically (fraction of total height)\n",
        "    horizontal_flip=True,  # randomly flip images\n",
        "    vertical_flip=False)  # randomly flip images\n",
        "# (std, mean, and principal components if ZCA whitening is applied).\n",
        "datagen.fit(x_train)"
      ],
      "execution_count": null,
      "outputs": []
    },
    {
      "cell_type": "code",
      "metadata": {
        "id": "ivnw5i-QbZ6w"
      },
      "source": [
        "#Creating an instance of the model\n",
        "\n",
        "model = createModel()"
      ],
      "execution_count": null,
      "outputs": []
    },
    {
      "cell_type": "code",
      "metadata": {
        "id": "uYY7RD59bb9C"
      },
      "source": [
        "#Defintion of callbacks with EarlyStopping \n",
        "\n",
        "callback = callbacks.EarlyStopping(monitor='val_loss', patience=10)"
      ],
      "execution_count": null,
      "outputs": []
    },
    {
      "cell_type": "code",
      "metadata": {
        "id": "5XlRrvRlbfhX"
      },
      "source": [
        "#Definition of saving the best weights of the model with ModelCheckpoint\n",
        "\n",
        "checkpoint_path = \"checkpoints/VGGNet16_ADAM_BatchNormalization\"\n",
        "checkpoint = callbacks.ModelCheckpoint(filepath=checkpoint_path, monitor='val_loss', save_best_only=True, save_weights_only=True, verbose=1, mode='min')"
      ],
      "execution_count": null,
      "outputs": []
    },
    {
      "cell_type": "code",
      "metadata": {
        "id": "uFwPrv87bhOC",
        "outputId": "70a6b45b-8507-458f-bfce-429e55d7684b",
        "colab": {
          "base_uri": "https://localhost:8080/",
          "height": 1000
        }
      },
      "source": [
        "#Training the model in the training dataset\n",
        "\n",
        "history = model.fit(datagen.flow(x_train, y_train,\n",
        "                                         batch_size=batch_size),\n",
        "                            steps_per_epoch=x_train.shape[0] // batch_size,\n",
        "                            epochs=maxepoches,\n",
        "                            validation_data=(x_validation, y_validation),callbacks=[callback, checkpoint],verbose=2)\n",
        "\n",
        "# history = model.fit(x_train, y_train, steps_per_epoch=x_train.shape[0] // batch_size, epochs=maxepoches, validation_data=(x_validation, y_validation), callbacks=[callback, checkpoint])\n",
        "model.save_weights('VGGNet16_ADAM_BatchNormalization.h5')"
      ],
      "execution_count": null,
      "outputs": [
        {
          "output_type": "stream",
          "text": [
            "Epoch 1/300\n",
            "\n",
            "Epoch 00001: val_loss improved from inf to 3.42570, saving model to checkpoints/VGGNet16_ADAM_BatchNormalization\n",
            "312/312 - 22s - loss: 3.7294 - accuracy: 0.1361 - val_loss: 3.4257 - val_accuracy: 0.1777\n",
            "Epoch 2/300\n",
            "\n",
            "Epoch 00002: val_loss improved from 3.42570 to 2.92125, saving model to checkpoints/VGGNet16_ADAM_BatchNormalization\n",
            "312/312 - 22s - loss: 3.1137 - accuracy: 0.2360 - val_loss: 2.9213 - val_accuracy: 0.2810\n",
            "Epoch 3/300\n",
            "\n",
            "Epoch 00003: val_loss improved from 2.92125 to 2.71036, saving model to checkpoints/VGGNet16_ADAM_BatchNormalization\n",
            "312/312 - 22s - loss: 2.8289 - accuracy: 0.2936 - val_loss: 2.7104 - val_accuracy: 0.3156\n",
            "Epoch 4/300\n",
            "\n",
            "Epoch 00004: val_loss improved from 2.71036 to 2.60142, saving model to checkpoints/VGGNet16_ADAM_BatchNormalization\n",
            "312/312 - 22s - loss: 2.6012 - accuracy: 0.3370 - val_loss: 2.6014 - val_accuracy: 0.3392\n",
            "Epoch 5/300\n",
            "\n",
            "Epoch 00005: val_loss improved from 2.60142 to 2.51074, saving model to checkpoints/VGGNet16_ADAM_BatchNormalization\n",
            "312/312 - 22s - loss: 2.4320 - accuracy: 0.3714 - val_loss: 2.5107 - val_accuracy: 0.3658\n",
            "Epoch 6/300\n",
            "\n",
            "Epoch 00006: val_loss improved from 2.51074 to 2.44011, saving model to checkpoints/VGGNet16_ADAM_BatchNormalization\n",
            "312/312 - 22s - loss: 2.2534 - accuracy: 0.4136 - val_loss: 2.4401 - val_accuracy: 0.3764\n",
            "Epoch 7/300\n",
            "\n",
            "Epoch 00007: val_loss did not improve from 2.44011\n",
            "312/312 - 22s - loss: 2.1338 - accuracy: 0.4370 - val_loss: 2.4524 - val_accuracy: 0.3821\n",
            "Epoch 8/300\n",
            "\n",
            "Epoch 00008: val_loss improved from 2.44011 to 2.42831, saving model to checkpoints/VGGNet16_ADAM_BatchNormalization\n",
            "312/312 - 22s - loss: 2.0115 - accuracy: 0.4656 - val_loss: 2.4283 - val_accuracy: 0.3893\n",
            "Epoch 9/300\n",
            "\n",
            "Epoch 00009: val_loss improved from 2.42831 to 2.28097, saving model to checkpoints/VGGNet16_ADAM_BatchNormalization\n",
            "312/312 - 22s - loss: 1.9072 - accuracy: 0.4873 - val_loss: 2.2810 - val_accuracy: 0.4196\n",
            "Epoch 10/300\n",
            "\n",
            "Epoch 00010: val_loss improved from 2.28097 to 2.13627, saving model to checkpoints/VGGNet16_ADAM_BatchNormalization\n",
            "312/312 - 22s - loss: 1.7953 - accuracy: 0.5178 - val_loss: 2.1363 - val_accuracy: 0.4432\n",
            "Epoch 11/300\n",
            "\n",
            "Epoch 00011: val_loss did not improve from 2.13627\n",
            "312/312 - 21s - loss: 1.7129 - accuracy: 0.5359 - val_loss: 2.1627 - val_accuracy: 0.4430\n",
            "Epoch 12/300\n",
            "\n",
            "Epoch 00012: val_loss improved from 2.13627 to 2.03879, saving model to checkpoints/VGGNet16_ADAM_BatchNormalization\n",
            "312/312 - 22s - loss: 1.6193 - accuracy: 0.5551 - val_loss: 2.0388 - val_accuracy: 0.4682\n",
            "Epoch 13/300\n",
            "\n",
            "Epoch 00013: val_loss did not improve from 2.03879\n",
            "312/312 - 21s - loss: 1.5326 - accuracy: 0.5770 - val_loss: 2.0642 - val_accuracy: 0.4684\n",
            "Epoch 14/300\n",
            "\n",
            "Epoch 00014: val_loss did not improve from 2.03879\n",
            "312/312 - 22s - loss: 1.4583 - accuracy: 0.5973 - val_loss: 2.2095 - val_accuracy: 0.4513\n",
            "Epoch 15/300\n",
            "\n",
            "Epoch 00015: val_loss improved from 2.03879 to 1.97911, saving model to checkpoints/VGGNet16_ADAM_BatchNormalization\n",
            "312/312 - 22s - loss: 1.3873 - accuracy: 0.6105 - val_loss: 1.9791 - val_accuracy: 0.4933\n",
            "Epoch 16/300\n",
            "\n",
            "Epoch 00016: val_loss did not improve from 1.97911\n",
            "312/312 - 22s - loss: 1.3001 - accuracy: 0.6351 - val_loss: 2.0460 - val_accuracy: 0.4844\n",
            "Epoch 17/300\n",
            "\n",
            "Epoch 00017: val_loss did not improve from 1.97911\n",
            "312/312 - 22s - loss: 1.2287 - accuracy: 0.6528 - val_loss: 2.1194 - val_accuracy: 0.4762\n",
            "Epoch 18/300\n",
            "\n",
            "Epoch 00018: val_loss did not improve from 1.97911\n",
            "312/312 - 22s - loss: 1.1720 - accuracy: 0.6644 - val_loss: 2.1504 - val_accuracy: 0.4782\n",
            "Epoch 19/300\n",
            "\n",
            "Epoch 00019: val_loss did not improve from 1.97911\n",
            "312/312 - 21s - loss: 1.0870 - accuracy: 0.6871 - val_loss: 2.0278 - val_accuracy: 0.4959\n",
            "Epoch 20/300\n",
            "\n",
            "Epoch 00020: val_loss did not improve from 1.97911\n",
            "312/312 - 22s - loss: 1.0253 - accuracy: 0.7054 - val_loss: 2.1711 - val_accuracy: 0.4834\n",
            "Epoch 21/300\n",
            "\n",
            "Epoch 00021: val_loss did not improve from 1.97911\n",
            "312/312 - 22s - loss: 0.9626 - accuracy: 0.7193 - val_loss: 2.1050 - val_accuracy: 0.4905\n",
            "Epoch 22/300\n",
            "\n",
            "Epoch 00022: val_loss did not improve from 1.97911\n",
            "312/312 - 21s - loss: 0.9095 - accuracy: 0.7326 - val_loss: 2.2591 - val_accuracy: 0.4798\n",
            "Epoch 23/300\n",
            "\n",
            "Epoch 00023: val_loss did not improve from 1.97911\n",
            "312/312 - 21s - loss: 0.8458 - accuracy: 0.7527 - val_loss: 2.2391 - val_accuracy: 0.4821\n",
            "Epoch 24/300\n",
            "\n",
            "Epoch 00024: val_loss did not improve from 1.97911\n",
            "312/312 - 22s - loss: 0.8030 - accuracy: 0.7640 - val_loss: 2.3001 - val_accuracy: 0.4778\n",
            "Epoch 25/300\n",
            "\n",
            "Epoch 00025: val_loss did not improve from 1.97911\n",
            "312/312 - 22s - loss: 0.7402 - accuracy: 0.7799 - val_loss: 2.3221 - val_accuracy: 0.4786\n"
          ],
          "name": "stdout"
        }
      ]
    },
    {
      "cell_type": "code",
      "metadata": {
        "id": "EfrBPTZ9blAe",
        "outputId": "07e89ef2-2d80-4504-dcbd-0a635a9b6be3",
        "colab": {
          "base_uri": "https://localhost:8080/",
          "height": 295
        }
      },
      "source": [
        "#Plot the Training and Validation accuracy v/s Epochs\n",
        "#history.keys() = ['accuracy', 'loss', 'val_accuracy', 'val_loss']\n",
        "\n",
        "plt.plot(history.history['accuracy'])\n",
        "plt.plot(history.history['val_accuracy'])\n",
        "plt.title('Model accuracy')\n",
        "plt.ylabel('Accuracy')\n",
        "plt.xlabel('Epochs')\n",
        "plt.legend(['train', 'validation'], loc='upper left')\n",
        "plt.show()"
      ],
      "execution_count": null,
      "outputs": [
        {
          "output_type": "display_data",
          "data": {
            "image/png": "[encoded data removed]",
            "text/plain": [
              "<Figure size 432x288 with 1 Axes>"
            ]
          },
          "metadata": {
            "tags": [],
            "needs_background": "light"
          }
        }
      ]
    },
    {
      "cell_type": "code",
      "metadata": {
        "id": "osF2N-Kibm81",
        "outputId": "100480d8-2db4-48f0-db2d-04098a780bf3",
        "colab": {
          "base_uri": "https://localhost:8080/",
          "height": 295
        }
      },
      "source": [
        "#Plot the Training and Validation loss v/s Epochs\n",
        "\n",
        "plt.plot(history.history['loss'])\n",
        "plt.plot(history.history['val_loss'])\n",
        "plt.title('Model loss')\n",
        "plt.ylabel('Loss')\n",
        "plt.xlabel('Epochs')\n",
        "plt.legend(['train', 'validation'], loc='upper left')\n",
        "plt.show()"
      ],
      "execution_count": null,
      "outputs": [
        {
          "output_type": "display_data",
          "data": {
            "image/png": "[encoded data removed]",
            "text/plain": [
              "<Figure size 432x288 with 1 Axes>"
            ]
          },
          "metadata": {
            "tags": [],
            "needs_background": "light"
          }
        }
      ]
    },
    {
      "cell_type": "code",
      "metadata": {
        "id": "b4iVtCIwbonP",
        "outputId": "5cc3a330-4e67-4be6-9b83-630260826f6f",
        "colab": {
          "base_uri": "https://localhost:8080/",
          "height": 34
        }
      },
      "source": [
        "#Testing the model using the best weights of the model\n",
        "\n",
        "model_test = createModel()\n",
        "model_test.load_weights(checkpoint_path)\n",
        "loss, acc = model_test.evaluate(x_test,  y_test, verbose=2)\n",
        "# print(loss, acc)\n",
        "\n",
        "# predict classes for test set\n",
        "predict_y_test = model.predict_classes(x_test, verbose=0)"
      ],
      "execution_count": null,
      "outputs": [
        {
          "output_type": "stream",
          "text": [
            "313/313 - 2s - loss: 1.9676 - accuracy: 0.4997\n"
          ],
          "name": "stdout"
        }
      ]
    },
    {
      "cell_type": "code",
      "metadata": {
        "id": "U89PDYdPbqUe",
        "outputId": "fd7d28db-5b37-4215-c0a3-f41c53a0642e",
        "colab": {
          "base_uri": "https://localhost:8080/",
          "height": 187
        }
      },
      "source": [
        "#Precision, recall and accuracy of the model on test data\n",
        " \n",
        "# accuracy: (tp + tn) / (p + n)\n",
        "accuracy = accuracy_score(y_test_o, predict_y_test)\n",
        "print('Accuracy: %f' % accuracy)\n",
        "\n",
        "# precision tp / (tp + fp)\n",
        "precision = precision_score(y_test_o, predict_y_test, average='macro')\n",
        "print('Precision: %f' % precision)\n",
        "\n",
        "# recall: tp / (tp + fn)\n",
        "recall = recall_score(y_test_o, predict_y_test, average='macro')\n",
        "print('Recall: %f' % recall)\n",
        "\n",
        "# Confusion matrix\n",
        "confusion_matrix_ = confusion_matrix(y_test_o, predict_y_test)\n",
        "print(confusion_matrix_)"
      ],
      "execution_count": null,
      "outputs": [
        {
          "output_type": "stream",
          "text": [
            "Accuracy: 0.488700\n",
            "Precision: 0.524914\n",
            "Recall: 0.488700\n",
            "[[69  1  0 ...  0  0  0]\n",
            " [ 0 58  0 ...  0  0  0]\n",
            " [ 1  0 35 ...  0  2  0]\n",
            " ...\n",
            " [ 0  0  1 ... 44  0  0]\n",
            " [ 0  1  0 ...  1 16  1]\n",
            " [ 0  0  0 ...  1  0 54]]\n"
          ],
          "name": "stdout"
        }
      ]
    },
    {
      "cell_type": "code",
      "metadata": {
        "id": "0rU8M5qcbsPZ",
        "outputId": "e66a283b-b80e-41fd-f1ea-2b1c2c719d52",
        "colab": {
          "base_uri": "https://localhost:8080/",
          "height": 271
        }
      },
      "source": [
        "import seaborn as sb\n",
        "heat_map = sb.heatmap(confusion_matrix_)\n",
        "plt.show()"
      ],
      "execution_count": null,
      "outputs": [
        {
          "output_type": "display_data",
          "data": {
            "image/png": "[encoded data removed]",
            "text/plain": [
              "<Figure size 432x288 with 2 Axes>"
            ]
          },
          "metadata": {
            "tags": [],
            "needs_background": "light"
          }
        }
      ]
    }
  ]
}