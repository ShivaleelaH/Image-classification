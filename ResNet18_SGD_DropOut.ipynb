{
  "nbformat": 4,
  "nbformat_minor": 0,
  "metadata": {
    "accelerator": "GPU",
    "colab": {
      "name": "ResNet18_SGD_DropOut.ipynb",
      "provenance": [],
      "collapsed_sections": []
    },
    "kernelspec": {
      "display_name": "Python 3",
      "name": "python3"
    }
  },
  "cells": [
    {
      "cell_type": "markdown",
      "metadata": {
        "id": "MgsQo9VpaQHo"
      },
      "source": [
        "*   Network     : ResNet18\n",
        "*   Optimizer   : SGD\n",
        "*   Regularizer : DropOut\n",
        "\n",
        "Ref for code: https://github.com/priya-dwivedi/Deep-Learning/blob/master/resnet_keras/Residual_Networks_yourself.ipynb"
      ]
    },
    {
      "cell_type": "code",
      "metadata": {
        "id": "6TKbMbI2aTuY",
        "outputId": "3860c896-3f47-4e7f-860b-fbf9f747f072",
        "colab": {
          "base_uri": "https://localhost:8080/",
          "height": 88
        }
      },
      "source": [
        "from __future__ import print_function\n",
        "\n",
        "import keras\n",
        "from keras import optimizers\n",
        "from keras import backend as K\n",
        "from keras import regularizers\n",
        "from keras import callbacks\n",
        "\n",
        "from keras.applications.imagenet_utils import preprocess_input\n",
        "from keras.datasets import cifar100\n",
        "from keras.initializers import glorot_uniform\n",
        "from keras.layers.core import Lambda\n",
        "from keras.layers import Input, Add, Dense, Activation, ZeroPadding2D, BatchNormalization, Flatten, Conv2D, AveragePooling2D, MaxPooling2D, GlobalMaxPooling2D, Dropout\n",
        "from keras.models import Model, load_model\n",
        "from keras.preprocessing.image import ImageDataGenerator\n",
        "from keras.utils import layer_utils, data_utils, vis_utils, plot_model #data_utils.get_file #vis_utils.model_to_dot\n",
        "\n",
        "import numpy as np\n",
        "import pydot\n",
        "import scipy.misc\n",
        "import matplotlib.pyplot as plt\n",
        "import tensorflow as tf\n",
        "\n",
        "from IPython.display import SVG\n",
        "from sklearn.model_selection import train_test_split\n",
        "from sklearn.metrics import accuracy_score, precision_score, recall_score, confusion_matrix, classification_report\n",
        "from matplotlib.pyplot import imshow\n",
        "%matplotlib inline\n",
        "\n",
        "import keras.backend as K\n",
        "K.set_image_data_format('channels_last')\n",
        "K.set_learning_phase(1)"
      ],
      "execution_count": null,
      "outputs": [
        {
          "output_type": "stream",
          "text": [
            "WARNING:tensorflow:From <ipython-input-1-02aca86b3411>:32: set_learning_phase (from tensorflow.python.keras.backend) is deprecated and will be removed after 2020-10-11.\n",
            "Instructions for updating:\n",
            "Simply pass a True/False value to the `training` argument of the `__call__` method of your layer or model.\n"
          ],
          "name": "stdout"
        }
      ]
    },
    {
      "cell_type": "code",
      "metadata": {
        "id": "IA3a9zppaXeV",
        "outputId": "ca4034f8-076e-4b9b-bd04-21c45a8ecc6a",
        "colab": {
          "base_uri": "https://localhost:8080/",
          "height": 51
        }
      },
      "source": [
        "#Loading cifar100 dataset and dividing into Train, Validation and Test sets\n",
        "\n",
        "(X_train, Y_train), (x_test, y_test_o) = cifar100.load_data()\n",
        "\n",
        "X_train = X_train.astype('float32')\n",
        "x_test = x_test.astype('float32')\n",
        "\n",
        "x_train, x_validation, y_train, y_validation = train_test_split(X_train, Y_train, test_size=0.2, random_state=42)\n",
        "\n",
        "y_train = keras.utils.to_categorical(y_train, 100)\n",
        "y_validation = keras.utils.to_categorical(y_validation, 100)\n",
        "y_test = keras.utils.to_categorical(y_test_o, 100)"
      ],
      "execution_count": null,
      "outputs": [
        {
          "output_type": "stream",
          "text": [
            "Downloading data from https://www.cs.toronto.edu/~kriz/cifar-100-python.tar.gz\n",
            "169009152/169001437 [==============================] - 6s 0us/step\n"
          ],
          "name": "stdout"
        }
      ]
    },
    {
      "cell_type": "code",
      "metadata": {
        "id": "3Ch8RnAMaZsg"
      },
      "source": [
        "#Definition of hyper parameters and other characteristics of the network like the activation functions\n",
        "\n",
        "num_classes = 100\n",
        "weight_decay = 0.0005\n",
        "x_shape = [32,32,3]\n",
        "\n",
        "conv_activation_func = 'elu'\n",
        "\n",
        "batch_size = 32\n",
        "maxepoches = 100\n",
        "l_rate = 0.001\n",
        "lr_decay = 1e-6\n",
        "# lr_drop = 20"
      ],
      "execution_count": null,
      "outputs": []
    },
    {
      "cell_type": "code",
      "metadata": {
        "id": "XAJEAGA2adF7"
      },
      "source": [
        "def identity_block(X, f, filters):\n",
        "    # Retrieve Filters\n",
        "    F1, F2 = filters\n",
        "    \n",
        "    # Save the input value to add back to the main path. \n",
        "    X_shortcut = X\n",
        "    \n",
        "    # First component of main path\n",
        "    X = Conv2D(filters = F1, kernel_size = (3, 3), strides = (1,1), padding = 'same')(X)\n",
        "    X = Activation(conv_activation_func)(X)\n",
        "\n",
        "    # Second component of main path \n",
        "    X = Conv2D(filters = F2, kernel_size = (3, 3), strides = (1,1), padding = 'same')(X)\n",
        "    X = Activation(conv_activation_func)(X)\n",
        "\n",
        "    # Final step: Add shortcut value to main path, and pass it through a RELU activation \n",
        "    X = Add()([X, X_shortcut])\n",
        "    X = Activation(conv_activation_func)(X)\n",
        "       \n",
        "    return X"
      ],
      "execution_count": null,
      "outputs": []
    },
    {
      "cell_type": "code",
      "metadata": {
        "id": "Gw0o1482ae3v"
      },
      "source": [
        "def convolutional_block(X, f, filters, s = 2):\n",
        "    # Retrieve Filters\n",
        "    F1, F2 = filters\n",
        "    \n",
        "    # Save the input value\n",
        "    X_shortcut = X\n",
        "\n",
        "    ##### MAIN PATH #####\n",
        "    # First component of main path \n",
        "    X = Conv2D(F1, (3, 3), strides = (s,s), padding='same')(X)\n",
        "    X = Activation(conv_activation_func)(X)\n",
        "\n",
        "    # Second component of main path\n",
        "    X = Conv2D(filters = F2, kernel_size = (3, 3), strides = (1,1), padding = 'same')(X)\n",
        "    X = Activation(conv_activation_func)(X)\n",
        "\n",
        "    ##### SHORTCUT PATH #### \n",
        "    X_shortcut = Conv2D(filters = F2, kernel_size = (3, 3), strides = (s,s), padding = 'same')(X_shortcut)\n",
        "\n",
        "    # Final step: Add shortcut value to main path, and pass it through a RELU activation \n",
        "    X = Add()([X, X_shortcut])\n",
        "    X = Activation(conv_activation_func)(X)\n",
        "    \n",
        "    return X"
      ],
      "execution_count": null,
      "outputs": []
    },
    {
      "cell_type": "code",
      "metadata": {
        "id": "bpimhZXEagi7"
      },
      "source": [
        "def ResNet18(input_shape=(32, 32, 3), classes=100):\n",
        "    # Define the input as a tensor with shape input_shape\n",
        "    X_input = Input(input_shape)\n",
        "\n",
        "    # Zero-Padding\n",
        "    X = ZeroPadding2D((3, 3))(X_input)\n",
        "\n",
        "    # Stage 1\n",
        "    X = Conv2D(32, (3, 3), strides=(2, 2), padding='same')(X)\n",
        "    X = Activation(conv_activation_func)(X)\n",
        "    X = MaxPooling2D((3, 3), strides=(2, 2))(X)\n",
        "\n",
        "    # Stage 2\n",
        "    X = convolutional_block(X, f=3, filters=[64, 64], s=1)\n",
        "    X = identity_block(X, 3, [64, 64])\n",
        "\n",
        "    # Stage 3\n",
        "    X = convolutional_block(X, f = 3, filters = [128, 128], s = 2)\n",
        "    X = identity_block(X, 3, [128, 128])\n",
        "\n",
        "    # Stage 4\n",
        "    X = convolutional_block(X, f = 3, filters = [256, 256], s = 2)\n",
        "    X = identity_block(X, 3, [256, 256])\n",
        "\n",
        "    # Stage 5\n",
        "    X = convolutional_block(X, f = 3, filters = [512, 512], s = 2)\n",
        "    X = identity_block(X, 3, [512, 512])\n",
        "\n",
        "    # AVGPOOL\n",
        "    X = AveragePooling2D((2,2))(X)\n",
        "\n",
        "    # output layer\n",
        "    X = Flatten()(X)\n",
        "    X = Dropout(0.2)(X)\n",
        "    X = Dense(classes, activation='softmax')(X)\n",
        "    \n",
        "    # Create model\n",
        "    model = Model(inputs = X_input, outputs = X)\n",
        "\n",
        "    return model"
      ],
      "execution_count": null,
      "outputs": []
    },
    {
      "cell_type": "code",
      "metadata": {
        "id": "0WMsGg34aic0"
      },
      "source": [
        "model = ResNet18(input_shape = (32, 32, 3), classes = 100)"
      ],
      "execution_count": null,
      "outputs": []
    },
    {
      "cell_type": "code",
      "metadata": {
        "id": "2GVXOmOZaj2y"
      },
      "source": [
        "#Definition of SGD optimizer\n",
        "sgd = optimizers.SGD(learning_rate=l_rate)#, decay=lr_decay) #momentum=0.9, nesterov=True\n",
        "\n",
        "#Compiling the model\n",
        "model.compile(loss='categorical_crossentropy', optimizer=sgd, metrics=['accuracy'])"
      ],
      "execution_count": null,
      "outputs": []
    },
    {
      "cell_type": "code",
      "metadata": {
        "id": "MH1S4ch2alV6"
      },
      "source": [
        "#data augmentation\n",
        "datagen = ImageDataGenerator(\n",
        "    featurewise_center=False,  # set input mean to 0 over the dataset\n",
        "    samplewise_center=False,  # set each sample mean to 0\n",
        "    featurewise_std_normalization=False,  # divide inputs by std of the dataset\n",
        "    samplewise_std_normalization=False,  # divide each input by its std\n",
        "    zca_whitening=False,  # apply ZCA whitening\n",
        "    rotation_range=15,  # randomly rotate images in the range (degrees, 0 to 180)\n",
        "    width_shift_range=0.1,  # randomly shift images horizontally (fraction of total width)\n",
        "    height_shift_range=0.1,  # randomly shift images vertically (fraction of total height)\n",
        "    horizontal_flip=True,  # randomly flip images\n",
        "    vertical_flip=False)  # randomly flip images\n",
        "# (std, mean, and principal components if ZCA whitening is applied).\n",
        "datagen.fit(x_train)"
      ],
      "execution_count": null,
      "outputs": []
    },
    {
      "cell_type": "code",
      "metadata": {
        "id": "ePdSxu4aanIm"
      },
      "source": [
        "#Defintion of callbacks with EarlyStopping \n",
        "\n",
        "callback = callbacks.EarlyStopping(monitor='val_loss', patience=10)"
      ],
      "execution_count": null,
      "outputs": []
    },
    {
      "cell_type": "code",
      "metadata": {
        "id": "59G-M3C2aopa"
      },
      "source": [
        "#Definition of saving the best weights of the model with ModelCheckpoint\n",
        "\n",
        "checkpoint_path = \"checkpoints\"\n",
        "checkpoint = callbacks.ModelCheckpoint(filepath=checkpoint_path, monitor='val_loss', save_best_only=True, save_weights_only=True, verbose=1, mode='min')"
      ],
      "execution_count": null,
      "outputs": []
    },
    {
      "cell_type": "code",
      "metadata": {
        "id": "_D4BDywVaqbA",
        "outputId": "4d17fd37-5072-4234-e9d2-5bee29a61a60",
        "colab": {
          "base_uri": "https://localhost:8080/",
          "height": 1000
        }
      },
      "source": [
        "#Training the model in the training dataset\n",
        "\n",
        "history = model.fit(datagen.flow(x_train, y_train), epochs = maxepoches, batch_size = batch_size, validation_data=(x_validation, y_validation), callbacks=[callback, checkpoint])\n",
        "model.save_weights('ResNet18_SGD_DropOut.h5')"
      ],
      "execution_count": null,
      "outputs": [
        {
          "output_type": "stream",
          "text": [
            "Epoch 1/100\n",
            "1248/1250 [============================>.] - ETA: 0s - loss: 4.2728 - accuracy: 0.0631\n",
            "Epoch 00001: val_loss improved from inf to 3.88984, saving model to checkpoints\n",
            "1250/1250 [==============================] - 32s 25ms/step - loss: 4.2721 - accuracy: 0.0631 - val_loss: 3.8898 - val_accuracy: 0.1082\n",
            "Epoch 2/100\n",
            "1250/1250 [==============================] - ETA: 0s - loss: 3.8175 - accuracy: 0.1230\n",
            "Epoch 00002: val_loss improved from 3.88984 to 3.59634, saving model to checkpoints\n",
            "1250/1250 [==============================] - 31s 25ms/step - loss: 3.8175 - accuracy: 0.1230 - val_loss: 3.5963 - val_accuracy: 0.1713\n",
            "Epoch 3/100\n",
            "1249/1250 [============================>.] - ETA: 0s - loss: 3.5950 - accuracy: 0.1572\n",
            "Epoch 00003: val_loss improved from 3.59634 to 3.39444, saving model to checkpoints\n",
            "1250/1250 [==============================] - 32s 25ms/step - loss: 3.5949 - accuracy: 0.1572 - val_loss: 3.3944 - val_accuracy: 0.1966\n",
            "Epoch 4/100\n",
            "1248/1250 [============================>.] - ETA: 0s - loss: 3.4398 - accuracy: 0.1849\n",
            "Epoch 00004: val_loss improved from 3.39444 to 3.25019, saving model to checkpoints\n",
            "1250/1250 [==============================] - 32s 25ms/step - loss: 3.4396 - accuracy: 0.1849 - val_loss: 3.2502 - val_accuracy: 0.2241\n",
            "Epoch 5/100\n",
            "1249/1250 [============================>.] - ETA: 0s - loss: 3.3194 - accuracy: 0.2063\n",
            "Epoch 00005: val_loss improved from 3.25019 to 3.13467, saving model to checkpoints\n",
            "1250/1250 [==============================] - 32s 26ms/step - loss: 3.3195 - accuracy: 0.2062 - val_loss: 3.1347 - val_accuracy: 0.2418\n",
            "Epoch 6/100\n",
            "1250/1250 [==============================] - ETA: 0s - loss: 3.2254 - accuracy: 0.2238\n",
            "Epoch 00006: val_loss improved from 3.13467 to 3.08345, saving model to checkpoints\n",
            "1250/1250 [==============================] - 32s 25ms/step - loss: 3.2254 - accuracy: 0.2238 - val_loss: 3.0835 - val_accuracy: 0.2489\n",
            "Epoch 7/100\n",
            "1249/1250 [============================>.] - ETA: 0s - loss: 3.1381 - accuracy: 0.2383\n",
            "Epoch 00007: val_loss improved from 3.08345 to 2.98288, saving model to checkpoints\n",
            "1250/1250 [==============================] - 32s 25ms/step - loss: 3.1382 - accuracy: 0.2383 - val_loss: 2.9829 - val_accuracy: 0.2729\n",
            "Epoch 8/100\n",
            "1248/1250 [============================>.] - ETA: 0s - loss: 3.0599 - accuracy: 0.2522\n",
            "Epoch 00008: val_loss improved from 2.98288 to 2.96948, saving model to checkpoints\n",
            "1250/1250 [==============================] - 32s 25ms/step - loss: 3.0601 - accuracy: 0.2522 - val_loss: 2.9695 - val_accuracy: 0.2731\n",
            "Epoch 9/100\n",
            "1248/1250 [============================>.] - ETA: 0s - loss: 3.0031 - accuracy: 0.2640\n",
            "Epoch 00009: val_loss improved from 2.96948 to 2.94972, saving model to checkpoints\n",
            "1250/1250 [==============================] - 32s 25ms/step - loss: 3.0021 - accuracy: 0.2643 - val_loss: 2.9497 - val_accuracy: 0.2815\n",
            "Epoch 10/100\n",
            "1249/1250 [============================>.] - ETA: 0s - loss: 2.9457 - accuracy: 0.2724\n",
            "Epoch 00010: val_loss improved from 2.94972 to 2.82165, saving model to checkpoints\n",
            "1250/1250 [==============================] - 32s 25ms/step - loss: 2.9459 - accuracy: 0.2724 - val_loss: 2.8216 - val_accuracy: 0.3061\n",
            "Epoch 11/100\n",
            "1250/1250 [==============================] - ETA: 0s - loss: 2.8934 - accuracy: 0.2848\n",
            "Epoch 00011: val_loss improved from 2.82165 to 2.80746, saving model to checkpoints\n",
            "1250/1250 [==============================] - 32s 26ms/step - loss: 2.8934 - accuracy: 0.2848 - val_loss: 2.8075 - val_accuracy: 0.3004\n",
            "Epoch 12/100\n",
            "1250/1250 [==============================] - ETA: 0s - loss: 2.8480 - accuracy: 0.2918\n",
            "Epoch 00012: val_loss improved from 2.80746 to 2.73947, saving model to checkpoints\n",
            "1250/1250 [==============================] - 33s 26ms/step - loss: 2.8480 - accuracy: 0.2918 - val_loss: 2.7395 - val_accuracy: 0.3197\n",
            "Epoch 13/100\n",
            "1249/1250 [============================>.] - ETA: 0s - loss: 2.8021 - accuracy: 0.3014\n",
            "Epoch 00013: val_loss improved from 2.73947 to 2.73294, saving model to checkpoints\n",
            "1250/1250 [==============================] - 34s 27ms/step - loss: 2.8023 - accuracy: 0.3013 - val_loss: 2.7329 - val_accuracy: 0.3205\n",
            "Epoch 14/100\n",
            "1249/1250 [============================>.] - ETA: 0s - loss: 2.7562 - accuracy: 0.3078\n",
            "Epoch 00014: val_loss improved from 2.73294 to 2.70342, saving model to checkpoints\n",
            "1250/1250 [==============================] - 33s 26ms/step - loss: 2.7561 - accuracy: 0.3079 - val_loss: 2.7034 - val_accuracy: 0.3270\n",
            "Epoch 15/100\n",
            "1248/1250 [============================>.] - ETA: 0s - loss: 2.7168 - accuracy: 0.3207\n",
            "Epoch 00015: val_loss improved from 2.70342 to 2.66944, saving model to checkpoints\n",
            "1250/1250 [==============================] - 33s 27ms/step - loss: 2.7168 - accuracy: 0.3207 - val_loss: 2.6694 - val_accuracy: 0.3357\n",
            "Epoch 16/100\n",
            "1249/1250 [============================>.] - ETA: 0s - loss: 2.6810 - accuracy: 0.3248\n",
            "Epoch 00016: val_loss improved from 2.66944 to 2.64777, saving model to checkpoints\n",
            "1250/1250 [==============================] - 33s 26ms/step - loss: 2.6813 - accuracy: 0.3247 - val_loss: 2.6478 - val_accuracy: 0.3321\n",
            "Epoch 17/100\n",
            "1249/1250 [============================>.] - ETA: 0s - loss: 2.6452 - accuracy: 0.3307\n",
            "Epoch 00017: val_loss improved from 2.64777 to 2.61792, saving model to checkpoints\n",
            "1250/1250 [==============================] - 33s 26ms/step - loss: 2.6448 - accuracy: 0.3308 - val_loss: 2.6179 - val_accuracy: 0.3370\n",
            "Epoch 18/100\n",
            "1250/1250 [==============================] - ETA: 0s - loss: 2.6105 - accuracy: 0.3408\n",
            "Epoch 00018: val_loss did not improve from 2.61792\n",
            "1250/1250 [==============================] - 34s 27ms/step - loss: 2.6105 - accuracy: 0.3408 - val_loss: 2.6226 - val_accuracy: 0.3437\n",
            "Epoch 19/100\n",
            "1249/1250 [============================>.] - ETA: 0s - loss: 2.5799 - accuracy: 0.3431\n",
            "Epoch 00019: val_loss improved from 2.61792 to 2.58952, saving model to checkpoints\n",
            "1250/1250 [==============================] - 34s 27ms/step - loss: 2.5797 - accuracy: 0.3431 - val_loss: 2.5895 - val_accuracy: 0.3469\n",
            "Epoch 20/100\n",
            "1248/1250 [============================>.] - ETA: 0s - loss: 2.5520 - accuracy: 0.3524\n",
            "Epoch 00020: val_loss improved from 2.58952 to 2.55516, saving model to checkpoints\n",
            "1250/1250 [==============================] - 34s 27ms/step - loss: 2.5513 - accuracy: 0.3525 - val_loss: 2.5552 - val_accuracy: 0.3549\n",
            "Epoch 21/100\n",
            "1249/1250 [============================>.] - ETA: 0s - loss: 2.5147 - accuracy: 0.3603\n",
            "Epoch 00021: val_loss did not improve from 2.55516\n",
            "1250/1250 [==============================] - 34s 27ms/step - loss: 2.5146 - accuracy: 0.3604 - val_loss: 2.5772 - val_accuracy: 0.3529\n",
            "Epoch 22/100\n",
            "1249/1250 [============================>.] - ETA: 0s - loss: 2.4916 - accuracy: 0.3637\n",
            "Epoch 00022: val_loss improved from 2.55516 to 2.53964, saving model to checkpoints\n",
            "1250/1250 [==============================] - 34s 27ms/step - loss: 2.4916 - accuracy: 0.3637 - val_loss: 2.5396 - val_accuracy: 0.3617\n",
            "Epoch 23/100\n",
            "1249/1250 [============================>.] - ETA: 0s - loss: 2.4542 - accuracy: 0.3721\n",
            "Epoch 00023: val_loss improved from 2.53964 to 2.52549, saving model to checkpoints\n",
            "1250/1250 [==============================] - 34s 27ms/step - loss: 2.4540 - accuracy: 0.3722 - val_loss: 2.5255 - val_accuracy: 0.3575\n",
            "Epoch 24/100\n",
            "1248/1250 [============================>.] - ETA: 0s - loss: 2.4217 - accuracy: 0.3771\n",
            "Epoch 00024: val_loss did not improve from 2.52549\n",
            "1250/1250 [==============================] - 33s 27ms/step - loss: 2.4217 - accuracy: 0.3771 - val_loss: 2.5957 - val_accuracy: 0.3519\n",
            "Epoch 25/100\n",
            "1249/1250 [============================>.] - ETA: 0s - loss: 2.3914 - accuracy: 0.3882\n",
            "Epoch 00025: val_loss improved from 2.52549 to 2.51765, saving model to checkpoints\n",
            "1250/1250 [==============================] - 33s 27ms/step - loss: 2.3917 - accuracy: 0.3880 - val_loss: 2.5177 - val_accuracy: 0.3664\n",
            "Epoch 26/100\n",
            "1248/1250 [============================>.] - ETA: 0s - loss: 2.3736 - accuracy: 0.3870\n",
            "Epoch 00026: val_loss improved from 2.51765 to 2.45994, saving model to checkpoints\n",
            "1250/1250 [==============================] - 33s 27ms/step - loss: 2.3730 - accuracy: 0.3871 - val_loss: 2.4599 - val_accuracy: 0.3786\n",
            "Epoch 27/100\n",
            "1250/1250 [==============================] - ETA: 0s - loss: 2.3345 - accuracy: 0.3954\n",
            "Epoch 00027: val_loss did not improve from 2.45994\n",
            "1250/1250 [==============================] - 33s 27ms/step - loss: 2.3345 - accuracy: 0.3954 - val_loss: 2.4985 - val_accuracy: 0.3662\n",
            "Epoch 28/100\n",
            "1249/1250 [============================>.] - ETA: 0s - loss: 2.3075 - accuracy: 0.3999\n",
            "Epoch 00028: val_loss did not improve from 2.45994\n",
            "1250/1250 [==============================] - 33s 26ms/step - loss: 2.3074 - accuracy: 0.3999 - val_loss: 2.4841 - val_accuracy: 0.3713\n",
            "Epoch 29/100\n",
            "1250/1250 [==============================] - ETA: 0s - loss: 2.2900 - accuracy: 0.4063\n",
            "Epoch 00029: val_loss did not improve from 2.45994\n",
            "1250/1250 [==============================] - 33s 26ms/step - loss: 2.2900 - accuracy: 0.4063 - val_loss: 2.4660 - val_accuracy: 0.3794\n",
            "Epoch 30/100\n",
            "1250/1250 [==============================] - ETA: 0s - loss: 2.2559 - accuracy: 0.4129\n",
            "Epoch 00030: val_loss improved from 2.45994 to 2.45787, saving model to checkpoints\n",
            "1250/1250 [==============================] - 33s 26ms/step - loss: 2.2559 - accuracy: 0.4129 - val_loss: 2.4579 - val_accuracy: 0.3766\n",
            "Epoch 31/100\n",
            "1249/1250 [============================>.] - ETA: 0s - loss: 2.2411 - accuracy: 0.4192\n",
            "Epoch 00031: val_loss did not improve from 2.45787\n",
            "1250/1250 [==============================] - 33s 26ms/step - loss: 2.2414 - accuracy: 0.4191 - val_loss: 2.4807 - val_accuracy: 0.3803\n",
            "Epoch 32/100\n",
            "1250/1250 [==============================] - ETA: 0s - loss: 2.2084 - accuracy: 0.4238\n",
            "Epoch 00032: val_loss did not improve from 2.45787\n",
            "1250/1250 [==============================] - 33s 26ms/step - loss: 2.2084 - accuracy: 0.4238 - val_loss: 2.4682 - val_accuracy: 0.3730\n",
            "Epoch 33/100\n",
            "1248/1250 [============================>.] - ETA: 0s - loss: 2.1817 - accuracy: 0.4277\n",
            "Epoch 00033: val_loss improved from 2.45787 to 2.38560, saving model to checkpoints\n",
            "1250/1250 [==============================] - 33s 26ms/step - loss: 2.1821 - accuracy: 0.4276 - val_loss: 2.3856 - val_accuracy: 0.3948\n",
            "Epoch 34/100\n",
            "1249/1250 [============================>.] - ETA: 0s - loss: 2.1597 - accuracy: 0.4348\n",
            "Epoch 00034: val_loss did not improve from 2.38560\n",
            "1250/1250 [==============================] - 32s 26ms/step - loss: 2.1596 - accuracy: 0.4349 - val_loss: 2.4661 - val_accuracy: 0.3822\n",
            "Epoch 35/100\n",
            "1250/1250 [==============================] - ETA: 0s - loss: 2.1372 - accuracy: 0.4379\n",
            "Epoch 00035: val_loss did not improve from 2.38560\n",
            "1250/1250 [==============================] - 32s 26ms/step - loss: 2.1372 - accuracy: 0.4379 - val_loss: 2.4352 - val_accuracy: 0.3868\n",
            "Epoch 36/100\n",
            "1249/1250 [============================>.] - ETA: 0s - loss: 2.1057 - accuracy: 0.4452\n",
            "Epoch 00036: val_loss did not improve from 2.38560\n",
            "1250/1250 [==============================] - 32s 26ms/step - loss: 2.1057 - accuracy: 0.4451 - val_loss: 2.4067 - val_accuracy: 0.3915\n",
            "Epoch 37/100\n",
            "1250/1250 [==============================] - ETA: 0s - loss: 2.0852 - accuracy: 0.4534\n",
            "Epoch 00037: val_loss did not improve from 2.38560\n",
            "1250/1250 [==============================] - 32s 26ms/step - loss: 2.0852 - accuracy: 0.4534 - val_loss: 2.4348 - val_accuracy: 0.3831\n",
            "Epoch 38/100\n",
            "1250/1250 [==============================] - ETA: 0s - loss: 2.0705 - accuracy: 0.4547\n",
            "Epoch 00038: val_loss improved from 2.38560 to 2.36558, saving model to checkpoints\n",
            "1250/1250 [==============================] - 33s 26ms/step - loss: 2.0705 - accuracy: 0.4547 - val_loss: 2.3656 - val_accuracy: 0.4001\n",
            "Epoch 39/100\n",
            "1250/1250 [==============================] - ETA: 0s - loss: 2.0421 - accuracy: 0.4622\n",
            "Epoch 00039: val_loss did not improve from 2.36558\n",
            "1250/1250 [==============================] - 33s 26ms/step - loss: 2.0421 - accuracy: 0.4622 - val_loss: 2.4499 - val_accuracy: 0.3875\n",
            "Epoch 40/100\n",
            "1250/1250 [==============================] - ETA: 0s - loss: 2.0205 - accuracy: 0.4654\n",
            "Epoch 00040: val_loss did not improve from 2.36558\n",
            "1250/1250 [==============================] - 32s 26ms/step - loss: 2.0205 - accuracy: 0.4654 - val_loss: 2.4784 - val_accuracy: 0.3806\n",
            "Epoch 41/100\n",
            "1248/1250 [============================>.] - ETA: 0s - loss: 2.0001 - accuracy: 0.4683\n",
            "Epoch 00041: val_loss did not improve from 2.36558\n",
            "1250/1250 [==============================] - 33s 26ms/step - loss: 2.0001 - accuracy: 0.4683 - val_loss: 2.3675 - val_accuracy: 0.4033\n",
            "Epoch 42/100\n",
            "1249/1250 [============================>.] - ETA: 0s - loss: 1.9625 - accuracy: 0.4763\n",
            "Epoch 00042: val_loss did not improve from 2.36558\n",
            "1250/1250 [==============================] - 33s 26ms/step - loss: 1.9621 - accuracy: 0.4764 - val_loss: 2.4331 - val_accuracy: 0.3935\n",
            "Epoch 43/100\n",
            "1250/1250 [==============================] - ETA: 0s - loss: 1.9558 - accuracy: 0.4787\n",
            "Epoch 00043: val_loss did not improve from 2.36558\n",
            "1250/1250 [==============================] - 33s 26ms/step - loss: 1.9558 - accuracy: 0.4787 - val_loss: 2.3782 - val_accuracy: 0.4049\n",
            "Epoch 44/100\n",
            "1250/1250 [==============================] - ETA: 0s - loss: 1.9333 - accuracy: 0.4825\n",
            "Epoch 00044: val_loss did not improve from 2.36558\n",
            "1250/1250 [==============================] - 33s 26ms/step - loss: 1.9333 - accuracy: 0.4825 - val_loss: 2.3881 - val_accuracy: 0.4026\n",
            "Epoch 45/100\n",
            "1250/1250 [==============================] - ETA: 0s - loss: 1.9167 - accuracy: 0.4866\n",
            "Epoch 00045: val_loss did not improve from 2.36558\n",
            "1250/1250 [==============================] - 33s 26ms/step - loss: 1.9167 - accuracy: 0.4866 - val_loss: 2.4361 - val_accuracy: 0.3932\n",
            "Epoch 46/100\n",
            "1249/1250 [============================>.] - ETA: 0s - loss: 1.8896 - accuracy: 0.4931\n",
            "Epoch 00046: val_loss did not improve from 2.36558\n",
            "1250/1250 [==============================] - 33s 26ms/step - loss: 1.8895 - accuracy: 0.4931 - val_loss: 2.3812 - val_accuracy: 0.4088\n",
            "Epoch 47/100\n",
            "1250/1250 [==============================] - ETA: 0s - loss: 1.8598 - accuracy: 0.5006\n",
            "Epoch 00047: val_loss did not improve from 2.36558\n",
            "1250/1250 [==============================] - 33s 26ms/step - loss: 1.8598 - accuracy: 0.5006 - val_loss: 2.3915 - val_accuracy: 0.4035\n",
            "Epoch 48/100\n",
            "1249/1250 [============================>.] - ETA: 0s - loss: 1.8503 - accuracy: 0.5038\n",
            "Epoch 00048: val_loss improved from 2.36558 to 2.33248, saving model to checkpoints\n",
            "1250/1250 [==============================] - 33s 26ms/step - loss: 1.8503 - accuracy: 0.5038 - val_loss: 2.3325 - val_accuracy: 0.4157\n",
            "Epoch 49/100\n",
            "1250/1250 [==============================] - ETA: 0s - loss: 1.8221 - accuracy: 0.5077\n",
            "Epoch 00049: val_loss did not improve from 2.33248\n",
            "1250/1250 [==============================] - 33s 26ms/step - loss: 1.8221 - accuracy: 0.5077 - val_loss: 2.3535 - val_accuracy: 0.4126\n",
            "Epoch 50/100\n",
            "1250/1250 [==============================] - ETA: 0s - loss: 1.8059 - accuracy: 0.5121\n",
            "Epoch 00050: val_loss improved from 2.33248 to 2.32441, saving model to checkpoints\n",
            "1250/1250 [==============================] - 33s 27ms/step - loss: 1.8059 - accuracy: 0.5121 - val_loss: 2.3244 - val_accuracy: 0.4188\n",
            "Epoch 51/100\n",
            "1250/1250 [==============================] - ETA: 0s - loss: 1.7767 - accuracy: 0.5188\n",
            "Epoch 00051: val_loss did not improve from 2.32441\n",
            "1250/1250 [==============================] - 33s 26ms/step - loss: 1.7767 - accuracy: 0.5188 - val_loss: 2.3532 - val_accuracy: 0.4161\n",
            "Epoch 52/100\n",
            "1249/1250 [============================>.] - ETA: 0s - loss: 1.7694 - accuracy: 0.5190\n",
            "Epoch 00052: val_loss did not improve from 2.32441\n",
            "1250/1250 [==============================] - 33s 26ms/step - loss: 1.7692 - accuracy: 0.5190 - val_loss: 2.3934 - val_accuracy: 0.4121\n",
            "Epoch 53/100\n",
            "1249/1250 [============================>.] - ETA: 0s - loss: 1.7358 - accuracy: 0.5267\n",
            "Epoch 00053: val_loss did not improve from 2.32441\n",
            "1250/1250 [==============================] - 33s 26ms/step - loss: 1.7357 - accuracy: 0.5268 - val_loss: 2.3698 - val_accuracy: 0.4161\n",
            "Epoch 54/100\n",
            "1250/1250 [==============================] - ETA: 0s - loss: 1.7224 - accuracy: 0.5290\n",
            "Epoch 00054: val_loss did not improve from 2.32441\n",
            "1250/1250 [==============================] - 33s 26ms/step - loss: 1.7224 - accuracy: 0.5290 - val_loss: 2.3701 - val_accuracy: 0.4110\n",
            "Epoch 55/100\n",
            "1249/1250 [============================>.] - ETA: 0s - loss: 1.6886 - accuracy: 0.5414\n",
            "Epoch 00055: val_loss did not improve from 2.32441\n",
            "1250/1250 [==============================] - 33s 26ms/step - loss: 1.6883 - accuracy: 0.5414 - val_loss: 2.3812 - val_accuracy: 0.4146\n",
            "Epoch 56/100\n",
            "1249/1250 [============================>.] - ETA: 0s - loss: 1.6739 - accuracy: 0.5407\n",
            "Epoch 00056: val_loss did not improve from 2.32441\n",
            "1250/1250 [==============================] - 34s 27ms/step - loss: 1.6738 - accuracy: 0.5408 - val_loss: 2.4008 - val_accuracy: 0.4072\n",
            "Epoch 57/100\n",
            "1250/1250 [==============================] - ETA: 0s - loss: 1.6541 - accuracy: 0.5483\n",
            "Epoch 00057: val_loss did not improve from 2.32441\n",
            "1250/1250 [==============================] - 34s 27ms/step - loss: 1.6541 - accuracy: 0.5483 - val_loss: 2.4128 - val_accuracy: 0.4089\n",
            "Epoch 58/100\n",
            "1250/1250 [==============================] - ETA: 0s - loss: 1.6366 - accuracy: 0.5516\n",
            "Epoch 00058: val_loss did not improve from 2.32441\n",
            "1250/1250 [==============================] - 34s 27ms/step - loss: 1.6366 - accuracy: 0.5516 - val_loss: 2.3334 - val_accuracy: 0.4227\n",
            "Epoch 59/100\n",
            "1249/1250 [============================>.] - ETA: 0s - loss: 1.6053 - accuracy: 0.5581\n",
            "Epoch 00059: val_loss did not improve from 2.32441\n",
            "1250/1250 [==============================] - 34s 27ms/step - loss: 1.6051 - accuracy: 0.5580 - val_loss: 2.3883 - val_accuracy: 0.4171\n",
            "Epoch 60/100\n",
            "1250/1250 [==============================] - ETA: 0s - loss: 1.5941 - accuracy: 0.5595\n",
            "Epoch 00060: val_loss did not improve from 2.32441\n",
            "1250/1250 [==============================] - 34s 27ms/step - loss: 1.5941 - accuracy: 0.5595 - val_loss: 2.3961 - val_accuracy: 0.4172\n"
          ],
          "name": "stdout"
        }
      ]
    },
    {
      "cell_type": "code",
      "metadata": {
        "id": "1QCwc_toasjB",
        "outputId": "a4c91d30-023b-4e93-d8a3-9a85ae5bca3b",
        "colab": {
          "base_uri": "https://localhost:8080/",
          "height": 295
        }
      },
      "source": [
        "#Plot the Training and Validation accuracy v/s Epochs\n",
        "#history.keys() = ['accuracy', 'loss', 'val_accuracy', 'val_loss']\n",
        "\n",
        "plt.plot(history.history['accuracy'])\n",
        "plt.plot(history.history['val_accuracy'])\n",
        "plt.title('Model accuracy')\n",
        "plt.ylabel('Accuracy')\n",
        "plt.xlabel('Epochs')\n",
        "plt.legend(['train', 'validation'], loc='upper left')\n",
        "plt.show()"
      ],
      "execution_count": null,
      "outputs": [
        {
          "output_type": "display_data",
          "data": {
            "image/png": "[encoded data removed]",
            "text/plain": [
              "<Figure size 432x288 with 1 Axes>"
            ]
          },
          "metadata": {
            "tags": [],
            "needs_background": "light"
          }
        }
      ]
    },
    {
      "cell_type": "code",
      "metadata": {
        "id": "FECce7g1auRt",
        "outputId": "a0a08209-61b0-4ce5-a7c8-948b1d51b14e",
        "colab": {
          "base_uri": "https://localhost:8080/",
          "height": 295
        }
      },
      "source": [
        "#Plot the Training and Validation loss v/s Epochs\n",
        "\n",
        "plt.plot(history.history['loss'])\n",
        "plt.plot(history.history['val_loss'])\n",
        "plt.title('Model loss')\n",
        "plt.ylabel('Loss')\n",
        "plt.xlabel('Epochs')\n",
        "plt.legend(['train', 'validation'], loc='upper left')\n",
        "plt.show()"
      ],
      "execution_count": null,
      "outputs": [
        {
          "output_type": "display_data",
          "data": {
            "image/png": "[encoded data removed]",
            "text/plain": [
              "<Figure size 432x288 with 1 Axes>"
            ]
          },
          "metadata": {
            "tags": [],
            "needs_background": "light"
          }
        }
      ]
    },
    {
      "cell_type": "code",
      "metadata": {
        "id": "XEsqFLAkawHM",
        "outputId": "e1992b31-0e12-4259-b0ca-413dfe016a90",
        "colab": {
          "base_uri": "https://localhost:8080/",
          "height": 34
        }
      },
      "source": [
        "#Testing the model using the best weights of the model\n",
        "\n",
        "model_test = ResNet18(input_shape = (32, 32, 3), classes = 100)\n",
        "model_test.compile(loss='categorical_crossentropy', optimizer='sgd', metrics=['accuracy'])\n",
        "\n",
        "model_test.load_weights('./ResNet18_SGD_DropOut.h5')\n",
        "loss, acc = model_test.evaluate(x_test,  y_test, verbose=2)\n",
        "\n",
        "predict_y_test_o = model_test.predict(x_test, verbose=0)"
      ],
      "execution_count": null,
      "outputs": [
        {
          "output_type": "stream",
          "text": [
            "313/313 - 2s - loss: 2.3746 - accuracy: 0.4236\n"
          ],
          "name": "stdout"
        }
      ]
    },
    {
      "cell_type": "code",
      "metadata": {
        "id": "qVJsDxM4axvc",
        "outputId": "e34d52de-44b5-41c2-fa4b-6f556f36fec5",
        "colab": {
          "base_uri": "https://localhost:8080/",
          "height": 187
        }
      },
      "source": [
        "# #Precision, recall and accuracy of the model on test data\n",
        "predict_y_test = np.argmax(predict_y_test_o, axis=1)\n",
        "\n",
        "# accuracy: (tp + tn) / (p + n)\n",
        "accuracy = accuracy_score(y_test_o, predict_y_test)\n",
        "print('Accuracy: %f' % accuracy)\n",
        "\n",
        "# precision tp / (tp + fp)\n",
        "precision = precision_score(y_test_o, predict_y_test, average='macro')\n",
        "print('Precision: %f' % precision)\n",
        "\n",
        "# recall: tp / (tp + fn)\n",
        "recall = recall_score(y_test_o, predict_y_test, average='macro')\n",
        "print('Recall: %f' % recall)\n",
        "\n",
        "# Confusion matrix\n",
        "confusion_matrix_ = confusion_matrix(y_test_o, predict_y_test)\n",
        "print(confusion_matrix_)"
      ],
      "execution_count": null,
      "outputs": [
        {
          "output_type": "stream",
          "text": [
            "Accuracy: 0.423600\n",
            "Precision: 0.439352\n",
            "Recall: 0.423600\n",
            "[[69  2  0 ...  0  0  0]\n",
            " [ 0 43  0 ...  0  0  0]\n",
            " [ 0  0 25 ...  1  5  1]\n",
            " ...\n",
            " [ 0  0  0 ... 54  0  0]\n",
            " [ 0  1  6 ...  2 14  2]\n",
            " [ 0  0  0 ...  0  0 42]]\n"
          ],
          "name": "stdout"
        }
      ]
    },
    {
      "cell_type": "code",
      "metadata": {
        "id": "Md648-0Ba0CH",
        "outputId": "d31e09aa-609d-4f42-fc80-8ed5824fde2a",
        "colab": {
          "base_uri": "https://localhost:8080/",
          "height": 271
        }
      },
      "source": [
        "import seaborn as sb\n",
        "heat_map = sb.heatmap(confusion_matrix_)\n",
        "plt.show()"
      ],
      "execution_count": null,
      "outputs": [
        {
          "output_type": "display_data",
          "data": {
            "image/png": "[encoded data removed]",
            "text/plain": [
              "<Figure size 432x288 with 2 Axes>"
            ]
          },
          "metadata": {
            "tags": [],
            "needs_background": "light"
          }
        }
      ]
    }
  ]
}