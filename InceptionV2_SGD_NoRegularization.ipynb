{
  "nbformat": 4,
  "nbformat_minor": 0,
  "metadata": {
    "colab": {
      "name": "InceptionV2_SGD_NoRegularization.ipynb",
      "provenance": [],
      "collapsed_sections": []
    },
    "kernelspec": {
      "name": "python3",
      "display_name": "Python 3"
    },
    "accelerator": "GPU"
  },
  "cells": [
    {
      "cell_type": "markdown",
      "metadata": {
        "id": "fPDk5FvyeGpq"
      },
      "source": [
        "*   Network     : Inception v2\n",
        "*   Optimizer   : SGD\n",
        "*   Regularizer : No regularization\n",
        "\n",
        "Ref for code: https://arxiv.org/pdf/1512.00567v3.pdf"
      ]
    },
    {
      "cell_type": "code",
      "metadata": {
        "id": "HmRS85sLeYrW",
        "outputId": "dacacbd9-219a-4bde-f42e-6440e230b4e6",
        "colab": {
          "base_uri": "https://localhost:8080/",
          "height": 68
        }
      },
      "source": [
        "from __future__ import print_function\n",
        "\n",
        "import keras\n",
        "from keras import optimizers\n",
        "from keras import backend as K\n",
        "from keras import regularizers\n",
        "from keras import callbacks\n",
        "\n",
        "from keras.applications.imagenet_utils import preprocess_input\n",
        "from keras.datasets import cifar100\n",
        "from keras.initializers import glorot_uniform\n",
        "from keras.layers.core import Lambda\n",
        "from keras.layers import Input, Add, Dense, Activation, ZeroPadding2D, BatchNormalization, Flatten, Conv2D, AveragePooling2D, MaxPooling2D, GlobalMaxPooling2D, concatenate\n",
        "from keras.models import Model, load_model, Sequential\n",
        "from keras.preprocessing.image import ImageDataGenerator\n",
        "from keras.utils import layer_utils, data_utils, vis_utils, plot_model #data_utils.get_file #vis_utils.model_to_dot\n",
        "\n",
        "import numpy as np\n",
        "import pydot\n",
        "import scipy.misc\n",
        "import matplotlib.pyplot as plt\n",
        "import tensorflow as tf\n",
        "\n",
        "from IPython.display import SVG\n",
        "from sklearn.model_selection import train_test_split\n",
        "from sklearn.metrics import accuracy_score, precision_score, recall_score, confusion_matrix, classification_report\n",
        "from matplotlib.pyplot import imshow\n",
        "%matplotlib inline\n",
        "\n",
        "import keras.backend as K\n",
        "K.set_image_data_format('channels_last')\n",
        "K.set_learning_phase(1)"
      ],
      "execution_count": 1,
      "outputs": [
        {
          "output_type": "stream",
          "text": [
            "WARNING:tensorflow:From <ipython-input-1-ab9043076e02>:32: set_learning_phase (from tensorflow.python.keras.backend) is deprecated and will be removed after 2020-10-11.\n",
            "Instructions for updating:\n",
            "Simply pass a True/False value to the `training` argument of the `__call__` method of your layer or model.\n"
          ],
          "name": "stdout"
        }
      ]
    },
    {
      "cell_type": "code",
      "metadata": {
        "id": "JYebPi5yhcOg"
      },
      "source": [
        "#Loading cifar100 dataset and dividing into Train, Validation and Test sets\n",
        "\n",
        "(X_train, Y_train), (x_test, y_test_o) = cifar100.load_data()\n",
        "\n",
        "X_train = X_train.astype('float32')\n",
        "x_test = x_test.astype('float32')\n",
        "\n",
        "x_train, x_validation, y_train, y_validation = train_test_split(X_train, Y_train, test_size=0.2, random_state=42)\n",
        "\n",
        "y_train = keras.utils.to_categorical(y_train, 100)\n",
        "y_validation = keras.utils.to_categorical(y_validation, 100)\n",
        "y_test = keras.utils.to_categorical(y_test_o, 100)"
      ],
      "execution_count": 2,
      "outputs": []
    },
    {
      "cell_type": "code",
      "metadata": {
        "id": "NyXytM3ffaUj"
      },
      "source": [
        "weight_decay = 0.0005\n",
        "num_of_classes = 100\n",
        "conv_activation_func = 'elu'\n",
        "\n",
        "l_rate = 0.1\n",
        "batch_size = 128\n",
        "maxepoches = 40\n",
        "lr_decay = 1e-6"
      ],
      "execution_count": 3,
      "outputs": []
    },
    {
      "cell_type": "code",
      "metadata": {
        "id": "uLUiH9bHfL02"
      },
      "source": [
        "def inceptionv2(input):\n",
        "    model = Sequential()\n",
        "\n",
        "    ##### MAIN LAYER #####\n",
        "    main = Conv2D(64, (3, 3), strides=(2,2), padding='same',activation=conv_activation_func)(input)\n",
        "    main = Conv2D(64, (3, 3), strides = (1,1), padding='same', activation=conv_activation_func)(main)\n",
        "    main = Conv2D(64, (3, 3), strides = (1,1), padding='same', activation=conv_activation_func)(main)\n",
        "\n",
        "    main = MaxPooling2D(pool_size=(2, 2))(main)\n",
        "\n",
        "    main = Conv2D(64, (3, 3), strides = (1,1), padding='same', activation=conv_activation_func)(main)\n",
        "    main = Conv2D(64, (3, 3), strides = (2,2), padding='same', activation=conv_activation_func)(main)\n",
        "    main = Conv2D(64, (3, 3), strides = (1,1), padding='same', activation=conv_activation_func)(main)\n",
        "\n",
        "    ######Inception module A#####\n",
        "    main = inception_A(main)\n",
        "    main = inception_A(main)\n",
        "    main = inception_A(main)\n",
        "\n",
        "    ######Inception module B#####\n",
        "    main = inception_B(main)\n",
        "    main = inception_B(main)\n",
        "    main = inception_B(main)\n",
        "    main = inception_B(main)\n",
        "    main = inception_B(main)\n",
        "\n",
        "    ######Inception module C#####\n",
        "    main = inception_C(main)\n",
        "    main = inception_C(main)\n",
        "\n",
        "    main = AveragePooling2D(pool_size=(3, 3))(main)\n",
        "\n",
        "    main = Flatten()(main)\n",
        "    dense = Dense(10, activation='linear')(main)\n",
        "    \n",
        "    output = Dense(num_of_classes, activation='softmax')(dense)\n",
        "    return output"
      ],
      "execution_count": 4,
      "outputs": []
    },
    {
      "cell_type": "code",
      "metadata": {
        "id": "J2Eeq7swgrHL"
      },
      "source": [
        "def inception_A(input):\n",
        "  pll1 = Conv2D(64, (1,1), padding='same', activation=conv_activation_func)(input)\n",
        "  pll1 = Conv2D(64, (3,3), padding='same', activation=conv_activation_func)(pll1)\n",
        "  pll1 = Conv2D(64, (3,3), padding='same', activation=conv_activation_func)(pll1)\n",
        "\n",
        "  pll2 = Conv2D(64, (1,1), padding='same', activation=conv_activation_func)(input)\n",
        "  pll2 = Conv2D(64, (3,3), padding='same', activation=conv_activation_func)(pll2)\n",
        "  \n",
        "  pll3 = MaxPooling2D((3,3), strides=(1,1), padding='same')(input)\n",
        "\n",
        "  pll3 = Conv2D(64, (1,1), padding='same', activation=conv_activation_func)(pll3)\n",
        "  \n",
        "  pll4 = Conv2D(64, (1,1), padding='same', activation=conv_activation_func)(input)\n",
        "\n",
        "  output = keras.layers.concatenate([pll1, pll2, pll3, pll4], axis=3)\n",
        "\n",
        "  return output"
      ],
      "execution_count": 5,
      "outputs": []
    },
    {
      "cell_type": "code",
      "metadata": {
        "id": "RDOTTaQ9hFhW"
      },
      "source": [
        "def inception_B(input):\n",
        "  pll1 = Conv2D(64, (1,1), padding='same', activation=conv_activation_func)(input)\n",
        "  pll1 = Conv2D(64, (1,3), padding='same', activation=conv_activation_func)(pll1)\n",
        "  pll1 = Conv2D(64, (3,1), padding='same', activation=conv_activation_func)(pll1)\n",
        "  pll1 = Conv2D(64, (1,3), padding='same', activation=conv_activation_func)(pll1)\n",
        "  pll1 = Conv2D(64, (3,1), padding='same', activation=conv_activation_func)(pll1)\n",
        "\n",
        "  pll2 = Conv2D(64, (1,1), padding='same', activation=conv_activation_func)(input) \n",
        "  pll2 = Conv2D(64, (1,3), padding='same', activation=conv_activation_func)(pll2)\n",
        "  pll2 = Conv2D(64, (3,1), padding='same', activation=conv_activation_func)(pll2)\n",
        "\n",
        "  pll3 = MaxPooling2D((3,3), strides=(1,1), padding='same')(input)\n",
        "  \n",
        "  pll3 = Conv2D(64, (1,1), padding='same', activation=conv_activation_func)(pll3)\n",
        "\n",
        "  pll4 = Conv2D(64, (1,1), padding='same', activation=conv_activation_func)(input)\n",
        "\n",
        "  output = keras.layers.concatenate([pll1, pll2, pll3, pll4], axis = 3)\n",
        "\n",
        "  return output"
      ],
      "execution_count": 6,
      "outputs": []
    },
    {
      "cell_type": "code",
      "metadata": {
        "id": "j3IImPy0cYp3"
      },
      "source": [
        "def inception_C(input):\n",
        "  pll1 = Conv2D(64, (1,1), padding='same', activation=conv_activation_func)(input)\n",
        "  pll1 = Conv2D(64, (3,3), padding='same', activation=conv_activation_func)(pll1)\n",
        "\n",
        "  pll1_a = Conv2D(64, (1,1), padding='same', activation=conv_activation_func)(pll1)\n",
        "  pll1_b = Conv2D(64, (3,3), padding='same', activation=conv_activation_func)(pll1)\n",
        "\n",
        "  pll2 = Conv2D(64, (1,1), padding='same', activation=conv_activation_func)(input)\n",
        "  \n",
        "  pll2_a = Conv2D(64, (1,3), padding='same', activation=conv_activation_func)(pll2)\n",
        "  pll2_b = Conv2D(64, (3,1), padding='same', activation=conv_activation_func)(pll2)\n",
        "\n",
        "  pll3 = MaxPooling2D((3,3), strides=(1,1), padding='same')(input)\n",
        "  pll3 = Conv2D(64, (1,1), padding='same', activation=conv_activation_func)(pll3)\n",
        "\n",
        "  pll4 = Conv2D(64, (1,1), padding='same', activation=conv_activation_func)(input)\n",
        "\n",
        "  output = concatenate([pll1_a, pll1_b, pll2_a, pll2_b, pll3, pll4], axis=3)\n",
        "  return output"
      ],
      "execution_count": 7,
      "outputs": []
    },
    {
      "cell_type": "code",
      "metadata": {
        "id": "Yw7yLFtKiJbV"
      },
      "source": [
        "#Definition of SGD optimizer\n",
        "sgd = optimizers.SGD(learning_rate=l_rate)#, decay=lr_decay,momentum=0.9, nesterov=True)\n",
        "\n",
        "input = Input(shape=(32, 32, 3))\n",
        "output = inceptionv2(input)\n",
        "\n",
        "model = Model([input], output)\n",
        "model.compile(loss='categorical_crossentropy', optimizer=sgd, metrics=['accuracy'])"
      ],
      "execution_count": 8,
      "outputs": []
    },
    {
      "cell_type": "code",
      "metadata": {
        "id": "M4t2vJA_h2jd"
      },
      "source": [
        "#data augmentation\n",
        "datagen = ImageDataGenerator(\n",
        "    featurewise_center=False,  # set input mean to 0 over the dataset\n",
        "    samplewise_center=False,  # set each sample mean to 0\n",
        "    featurewise_std_normalization=False,  # divide inputs by std of the dataset\n",
        "    samplewise_std_normalization=False,  # divide each input by its std\n",
        "    zca_whitening=False,  # apply ZCA whitening\n",
        "    rotation_range=15,  # randomly rotate images in the range (degrees, 0 to 180)\n",
        "    width_shift_range=0.1,  # randomly shift images horizontally (fraction of total width)\n",
        "    height_shift_range=0.1,  # randomly shift images vertically (fraction of total height)\n",
        "    horizontal_flip=True,  # randomly flip images\n",
        "    vertical_flip=False)  # randomly flip images\n",
        "# (std, mean, and principal components if ZCA whitening is applied).\n",
        "datagen.fit(x_train)"
      ],
      "execution_count": 9,
      "outputs": []
    },
    {
      "cell_type": "code",
      "metadata": {
        "id": "o5TLLzItkx4e",
        "outputId": "29cbcdaf-19e6-4733-adf6-75f29f665ffe",
        "colab": {
          "base_uri": "https://localhost:8080/",
          "height": 1000
        }
      },
      "source": [
        "#Defintion of callbacks with EarlyStopping \n",
        "callback = callbacks.EarlyStopping(monitor='val_loss', patience=10)\n",
        "\n",
        "#Definition of saving the best weights of the model with ModelCheckpoint\n",
        "checkpoint_path = \"checkpoints\"\n",
        "checkpoint = callbacks.ModelCheckpoint(filepath=checkpoint_path, monitor='val_loss', save_best_only=True, save_weights_only=True, verbose=1, mode='min')\n",
        "\n",
        "#Training the model in the training dataset\n",
        "history = model.fit(x_train, y_train, epochs = maxepoches, batch_size = batch_size, validation_data=(x_validation, y_validation), callbacks=[callback, checkpoint])\n",
        "model.save_weights('InceptionV2_SGD_NoRegularization.h5')"
      ],
      "execution_count": 10,
      "outputs": [
        {
          "output_type": "stream",
          "text": [
            "Epoch 1/40\n",
            "313/313 [==============================] - ETA: 0s - loss: 4.4875 - accuracy: 0.0260\n",
            "Epoch 00001: val_loss improved from inf to 4.29057, saving model to checkpoints\n",
            "313/313 [==============================] - 11s 34ms/step - loss: 4.4875 - accuracy: 0.0260 - val_loss: 4.2906 - val_accuracy: 0.0349\n",
            "Epoch 2/40\n",
            "313/313 [==============================] - ETA: 0s - loss: 4.2103 - accuracy: 0.0475\n",
            "Epoch 00002: val_loss improved from 4.29057 to 4.22153, saving model to checkpoints\n",
            "313/313 [==============================] - 10s 31ms/step - loss: 4.2103 - accuracy: 0.0475 - val_loss: 4.2215 - val_accuracy: 0.0506\n",
            "Epoch 3/40\n",
            "311/313 [============================>.] - ETA: 0s - loss: 4.0186 - accuracy: 0.0724\n",
            "Epoch 00003: val_loss improved from 4.22153 to 4.06076, saving model to checkpoints\n",
            "313/313 [==============================] - 10s 31ms/step - loss: 4.0191 - accuracy: 0.0724 - val_loss: 4.0608 - val_accuracy: 0.0697\n",
            "Epoch 4/40\n",
            "313/313 [==============================] - ETA: 0s - loss: 3.8553 - accuracy: 0.1034\n",
            "Epoch 00004: val_loss did not improve from 4.06076\n",
            "313/313 [==============================] - 10s 31ms/step - loss: 3.8553 - accuracy: 0.1034 - val_loss: 4.2720 - val_accuracy: 0.0624\n",
            "Epoch 5/40\n",
            "313/313 [==============================] - ETA: 0s - loss: 3.7269 - accuracy: 0.1222\n",
            "Epoch 00005: val_loss improved from 4.06076 to 3.70208, saving model to checkpoints\n",
            "313/313 [==============================] - 10s 31ms/step - loss: 3.7269 - accuracy: 0.1222 - val_loss: 3.7021 - val_accuracy: 0.1187\n",
            "Epoch 6/40\n",
            "313/313 [==============================] - ETA: 0s - loss: 3.5883 - accuracy: 0.1495\n",
            "Epoch 00006: val_loss improved from 3.70208 to 3.68008, saving model to checkpoints\n",
            "313/313 [==============================] - 10s 32ms/step - loss: 3.5883 - accuracy: 0.1495 - val_loss: 3.6801 - val_accuracy: 0.1252\n",
            "Epoch 7/40\n",
            "313/313 [==============================] - ETA: 0s - loss: 3.4451 - accuracy: 0.1714\n",
            "Epoch 00007: val_loss did not improve from 3.68008\n",
            "313/313 [==============================] - 10s 31ms/step - loss: 3.4451 - accuracy: 0.1714 - val_loss: 3.7352 - val_accuracy: 0.1239\n",
            "Epoch 8/40\n",
            "313/313 [==============================] - ETA: 0s - loss: 3.3294 - accuracy: 0.1922\n",
            "Epoch 00008: val_loss improved from 3.68008 to 3.61629, saving model to checkpoints\n",
            "313/313 [==============================] - 10s 32ms/step - loss: 3.3294 - accuracy: 0.1922 - val_loss: 3.6163 - val_accuracy: 0.1415\n",
            "Epoch 9/40\n",
            "313/313 [==============================] - ETA: 0s - loss: 3.2117 - accuracy: 0.2121\n",
            "Epoch 00009: val_loss did not improve from 3.61629\n",
            "313/313 [==============================] - 10s 31ms/step - loss: 3.2117 - accuracy: 0.2121 - val_loss: 3.7290 - val_accuracy: 0.1484\n",
            "Epoch 10/40\n",
            "313/313 [==============================] - ETA: 0s - loss: 3.1231 - accuracy: 0.2279\n",
            "Epoch 00010: val_loss did not improve from 3.61629\n",
            "313/313 [==============================] - 10s 32ms/step - loss: 3.1231 - accuracy: 0.2279 - val_loss: 3.9131 - val_accuracy: 0.1383\n",
            "Epoch 11/40\n",
            "313/313 [==============================] - ETA: 0s - loss: 3.0311 - accuracy: 0.2438\n",
            "Epoch 00011: val_loss improved from 3.61629 to 3.39458, saving model to checkpoints\n",
            "313/313 [==============================] - 10s 32ms/step - loss: 3.0311 - accuracy: 0.2438 - val_loss: 3.3946 - val_accuracy: 0.2023\n",
            "Epoch 12/40\n",
            "313/313 [==============================] - ETA: 0s - loss: 2.9417 - accuracy: 0.2628\n",
            "Epoch 00012: val_loss improved from 3.39458 to 3.29134, saving model to checkpoints\n",
            "313/313 [==============================] - 10s 32ms/step - loss: 2.9417 - accuracy: 0.2628 - val_loss: 3.2913 - val_accuracy: 0.2053\n",
            "Epoch 13/40\n",
            "313/313 [==============================] - ETA: 0s - loss: 2.8725 - accuracy: 0.2715\n",
            "Epoch 00013: val_loss improved from 3.29134 to 3.25014, saving model to checkpoints\n",
            "313/313 [==============================] - 10s 32ms/step - loss: 2.8725 - accuracy: 0.2715 - val_loss: 3.2501 - val_accuracy: 0.2197\n",
            "Epoch 14/40\n",
            "313/313 [==============================] - ETA: 0s - loss: 2.7967 - accuracy: 0.2867\n",
            "Epoch 00014: val_loss did not improve from 3.25014\n",
            "313/313 [==============================] - 10s 32ms/step - loss: 2.7967 - accuracy: 0.2867 - val_loss: 3.4729 - val_accuracy: 0.2038\n",
            "Epoch 15/40\n",
            "313/313 [==============================] - ETA: 0s - loss: 2.7423 - accuracy: 0.2961\n",
            "Epoch 00015: val_loss improved from 3.25014 to 3.20469, saving model to checkpoints\n",
            "313/313 [==============================] - 10s 32ms/step - loss: 2.7423 - accuracy: 0.2961 - val_loss: 3.2047 - val_accuracy: 0.2215\n",
            "Epoch 16/40\n",
            "313/313 [==============================] - ETA: 0s - loss: 2.6703 - accuracy: 0.3119\n",
            "Epoch 00016: val_loss improved from 3.20469 to 3.13477, saving model to checkpoints\n",
            "313/313 [==============================] - 10s 32ms/step - loss: 2.6703 - accuracy: 0.3119 - val_loss: 3.1348 - val_accuracy: 0.2420\n",
            "Epoch 17/40\n",
            "313/313 [==============================] - ETA: 0s - loss: 2.6009 - accuracy: 0.3275\n",
            "Epoch 00017: val_loss did not improve from 3.13477\n",
            "313/313 [==============================] - 10s 32ms/step - loss: 2.6009 - accuracy: 0.3275 - val_loss: 3.3789 - val_accuracy: 0.2092\n",
            "Epoch 18/40\n",
            "313/313 [==============================] - ETA: 0s - loss: 2.5688 - accuracy: 0.3344\n",
            "Epoch 00018: val_loss did not improve from 3.13477\n",
            "313/313 [==============================] - 10s 32ms/step - loss: 2.5688 - accuracy: 0.3344 - val_loss: 3.2103 - val_accuracy: 0.2404\n",
            "Epoch 19/40\n",
            "313/313 [==============================] - ETA: 0s - loss: 2.5222 - accuracy: 0.3410\n",
            "Epoch 00019: val_loss did not improve from 3.13477\n",
            "313/313 [==============================] - 10s 32ms/step - loss: 2.5222 - accuracy: 0.3410 - val_loss: 3.5234 - val_accuracy: 0.1841\n",
            "Epoch 20/40\n",
            "313/313 [==============================] - ETA: 0s - loss: 2.4746 - accuracy: 0.3489\n",
            "Epoch 00020: val_loss did not improve from 3.13477\n",
            "313/313 [==============================] - 10s 32ms/step - loss: 2.4746 - accuracy: 0.3489 - val_loss: 3.2152 - val_accuracy: 0.2447\n",
            "Epoch 21/40\n",
            "313/313 [==============================] - ETA: 0s - loss: 2.4389 - accuracy: 0.3611\n",
            "Epoch 00021: val_loss did not improve from 3.13477\n",
            "313/313 [==============================] - 10s 32ms/step - loss: 2.4389 - accuracy: 0.3611 - val_loss: 3.2752 - val_accuracy: 0.2325\n",
            "Epoch 22/40\n",
            "313/313 [==============================] - ETA: 0s - loss: 2.3861 - accuracy: 0.3695\n",
            "Epoch 00022: val_loss did not improve from 3.13477\n",
            "313/313 [==============================] - 10s 32ms/step - loss: 2.3861 - accuracy: 0.3695 - val_loss: 3.1402 - val_accuracy: 0.2509\n",
            "Epoch 23/40\n",
            "313/313 [==============================] - ETA: 0s - loss: 2.3576 - accuracy: 0.3754\n",
            "Epoch 00023: val_loss did not improve from 3.13477\n",
            "313/313 [==============================] - 10s 32ms/step - loss: 2.3576 - accuracy: 0.3754 - val_loss: 3.1569 - val_accuracy: 0.2531\n",
            "Epoch 24/40\n",
            "313/313 [==============================] - ETA: 0s - loss: 2.3310 - accuracy: 0.3819\n",
            "Epoch 00024: val_loss improved from 3.13477 to 3.08567, saving model to checkpoints\n",
            "313/313 [==============================] - 10s 33ms/step - loss: 2.3310 - accuracy: 0.3819 - val_loss: 3.0857 - val_accuracy: 0.2682\n",
            "Epoch 25/40\n",
            "313/313 [==============================] - ETA: 0s - loss: 2.2858 - accuracy: 0.3945\n",
            "Epoch 00025: val_loss improved from 3.08567 to 3.03241, saving model to checkpoints\n",
            "313/313 [==============================] - 10s 33ms/step - loss: 2.2858 - accuracy: 0.3945 - val_loss: 3.0324 - val_accuracy: 0.2725\n",
            "Epoch 26/40\n",
            "313/313 [==============================] - ETA: 0s - loss: 2.2537 - accuracy: 0.3959\n",
            "Epoch 00026: val_loss did not improve from 3.03241\n",
            "313/313 [==============================] - 10s 32ms/step - loss: 2.2537 - accuracy: 0.3959 - val_loss: 3.0534 - val_accuracy: 0.2676\n",
            "Epoch 27/40\n",
            "313/313 [==============================] - ETA: 0s - loss: 2.2181 - accuracy: 0.4071\n",
            "Epoch 00027: val_loss did not improve from 3.03241\n",
            "313/313 [==============================] - 10s 32ms/step - loss: 2.2181 - accuracy: 0.4071 - val_loss: 3.2893 - val_accuracy: 0.2394\n",
            "Epoch 28/40\n",
            "313/313 [==============================] - ETA: 0s - loss: 2.1968 - accuracy: 0.4111\n",
            "Epoch 00028: val_loss did not improve from 3.03241\n",
            "313/313 [==============================] - 10s 32ms/step - loss: 2.1968 - accuracy: 0.4111 - val_loss: 3.2539 - val_accuracy: 0.2400\n",
            "Epoch 29/40\n",
            "313/313 [==============================] - ETA: 0s - loss: 2.1554 - accuracy: 0.4195\n",
            "Epoch 00029: val_loss did not improve from 3.03241\n",
            "313/313 [==============================] - 10s 32ms/step - loss: 2.1554 - accuracy: 0.4195 - val_loss: 3.2342 - val_accuracy: 0.2481\n",
            "Epoch 30/40\n",
            "313/313 [==============================] - ETA: 0s - loss: 2.1280 - accuracy: 0.4241\n",
            "Epoch 00030: val_loss did not improve from 3.03241\n",
            "313/313 [==============================] - 10s 33ms/step - loss: 2.1280 - accuracy: 0.4241 - val_loss: 3.4130 - val_accuracy: 0.2348\n",
            "Epoch 31/40\n",
            "313/313 [==============================] - ETA: 0s - loss: 2.1183 - accuracy: 0.4269\n",
            "Epoch 00031: val_loss did not improve from 3.03241\n",
            "313/313 [==============================] - 10s 32ms/step - loss: 2.1183 - accuracy: 0.4269 - val_loss: 3.1402 - val_accuracy: 0.2692\n",
            "Epoch 32/40\n",
            "313/313 [==============================] - ETA: 0s - loss: 2.0821 - accuracy: 0.4392\n",
            "Epoch 00032: val_loss did not improve from 3.03241\n",
            "313/313 [==============================] - 10s 32ms/step - loss: 2.0821 - accuracy: 0.4392 - val_loss: 3.3317 - val_accuracy: 0.2634\n",
            "Epoch 33/40\n",
            "313/313 [==============================] - ETA: 0s - loss: 2.0573 - accuracy: 0.4395\n",
            "Epoch 00033: val_loss did not improve from 3.03241\n",
            "313/313 [==============================] - 10s 32ms/step - loss: 2.0573 - accuracy: 0.4395 - val_loss: 3.2049 - val_accuracy: 0.2637\n",
            "Epoch 34/40\n",
            "313/313 [==============================] - ETA: 0s - loss: 2.0414 - accuracy: 0.4433\n",
            "Epoch 00034: val_loss did not improve from 3.03241\n",
            "313/313 [==============================] - 10s 32ms/step - loss: 2.0414 - accuracy: 0.4433 - val_loss: 3.1974 - val_accuracy: 0.2746\n",
            "Epoch 35/40\n",
            "313/313 [==============================] - ETA: 0s - loss: 2.0100 - accuracy: 0.4504\n",
            "Epoch 00035: val_loss did not improve from 3.03241\n",
            "313/313 [==============================] - 10s 32ms/step - loss: 2.0100 - accuracy: 0.4504 - val_loss: 3.4227 - val_accuracy: 0.2555\n"
          ],
          "name": "stdout"
        }
      ]
    },
    {
      "cell_type": "code",
      "metadata": {
        "id": "-sxVR4QDlTwi",
        "outputId": "7930146e-affb-4ed2-9b18-55950261609f",
        "colab": {
          "base_uri": "https://localhost:8080/",
          "height": 295
        }
      },
      "source": [
        "#Plot the Training and Validation accuracy v/s Epochs\n",
        "#history.keys() = ['accuracy', 'loss', 'val_accuracy', 'val_loss']\n",
        "\n",
        "plt.plot(history.history['accuracy'])\n",
        "plt.plot(history.history['val_accuracy'])\n",
        "plt.title('Model accuracy')\n",
        "plt.ylabel('Accuracy')\n",
        "plt.xlabel('Epochs')\n",
        "plt.legend(['train', 'validation'], loc='upper left')\n",
        "plt.show()"
      ],
      "execution_count": 11,
      "outputs": [
        {
          "output_type": "display_data",
          "data": {
            "image/png": "[encoded data removed]",
            "text/plain": [
              "<Figure size 432x288 with 1 Axes>"
            ]
          },
          "metadata": {
            "tags": [],
            "needs_background": "light"
          }
        }
      ]
    },
    {
      "cell_type": "code",
      "metadata": {
        "id": "pSP4eNxMlVjD",
        "outputId": "74f61588-1d67-48c6-de62-5437286e00dd",
        "colab": {
          "base_uri": "https://localhost:8080/",
          "height": 295
        }
      },
      "source": [
        "#Plot the Training and Validation loss v/s Epochs\n",
        "\n",
        "plt.plot(history.history['loss'])\n",
        "plt.plot(history.history['val_loss'])\n",
        "plt.title('Model loss')\n",
        "plt.ylabel('Loss')\n",
        "plt.xlabel('Epochs')\n",
        "plt.legend(['train', 'validation'], loc='upper left')\n",
        "plt.show()"
      ],
      "execution_count": 12,
      "outputs": [
        {
          "output_type": "display_data",
          "data": {
            "image/png": "[encoded data removed]",
            "text/plain": [
              "<Figure size 432x288 with 1 Axes>"
            ]
          },
          "metadata": {
            "tags": [],
            "needs_background": "light"
          }
        }
      ]
    },
    {
      "cell_type": "code",
      "metadata": {
        "id": "6z5sGqLXlXMT",
        "outputId": "7e30c37a-4158-4120-f717-9d0be80bed9a",
        "colab": {
          "base_uri": "https://localhost:8080/",
          "height": 34
        }
      },
      "source": [
        "#Testing the model using the best weights of the model\n",
        "\n",
        "model.load_weights('./InceptionV2_SGD_NoRegularization.h5')\n",
        "loss, acc = model.evaluate(x_test,  y_test, verbose=2)\n",
        "\n",
        "predict_y_test_o = model.predict(x_test, verbose=0)"
      ],
      "execution_count": 13,
      "outputs": [
        {
          "output_type": "stream",
          "text": [
            "313/313 - 2s - loss: 3.4093 - accuracy: 0.2559\n"
          ],
          "name": "stdout"
        }
      ]
    },
    {
      "cell_type": "code",
      "metadata": {
        "id": "jXv9cK6ZlY6T",
        "outputId": "d27f8269-c02b-4cb1-f95b-d4e7aea61eb8",
        "colab": {
          "base_uri": "https://localhost:8080/",
          "height": 241
        }
      },
      "source": [
        "# #Precision, recall and accuracy of the model on test data\n",
        "predict_y_test = np.argmax(predict_y_test_o, axis=1)\n",
        "\n",
        "# accuracy: (tp + tn) / (p + n)\n",
        "accuracy = accuracy_score(y_test_o, predict_y_test)\n",
        "print('Accuracy: %f' % accuracy)\n",
        "\n",
        "# precision tp / (tp + fp)\n",
        "precision = precision_score(y_test_o, predict_y_test, average='macro')\n",
        "print('Precision: %f' % precision)\n",
        "\n",
        "# recall: tp / (tp + fn)\n",
        "recall = recall_score(y_test_o, predict_y_test, average='macro')\n",
        "print('Recall: %f' % recall)\n",
        "\n",
        "# Confusion matrix\n",
        "confusion_matrix_ = confusion_matrix(y_test_o, predict_y_test)\n",
        "print(confusion_matrix_)"
      ],
      "execution_count": 14,
      "outputs": [
        {
          "output_type": "stream",
          "text": [
            "Accuracy: 0.255900\n",
            "Precision: 0.282296\n",
            "Recall: 0.255900\n",
            "[[62  0  0 ...  0  0  0]\n",
            " [ 7 25  1 ...  1  0  0]\n",
            " [ 1  1 20 ...  2  2  1]\n",
            " ...\n",
            " [ 0  0  1 ... 16  0  1]\n",
            " [ 1  1  8 ...  3  3  1]\n",
            " [ 0  0  0 ...  0  0 19]]\n"
          ],
          "name": "stdout"
        },
        {
          "output_type": "stream",
          "text": [
            "/usr/local/lib/python3.6/dist-packages/sklearn/metrics/_classification.py:1272: UndefinedMetricWarning: Precision is ill-defined and being set to 0.0 in labels with no predicted samples. Use `zero_division` parameter to control this behavior.\n",
            "  _warn_prf(average, modifier, msg_start, len(result))\n"
          ],
          "name": "stderr"
        }
      ]
    },
    {
      "cell_type": "code",
      "metadata": {
        "id": "AePqrRUglanv",
        "outputId": "870979a9-f5ce-47bd-82bb-12f4924aa8b4",
        "colab": {
          "base_uri": "https://localhost:8080/",
          "height": 271
        }
      },
      "source": [
        "import seaborn as sb\n",
        "heat_map = sb.heatmap(confusion_matrix_)\n",
        "plt.show()"
      ],
      "execution_count": 15,
      "outputs": [
        {
          "output_type": "display_data",
          "data": {
            "image/png": "[encoded data removed]",
            "text/plain": [
              "<Figure size 432x288 with 2 Axes>"
            ]
          },
          "metadata": {
            "tags": [],
            "needs_background": "light"
          }
        }
      ]
    }
  ]
}