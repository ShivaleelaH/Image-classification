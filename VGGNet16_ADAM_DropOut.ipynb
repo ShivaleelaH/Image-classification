{
  "nbformat": 4,
  "nbformat_minor": 0,
  "metadata": {
    "colab": {
      "name": "VGGNet16_ADAM_DropOut.ipynb",
      "provenance": [],
      "collapsed_sections": []
    },
    "kernelspec": {
      "name": "python3",
      "display_name": "Python 3"
    },
    "accelerator": "GPU"
  },
  "cells": [
    {
      "cell_type": "markdown",
      "metadata": {
        "id": "Nxu2BPs53Jua"
      },
      "source": [
        "*   Network     : VGG16\n",
        "*   Optimizer   : ADAM\n",
        "*   Regularizer : Dropout\n",
        "\n",
        "Ref for code: https://github.com/geifmany/cifar-vgg/blob/master/cifar100vgg.py"
      ]
    },
    {
      "cell_type": "code",
      "metadata": {
        "id": "FkX-RMod3KCz"
      },
      "source": [
        "from __future__ import print_function\n",
        "\n",
        "import keras\n",
        "from keras import optimizers\n",
        "from keras import backend as K\n",
        "from keras import regularizers\n",
        "from keras import callbacks\n",
        "\n",
        "from keras.datasets import cifar100\n",
        "from keras.layers.core import Lambda\n",
        "from keras.layers import Dense, Dropout, Activation, Flatten, Conv2D, MaxPooling2D, BatchNormalization\n",
        "from keras.models import Sequential\n",
        "from keras.preprocessing.image import ImageDataGenerator\n",
        "\n",
        "from sklearn.model_selection import train_test_split\n",
        "from sklearn.metrics import accuracy_score, precision_score, recall_score, confusion_matrix, classification_report\n",
        "\n",
        "import numpy as np\n",
        "import matplotlib.pyplot as plt"
      ],
      "execution_count": null,
      "outputs": []
    },
    {
      "cell_type": "code",
      "metadata": {
        "id": "WTGGA_1Q3UPY"
      },
      "source": [
        "#Loading cifar100 dataset and dividing into Train, Validation and Test sets\n",
        "\n",
        "(X_train, Y_train), (x_test, y_test_o) = cifar100.load_data()\n",
        "\n",
        "X_train = X_train.astype('float32')\n",
        "x_test = x_test.astype('float32')\n",
        "\n",
        "x_train, x_validation, y_train, y_validation = train_test_split(X_train, Y_train, test_size=0.2, random_state=42)\n",
        "\n",
        "y_train = keras.utils.to_categorical(y_train, 100)\n",
        "y_validation = keras.utils.to_categorical(y_validation, 100)\n",
        "y_test = keras.utils.to_categorical(y_test_o, 100)"
      ],
      "execution_count": null,
      "outputs": []
    },
    {
      "cell_type": "code",
      "metadata": {
        "id": "AZg6ThII3WC3"
      },
      "source": [
        "#Definition of hyper parameters and other characteristics of the network like the activation functions\n",
        "\n",
        "num_classes = 100\n",
        "weight_decay = 0.0005\n",
        "x_shape = [32,32,3]\n",
        "\n",
        "conv_activation_func = 'elu'\n",
        "dense_activation_func = 'elu'\n",
        "ouput_activation_func = 'softmax'\n",
        "\n",
        "batch_size = 128\n",
        "maxepoches = 300\n",
        "l_rate = 0.00005\n",
        "# lr_decay = 1e-6\n",
        "# lr_drop = 20"
      ],
      "execution_count": null,
      "outputs": []
    },
    {
      "cell_type": "code",
      "metadata": {
        "id": "8sfJzN_v3YJP"
      },
      "source": [
        "#Model definition of VGG16\n",
        "def createModel():\n",
        "  model = Sequential()\n",
        "  weight_decay = 0.0005 #Hyper parameter\n",
        "\n",
        "  model.add(Conv2D(64, (3, 3), padding='same', input_shape=x_shape))\n",
        "  model.add(Activation(conv_activation_func))\n",
        "\n",
        "  model.add(Conv2D(64, (3, 3), padding='same'))\n",
        "  model.add(Activation(conv_activation_func))\n",
        "\n",
        "  model.add(MaxPooling2D(pool_size=(2, 2), strides=2))\n",
        "\n",
        "  model.add(Dropout(0.2))\n",
        "\n",
        "  model.add(Conv2D(128, (3, 3), padding='same'))\n",
        "  model.add(Activation(conv_activation_func))\n",
        "\n",
        "  model.add(Conv2D(128, (3, 3), padding='same'))\n",
        "  model.add(Activation(conv_activation_func))\n",
        "\n",
        "  model.add(MaxPooling2D(pool_size=(2, 2), strides=2))\n",
        "\n",
        "  # model.add(Dropout(0.2))\n",
        "\n",
        "  model.add(Conv2D(256, (3, 3), padding='same'))\n",
        "  model.add(Activation(conv_activation_func))\n",
        "\n",
        "  model.add(Conv2D(256, (3, 3), padding='same'))\n",
        "  model.add(Activation(conv_activation_func))\n",
        "\n",
        "  model.add(Conv2D(256, (3, 3), padding='same'))\n",
        "  model.add(Activation(conv_activation_func))\n",
        "\n",
        "  model.add(MaxPooling2D(pool_size=(2, 2), strides=2))\n",
        "\n",
        "  # model.add(Dropout(0.2))\n",
        "\n",
        "  model.add(Conv2D(512, (3, 3), padding='same'))\n",
        "  model.add(Activation(conv_activation_func))\n",
        "\n",
        "  model.add(Conv2D(512, (3, 3), padding='same'))\n",
        "  model.add(Activation(conv_activation_func))\n",
        "\n",
        "  model.add(Conv2D(512, (3, 3), padding='same'))\n",
        "  model.add(Activation(conv_activation_func))\n",
        "\n",
        "  model.add(MaxPooling2D(pool_size=(2, 2), strides=2))\n",
        "\n",
        "  # model.add(Dropout(0.2))\n",
        "\n",
        "  # model.add(Conv2D(512, (3, 3), padding='same'))\n",
        "  # model.add(Activation(conv_activation_func))\n",
        "\n",
        "  # model.add(Conv2D(512, (3, 3), padding='same'))\n",
        "  # model.add(Activation(conv_activation_func))\n",
        "\n",
        "  # model.add(Conv2D(512, (3, 3), padding='same'))\n",
        "  # model.add(Activation(conv_activation_func))\n",
        "\n",
        "  # model.add(MaxPooling2D(pool_size=(2, 2), strides=2))\n",
        "\n",
        "  # model.add(Dropout(0.2))\n",
        "\n",
        "  model.add(Flatten())\n",
        "\n",
        "  model.add(Dense(512))\n",
        "  model.add(Activation(dense_activation_func))\n",
        "\n",
        "  model.add(Dense(512))\n",
        "  model.add(Activation(dense_activation_func))\n",
        "\n",
        "  model.add(Dense(num_classes))\n",
        "  model.add(Activation(ouput_activation_func))\n",
        "\n",
        "  #Definition of ADAM optimizer\n",
        "  adam = optimizers.Adam(learning_rate=l_rate, clipnorm=1.0)\n",
        "\n",
        "  #Compiling the model\n",
        "  model.compile(loss='categorical_crossentropy', optimizer=adam, metrics=['accuracy'])\n",
        "\n",
        "  return model"
      ],
      "execution_count": null,
      "outputs": []
    },
    {
      "cell_type": "code",
      "metadata": {
        "id": "C7_2yDBO3fh_"
      },
      "source": [
        "#data augmentation\n",
        "datagen = ImageDataGenerator(\n",
        "    featurewise_center=False,  # set input mean to 0 over the dataset\n",
        "    samplewise_center=False,  # set each sample mean to 0\n",
        "    featurewise_std_normalization=False,  # divide inputs by std of the dataset\n",
        "    samplewise_std_normalization=False,  # divide each input by its std\n",
        "    zca_whitening=False,  # apply ZCA whitening\n",
        "    rotation_range=15,  # randomly rotate images in the range (degrees, 0 to 180)\n",
        "    width_shift_range=0.1,  # randomly shift images horizontally (fraction of total width)\n",
        "    height_shift_range=0.1,  # randomly shift images vertically (fraction of total height)\n",
        "    horizontal_flip=True,  # randomly flip images\n",
        "    vertical_flip=False)  # randomly flip images\n",
        "# (std, mean, and principal components if ZCA whitening is applied).\n",
        "datagen.fit(x_train)"
      ],
      "execution_count": null,
      "outputs": []
    },
    {
      "cell_type": "code",
      "metadata": {
        "id": "_yqIs8pQ3iYP"
      },
      "source": [
        "#Creating an instance of the model\n",
        "\n",
        "model = createModel()"
      ],
      "execution_count": null,
      "outputs": []
    },
    {
      "cell_type": "code",
      "metadata": {
        "id": "CAccn7_S3kkD"
      },
      "source": [
        "#Defintion of callbacks with EarlyStopping \n",
        "\n",
        "callback = callbacks.EarlyStopping(monitor='val_loss', patience=10)"
      ],
      "execution_count": null,
      "outputs": []
    },
    {
      "cell_type": "code",
      "metadata": {
        "id": "UQ3Fycf03m1M"
      },
      "source": [
        "#Definition of saving the best weights of the model with ModelCheckpoint\n",
        "\n",
        "checkpoint_path = \"checkpoints/VGGNet16_ADAM_DropOut\"\n",
        "checkpoint = callbacks.ModelCheckpoint(filepath=checkpoint_path, monitor='val_loss', save_best_only=True, save_weights_only=True, verbose=1, mode='min')"
      ],
      "execution_count": null,
      "outputs": []
    },
    {
      "cell_type": "code",
      "metadata": {
        "id": "TeaJ2jUn3mud",
        "outputId": "fa799ba7-01e8-479e-a425-c3a8b0d7ba8a",
        "colab": {
          "base_uri": "https://localhost:8080/",
          "height": 1000
        }
      },
      "source": [
        "#Training the model in the training dataset\n",
        "\n",
        "history = model.fit(datagen.flow(x_train, y_train,\n",
        "                                         batch_size=batch_size),\n",
        "                            steps_per_epoch=x_train.shape[0] // batch_size,\n",
        "                            epochs=maxepoches,\n",
        "                            validation_data=(x_validation, y_validation),callbacks=[callback, checkpoint],verbose=2)\n",
        "\n",
        "# history = model.fit(x_train, y_train, steps_per_epoch=x_train.shape[0] // batch_size, epochs=maxepoches, validation_data=(x_validation, y_validation), callbacks=[callback, checkpoint])\n",
        "model.save_weights('VGGNet16_ADAM_DropOut.h5')"
      ],
      "execution_count": null,
      "outputs": [
        {
          "output_type": "stream",
          "text": [
            "Epoch 1/300\n",
            "\n",
            "Epoch 00001: val_loss improved from inf to 3.58748, saving model to checkpoints/VGGNet16_ADAM_DropOut\n",
            "312/312 - 27s - loss: 3.9424 - accuracy: 0.1055 - val_loss: 3.5875 - val_accuracy: 0.1619\n",
            "Epoch 2/300\n",
            "\n",
            "Epoch 00002: val_loss improved from 3.58748 to 3.28831, saving model to checkpoints/VGGNet16_ADAM_DropOut\n",
            "312/312 - 27s - loss: 3.3525 - accuracy: 0.1968 - val_loss: 3.2883 - val_accuracy: 0.2052\n",
            "Epoch 3/300\n",
            "\n",
            "Epoch 00003: val_loss improved from 3.28831 to 2.97988, saving model to checkpoints/VGGNet16_ADAM_DropOut\n",
            "312/312 - 27s - loss: 3.0576 - accuracy: 0.2493 - val_loss: 2.9799 - val_accuracy: 0.2703\n",
            "Epoch 4/300\n",
            "\n",
            "Epoch 00004: val_loss improved from 2.97988 to 2.93835, saving model to checkpoints/VGGNet16_ADAM_DropOut\n",
            "312/312 - 27s - loss: 2.8369 - accuracy: 0.2925 - val_loss: 2.9383 - val_accuracy: 0.2769\n",
            "Epoch 5/300\n",
            "\n",
            "Epoch 00005: val_loss improved from 2.93835 to 2.77207, saving model to checkpoints/VGGNet16_ADAM_DropOut\n",
            "312/312 - 27s - loss: 2.6551 - accuracy: 0.3291 - val_loss: 2.7721 - val_accuracy: 0.3104\n",
            "Epoch 6/300\n",
            "\n",
            "Epoch 00006: val_loss did not improve from 2.77207\n",
            "312/312 - 26s - loss: 2.4993 - accuracy: 0.3613 - val_loss: 2.8269 - val_accuracy: 0.3092\n",
            "Epoch 7/300\n",
            "\n",
            "Epoch 00007: val_loss improved from 2.77207 to 2.70848, saving model to checkpoints/VGGNet16_ADAM_DropOut\n",
            "312/312 - 26s - loss: 2.3511 - accuracy: 0.3932 - val_loss: 2.7085 - val_accuracy: 0.3297\n",
            "Epoch 8/300\n",
            "\n",
            "Epoch 00008: val_loss improved from 2.70848 to 2.64454, saving model to checkpoints/VGGNet16_ADAM_DropOut\n",
            "312/312 - 26s - loss: 2.2275 - accuracy: 0.4173 - val_loss: 2.6445 - val_accuracy: 0.3483\n",
            "Epoch 9/300\n",
            "\n",
            "Epoch 00009: val_loss improved from 2.64454 to 2.56521, saving model to checkpoints/VGGNet16_ADAM_DropOut\n",
            "312/312 - 27s - loss: 2.1021 - accuracy: 0.4456 - val_loss: 2.5652 - val_accuracy: 0.3606\n",
            "Epoch 10/300\n",
            "\n",
            "Epoch 00010: val_loss improved from 2.56521 to 2.43416, saving model to checkpoints/VGGNet16_ADAM_DropOut\n",
            "312/312 - 26s - loss: 1.9978 - accuracy: 0.4687 - val_loss: 2.4342 - val_accuracy: 0.3836\n",
            "Epoch 11/300\n",
            "\n",
            "Epoch 00011: val_loss improved from 2.43416 to 2.33987, saving model to checkpoints/VGGNet16_ADAM_DropOut\n",
            "312/312 - 27s - loss: 1.8982 - accuracy: 0.4917 - val_loss: 2.3399 - val_accuracy: 0.4083\n",
            "Epoch 12/300\n",
            "\n",
            "Epoch 00012: val_loss did not improve from 2.33987\n",
            "312/312 - 26s - loss: 1.8038 - accuracy: 0.5146 - val_loss: 2.4373 - val_accuracy: 0.3951\n",
            "Epoch 13/300\n",
            "\n",
            "Epoch 00013: val_loss did not improve from 2.33987\n",
            "312/312 - 26s - loss: 1.7082 - accuracy: 0.5360 - val_loss: 2.3715 - val_accuracy: 0.4027\n",
            "Epoch 14/300\n",
            "\n",
            "Epoch 00014: val_loss did not improve from 2.33987\n",
            "312/312 - 26s - loss: 1.6130 - accuracy: 0.5591 - val_loss: 2.4024 - val_accuracy: 0.4061\n",
            "Epoch 15/300\n",
            "\n",
            "Epoch 00015: val_loss improved from 2.33987 to 2.33261, saving model to checkpoints/VGGNet16_ADAM_DropOut\n",
            "312/312 - 26s - loss: 1.5397 - accuracy: 0.5742 - val_loss: 2.3326 - val_accuracy: 0.4186\n",
            "Epoch 16/300\n",
            "\n",
            "Epoch 00016: val_loss improved from 2.33261 to 2.23632, saving model to checkpoints/VGGNet16_ADAM_DropOut\n",
            "312/312 - 27s - loss: 1.4520 - accuracy: 0.5951 - val_loss: 2.2363 - val_accuracy: 0.4439\n",
            "Epoch 17/300\n",
            "\n",
            "Epoch 00017: val_loss did not improve from 2.23632\n",
            "312/312 - 26s - loss: 1.3723 - accuracy: 0.6179 - val_loss: 2.3240 - val_accuracy: 0.4307\n",
            "Epoch 18/300\n",
            "\n",
            "Epoch 00018: val_loss did not improve from 2.23632\n",
            "312/312 - 26s - loss: 1.2956 - accuracy: 0.6362 - val_loss: 2.3634 - val_accuracy: 0.4284\n",
            "Epoch 19/300\n",
            "\n",
            "Epoch 00019: val_loss did not improve from 2.23632\n",
            "312/312 - 26s - loss: 1.2169 - accuracy: 0.6539 - val_loss: 2.4537 - val_accuracy: 0.4218\n",
            "Epoch 20/300\n",
            "\n",
            "Epoch 00020: val_loss did not improve from 2.23632\n",
            "312/312 - 26s - loss: 1.1533 - accuracy: 0.6721 - val_loss: 2.4938 - val_accuracy: 0.4139\n",
            "Epoch 21/300\n",
            "\n",
            "Epoch 00021: val_loss did not improve from 2.23632\n",
            "312/312 - 26s - loss: 1.0884 - accuracy: 0.6880 - val_loss: 2.4888 - val_accuracy: 0.4200\n",
            "Epoch 22/300\n",
            "\n",
            "Epoch 00022: val_loss did not improve from 2.23632\n",
            "312/312 - 26s - loss: 1.0132 - accuracy: 0.7067 - val_loss: 2.5042 - val_accuracy: 0.4259\n",
            "Epoch 23/300\n",
            "\n",
            "Epoch 00023: val_loss did not improve from 2.23632\n",
            "312/312 - 26s - loss: 0.9554 - accuracy: 0.7235 - val_loss: 2.4837 - val_accuracy: 0.4355\n",
            "Epoch 24/300\n",
            "\n",
            "Epoch 00024: val_loss did not improve from 2.23632\n",
            "312/312 - 26s - loss: 0.9025 - accuracy: 0.7359 - val_loss: 2.5569 - val_accuracy: 0.4275\n",
            "Epoch 25/300\n",
            "\n",
            "Epoch 00025: val_loss did not improve from 2.23632\n",
            "312/312 - 26s - loss: 0.8415 - accuracy: 0.7513 - val_loss: 2.5899 - val_accuracy: 0.4335\n",
            "Epoch 26/300\n",
            "\n",
            "Epoch 00026: val_loss did not improve from 2.23632\n",
            "312/312 - 26s - loss: 0.7960 - accuracy: 0.7648 - val_loss: 2.6328 - val_accuracy: 0.4312\n"
          ],
          "name": "stdout"
        }
      ]
    },
    {
      "cell_type": "code",
      "metadata": {
        "id": "GfgBAym73mn0",
        "outputId": "0196e593-3ff2-4b41-8626-33583c9051f3",
        "colab": {
          "base_uri": "https://localhost:8080/",
          "height": 295
        }
      },
      "source": [
        "#Plot the Training and Validation accuracy v/s Epochs\n",
        "#history.keys() = ['accuracy', 'loss', 'val_accuracy', 'val_loss']\n",
        "\n",
        "plt.plot(history.history['accuracy'])\n",
        "plt.plot(history.history['val_accuracy'])\n",
        "plt.title('Model accuracy')\n",
        "plt.ylabel('Accuracy')\n",
        "plt.xlabel('Epochs')\n",
        "plt.legend(['train', 'validation'], loc='upper left')\n",
        "plt.show()"
      ],
      "execution_count": null,
      "outputs": [
        {
          "output_type": "display_data",
          "data": {
            "image/png": "[encoded data removed]",
            "text/plain": [
              "<Figure size 432x288 with 1 Axes>"
            ]
          },
          "metadata": {
            "tags": [],
            "needs_background": "light"
          }
        }
      ]
    },
    {
      "cell_type": "code",
      "metadata": {
        "id": "Ra59IJ1W4aW_",
        "outputId": "9c08cae0-c1a6-40f9-dfcd-2e9d06bff08f",
        "colab": {
          "base_uri": "https://localhost:8080/",
          "height": 295
        }
      },
      "source": [
        "#Plot the Training and Validation loss v/s Epochs\n",
        "\n",
        "plt.plot(history.history['loss'])\n",
        "plt.plot(history.history['val_loss'])\n",
        "plt.title('Model loss')\n",
        "plt.ylabel('Loss')\n",
        "plt.xlabel('Epochs')\n",
        "plt.legend(['train', 'validation'], loc='upper left')\n",
        "plt.show()"
      ],
      "execution_count": null,
      "outputs": [
        {
          "output_type": "display_data",
          "data": {
            "image/png": "[encoded data removed]",
            "text/plain": [
              "<Figure size 432x288 with 1 Axes>"
            ]
          },
          "metadata": {
            "tags": [],
            "needs_background": "light"
          }
        }
      ]
    },
    {
      "cell_type": "code",
      "metadata": {
        "id": "7sDUUd1d4cKv",
        "outputId": "1e934cab-7037-495f-a638-12737f528c53",
        "colab": {
          "base_uri": "https://localhost:8080/",
          "height": 34
        }
      },
      "source": [
        "#Testing the model using the best weights of the model\n",
        "\n",
        "model_test = createModel()\n",
        "model_test.load_weights(checkpoint_path)\n",
        "loss, acc = model_test.evaluate(x_test,  y_test, verbose=2)\n",
        "# print(loss, acc)\n",
        "\n",
        "# predict classes for test set\n",
        "predict_y_test = model.predict_classes(x_test, verbose=0)"
      ],
      "execution_count": null,
      "outputs": [
        {
          "output_type": "stream",
          "text": [
            "313/313 - 2s - loss: 2.2004 - accuracy: 0.4485\n"
          ],
          "name": "stdout"
        }
      ]
    },
    {
      "cell_type": "code",
      "metadata": {
        "id": "CrJsxdgH4eHv",
        "outputId": "07257deb-39a9-4830-84f2-e25fff32917e",
        "colab": {
          "base_uri": "https://localhost:8080/",
          "height": 187
        }
      },
      "source": [
        "#Precision, recall and accuracy of the model on test data\n",
        " \n",
        "# accuracy: (tp + tn) / (p + n)\n",
        "accuracy = accuracy_score(y_test_o, predict_y_test)\n",
        "print('Accuracy: %f' % accuracy)\n",
        "\n",
        "# precision tp / (tp + fp)\n",
        "precision = precision_score(y_test_o, predict_y_test, average='macro')\n",
        "print('Precision: %f' % precision)\n",
        "\n",
        "# recall: tp / (tp + fn)\n",
        "recall = recall_score(y_test_o, predict_y_test, average='macro')\n",
        "print('Recall: %f' % recall)\n",
        "\n",
        "# Confusion matrix\n",
        "confusion_matrix_ = confusion_matrix(y_test_o, predict_y_test)\n",
        "print(confusion_matrix_)"
      ],
      "execution_count": null,
      "outputs": [
        {
          "output_type": "stream",
          "text": [
            "Accuracy: 0.441900\n",
            "Precision: 0.478217\n",
            "Recall: 0.441900\n",
            "[[57  3  0 ...  0  0  0]\n",
            " [ 0 54  0 ...  0  0  0]\n",
            " [ 1  0 27 ...  0  5  0]\n",
            " ...\n",
            " [ 0  0  0 ... 32  0  0]\n",
            " [ 0  1  2 ...  1 12  1]\n",
            " [ 0  0  1 ...  0  0 50]]\n"
          ],
          "name": "stdout"
        }
      ]
    },
    {
      "cell_type": "code",
      "metadata": {
        "id": "CnS32jIE4gfX",
        "outputId": "16af8a76-fe5f-4a21-a09f-10d9fbda6198",
        "colab": {
          "base_uri": "https://localhost:8080/",
          "height": 271
        }
      },
      "source": [
        "import seaborn as sb\n",
        "heat_map = sb.heatmap(confusion_matrix_)\n",
        "plt.show()"
      ],
      "execution_count": null,
      "outputs": [
        {
          "output_type": "display_data",
          "data": {
            "image/png": "[encoded data removed]",
            "text/plain": [
              "<Figure size 432x288 with 2 Axes>"
            ]
          },
          "metadata": {
            "tags": [],
            "needs_background": "light"
          }
        }
      ]
    }
  ]
}