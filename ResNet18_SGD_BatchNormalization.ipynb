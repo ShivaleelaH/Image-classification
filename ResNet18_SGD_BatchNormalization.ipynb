{
  "nbformat": 4,
  "nbformat_minor": 0,
  "metadata": {
    "colab": {
      "name": "ResNet18_SGD_BatchNormalization.ipynb",
      "provenance": []
    },
    "kernelspec": {
      "name": "python3",
      "display_name": "Python 3"
    },
    "accelerator": "GPU"
  },
  "cells": [
    {
      "cell_type": "markdown",
      "metadata": {
        "id": "pWFYDrIHdTKO"
      },
      "source": [
        "*   Network     : ResNet18\n",
        "*   Optimizer   : SGD\n",
        "*   Regularizer : Batch normalization\n",
        "\n",
        "Ref for code: https://github.com/priya-dwivedi/Deep-Learning/blob/master/resnet_keras/Residual_Networks_yourself.ipynb"
      ]
    },
    {
      "cell_type": "code",
      "metadata": {
        "id": "eszaOUObdUyU"
      },
      "source": [
        "from __future__ import print_function\n",
        "\n",
        "import keras\n",
        "from keras import optimizers\n",
        "from keras import backend as K\n",
        "from keras import regularizers\n",
        "from keras import callbacks\n",
        "\n",
        "from keras.applications.imagenet_utils import preprocess_input\n",
        "from keras.datasets import cifar100\n",
        "from keras.initializers import glorot_uniform\n",
        "from keras.layers.core import Lambda\n",
        "from keras.layers import Input, Add, Dense, Activation, ZeroPadding2D, BatchNormalization, Flatten, Conv2D, AveragePooling2D, MaxPooling2D, GlobalMaxPooling2D\n",
        "from keras.models import Model, load_model\n",
        "from keras.preprocessing.image import ImageDataGenerator\n",
        "from keras.utils import layer_utils, data_utils, vis_utils, plot_model #data_utils.get_file #vis_utils.model_to_dot\n",
        "\n",
        "import numpy as np\n",
        "import pydot\n",
        "import scipy.misc\n",
        "import matplotlib.pyplot as plt\n",
        "import tensorflow as tf\n",
        "\n",
        "from IPython.display import SVG\n",
        "from sklearn.model_selection import train_test_split\n",
        "from sklearn.metrics import accuracy_score, precision_score, recall_score, confusion_matrix, classification_report\n",
        "from matplotlib.pyplot import imshow\n",
        "%matplotlib inline\n",
        "\n",
        "import keras.backend as K\n",
        "K.set_image_data_format('channels_last')\n",
        "K.set_learning_phase(1)"
      ],
      "execution_count": 10,
      "outputs": []
    },
    {
      "cell_type": "code",
      "metadata": {
        "id": "2PbxKfscdYZw"
      },
      "source": [
        "#Loading cifar100 dataset and dividing into Train, Validation and Test sets\n",
        "\n",
        "(X_train, Y_train), (x_test, y_test_o) = cifar100.load_data()\n",
        "\n",
        "X_train = X_train.astype('float32')\n",
        "x_test = x_test.astype('float32')\n",
        "\n",
        "x_train, x_validation, y_train, y_validation = train_test_split(X_train, Y_train, test_size=0.2, random_state=42)\n",
        "\n",
        "y_train = keras.utils.to_categorical(y_train, 100)\n",
        "y_validation = keras.utils.to_categorical(y_validation, 100)\n",
        "y_test = keras.utils.to_categorical(y_test_o, 100)"
      ],
      "execution_count": 11,
      "outputs": []
    },
    {
      "cell_type": "code",
      "metadata": {
        "id": "TqIa0EHzdaC2"
      },
      "source": [
        "#Definition of hyper parameters and other characteristics of the network like the activation functions\n",
        "\n",
        "num_classes = 100\n",
        "weight_decay = 0.0005\n",
        "x_shape = [32,32,3]\n",
        "\n",
        "conv_activation_func = 'elu'\n",
        "\n",
        "batch_size = 32\n",
        "maxepoches = 100\n",
        "l_rate = 0.001\n",
        "lr_decay = 1e-6\n",
        "# lr_drop = 20"
      ],
      "execution_count": 12,
      "outputs": []
    },
    {
      "cell_type": "code",
      "metadata": {
        "id": "zVWrK1MDdc9O"
      },
      "source": [
        "def identity_block(X, f, filters):\n",
        "    # Retrieve Filters\n",
        "    F1, F2 = filters\n",
        "    \n",
        "    # Save the input value to add back to the main path. \n",
        "    X_shortcut = X\n",
        "    \n",
        "    # First component of main path\n",
        "    X = Conv2D(filters = F1, kernel_size = (3, 3), strides = (1,1), padding = 'same')(X)\n",
        "    X = BatchNormalization(axis = 3)(X)\n",
        "    X = Activation(conv_activation_func)(X)\n",
        "\n",
        "    # Second component of main path\n",
        "    X = Conv2D(filters = F2, kernel_size = (3, 3), strides = (1,1), padding = 'same')(X)\n",
        "    X = BatchNormalization(axis = 3)(X)\n",
        "    X = Activation(conv_activation_func)(X)\n",
        "\n",
        "    # Final step: Add shortcut value to main path, and pass it through a RELU activation \n",
        "    X = Add()([X, X_shortcut])\n",
        "    X = Activation(conv_activation_func)(X)\n",
        "       \n",
        "    return X"
      ],
      "execution_count": 13,
      "outputs": []
    },
    {
      "cell_type": "code",
      "metadata": {
        "id": "oypgHOMcdeu1"
      },
      "source": [
        "def convolutional_block(X, f, filters, s = 2):\n",
        "    # Retrieve Filters\n",
        "    F1, F2 = filters\n",
        "    \n",
        "    # Save the input value\n",
        "    X_shortcut = X\n",
        "\n",
        "    ##### MAIN PATH #####\n",
        "    # First component of main path \n",
        "    X = Conv2D(F1, (3, 3), strides = (s,s), padding='same')(X)\n",
        "    X = BatchNormalization(axis = 3)(X)\n",
        "    X = Activation(conv_activation_func)(X)\n",
        "\n",
        "    # Second component of main path\n",
        "    X = Conv2D(filters = F2, kernel_size = (3, 3), strides = (1,1), padding = 'same')(X)\n",
        "    X = BatchNormalization(axis = 3)(X)\n",
        "    X = Activation(conv_activation_func)(X)\n",
        "\n",
        "    ##### SHORTCUT PATH #### \n",
        "    X_shortcut = Conv2D(filters = F2, kernel_size = (3, 3), strides = (s,s), padding = 'same')(X_shortcut)\n",
        "    X_shortcut = BatchNormalization(axis = 3)(X_shortcut)\n",
        "\n",
        "    # Final step: Add shortcut value to main path, and pass it through a RELU activation\n",
        "    X = Add()([X, X_shortcut])\n",
        "    X = Activation(conv_activation_func)(X)\n",
        "    \n",
        "    return X"
      ],
      "execution_count": 14,
      "outputs": []
    },
    {
      "cell_type": "code",
      "metadata": {
        "id": "j7_DXGL3dgea"
      },
      "source": [
        "def ResNet18(input_shape=(32, 32, 3), classes=100):\n",
        "    # Define the input as a tensor with shape input_shape\n",
        "    X_input = Input(input_shape)\n",
        "\n",
        "    # Zero-Padding\n",
        "    X = ZeroPadding2D((3, 3))(X_input)\n",
        "\n",
        "    # Stage 1\n",
        "    X = Conv2D(32, (3, 3), strides=(2, 2), padding='same')(X)\n",
        "    X = BatchNormalization(axis=3)(X)\n",
        "    X = Activation(conv_activation_func)(X)\n",
        "    X = MaxPooling2D((3, 3), strides=(2, 2))(X)\n",
        "\n",
        "    # Stage 2\n",
        "    X = convolutional_block(X, f=3, filters=[64, 64], s=1)\n",
        "    X = identity_block(X, 3, [64, 64])\n",
        "\n",
        "    # Stage 3 \n",
        "    X = convolutional_block(X, f = 3, filters = [128, 128], s = 2)\n",
        "    X = identity_block(X, 3, [128, 128])\n",
        "\n",
        "    # Stage 4 \n",
        "    X = convolutional_block(X, f = 3, filters = [256, 256], s = 2)\n",
        "    X = identity_block(X, 3, [256, 256])\n",
        "\n",
        "    # Stage 5 \n",
        "    X = convolutional_block(X, f = 3, filters = [512, 512], s = 2)\n",
        "    X = identity_block(X, 3, [512, 512])\n",
        "\n",
        "    # AVGPOOL \n",
        "    X = AveragePooling2D((2,2))(X)\n",
        "\n",
        "    # output layer\n",
        "    X = Flatten()(X)\n",
        "    X = Dense(classes, activation='softmax')(X)\n",
        "    \n",
        "    # Create model\n",
        "    model = Model(inputs = X_input, outputs = X)\n",
        "\n",
        "    return model"
      ],
      "execution_count": 15,
      "outputs": []
    },
    {
      "cell_type": "code",
      "metadata": {
        "id": "w5JfrJHidiHK"
      },
      "source": [
        "model = ResNet18(input_shape = (32, 32, 3), classes = 100)"
      ],
      "execution_count": 16,
      "outputs": []
    },
    {
      "cell_type": "code",
      "metadata": {
        "id": "9aLtQuMPdjZg"
      },
      "source": [
        "#Definition of SGD optimizer\n",
        "sgd = optimizers.SGD(learning_rate=l_rate)\n",
        "\n",
        "#Compiling the model\n",
        "model.compile(loss='categorical_crossentropy', optimizer=sgd, metrics=['accuracy'])"
      ],
      "execution_count": 17,
      "outputs": []
    },
    {
      "cell_type": "code",
      "metadata": {
        "id": "szewgOKNdkvx"
      },
      "source": [
        "#data augmentation\n",
        "datagen = ImageDataGenerator(\n",
        "    featurewise_center=False,  # set input mean to 0 over the dataset\n",
        "    samplewise_center=False,  # set each sample mean to 0\n",
        "    featurewise_std_normalization=False,  # divide inputs by std of the dataset\n",
        "    samplewise_std_normalization=False,  # divide each input by its std\n",
        "    zca_whitening=False,  # apply ZCA whitening\n",
        "    rotation_range=15,  # randomly rotate images in the range (degrees, 0 to 180)\n",
        "    width_shift_range=0.1,  # randomly shift images horizontally (fraction of total width)\n",
        "    height_shift_range=0.1,  # randomly shift images vertically (fraction of total height)\n",
        "    horizontal_flip=True,  # randomly flip images\n",
        "    vertical_flip=False)  # randomly flip images\n",
        "# (std, mean, and principal components if ZCA whitening is applied).\n",
        "datagen.fit(x_train)"
      ],
      "execution_count": 18,
      "outputs": []
    },
    {
      "cell_type": "code",
      "metadata": {
        "id": "J0hce6mZdmTt"
      },
      "source": [
        "#Defintion of callbacks with EarlyStopping \n",
        "\n",
        "callback = callbacks.EarlyStopping(monitor='val_loss', patience=10)"
      ],
      "execution_count": 19,
      "outputs": []
    },
    {
      "cell_type": "code",
      "metadata": {
        "id": "7IFGbvlVdoVV"
      },
      "source": [
        "#Definition of saving the best weights of the model with ModelCheckpoint\n",
        "\n",
        "checkpoint_path = \"checkpoints\"\n",
        "checkpoint = callbacks.ModelCheckpoint(filepath=checkpoint_path, monitor='val_loss', save_best_only=True, save_weights_only=True, verbose=1, mode='min')"
      ],
      "execution_count": 20,
      "outputs": []
    },
    {
      "cell_type": "code",
      "metadata": {
        "id": "tkKjIP_pdprl",
        "outputId": "be32102c-e595-42c8-ecbc-a18dd192998e",
        "colab": {
          "base_uri": "https://localhost:8080/",
          "height": 1000
        }
      },
      "source": [
        "#Training the model in the training dataset\n",
        "\n",
        "history = model.fit(x_train, y_train, epochs = maxepoches, batch_size = batch_size, validation_data=(x_validation, y_validation), callbacks=[callback, checkpoint])\n",
        "model.save_weights('ResNet18_SGD_BatchNormalization.h5')"
      ],
      "execution_count": 21,
      "outputs": [
        {
          "output_type": "stream",
          "text": [
            "Epoch 1/100\n",
            "1248/1250 [============================>.] - ETA: 0s - loss: 3.8298 - accuracy: 0.1426\n",
            "Epoch 00001: val_loss improved from inf to 3.35964, saving model to checkpoints\n",
            "1250/1250 [==============================] - 29s 23ms/step - loss: 3.8294 - accuracy: 0.1426 - val_loss: 3.3596 - val_accuracy: 0.2153\n",
            "Epoch 2/100\n",
            "1248/1250 [============================>.] - ETA: 0s - loss: 3.1024 - accuracy: 0.2631\n",
            "Epoch 00002: val_loss improved from 3.35964 to 3.05219, saving model to checkpoints\n",
            "1250/1250 [==============================] - 29s 23ms/step - loss: 3.1024 - accuracy: 0.2630 - val_loss: 3.0522 - val_accuracy: 0.2642\n",
            "Epoch 3/100\n",
            "1248/1250 [============================>.] - ETA: 0s - loss: 2.7597 - accuracy: 0.3281\n",
            "Epoch 00003: val_loss improved from 3.05219 to 2.90661, saving model to checkpoints\n",
            "1250/1250 [==============================] - 30s 24ms/step - loss: 2.7596 - accuracy: 0.3281 - val_loss: 2.9066 - val_accuracy: 0.2940\n",
            "Epoch 4/100\n",
            "1250/1250 [==============================] - ETA: 0s - loss: 2.5037 - accuracy: 0.3803\n",
            "Epoch 00004: val_loss improved from 2.90661 to 2.73485, saving model to checkpoints\n",
            "1250/1250 [==============================] - 30s 24ms/step - loss: 2.5037 - accuracy: 0.3803 - val_loss: 2.7348 - val_accuracy: 0.3228\n",
            "Epoch 5/100\n",
            "1250/1250 [==============================] - ETA: 0s - loss: 2.2952 - accuracy: 0.4298\n",
            "Epoch 00005: val_loss did not improve from 2.73485\n",
            "1250/1250 [==============================] - 29s 24ms/step - loss: 2.2952 - accuracy: 0.4298 - val_loss: 2.7401 - val_accuracy: 0.3187\n",
            "Epoch 6/100\n",
            "1248/1250 [============================>.] - ETA: 0s - loss: 2.1102 - accuracy: 0.4715\n",
            "Epoch 00006: val_loss improved from 2.73485 to 2.65497, saving model to checkpoints\n",
            "1250/1250 [==============================] - 30s 24ms/step - loss: 2.1106 - accuracy: 0.4715 - val_loss: 2.6550 - val_accuracy: 0.3404\n",
            "Epoch 7/100\n",
            "1248/1250 [============================>.] - ETA: 0s - loss: 1.9392 - accuracy: 0.5153\n",
            "Epoch 00007: val_loss improved from 2.65497 to 2.59884, saving model to checkpoints\n",
            "1250/1250 [==============================] - 30s 24ms/step - loss: 1.9392 - accuracy: 0.5154 - val_loss: 2.5988 - val_accuracy: 0.3523\n",
            "Epoch 8/100\n",
            "1248/1250 [============================>.] - ETA: 0s - loss: 1.7813 - accuracy: 0.5529\n",
            "Epoch 00008: val_loss did not improve from 2.59884\n",
            "1250/1250 [==============================] - 30s 24ms/step - loss: 1.7811 - accuracy: 0.5529 - val_loss: 2.6668 - val_accuracy: 0.3464\n",
            "Epoch 9/100\n",
            "1248/1250 [============================>.] - ETA: 0s - loss: 1.6245 - accuracy: 0.5992\n",
            "Epoch 00009: val_loss did not improve from 2.59884\n",
            "1250/1250 [==============================] - 30s 24ms/step - loss: 1.6243 - accuracy: 0.5993 - val_loss: 2.6519 - val_accuracy: 0.3475\n",
            "Epoch 10/100\n",
            "1248/1250 [============================>.] - ETA: 0s - loss: 1.4858 - accuracy: 0.6386\n",
            "Epoch 00010: val_loss improved from 2.59884 to 2.58232, saving model to checkpoints\n",
            "1250/1250 [==============================] - 30s 24ms/step - loss: 1.4858 - accuracy: 0.6387 - val_loss: 2.5823 - val_accuracy: 0.3590\n",
            "Epoch 11/100\n",
            "1250/1250 [==============================] - ETA: 0s - loss: 1.3397 - accuracy: 0.6820\n",
            "Epoch 00011: val_loss improved from 2.58232 to 2.55136, saving model to checkpoints\n",
            "1250/1250 [==============================] - 30s 24ms/step - loss: 1.3397 - accuracy: 0.6820 - val_loss: 2.5514 - val_accuracy: 0.3714\n",
            "Epoch 12/100\n",
            "1249/1250 [============================>.] - ETA: 0s - loss: 1.2020 - accuracy: 0.7211\n",
            "Epoch 00012: val_loss did not improve from 2.55136\n",
            "1250/1250 [==============================] - 30s 24ms/step - loss: 1.2022 - accuracy: 0.7210 - val_loss: 2.5575 - val_accuracy: 0.3738\n",
            "Epoch 13/100\n",
            "1249/1250 [============================>.] - ETA: 0s - loss: 1.0634 - accuracy: 0.7629\n",
            "Epoch 00013: val_loss did not improve from 2.55136\n",
            "1250/1250 [==============================] - 30s 24ms/step - loss: 1.0635 - accuracy: 0.7628 - val_loss: 2.5912 - val_accuracy: 0.3645\n",
            "Epoch 14/100\n",
            "1250/1250 [==============================] - ETA: 0s - loss: 0.9441 - accuracy: 0.8012\n",
            "Epoch 00014: val_loss did not improve from 2.55136\n",
            "1250/1250 [==============================] - 30s 24ms/step - loss: 0.9441 - accuracy: 0.8012 - val_loss: 2.6081 - val_accuracy: 0.3706\n",
            "Epoch 15/100\n",
            "1248/1250 [============================>.] - ETA: 0s - loss: 0.8267 - accuracy: 0.8356\n",
            "Epoch 00015: val_loss did not improve from 2.55136\n",
            "1250/1250 [==============================] - 30s 24ms/step - loss: 0.8267 - accuracy: 0.8356 - val_loss: 2.6871 - val_accuracy: 0.3598\n",
            "Epoch 16/100\n",
            "1249/1250 [============================>.] - ETA: 0s - loss: 0.7175 - accuracy: 0.8668\n",
            "Epoch 00016: val_loss did not improve from 2.55136\n",
            "1250/1250 [==============================] - 29s 24ms/step - loss: 0.7175 - accuracy: 0.8669 - val_loss: 2.6634 - val_accuracy: 0.3652\n",
            "Epoch 17/100\n",
            "1250/1250 [==============================] - ETA: 0s - loss: 0.6177 - accuracy: 0.8934\n",
            "Epoch 00017: val_loss did not improve from 2.55136\n",
            "1250/1250 [==============================] - 30s 24ms/step - loss: 0.6177 - accuracy: 0.8934 - val_loss: 2.7028 - val_accuracy: 0.3661\n",
            "Epoch 18/100\n",
            "1248/1250 [============================>.] - ETA: 0s - loss: 0.5255 - accuracy: 0.9204\n",
            "Epoch 00018: val_loss did not improve from 2.55136\n",
            "1250/1250 [==============================] - 30s 24ms/step - loss: 0.5254 - accuracy: 0.9204 - val_loss: 2.7302 - val_accuracy: 0.3634\n",
            "Epoch 19/100\n",
            "1250/1250 [==============================] - ETA: 0s - loss: 0.4452 - accuracy: 0.9403\n",
            "Epoch 00019: val_loss did not improve from 2.55136\n",
            "1250/1250 [==============================] - 30s 24ms/step - loss: 0.4452 - accuracy: 0.9403 - val_loss: 2.7815 - val_accuracy: 0.3549\n",
            "Epoch 20/100\n",
            "1250/1250 [==============================] - ETA: 0s - loss: 0.3788 - accuracy: 0.9556\n",
            "Epoch 00020: val_loss did not improve from 2.55136\n",
            "1250/1250 [==============================] - 30s 24ms/step - loss: 0.3788 - accuracy: 0.9556 - val_loss: 2.7753 - val_accuracy: 0.3644\n",
            "Epoch 21/100\n",
            "1250/1250 [==============================] - ETA: 0s - loss: 0.3218 - accuracy: 0.9669\n",
            "Epoch 00021: val_loss did not improve from 2.55136\n",
            "1250/1250 [==============================] - 30s 24ms/step - loss: 0.3218 - accuracy: 0.9669 - val_loss: 2.8084 - val_accuracy: 0.3653\n"
          ],
          "name": "stdout"
        }
      ]
    },
    {
      "cell_type": "code",
      "metadata": {
        "id": "IngypmrWdrxs",
        "outputId": "409d740f-690e-47d9-e4e9-f582c97643a7",
        "colab": {
          "base_uri": "https://localhost:8080/",
          "height": 295
        }
      },
      "source": [
        "#Plot the Training and Validation accuracy v/s Epochs\n",
        "#history.keys() = ['accuracy', 'loss', 'val_accuracy', 'val_loss']\n",
        "\n",
        "plt.plot(history.history['accuracy'])\n",
        "plt.plot(history.history['val_accuracy'])\n",
        "plt.title('Model accuracy')\n",
        "plt.ylabel('Accuracy')\n",
        "plt.xlabel('Epochs')\n",
        "plt.legend(['train', 'validation'], loc='upper left')\n",
        "plt.show()"
      ],
      "execution_count": 22,
      "outputs": [
        {
          "output_type": "display_data",
          "data": {
            "image/png": "[encoded data removed]",
            "text/plain": [
              "<Figure size 432x288 with 1 Axes>"
            ]
          },
          "metadata": {
            "tags": [],
            "needs_background": "light"
          }
        }
      ]
    },
    {
      "cell_type": "code",
      "metadata": {
        "id": "qHUrdnXSdtUk",
        "outputId": "33522329-b36c-43be-b856-f9631702f512",
        "colab": {
          "base_uri": "https://localhost:8080/",
          "height": 295
        }
      },
      "source": [
        "#Plot the Training and Validation loss v/s Epochs\n",
        "\n",
        "plt.plot(history.history['loss'])\n",
        "plt.plot(history.history['val_loss'])\n",
        "plt.title('Model loss')\n",
        "plt.ylabel('Loss')\n",
        "plt.xlabel('Epochs')\n",
        "plt.legend(['train', 'validation'], loc='upper left')\n",
        "plt.show()"
      ],
      "execution_count": 23,
      "outputs": [
        {
          "output_type": "display_data",
          "data": {
            "image/png": "[encoded data removed]",
            "text/plain": [
              "<Figure size 432x288 with 1 Axes>"
            ]
          },
          "metadata": {
            "tags": [],
            "needs_background": "light"
          }
        }
      ]
    },
    {
      "cell_type": "code",
      "metadata": {
        "id": "Qmm4tBoJdvvu",
        "outputId": "82835fcb-4dd8-4fd1-d664-44cbad9cb32e",
        "colab": {
          "base_uri": "https://localhost:8080/",
          "height": 34
        }
      },
      "source": [
        "#Testing the model using the best weights of the model\n",
        "\n",
        "model_test = ResNet18(input_shape = (32, 32, 3), classes = 100)\n",
        "model_test.compile(loss='categorical_crossentropy', optimizer='sgd', metrics=['accuracy'])\n",
        "\n",
        "model_test.load_weights('./ResNet18_SGD_BatchNormalization.h5')\n",
        "loss, acc = model_test.evaluate(x_test,  y_test, verbose=2)\n",
        "\n",
        "predict_y_test_o = model_test.predict(x_test, verbose=0)"
      ],
      "execution_count": 24,
      "outputs": [
        {
          "output_type": "stream",
          "text": [
            "313/313 - 2s - loss: 2.7860 - accuracy: 0.3657\n"
          ],
          "name": "stdout"
        }
      ]
    },
    {
      "cell_type": "code",
      "metadata": {
        "id": "Hi9gyNhsdyHx",
        "outputId": "c35323d5-7a97-46a0-ad1f-21cde64de998",
        "colab": {
          "base_uri": "https://localhost:8080/",
          "height": 187
        }
      },
      "source": [
        "# #Precision, recall and accuracy of the model on test data\n",
        "predict_y_test = np.argmax(predict_y_test_o, axis=1)\n",
        "\n",
        "# accuracy: (tp + tn) / (p + n)\n",
        "accuracy = accuracy_score(y_test_o, predict_y_test)\n",
        "print('Accuracy: %f' % accuracy)\n",
        "\n",
        "# precision tp / (tp + fp)\n",
        "precision = precision_score(y_test_o, predict_y_test, average='macro')\n",
        "print('Precision: %f' % precision)\n",
        "\n",
        "# recall: tp / (tp + fn)\n",
        "recall = recall_score(y_test_o, predict_y_test, average='macro')\n",
        "print('Recall: %f' % recall)\n",
        "\n",
        "# Confusion matrix\n",
        "confusion_matrix_ = confusion_matrix(y_test_o, predict_y_test)\n",
        "print(confusion_matrix_)"
      ],
      "execution_count": 25,
      "outputs": [
        {
          "output_type": "stream",
          "text": [
            "Accuracy: 0.365700\n",
            "Precision: 0.366236\n",
            "Recall: 0.365700\n",
            "[[74  2  0 ...  0  0  0]\n",
            " [ 2 49  0 ...  1  0  0]\n",
            " [ 3  2 24 ...  1  5  0]\n",
            " ...\n",
            " [ 0  0  0 ... 35  1  2]\n",
            " [ 1  0  7 ...  1 15  0]\n",
            " [ 1  0  0 ...  1  0 30]]\n"
          ],
          "name": "stdout"
        }
      ]
    },
    {
      "cell_type": "code",
      "metadata": {
        "id": "HUiIUr89dz0I",
        "outputId": "d0f11022-4390-441c-c73f-2fc242f70356",
        "colab": {
          "base_uri": "https://localhost:8080/",
          "height": 271
        }
      },
      "source": [
        "import seaborn as sb\n",
        "heat_map = sb.heatmap(confusion_matrix_)\n",
        "plt.show()"
      ],
      "execution_count": 26,
      "outputs": [
        {
          "output_type": "display_data",
          "data": {
            "image/png": "[encoded data removed]",
            "text/plain": [
              "<Figure size 432x288 with 2 Axes>"
            ]
          },
          "metadata": {
            "tags": [],
            "needs_background": "light"
          }
        }
      ]
    }
  ]
}