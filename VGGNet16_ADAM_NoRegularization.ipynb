{
  "nbformat": 4,
  "nbformat_minor": 0,
  "metadata": {
    "colab": {
      "name": "VGGNet16_ADAM_NoRegularization.ipynb",
      "provenance": [],
      "collapsed_sections": []
    },
    "kernelspec": {
      "name": "python3",
      "display_name": "Python 3"
    },
    "accelerator": "GPU"
  },
  "cells": [
    {
      "cell_type": "markdown",
      "metadata": {
        "id": "xZXrMuXqZXfb"
      },
      "source": [
        "*   Network     : VGG16\n",
        "*   Optimizer   : ADAM\n",
        "*   Regularizer : No regularization\n",
        "\n",
        "Ref for code: https://github.com/geifmany/cifar-vgg/blob/master/cifar100vgg.py"
      ]
    },
    {
      "cell_type": "code",
      "metadata": {
        "id": "XYAk85ylZbZe"
      },
      "source": [
        "from __future__ import print_function\n",
        "\n",
        "import keras\n",
        "from keras import optimizers\n",
        "from keras import backend as K\n",
        "from keras import regularizers\n",
        "from keras import callbacks\n",
        "\n",
        "from keras.datasets import cifar100\n",
        "from keras.layers.core import Lambda\n",
        "from keras.layers import Dense, Dropout, Activation, Flatten, Conv2D, MaxPooling2D, BatchNormalization, LeakyReLU\n",
        "from keras.models import Sequential\n",
        "from keras.preprocessing.image import ImageDataGenerator\n",
        "\n",
        "from sklearn.model_selection import train_test_split\n",
        "from sklearn.metrics import accuracy_score, precision_score, recall_score, confusion_matrix, classification_report\n",
        "\n",
        "import numpy as np\n",
        "import matplotlib.pyplot as plt"
      ],
      "execution_count": null,
      "outputs": []
    },
    {
      "cell_type": "code",
      "metadata": {
        "id": "zbGaR-CeZiFC"
      },
      "source": [
        "#Loading cifar100 dataset and dividing into Train, Validation and Test sets\n",
        "\n",
        "(X_train, Y_train), (x_test, y_test_o) = cifar100.load_data()\n",
        "\n",
        "X_train = X_train.astype('float32')\n",
        "x_test = x_test.astype('float32')\n",
        "\n",
        "x_train, x_validation, y_train, y_validation = train_test_split(X_train, Y_train, test_size=0.2, random_state=42)\n",
        "\n",
        "y_train = keras.utils.to_categorical(y_train, 100)\n",
        "y_validation = keras.utils.to_categorical(y_validation, 100)\n",
        "y_test = keras.utils.to_categorical(y_test_o, 100)"
      ],
      "execution_count": null,
      "outputs": []
    },
    {
      "cell_type": "code",
      "metadata": {
        "id": "kKTSxhFpZkwo"
      },
      "source": [
        "#Definition of hyper parameters and other characteristics of the network like the activation functions\n",
        "\n",
        "num_classes = 100\n",
        "weight_decay = 0.0005\n",
        "x_shape = [32,32,3]\n",
        "\n",
        "conv_activation_func = 'elu'\n",
        "dense_activation_func = 'elu'\n",
        "ouput_activation_func = 'softmax'\n",
        "\n",
        "batch_size = 128\n",
        "maxepoches = 300\n",
        "l_rate = 0.00005\n",
        "# lr_decay = 1e-6\n",
        "# lr_drop = 20"
      ],
      "execution_count": null,
      "outputs": []
    },
    {
      "cell_type": "code",
      "metadata": {
        "id": "yerSmN45ZnPv"
      },
      "source": [
        "#Model definition of VGG16\n",
        "def createModel():\n",
        "  model = Sequential()\n",
        "  weight_decay = 0.0005 #Hyper parameter\n",
        "\n",
        "  model.add(Conv2D(64, (3, 3), padding='same', input_shape=x_shape))\n",
        "  model.add(Activation(conv_activation_func))\n",
        "\n",
        "  model.add(Conv2D(64, (3, 3), padding='same'))\n",
        "  model.add(Activation(conv_activation_func))\n",
        "\n",
        "  model.add(MaxPooling2D(pool_size=(2, 2), strides=2))\n",
        "\n",
        "  model.add(Conv2D(128, (3, 3), padding='same'))\n",
        "  model.add(Activation(conv_activation_func))\n",
        "\n",
        "  model.add(Conv2D(128, (3, 3), padding='same'))\n",
        "  model.add(Activation(conv_activation_func))\n",
        "\n",
        "  model.add(MaxPooling2D(pool_size=(2, 2), strides=2))\n",
        "\n",
        "  model.add(Conv2D(256, (3, 3), padding='same'))\n",
        "  model.add(Activation(conv_activation_func))\n",
        "\n",
        "  model.add(Conv2D(256, (3, 3), padding='same'))\n",
        "  model.add(Activation(conv_activation_func))\n",
        "\n",
        "  model.add(Conv2D(256, (3, 3), padding='same'))\n",
        "  model.add(Activation(conv_activation_func))\n",
        "\n",
        "  model.add(MaxPooling2D(pool_size=(2, 2), strides=2))\n",
        "\n",
        "  model.add(Conv2D(512, (3, 3), padding='same'))\n",
        "  model.add(Activation(conv_activation_func))\n",
        "\n",
        "  model.add(Conv2D(512, (3, 3), padding='same'))\n",
        "  model.add(Activation(conv_activation_func))\n",
        "\n",
        "  model.add(Conv2D(512, (3, 3), padding='same'))\n",
        "  model.add(Activation(conv_activation_func))\n",
        "\n",
        "  model.add(MaxPooling2D(pool_size=(2, 2), strides=2))\n",
        "\n",
        "  # model.add(Conv2D(512, (3, 3), padding='same'))\n",
        "  # model.add(Activation(conv_activation_func))\n",
        "\n",
        "  # model.add(Conv2D(512, (3, 3), padding='same'))\n",
        "  # model.add(Activation(conv_activation_func))\n",
        "\n",
        "  # model.add(Conv2D(512, (3, 3), padding='same'))\n",
        "  # model.add(Activation(conv_activation_func))\n",
        "\n",
        "  # model.add(MaxPooling2D(pool_size=(2, 2), strides=2))\n",
        "\n",
        "  model.add(Flatten())\n",
        "\n",
        "  # model.add(Dense(512))\n",
        "  model.add(Dense(512))\n",
        "  model.add(Activation(dense_activation_func))\n",
        "\n",
        "  model.add(Dense(num_classes))\n",
        "  model.add(Activation(ouput_activation_func))\n",
        "\n",
        "  #Definition of ADAM optimizer\n",
        "  adam = optimizers.Adam(learning_rate=l_rate, clipnorm=1.0)\n",
        "\n",
        "  #Compiling the model\n",
        "  model.compile(loss='categorical_crossentropy', optimizer=adam, metrics=['accuracy'])\n",
        "\n",
        "  return model"
      ],
      "execution_count": null,
      "outputs": []
    },
    {
      "cell_type": "code",
      "metadata": {
        "id": "q75ZLpIfHBlO"
      },
      "source": [
        "#data augmentation\n",
        "datagen = ImageDataGenerator(\n",
        "    featurewise_center=False,  # set input mean to 0 over the dataset\n",
        "    samplewise_center=False,  # set each sample mean to 0\n",
        "    featurewise_std_normalization=False,  # divide inputs by std of the dataset\n",
        "    samplewise_std_normalization=False,  # divide each input by its std\n",
        "    zca_whitening=False,  # apply ZCA whitening\n",
        "    rotation_range=15,  # randomly rotate images in the range (degrees, 0 to 180)\n",
        "    width_shift_range=0.1,  # randomly shift images horizontally (fraction of total width)\n",
        "    height_shift_range=0.1,  # randomly shift images vertically (fraction of total height)\n",
        "    horizontal_flip=True,  # randomly flip images\n",
        "    vertical_flip=False)  # randomly flip images\n",
        "# (std, mean, and principal components if ZCA whitening is applied).\n",
        "datagen.fit(x_train)"
      ],
      "execution_count": null,
      "outputs": []
    },
    {
      "cell_type": "code",
      "metadata": {
        "id": "MhByBAVOZpyn"
      },
      "source": [
        "#Creating an instance of the model\n",
        "\n",
        "model = createModel()"
      ],
      "execution_count": null,
      "outputs": []
    },
    {
      "cell_type": "code",
      "metadata": {
        "id": "UWPWsxFAZrlx"
      },
      "source": [
        "#Defintion of callbacks with EarlyStopping \n",
        "\n",
        "callback = callbacks.EarlyStopping(monitor='val_loss', patience=10)"
      ],
      "execution_count": null,
      "outputs": []
    },
    {
      "cell_type": "code",
      "metadata": {
        "id": "ymku1Cw6Z1dh"
      },
      "source": [
        "#Definition of saving the best weights of the model with ModelCheckpoint\n",
        "\n",
        "checkpoint_path = \"checkpoints/VGGNet16_ADAM_NoRegularization\"\n",
        "checkpoint = callbacks.ModelCheckpoint(filepath=checkpoint_path, monitor='val_loss', save_best_only=True, save_weights_only=True, verbose=1, mode='auto')\n",
        "# checkpoint = callbacks.ModelCheckpoint('VGGNet16_ADAM_NoRegularization.h5', monitor='val_loss', save_best_only=True, save_weights_only=True, verbose=1, mode='auto')"
      ],
      "execution_count": null,
      "outputs": []
    },
    {
      "cell_type": "code",
      "metadata": {
        "id": "Zp1jbJjUZ3Zn",
        "outputId": "c2eae6fe-3e48-4ab8-a485-e45ea14bb5d9",
        "colab": {
          "base_uri": "https://localhost:8080/",
          "height": 1000
        }
      },
      "source": [
        "#Training the model in the training dataset\n",
        "\n",
        "history = model.fit(datagen.flow(x_train, y_train,\n",
        "                                         batch_size=batch_size),\n",
        "                            steps_per_epoch=x_train.shape[0] // batch_size,\n",
        "                            epochs=maxepoches,\n",
        "                            validation_data=(x_validation, y_validation),callbacks=[callback, checkpoint],verbose=2)\n",
        "\n",
        "# history = model.fit(x_train, y_train, steps_per_epoch=x_train.shape[0] // batch_size, epochs=maxepoches, validation_data=(x_validation, y_validation), callbacks=[callback, checkpoint])\n",
        "model.save_weights('VGGNet16_ADAM_NoRegularization.h5')"
      ],
      "execution_count": null,
      "outputs": [
        {
          "output_type": "stream",
          "text": [
            "Epoch 1/300\n",
            "\n",
            "Epoch 00001: val_loss improved from inf to 3.34161, saving model to checkpoints/VGGNet16_ADAM_NoRegularization\n",
            "312/312 - 23s - loss: 3.8056 - accuracy: 0.1315 - val_loss: 3.3416 - val_accuracy: 0.1993\n",
            "Epoch 2/300\n",
            "\n",
            "Epoch 00002: val_loss improved from 3.34161 to 3.01158, saving model to checkpoints/VGGNet16_ADAM_NoRegularization\n",
            "312/312 - 23s - loss: 3.1963 - accuracy: 0.2292 - val_loss: 3.0116 - val_accuracy: 0.2662\n",
            "Epoch 3/300\n",
            "\n",
            "Epoch 00003: val_loss improved from 3.01158 to 2.88518, saving model to checkpoints/VGGNet16_ADAM_NoRegularization\n",
            "312/312 - 23s - loss: 2.9079 - accuracy: 0.2804 - val_loss: 2.8852 - val_accuracy: 0.2840\n",
            "Epoch 4/300\n",
            "\n",
            "Epoch 00004: val_loss improved from 2.88518 to 2.69740, saving model to checkpoints/VGGNet16_ADAM_NoRegularization\n",
            "312/312 - 23s - loss: 2.6896 - accuracy: 0.3254 - val_loss: 2.6974 - val_accuracy: 0.3267\n",
            "Epoch 5/300\n",
            "\n",
            "Epoch 00005: val_loss improved from 2.69740 to 2.54612, saving model to checkpoints/VGGNet16_ADAM_NoRegularization\n",
            "312/312 - 23s - loss: 2.5303 - accuracy: 0.3555 - val_loss: 2.5461 - val_accuracy: 0.3554\n",
            "Epoch 6/300\n",
            "\n",
            "Epoch 00006: val_loss improved from 2.54612 to 2.50572, saving model to checkpoints/VGGNet16_ADAM_NoRegularization\n",
            "312/312 - 23s - loss: 2.3698 - accuracy: 0.3891 - val_loss: 2.5057 - val_accuracy: 0.3658\n",
            "Epoch 7/300\n",
            "\n",
            "Epoch 00007: val_loss improved from 2.50572 to 2.38440, saving model to checkpoints/VGGNet16_ADAM_NoRegularization\n",
            "312/312 - 23s - loss: 2.2505 - accuracy: 0.4156 - val_loss: 2.3844 - val_accuracy: 0.3932\n",
            "Epoch 8/300\n",
            "\n",
            "Epoch 00008: val_loss improved from 2.38440 to 2.35358, saving model to checkpoints/VGGNet16_ADAM_NoRegularization\n",
            "312/312 - 23s - loss: 2.1218 - accuracy: 0.4443 - val_loss: 2.3536 - val_accuracy: 0.3991\n",
            "Epoch 9/300\n",
            "\n",
            "Epoch 00009: val_loss improved from 2.35358 to 2.26654, saving model to checkpoints/VGGNet16_ADAM_NoRegularization\n",
            "312/312 - 23s - loss: 2.0113 - accuracy: 0.4684 - val_loss: 2.2665 - val_accuracy: 0.4188\n",
            "Epoch 10/300\n",
            "\n",
            "Epoch 00010: val_loss did not improve from 2.26654\n",
            "312/312 - 22s - loss: 1.9076 - accuracy: 0.4908 - val_loss: 2.2980 - val_accuracy: 0.4123\n",
            "Epoch 11/300\n",
            "\n",
            "Epoch 00011: val_loss did not improve from 2.26654\n",
            "312/312 - 23s - loss: 1.8020 - accuracy: 0.5131 - val_loss: 2.2674 - val_accuracy: 0.4280\n",
            "Epoch 12/300\n",
            "\n",
            "Epoch 00012: val_loss improved from 2.26654 to 2.24424, saving model to checkpoints/VGGNet16_ADAM_NoRegularization\n",
            "312/312 - 23s - loss: 1.7163 - accuracy: 0.5340 - val_loss: 2.2442 - val_accuracy: 0.4347\n",
            "Epoch 13/300\n",
            "\n",
            "Epoch 00013: val_loss improved from 2.24424 to 2.20897, saving model to checkpoints/VGGNet16_ADAM_NoRegularization\n",
            "312/312 - 23s - loss: 1.6157 - accuracy: 0.5599 - val_loss: 2.2090 - val_accuracy: 0.4355\n",
            "Epoch 14/300\n",
            "\n",
            "Epoch 00014: val_loss improved from 2.20897 to 2.15821, saving model to checkpoints/VGGNet16_ADAM_NoRegularization\n",
            "312/312 - 23s - loss: 1.5342 - accuracy: 0.5779 - val_loss: 2.1582 - val_accuracy: 0.4556\n",
            "Epoch 15/300\n",
            "\n",
            "Epoch 00015: val_loss did not improve from 2.15821\n",
            "312/312 - 23s - loss: 1.4448 - accuracy: 0.6003 - val_loss: 2.2589 - val_accuracy: 0.4399\n",
            "Epoch 16/300\n",
            "\n",
            "Epoch 00016: val_loss improved from 2.15821 to 2.14555, saving model to checkpoints/VGGNet16_ADAM_NoRegularization\n",
            "312/312 - 22s - loss: 1.3595 - accuracy: 0.6226 - val_loss: 2.1455 - val_accuracy: 0.4667\n",
            "Epoch 17/300\n",
            "\n",
            "Epoch 00017: val_loss did not improve from 2.14555\n",
            "312/312 - 22s - loss: 1.2816 - accuracy: 0.6411 - val_loss: 2.2084 - val_accuracy: 0.4594\n",
            "Epoch 18/300\n",
            "\n",
            "Epoch 00018: val_loss did not improve from 2.14555\n",
            "312/312 - 22s - loss: 1.2160 - accuracy: 0.6589 - val_loss: 2.2707 - val_accuracy: 0.4497\n",
            "Epoch 19/300\n",
            "\n",
            "Epoch 00019: val_loss did not improve from 2.14555\n",
            "312/312 - 22s - loss: 1.1561 - accuracy: 0.6739 - val_loss: 2.2819 - val_accuracy: 0.4489\n",
            "Epoch 20/300\n",
            "\n",
            "Epoch 00020: val_loss did not improve from 2.14555\n",
            "312/312 - 22s - loss: 1.0793 - accuracy: 0.6921 - val_loss: 2.2903 - val_accuracy: 0.4569\n",
            "Epoch 21/300\n",
            "\n",
            "Epoch 00021: val_loss did not improve from 2.14555\n",
            "312/312 - 22s - loss: 1.0139 - accuracy: 0.7089 - val_loss: 2.2906 - val_accuracy: 0.4524\n",
            "Epoch 22/300\n",
            "\n",
            "Epoch 00022: val_loss did not improve from 2.14555\n",
            "312/312 - 22s - loss: 0.9525 - accuracy: 0.7266 - val_loss: 2.3043 - val_accuracy: 0.4564\n",
            "Epoch 23/300\n",
            "\n",
            "Epoch 00023: val_loss did not improve from 2.14555\n",
            "312/312 - 22s - loss: 0.8920 - accuracy: 0.7424 - val_loss: 2.2173 - val_accuracy: 0.4803\n",
            "Epoch 24/300\n",
            "\n",
            "Epoch 00024: val_loss did not improve from 2.14555\n",
            "312/312 - 23s - loss: 0.8517 - accuracy: 0.7510 - val_loss: 2.2960 - val_accuracy: 0.4749\n",
            "Epoch 25/300\n",
            "\n",
            "Epoch 00025: val_loss did not improve from 2.14555\n",
            "312/312 - 22s - loss: 0.7933 - accuracy: 0.7654 - val_loss: 2.5003 - val_accuracy: 0.4495\n",
            "Epoch 26/300\n",
            "\n",
            "Epoch 00026: val_loss did not improve from 2.14555\n",
            "312/312 - 23s - loss: 0.7502 - accuracy: 0.7780 - val_loss: 2.3903 - val_accuracy: 0.4654\n"
          ],
          "name": "stdout"
        }
      ]
    },
    {
      "cell_type": "code",
      "metadata": {
        "id": "yX4cNOHyZ_3n",
        "outputId": "6d93b48a-011a-4fba-f306-335881011359",
        "colab": {
          "base_uri": "https://localhost:8080/",
          "height": 295
        }
      },
      "source": [
        "#Plot the Training and Validation accuracy v/s Epochs\n",
        "#history.keys() = ['accuracy', 'loss', 'val_accuracy', 'val_loss']\n",
        "\n",
        "plt.plot(history.history['accuracy'])\n",
        "plt.plot(history.history['val_accuracy'])\n",
        "plt.title('Model accuracy')\n",
        "plt.ylabel('Accuracy')\n",
        "plt.xlabel('Epochs')\n",
        "plt.legend(['train', 'validation'], loc='upper left')\n",
        "plt.show()"
      ],
      "execution_count": null,
      "outputs": [
        {
          "output_type": "display_data",
          "data": {
            "image/png": "[encoded data removed]",
            "text/plain": [
              "<Figure size 432x288 with 1 Axes>"
            ]
          },
          "metadata": {
            "tags": [],
            "needs_background": "light"
          }
        }
      ]
    },
    {
      "cell_type": "code",
      "metadata": {
        "id": "WLlvgg3zaEIP",
        "outputId": "013224a0-f932-4977-f3d5-b96afd371596",
        "colab": {
          "base_uri": "https://localhost:8080/",
          "height": 295
        }
      },
      "source": [
        "#Plot the Training and Validation loss v/s Epochs\n",
        "\n",
        "plt.plot(history.history['loss'])\n",
        "plt.plot(history.history['val_loss'])\n",
        "plt.title('Model loss')\n",
        "plt.ylabel('Loss')\n",
        "plt.xlabel('Epochs')\n",
        "plt.legend(['train', 'validation'], loc='upper left')\n",
        "plt.show()"
      ],
      "execution_count": null,
      "outputs": [
        {
          "output_type": "display_data",
          "data": {
            "image/png": "[encoded data removed]",
            "text/plain": [
              "<Figure size 432x288 with 1 Axes>"
            ]
          },
          "metadata": {
            "tags": [],
            "needs_background": "light"
          }
        }
      ]
    },
    {
      "cell_type": "code",
      "metadata": {
        "id": "v99wgyFwaHn8",
        "outputId": "728e8cdb-c829-42a2-cd8e-5305f30d2b69",
        "colab": {
          "base_uri": "https://localhost:8080/",
          "height": 34
        }
      },
      "source": [
        "#Testing the model using the best weights of the model\n",
        "\n",
        "model_test = createModel()\n",
        "model_test.load_weights(checkpoint_path)\n",
        "# model_test.load_weights('VGGNet16_ADAM_NoRegularization.h5')\n",
        "loss, acc = model_test.evaluate(x_test,  y_test, verbose=2)\n",
        "# print(loss, acc)\n",
        "\n",
        "# predict classes for test set\n",
        "predict_y_test = model.predict_classes(x_test, verbose=0)"
      ],
      "execution_count": null,
      "outputs": [
        {
          "output_type": "stream",
          "text": [
            "313/313 - 2s - loss: 2.1411 - accuracy: 0.4650\n"
          ],
          "name": "stdout"
        }
      ]
    },
    {
      "cell_type": "code",
      "metadata": {
        "id": "m8vlbPsoaKpA",
        "outputId": "00c5a011-f0f0-427f-eb72-f282d81e8803",
        "colab": {
          "base_uri": "https://localhost:8080/",
          "height": 187
        }
      },
      "source": [
        "#Precision, recall and accuracy of the model on test data\n",
        " \n",
        "# accuracy: (tp + tn) / (p + n)\n",
        "accuracy = accuracy_score(y_test_o, predict_y_test)\n",
        "print('Accuracy: %f' % accuracy)\n",
        "\n",
        "# precision tp / (tp + fp)\n",
        "precision = precision_score(y_test_o, predict_y_test, average='macro')\n",
        "print('Precision: %f' % precision)\n",
        "\n",
        "# recall: tp / (tp + fn)\n",
        "recall = recall_score(y_test_o, predict_y_test, average='macro')\n",
        "print('Recall: %f' % recall)\n",
        "\n",
        "# Confusion matrix\n",
        "confusion_matrix_ = confusion_matrix(y_test_o, predict_y_test)\n",
        "print(confusion_matrix_)"
      ],
      "execution_count": null,
      "outputs": [
        {
          "output_type": "stream",
          "text": [
            "Accuracy: 0.482800\n",
            "Precision: 0.513714\n",
            "Recall: 0.482800\n",
            "[[48  3  0 ...  0  1  0]\n",
            " [ 0 66  0 ...  0  0  0]\n",
            " [ 0  1 35 ...  0  6  0]\n",
            " ...\n",
            " [ 0  0  0 ... 40  1  0]\n",
            " [ 0  1  3 ...  0 26  1]\n",
            " [ 0  0  0 ...  0  0 49]]\n"
          ],
          "name": "stdout"
        }
      ]
    },
    {
      "cell_type": "code",
      "metadata": {
        "id": "r1vneKHIn44c",
        "outputId": "8ab30345-2fbb-4181-ea55-c7ccdecf867f",
        "colab": {
          "base_uri": "https://localhost:8080/",
          "height": 271
        }
      },
      "source": [
        "import seaborn as sb\n",
        "heat_map = sb.heatmap(confusion_matrix_)\n",
        "plt.show()"
      ],
      "execution_count": null,
      "outputs": [
        {
          "output_type": "display_data",
          "data": {
            "image/png": "[encoded data removed]",
            "text/plain": [
              "<Figure size 432x288 with 2 Axes>"
            ]
          },
          "metadata": {
            "tags": [],
            "needs_background": "light"
          }
        }
      ]
    },
    {
      "cell_type": "code",
      "metadata": {
        "id": "BA3ofPM1Jhas"
      },
      "source": [
        ""
      ],
      "execution_count": null,
      "outputs": []
    }
  ]
}