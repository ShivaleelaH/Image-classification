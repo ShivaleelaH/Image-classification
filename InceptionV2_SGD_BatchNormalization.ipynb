{
  "nbformat": 4,
  "nbformat_minor": 0,
  "metadata": {
    "colab": {
      "name": "InceptionV2_SGD_BatchNormalization.ipynb",
      "provenance": []
    },
    "kernelspec": {
      "name": "python3",
      "display_name": "Python 3"
    },
    "accelerator": "GPU"
  },
  "cells": [
    {
      "cell_type": "markdown",
      "metadata": {
        "id": "3qFccMBHpY8f"
      },
      "source": [
        "*   Network     : Inception v2\n",
        "*   Optimizer   : SGD\n",
        "*   Regularizer : Batch normalization\n",
        "\n",
        "Ref for code: https://arxiv.org/pdf/1512.00567v3.pdf"
      ]
    },
    {
      "cell_type": "code",
      "metadata": {
        "id": "1vsbO3Jrpcyn"
      },
      "source": [
        "from __future__ import print_function\n",
        "\n",
        "import keras\n",
        "from keras import optimizers\n",
        "from keras import backend as K\n",
        "from keras import regularizers\n",
        "from keras import callbacks\n",
        "\n",
        "from keras.applications.imagenet_utils import preprocess_input\n",
        "from keras.datasets import cifar100\n",
        "from keras.initializers import glorot_uniform\n",
        "from keras.layers.core import Lambda\n",
        "from keras.layers import Input, Add, Dense, Activation, ZeroPadding2D, BatchNormalization, Flatten, Conv2D, AveragePooling2D, MaxPooling2D, GlobalMaxPooling2D, concatenate\n",
        "from keras.models import Model, load_model, Sequential\n",
        "from keras.preprocessing.image import ImageDataGenerator\n",
        "from keras.utils import layer_utils, data_utils, vis_utils, plot_model #data_utils.get_file #vis_utils.model_to_dot\n",
        "\n",
        "import numpy as np\n",
        "import pydot\n",
        "import scipy.misc\n",
        "import matplotlib.pyplot as plt\n",
        "import tensorflow as tf\n",
        "\n",
        "from IPython.display import SVG\n",
        "from sklearn.model_selection import train_test_split\n",
        "from sklearn.metrics import accuracy_score, precision_score, recall_score, confusion_matrix, classification_report\n",
        "from matplotlib.pyplot import imshow\n",
        "%matplotlib inline\n",
        "\n",
        "import keras.backend as K\n",
        "K.set_image_data_format('channels_last')\n",
        "K.set_learning_phase(1)"
      ],
      "execution_count": 45,
      "outputs": []
    },
    {
      "cell_type": "code",
      "metadata": {
        "id": "Sd8k_Lw9pfUI"
      },
      "source": [
        "#Loading cifar100 dataset and dividing into Train, Validation and Test sets\n",
        "\n",
        "(X_train, Y_train), (x_test, y_test_o) = cifar100.load_data()\n",
        "\n",
        "X_train = X_train.astype('float32')\n",
        "x_test = x_test.astype('float32')\n",
        "\n",
        "x_train, x_validation, y_train, y_validation = train_test_split(X_train, Y_train, test_size=0.2, random_state=42)\n",
        "\n",
        "y_train = keras.utils.to_categorical(y_train, 100)\n",
        "y_validation = keras.utils.to_categorical(y_validation, 100)\n",
        "y_test = keras.utils.to_categorical(y_test_o, 100)"
      ],
      "execution_count": 46,
      "outputs": []
    },
    {
      "cell_type": "code",
      "metadata": {
        "id": "riIGIT3Tpgtu"
      },
      "source": [
        "weight_decay = 0.0005\n",
        "num_of_classes = 100\n",
        "conv_activation_func = 'elu'\n",
        "\n",
        "l_rate = 0.01\n",
        "batch_size = 128\n",
        "maxepoches = 100\n",
        "lr_decay = 1e-6"
      ],
      "execution_count": 47,
      "outputs": []
    },
    {
      "cell_type": "code",
      "metadata": {
        "id": "NhZpCVQnpiRi"
      },
      "source": [
        "def inceptionv2(input):\n",
        "    model = Sequential()\n",
        "\n",
        "    ##### MAIN LAYER #####\n",
        "    main = Conv2D(64, (3, 3), strides=(2,2), padding='same',activation=conv_activation_func)(input)\n",
        "    main = Conv2D(64, (3, 3), strides = (1,1), padding='same', activation=conv_activation_func)(main)\n",
        "    main = Conv2D(64, (3, 3), strides = (1,1), padding='same', activation=conv_activation_func)(main)\n",
        "    main = BatchNormalization(axis=3)(main)\n",
        "\n",
        "    main = MaxPooling2D(pool_size=(2, 2))(main)\n",
        "\n",
        "    main = Conv2D(64, (3, 3), strides = (1,1), padding='same', activation=conv_activation_func)(main)\n",
        "    main = Conv2D(64, (3, 3), strides = (2,2), padding='same', activation=conv_activation_func)(main)\n",
        "    main = Conv2D(64, (3, 3), strides = (1,1), padding='same', activation=conv_activation_func)(main)\n",
        "    main = BatchNormalization(axis=3)(main)\n",
        "\n",
        "    ######Inception module A#####\n",
        "    main = inception_A(main)\n",
        "    main = inception_A(main)\n",
        "    main = inception_A(main)\n",
        "\n",
        "    ######Inception module B#####\n",
        "    main = inception_B(main)\n",
        "    main = inception_B(main)\n",
        "    main = inception_B(main)\n",
        "    main = inception_B(main)\n",
        "    main = inception_B(main)\n",
        "\n",
        "    ######Inception module C#####\n",
        "    main = inception_C(main)\n",
        "    main = inception_C(main)\n",
        "\n",
        "    main = AveragePooling2D(pool_size=(3, 3))(main)\n",
        "\n",
        "    main = Flatten()(main)\n",
        "    dense = Dense(10, activation='linear')(main)\n",
        "    \n",
        "    output = Dense(num_of_classes, activation='softmax')(dense)\n",
        "    return output"
      ],
      "execution_count": 48,
      "outputs": []
    },
    {
      "cell_type": "code",
      "metadata": {
        "id": "2sohVQ_ipjqy"
      },
      "source": [
        "def inception_A(input):\n",
        "  pll1 = Conv2D(64, (1,1), padding='same', activation=conv_activation_func)(input)\n",
        "  pll1 = Conv2D(64, (3,3), padding='same', activation=conv_activation_func)(pll1)\n",
        "  pll1 = Conv2D(64, (3,3), padding='same', activation=conv_activation_func)(pll1)\n",
        "  # pll1 = BatchNormalization(axis=3)(pll1)\n",
        "\n",
        "  pll2 = Conv2D(64, (1,1), padding='same', activation=conv_activation_func)(input)\n",
        "  pll2 = Conv2D(64, (3,3), padding='same', activation=conv_activation_func)(pll2)\n",
        "  # pll2 = BatchNormalization(axis=3)(pll2)\n",
        "  \n",
        "  pll3 = MaxPooling2D((3,3), strides=(1,1), padding='same')(input)\n",
        "\n",
        "  pll3 = Conv2D(64, (1,1), padding='same', activation=conv_activation_func)(pll3)\n",
        "  # pll3 = BatchNormalization(axis=3)(pll3)\n",
        "  \n",
        "  pll4 = Conv2D(64, (1,1), padding='same', activation=conv_activation_func)(input)\n",
        "  # pll4 = BatchNormalization(axis=3)(pll4)\n",
        "\n",
        "  output = keras.layers.concatenate([pll1, pll2, pll3, pll4], axis=3)\n",
        "\n",
        "  return output"
      ],
      "execution_count": 49,
      "outputs": []
    },
    {
      "cell_type": "code",
      "metadata": {
        "id": "1mOOkV2EplVw"
      },
      "source": [
        "def inception_B(input):\n",
        "  pll1 = Conv2D(64, (1,1), padding='same', activation=conv_activation_func)(input)\n",
        "  pll1 = Conv2D(64, (1,3), padding='same', activation=conv_activation_func)(pll1)\n",
        "  pll1 = Conv2D(64, (3,1), padding='same', activation=conv_activation_func)(pll1)\n",
        "  pll1 = Conv2D(64, (1,3), padding='same', activation=conv_activation_func)(pll1)\n",
        "  pll1 = Conv2D(64, (3,1), padding='same', activation=conv_activation_func)(pll1)\n",
        "  # pll1 = BatchNormalization(axis=3)(pll1)\n",
        "\n",
        "  pll2 = Conv2D(64, (1,1), padding='same', activation=conv_activation_func)(input) \n",
        "  pll2 = Conv2D(64, (1,3), padding='same', activation=conv_activation_func)(pll2)\n",
        "  pll2 = Conv2D(64, (3,1), padding='same', activation=conv_activation_func)(pll2)\n",
        "  # pll2 = BatchNormalization(axis=3)(pll2)\n",
        "\n",
        "  pll3 = MaxPooling2D((3,3), strides=(1,1), padding='same')(input)\n",
        "  \n",
        "  pll3 = Conv2D(64, (1,1), padding='same', activation=conv_activation_func)(pll3)\n",
        "  # pll3 = BatchNormalization(axis=3)(pll3)\n",
        "\n",
        "  pll4 = Conv2D(64, (1,1), padding='same', activation=conv_activation_func)(input)\n",
        "  # pll4 = BatchNormalization(axis=3)(pll4)\n",
        "\n",
        "  output = keras.layers.concatenate([pll1, pll2, pll3, pll4], axis = 3)\n",
        "\n",
        "  return output"
      ],
      "execution_count": 50,
      "outputs": []
    },
    {
      "cell_type": "code",
      "metadata": {
        "id": "WJ6flU8kpm78"
      },
      "source": [
        "def inception_C(input):\n",
        "  pll1 = Conv2D(64, (1,1), padding='same', activation=conv_activation_func)(input)\n",
        "  pll1 = Conv2D(64, (3,3), padding='same', activation=conv_activation_func)(pll1)\n",
        "\n",
        "  pll1_a = Conv2D(64, (1,1), padding='same', activation=conv_activation_func)(pll1)\n",
        "  pll1_b = Conv2D(64, (3,3), padding='same', activation=conv_activation_func)(pll1)\n",
        "  # pll1_a = BatchNormalization(axis=3)(pll1_a)\n",
        "  # pll1_b = BatchNormalization(axis=3)(pll1_b)\n",
        "\n",
        "  pll2 = Conv2D(64, (1,1), padding='same', activation=conv_activation_func)(input)\n",
        "  \n",
        "  pll2_a = Conv2D(64, (1,3), padding='same', activation=conv_activation_func)(pll2)\n",
        "  pll2_b = Conv2D(64, (3,1), padding='same', activation=conv_activation_func)(pll2)\n",
        "  # pll2_a = BatchNormalization(axis=3)(pll2_a)\n",
        "  # pll2_b = BatchNormalization(axis=3)(pll2_b)\n",
        "\n",
        "  pll3 = MaxPooling2D((3,3), strides=(1,1), padding='same')(input)\n",
        "\n",
        "  pll3 = Conv2D(64, (1,1), padding='same', activation=conv_activation_func)(pll3)\n",
        "  # pll3 = BatchNormalization(axis=3)(pll3)\n",
        "\n",
        "  pll4 = Conv2D(64, (1,1), padding='same', activation=conv_activation_func)(input)\n",
        "  # pll4 = BatchNormalization(axis=3)(pll4)\n",
        "\n",
        "  output = concatenate([pll1_a, pll1_b, pll2_a, pll2_b, pll3, pll4], axis=3)\n",
        "  return output"
      ],
      "execution_count": 51,
      "outputs": []
    },
    {
      "cell_type": "code",
      "metadata": {
        "id": "dcxSxXY7po6G"
      },
      "source": [
        "#Definition of SGD optimizer\n",
        "sgd = optimizers.SGD(learning_rate=l_rate)#, decay=lr_decay,momentum=0.9, nesterov=True)\n",
        "\n",
        "input = Input(shape=(32, 32, 3))\n",
        "output = inceptionv2(input)\n",
        "\n",
        "model = Model([input], output)\n",
        "model.compile(loss='categorical_crossentropy', optimizer=sgd, metrics=['accuracy'])"
      ],
      "execution_count": 52,
      "outputs": []
    },
    {
      "cell_type": "code",
      "metadata": {
        "id": "_EXvSnRYpqLr"
      },
      "source": [
        "#data augmentation\n",
        "datagen = ImageDataGenerator(\n",
        "    featurewise_center=False,  # set input mean to 0 over the dataset\n",
        "    samplewise_center=False,  # set each sample mean to 0\n",
        "    featurewise_std_normalization=False,  # divide inputs by std of the dataset\n",
        "    samplewise_std_normalization=False,  # divide each input by its std\n",
        "    zca_whitening=False,  # apply ZCA whitening\n",
        "    rotation_range=15,  # randomly rotate images in the range (degrees, 0 to 180)\n",
        "    width_shift_range=0.1,  # randomly shift images horizontally (fraction of total width)\n",
        "    height_shift_range=0.1,  # randomly shift images vertically (fraction of total height)\n",
        "    horizontal_flip=True,  # randomly flip images\n",
        "    vertical_flip=False)  # randomly flip images\n",
        "# (std, mean, and principal components if ZCA whitening is applied).\n",
        "datagen.fit(x_train)"
      ],
      "execution_count": 53,
      "outputs": []
    },
    {
      "cell_type": "code",
      "metadata": {
        "id": "-dFtjoGlpzMu",
        "outputId": "6583e5ac-d407-419a-b55a-6e2556f998ec",
        "colab": {
          "base_uri": "https://localhost:8080/",
          "height": 1000
        }
      },
      "source": [
        "#Defintion of callbacks with EarlyStopping \n",
        "callback = callbacks.EarlyStopping(monitor='val_loss', patience=10)\n",
        "\n",
        "#Definition of saving the best weights of the model with ModelCheckpoint\n",
        "checkpoint_path = \"checkpoints\"\n",
        "checkpoint = callbacks.ModelCheckpoint(filepath=checkpoint_path, monitor='val_loss', save_best_only=True, save_weights_only=True, verbose=1, mode='min')\n",
        "\n",
        "#Training the model in the training dataset\n",
        "history = model.fit(x_train, y_train, epochs = maxepoches, batch_size = batch_size, validation_data=(x_validation, y_validation), callbacks=[callback, checkpoint])\n",
        "model.save_weights('InceptionV2_SGD_NoRegularization.h5')"
      ],
      "execution_count": 54,
      "outputs": [
        {
          "output_type": "stream",
          "text": [
            "Epoch 1/100\n",
            "313/313 [==============================] - ETA: 0s - loss: 4.5606 - accuracy: 0.0171\n",
            "Epoch 00001: val_loss improved from inf to 4.51243, saving model to checkpoints\n",
            "313/313 [==============================] - 10s 33ms/step - loss: 4.5606 - accuracy: 0.0171 - val_loss: 4.5124 - val_accuracy: 0.0192\n",
            "Epoch 2/100\n",
            "313/313 [==============================] - ETA: 0s - loss: 4.4233 - accuracy: 0.0321\n",
            "Epoch 00002: val_loss improved from 4.51243 to 4.40880, saving model to checkpoints\n",
            "313/313 [==============================] - 10s 31ms/step - loss: 4.4233 - accuracy: 0.0321 - val_loss: 4.4088 - val_accuracy: 0.0348\n",
            "Epoch 3/100\n",
            "313/313 [==============================] - ETA: 0s - loss: 4.2497 - accuracy: 0.0527\n",
            "Epoch 00003: val_loss improved from 4.40880 to 4.23314, saving model to checkpoints\n",
            "313/313 [==============================] - 10s 31ms/step - loss: 4.2497 - accuracy: 0.0527 - val_loss: 4.2331 - val_accuracy: 0.0524\n",
            "Epoch 4/100\n",
            "313/313 [==============================] - ETA: 0s - loss: 4.0795 - accuracy: 0.0787\n",
            "Epoch 00004: val_loss improved from 4.23314 to 4.12635, saving model to checkpoints\n",
            "313/313 [==============================] - 10s 31ms/step - loss: 4.0795 - accuracy: 0.0787 - val_loss: 4.1264 - val_accuracy: 0.0665\n",
            "Epoch 5/100\n",
            "313/313 [==============================] - ETA: 0s - loss: 3.9132 - accuracy: 0.1044\n",
            "Epoch 00005: val_loss improved from 4.12635 to 3.92781, saving model to checkpoints\n",
            "313/313 [==============================] - 10s 31ms/step - loss: 3.9132 - accuracy: 0.1044 - val_loss: 3.9278 - val_accuracy: 0.1065\n",
            "Epoch 6/100\n",
            "313/313 [==============================] - ETA: 0s - loss: 3.7463 - accuracy: 0.1290\n",
            "Epoch 00006: val_loss did not improve from 3.92781\n",
            "313/313 [==============================] - 10s 31ms/step - loss: 3.7463 - accuracy: 0.1290 - val_loss: 4.0087 - val_accuracy: 0.0909\n",
            "Epoch 7/100\n",
            "313/313 [==============================] - ETA: 0s - loss: 3.5889 - accuracy: 0.1517\n",
            "Epoch 00007: val_loss improved from 3.92781 to 3.71446, saving model to checkpoints\n",
            "313/313 [==============================] - 10s 31ms/step - loss: 3.5889 - accuracy: 0.1517 - val_loss: 3.7145 - val_accuracy: 0.1290\n",
            "Epoch 8/100\n",
            "313/313 [==============================] - ETA: 0s - loss: 3.4410 - accuracy: 0.1761\n",
            "Epoch 00008: val_loss did not improve from 3.71446\n",
            "313/313 [==============================] - 10s 31ms/step - loss: 3.4410 - accuracy: 0.1761 - val_loss: 4.3059 - val_accuracy: 0.0950\n",
            "Epoch 9/100\n",
            "313/313 [==============================] - ETA: 0s - loss: 3.3180 - accuracy: 0.1982\n",
            "Epoch 00009: val_loss improved from 3.71446 to 3.69761, saving model to checkpoints\n",
            "313/313 [==============================] - 10s 31ms/step - loss: 3.3180 - accuracy: 0.1982 - val_loss: 3.6976 - val_accuracy: 0.1487\n",
            "Epoch 10/100\n",
            "313/313 [==============================] - ETA: 0s - loss: 3.2064 - accuracy: 0.2163\n",
            "Epoch 00010: val_loss did not improve from 3.69761\n",
            "313/313 [==============================] - 10s 31ms/step - loss: 3.2064 - accuracy: 0.2163 - val_loss: 3.9056 - val_accuracy: 0.1124\n",
            "Epoch 11/100\n",
            "313/313 [==============================] - ETA: 0s - loss: 3.0961 - accuracy: 0.2363\n",
            "Epoch 00011: val_loss improved from 3.69761 to 3.44613, saving model to checkpoints\n",
            "313/313 [==============================] - 10s 31ms/step - loss: 3.0961 - accuracy: 0.2363 - val_loss: 3.4461 - val_accuracy: 0.1797\n",
            "Epoch 12/100\n",
            "313/313 [==============================] - ETA: 0s - loss: 3.0000 - accuracy: 0.2507\n",
            "Epoch 00012: val_loss improved from 3.44613 to 3.33927, saving model to checkpoints\n",
            "313/313 [==============================] - 10s 31ms/step - loss: 3.0000 - accuracy: 0.2507 - val_loss: 3.3393 - val_accuracy: 0.2000\n",
            "Epoch 13/100\n",
            "313/313 [==============================] - ETA: 0s - loss: 2.9031 - accuracy: 0.2659\n",
            "Epoch 00013: val_loss did not improve from 3.33927\n",
            "313/313 [==============================] - 10s 31ms/step - loss: 2.9031 - accuracy: 0.2659 - val_loss: 3.4004 - val_accuracy: 0.1883\n",
            "Epoch 14/100\n",
            "313/313 [==============================] - ETA: 0s - loss: 2.8057 - accuracy: 0.2870\n",
            "Epoch 00014: val_loss did not improve from 3.33927\n",
            "313/313 [==============================] - 10s 31ms/step - loss: 2.8057 - accuracy: 0.2870 - val_loss: 3.3502 - val_accuracy: 0.2090\n",
            "Epoch 15/100\n",
            "313/313 [==============================] - ETA: 0s - loss: 2.7223 - accuracy: 0.3029\n",
            "Epoch 00015: val_loss did not improve from 3.33927\n",
            "313/313 [==============================] - 10s 31ms/step - loss: 2.7223 - accuracy: 0.3029 - val_loss: 3.8176 - val_accuracy: 0.1630\n",
            "Epoch 16/100\n",
            "313/313 [==============================] - ETA: 0s - loss: 2.6322 - accuracy: 0.3162\n",
            "Epoch 00016: val_loss improved from 3.33927 to 3.24046, saving model to checkpoints\n",
            "313/313 [==============================] - 10s 31ms/step - loss: 2.6322 - accuracy: 0.3162 - val_loss: 3.2405 - val_accuracy: 0.2276\n",
            "Epoch 17/100\n",
            "313/313 [==============================] - ETA: 0s - loss: 2.5402 - accuracy: 0.3347\n",
            "Epoch 00017: val_loss did not improve from 3.24046\n",
            "313/313 [==============================] - 10s 31ms/step - loss: 2.5402 - accuracy: 0.3347 - val_loss: 3.4458 - val_accuracy: 0.2166\n",
            "Epoch 18/100\n",
            "313/313 [==============================] - ETA: 0s - loss: 2.4584 - accuracy: 0.3529\n",
            "Epoch 00018: val_loss improved from 3.24046 to 3.11003, saving model to checkpoints\n",
            "313/313 [==============================] - 10s 31ms/step - loss: 2.4584 - accuracy: 0.3529 - val_loss: 3.1100 - val_accuracy: 0.2555\n",
            "Epoch 19/100\n",
            "313/313 [==============================] - ETA: 0s - loss: 2.3826 - accuracy: 0.3683\n",
            "Epoch 00019: val_loss did not improve from 3.11003\n",
            "313/313 [==============================] - 10s 31ms/step - loss: 2.3826 - accuracy: 0.3683 - val_loss: 3.7016 - val_accuracy: 0.1972\n",
            "Epoch 20/100\n",
            "311/313 [============================>.] - ETA: 0s - loss: 2.3015 - accuracy: 0.3809\n",
            "Epoch 00020: val_loss did not improve from 3.11003\n",
            "313/313 [==============================] - 10s 31ms/step - loss: 2.3011 - accuracy: 0.3812 - val_loss: 3.3702 - val_accuracy: 0.2314\n",
            "Epoch 21/100\n",
            "313/313 [==============================] - ETA: 0s - loss: 2.2325 - accuracy: 0.3948\n",
            "Epoch 00021: val_loss did not improve from 3.11003\n",
            "313/313 [==============================] - 10s 31ms/step - loss: 2.2325 - accuracy: 0.3948 - val_loss: 3.2440 - val_accuracy: 0.2551\n",
            "Epoch 22/100\n",
            "313/313 [==============================] - ETA: 0s - loss: 2.1353 - accuracy: 0.4173\n",
            "Epoch 00022: val_loss did not improve from 3.11003\n",
            "313/313 [==============================] - 10s 31ms/step - loss: 2.1353 - accuracy: 0.4173 - val_loss: 3.6503 - val_accuracy: 0.2130\n",
            "Epoch 23/100\n",
            "313/313 [==============================] - ETA: 0s - loss: 2.0608 - accuracy: 0.4307\n",
            "Epoch 00023: val_loss did not improve from 3.11003\n",
            "313/313 [==============================] - 10s 31ms/step - loss: 2.0608 - accuracy: 0.4307 - val_loss: 3.5570 - val_accuracy: 0.2298\n",
            "Epoch 24/100\n",
            "313/313 [==============================] - ETA: 0s - loss: 1.9924 - accuracy: 0.4462\n",
            "Epoch 00024: val_loss did not improve from 3.11003\n",
            "313/313 [==============================] - 10s 31ms/step - loss: 1.9924 - accuracy: 0.4462 - val_loss: 3.2352 - val_accuracy: 0.2694\n",
            "Epoch 25/100\n",
            "313/313 [==============================] - ETA: 0s - loss: 1.9282 - accuracy: 0.4582\n",
            "Epoch 00025: val_loss did not improve from 3.11003\n",
            "313/313 [==============================] - 10s 31ms/step - loss: 1.9282 - accuracy: 0.4582 - val_loss: 3.4179 - val_accuracy: 0.2473\n",
            "Epoch 26/100\n",
            "313/313 [==============================] - ETA: 0s - loss: 1.8449 - accuracy: 0.4760\n",
            "Epoch 00026: val_loss did not improve from 3.11003\n",
            "313/313 [==============================] - 10s 31ms/step - loss: 1.8449 - accuracy: 0.4760 - val_loss: 3.4712 - val_accuracy: 0.2461\n",
            "Epoch 27/100\n",
            "313/313 [==============================] - ETA: 0s - loss: 1.7603 - accuracy: 0.4975\n",
            "Epoch 00027: val_loss did not improve from 3.11003\n",
            "313/313 [==============================] - 10s 31ms/step - loss: 1.7603 - accuracy: 0.4975 - val_loss: 4.3624 - val_accuracy: 0.1916\n",
            "Epoch 28/100\n",
            "313/313 [==============================] - ETA: 0s - loss: 1.7110 - accuracy: 0.5087\n",
            "Epoch 00028: val_loss did not improve from 3.11003\n",
            "313/313 [==============================] - 10s 31ms/step - loss: 1.7110 - accuracy: 0.5087 - val_loss: 3.6994 - val_accuracy: 0.2487\n"
          ],
          "name": "stdout"
        }
      ]
    },
    {
      "cell_type": "code",
      "metadata": {
        "id": "Mv_qapFZp012",
        "outputId": "5aa976a5-34a1-4dfe-959d-be993b6abca5",
        "colab": {
          "base_uri": "https://localhost:8080/",
          "height": 295
        }
      },
      "source": [
        "#Plot the Training and Validation accuracy v/s Epochs\n",
        "#history.keys() = ['accuracy', 'loss', 'val_accuracy', 'val_loss']\n",
        "\n",
        "plt.plot(history.history['accuracy'])\n",
        "plt.plot(history.history['val_accuracy'])\n",
        "plt.title('Model accuracy')\n",
        "plt.ylabel('Accuracy')\n",
        "plt.xlabel('Epochs')\n",
        "plt.legend(['train', 'validation'], loc='upper left')\n",
        "plt.show()"
      ],
      "execution_count": 55,
      "outputs": [
        {
          "output_type": "display_data",
          "data": {
            "image/png": "[encoded data removed]",
            "text/plain": [
              "<Figure size 432x288 with 1 Axes>"
            ]
          },
          "metadata": {
            "tags": [],
            "needs_background": "light"
          }
        }
      ]
    },
    {
      "cell_type": "code",
      "metadata": {
        "id": "31BM5O15p2dX",
        "outputId": "452e5df4-20c4-470d-c53b-36f0df8ff6fa",
        "colab": {
          "base_uri": "https://localhost:8080/",
          "height": 295
        }
      },
      "source": [
        "#Plot the Training and Validation loss v/s Epochs\n",
        "\n",
        "plt.plot(history.history['loss'])\n",
        "plt.plot(history.history['val_loss'])\n",
        "plt.title('Model loss')\n",
        "plt.ylabel('Loss')\n",
        "plt.xlabel('Epochs')\n",
        "plt.legend(['train', 'validation'], loc='upper left')\n",
        "plt.show()"
      ],
      "execution_count": 56,
      "outputs": [
        {
          "output_type": "display_data",
          "data": {
            "image/png": "[encoded data removed]",
            "text/plain": [
              "<Figure size 432x288 with 1 Axes>"
            ]
          },
          "metadata": {
            "tags": [],
            "needs_background": "light"
          }
        }
      ]
    },
    {
      "cell_type": "code",
      "metadata": {
        "id": "ZpOK6eV2p38M",
        "outputId": "b76e44b2-9a9d-4c87-a613-c73baffba1cb",
        "colab": {
          "base_uri": "https://localhost:8080/",
          "height": 34
        }
      },
      "source": [
        "#Testing the model using the best weights of the model\n",
        "\n",
        "model.load_weights('./InceptionV2_SGD_NoRegularization.h5')\n",
        "loss, acc = model.evaluate(x_test,  y_test, verbose=2)\n",
        "\n",
        "predict_y_test_o = model.predict(x_test, verbose=0)"
      ],
      "execution_count": 57,
      "outputs": [
        {
          "output_type": "stream",
          "text": [
            "313/313 - 3s - loss: 3.7206 - accuracy: 0.2481\n"
          ],
          "name": "stdout"
        }
      ]
    },
    {
      "cell_type": "code",
      "metadata": {
        "id": "V7KWkU3_p5eE",
        "outputId": "c510021f-b557-4c26-abfb-3ad1a6b6b57f",
        "colab": {
          "base_uri": "https://localhost:8080/",
          "height": 187
        }
      },
      "source": [
        "# #Precision, recall and accuracy of the model on test data\n",
        "predict_y_test = np.argmax(predict_y_test_o, axis=1)\n",
        "\n",
        "# accuracy: (tp + tn) / (p + n)\n",
        "accuracy = accuracy_score(y_test_o, predict_y_test)\n",
        "print('Accuracy: %f' % accuracy)\n",
        "\n",
        "# precision tp / (tp + fp)\n",
        "precision = precision_score(y_test_o, predict_y_test, average='macro')\n",
        "print('Precision: %f' % precision)\n",
        "\n",
        "# recall: tp / (tp + fn)\n",
        "recall = recall_score(y_test_o, predict_y_test, average='macro')\n",
        "print('Recall: %f' % recall)\n",
        "\n",
        "# Confusion matrix\n",
        "confusion_matrix_ = confusion_matrix(y_test_o, predict_y_test)\n",
        "print(confusion_matrix_)"
      ],
      "execution_count": 58,
      "outputs": [
        {
          "output_type": "stream",
          "text": [
            "Accuracy: 0.248100\n",
            "Precision: 0.279524\n",
            "Recall: 0.248100\n",
            "[[44  2  1 ...  0  0  0]\n",
            " [ 1 14  0 ...  1  0  0]\n",
            " [ 0  0 16 ...  3  4  2]\n",
            " ...\n",
            " [ 0  0  0 ... 34  0  1]\n",
            " [ 0  0  5 ...  5  4  2]\n",
            " [ 1  0  0 ...  0  0 10]]\n"
          ],
          "name": "stdout"
        }
      ]
    },
    {
      "cell_type": "code",
      "metadata": {
        "id": "EKQSZsm7p7R-",
        "outputId": "765e76d1-e18a-43c3-d090-1be9e38216d4",
        "colab": {
          "base_uri": "https://localhost:8080/",
          "height": 271
        }
      },
      "source": [
        "import seaborn as sb\n",
        "heat_map = sb.heatmap(confusion_matrix_)\n",
        "plt.show()"
      ],
      "execution_count": 59,
      "outputs": [
        {
          "output_type": "display_data",
          "data": {
            "image/png": "[encoded data removed]",
            "text/plain": [
              "<Figure size 432x288 with 2 Axes>"
            ]
          },
          "metadata": {
            "tags": [],
            "needs_background": "light"
          }
        }
      ]
    }
  ]
}