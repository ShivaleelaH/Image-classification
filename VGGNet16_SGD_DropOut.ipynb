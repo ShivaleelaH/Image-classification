{
  "nbformat": 4,
  "nbformat_minor": 0,
  "metadata": {
    "colab": {
      "name": "VGGNet16_SGD_DropOut.ipynb",
      "provenance": [],
      "collapsed_sections": []
    },
    "kernelspec": {
      "name": "python3",
      "display_name": "Python 3"
    },
    "accelerator": "GPU"
  },
  "cells": [
    {
      "cell_type": "markdown",
      "metadata": {
        "id": "yLqvJIN5fFNc"
      },
      "source": [
        "*   Network     : VGG16\n",
        "*   Optimizer   : SGD\n",
        "*   Regularizer : Dropout\n",
        "\n",
        "Ref for code: https://github.com/geifmany/cifar-vgg/blob/master/cifar100vgg.py"
      ]
    },
    {
      "cell_type": "code",
      "metadata": {
        "id": "YxgWy-BgfHrF"
      },
      "source": [
        "from __future__ import print_function\n",
        "\n",
        "import keras\n",
        "from keras import optimizers\n",
        "from keras import backend as K\n",
        "from keras import regularizers\n",
        "from keras import callbacks\n",
        "\n",
        "from keras.datasets import cifar100\n",
        "from keras.layers.core import Lambda\n",
        "from keras.layers import Dense, Dropout, Activation, Flatten, Conv2D, MaxPooling2D, BatchNormalization\n",
        "from keras.models import Sequential\n",
        "from keras.preprocessing.image import ImageDataGenerator\n",
        "\n",
        "from sklearn.model_selection import train_test_split\n",
        "from sklearn.metrics import accuracy_score, precision_score, recall_score, confusion_matrix, classification_report\n",
        "\n",
        "import numpy as np\n",
        "import matplotlib.pyplot as plt"
      ],
      "execution_count": null,
      "outputs": []
    },
    {
      "cell_type": "code",
      "metadata": {
        "id": "IpMFDACKfMOR",
        "outputId": "ff389439-292c-4650-ce16-452b271e2688",
        "colab": {
          "base_uri": "https://localhost:8080/",
          "height": 51
        }
      },
      "source": [
        "#Loading cifar100 dataset and dividing into Train, Validation and Test sets\n",
        "\n",
        "(X_train, Y_train), (x_test, y_test_o) = cifar100.load_data()\n",
        "\n",
        "X_train = X_train.astype('float32')\n",
        "x_test = x_test.astype('float32')\n",
        "\n",
        "x_train, x_validation, y_train, y_validation = train_test_split(X_train, Y_train, test_size=0.2, random_state=42)\n",
        "\n",
        "y_train = keras.utils.to_categorical(y_train, 100)\n",
        "y_validation = keras.utils.to_categorical(y_validation, 100)\n",
        "y_test = keras.utils.to_categorical(y_test_o, 100)"
      ],
      "execution_count": null,
      "outputs": [
        {
          "output_type": "stream",
          "text": [
            "Downloading data from https://www.cs.toronto.edu/~kriz/cifar-100-python.tar.gz\n",
            "169009152/169001437 [==============================] - 4s 0us/step\n"
          ],
          "name": "stdout"
        }
      ]
    },
    {
      "cell_type": "code",
      "metadata": {
        "id": "KYcLdBcpfPXQ"
      },
      "source": [
        "#Definition of hyper parameters and other characteristics of the network like the activation functions\n",
        "\n",
        "num_classes = 100\n",
        "weight_decay = 0.0005\n",
        "x_shape = [32,32,3]\n",
        "\n",
        "conv_activation_func = 'elu'\n",
        "dense_activation_func = 'elu'\n",
        "ouput_activation_func = 'softmax'\n",
        "\n",
        "batch_size = 128\n",
        "maxepoches = 100\n",
        "l_rate = 0.01\n",
        "# lr_decay = 1e-6\n",
        "# lr_drop = 20"
      ],
      "execution_count": null,
      "outputs": []
    },
    {
      "cell_type": "code",
      "metadata": {
        "id": "QCJ0kU13fRV7"
      },
      "source": [
        "#Model definition of VGG16\n",
        "def createModel():\n",
        "  model = Sequential()\n",
        "  weight_decay = 0.0005 #Hyper parameter\n",
        "\n",
        "  model.add(Conv2D(64, (3, 3), padding='same', input_shape=x_shape))\n",
        "  model.add(Activation(conv_activation_func))\n",
        "\n",
        "  model.add(Conv2D(64, (3, 3), padding='same'))\n",
        "  model.add(Activation(conv_activation_func))\n",
        "\n",
        "  model.add(MaxPooling2D(pool_size=(2, 2), strides=2))\n",
        "\n",
        "  model.add(Dropout(0.2))\n",
        "\n",
        "  model.add(Conv2D(128, (3, 3), padding='same'))\n",
        "  model.add(Activation(conv_activation_func))\n",
        "\n",
        "  model.add(Conv2D(128, (3, 3), padding='same'))\n",
        "  model.add(Activation(conv_activation_func))\n",
        "\n",
        "  model.add(MaxPooling2D(pool_size=(2, 2), strides=2))\n",
        "\n",
        "  # model.add(Dropout(0.2))\n",
        "\n",
        "  model.add(Conv2D(256, (3, 3), padding='same'))\n",
        "  model.add(Activation(conv_activation_func))\n",
        "\n",
        "  model.add(Conv2D(256, (3, 3), padding='same'))\n",
        "  model.add(Activation(conv_activation_func))\n",
        "\n",
        "  model.add(Conv2D(256, (3, 3), padding='same'))\n",
        "  model.add(Activation(conv_activation_func))\n",
        "\n",
        "  model.add(MaxPooling2D(pool_size=(2, 2), strides=2))\n",
        "\n",
        "  # model.add(Dropout(0.2))\n",
        "\n",
        "  model.add(Conv2D(512, (3, 3), padding='same'))\n",
        "  model.add(Activation(conv_activation_func))\n",
        "\n",
        "  model.add(Conv2D(512, (3, 3), padding='same'))\n",
        "  model.add(Activation(conv_activation_func))\n",
        "\n",
        "  model.add(Conv2D(512, (3, 3), padding='same'))\n",
        "  model.add(Activation(conv_activation_func))\n",
        "\n",
        "  model.add(MaxPooling2D(pool_size=(2, 2), strides=2))\n",
        "\n",
        "  # model.add(Dropout(0.2))\n",
        "\n",
        "  # model.add(Conv2D(512, (3, 3), padding='same'))\n",
        "  # model.add(Activation(conv_activation_func))\n",
        "\n",
        "  # model.add(Conv2D(512, (3, 3), padding='same'))\n",
        "  # model.add(Activation(conv_activation_func))\n",
        "\n",
        "  # model.add(Conv2D(512, (3, 3), padding='same'))\n",
        "  # model.add(Activation(conv_activation_func))\n",
        "\n",
        "  # model.add(MaxPooling2D(pool_size=(2, 2), strides=2))\n",
        "\n",
        "  # model.add(Dropout(0.2))\n",
        "\n",
        "  model.add(Flatten())\n",
        "\n",
        "  model.add(Dense(512))\n",
        "  model.add(Activation(dense_activation_func))\n",
        "\n",
        "  model.add(Dense(512))\n",
        "  model.add(Activation(dense_activation_func))\n",
        "\n",
        "  model.add(Dense(num_classes))\n",
        "  model.add(Activation(ouput_activation_func))\n",
        "\n",
        "  #Definition of SGD optimizer\n",
        "  # sgd = optimizers.SGD(lr=learning_rate, decay=lr_decay, momentum=0.9, nesterov=True)\n",
        "  sgd = optimizers.SGD(learning_rate=l_rate, clipnorm=1.0)\n",
        "\n",
        "  #Compiling the model\n",
        "  model.compile(loss='categorical_crossentropy', optimizer=sgd, metrics=['accuracy'])\n",
        "\n",
        "  return model"
      ],
      "execution_count": null,
      "outputs": []
    },
    {
      "cell_type": "code",
      "metadata": {
        "id": "TXaLcZ7u_jhC"
      },
      "source": [
        "#data augmentation\n",
        "datagen = ImageDataGenerator(\n",
        "    featurewise_center=False,  # set input mean to 0 over the dataset\n",
        "    samplewise_center=False,  # set each sample mean to 0\n",
        "    featurewise_std_normalization=False,  # divide inputs by std of the dataset\n",
        "    samplewise_std_normalization=False,  # divide each input by its std\n",
        "    zca_whitening=False,  # apply ZCA whitening\n",
        "    rotation_range=15,  # randomly rotate images in the range (degrees, 0 to 180)\n",
        "    width_shift_range=0.1,  # randomly shift images horizontally (fraction of total width)\n",
        "    height_shift_range=0.1,  # randomly shift images vertically (fraction of total height)\n",
        "    horizontal_flip=True,  # randomly flip images\n",
        "    vertical_flip=False)  # randomly flip images\n",
        "# (std, mean, and principal components if ZCA whitening is applied).\n",
        "datagen.fit(x_train)"
      ],
      "execution_count": null,
      "outputs": []
    },
    {
      "cell_type": "code",
      "metadata": {
        "id": "KhGMEgq1fU_D"
      },
      "source": [
        "#Creating an instance of the model\n",
        "\n",
        "model = createModel()"
      ],
      "execution_count": null,
      "outputs": []
    },
    {
      "cell_type": "code",
      "metadata": {
        "id": "nukutdilfWjQ"
      },
      "source": [
        "#Defintion of callbacks with EarlyStopping \n",
        "\n",
        "callback = callbacks.EarlyStopping(monitor='val_loss', patience=10)"
      ],
      "execution_count": null,
      "outputs": []
    },
    {
      "cell_type": "code",
      "metadata": {
        "id": "xZt-dMUifYHl"
      },
      "source": [
        "#Definition of saving the best weights of the model with ModelCheckpoint\n",
        "\n",
        "checkpoint_path = \"checkpoints/VGGNet16_SGD_DropOut\"\n",
        "checkpoint = callbacks.ModelCheckpoint(filepath=checkpoint_path, monitor='val_loss', save_best_only=True, save_weights_only=True, verbose=1, mode='min')"
      ],
      "execution_count": null,
      "outputs": []
    },
    {
      "cell_type": "code",
      "metadata": {
        "id": "FkIGmLNZfZzK",
        "outputId": "2f9109a1-69c9-4120-c9ef-216525528392",
        "colab": {
          "base_uri": "https://localhost:8080/",
          "height": 1000
        }
      },
      "source": [
        "#Training the model in the training dataset\n",
        "\n",
        "history = model.fit(datagen.flow(x_train, y_train,\n",
        "                                         batch_size=batch_size),\n",
        "                            steps_per_epoch=x_train.shape[0] // batch_size,\n",
        "                            epochs=maxepoches,\n",
        "                            validation_data=(x_validation, y_validation),callbacks=[callback, checkpoint],verbose=2)\n",
        "\n",
        "# history = model.fit(x_train, y_train, steps_per_epoch=x_train.shape[0] // batch_size, epochs=maxepoches, validation_data=(x_validation, y_validation), callbacks=[callback, checkpoint])\n",
        "model.save_weights('VGGNet16_SGD_DropOut.h5')"
      ],
      "execution_count": null,
      "outputs": [
        {
          "output_type": "stream",
          "text": [
            "Epoch 1/100\n",
            "\n",
            "Epoch 00001: val_loss improved from inf to 3.92424, saving model to checkpoints/VGGNet16_SGD_DropOut\n",
            "312/312 - 25s - loss: 4.2510 - accuracy: 0.0569 - val_loss: 3.9242 - val_accuracy: 0.1058\n",
            "Epoch 2/100\n",
            "\n",
            "Epoch 00002: val_loss improved from 3.92424 to 3.68438, saving model to checkpoints/VGGNet16_SGD_DropOut\n",
            "312/312 - 25s - loss: 3.8382 - accuracy: 0.1147 - val_loss: 3.6844 - val_accuracy: 0.1494\n",
            "Epoch 3/100\n",
            "\n",
            "Epoch 00003: val_loss improved from 3.68438 to 3.45471, saving model to checkpoints/VGGNet16_SGD_DropOut\n",
            "312/312 - 25s - loss: 3.6297 - accuracy: 0.1503 - val_loss: 3.4547 - val_accuracy: 0.1873\n",
            "Epoch 4/100\n",
            "\n",
            "Epoch 00004: val_loss improved from 3.45471 to 3.39128, saving model to checkpoints/VGGNet16_SGD_DropOut\n",
            "312/312 - 25s - loss: 3.4797 - accuracy: 0.1754 - val_loss: 3.3913 - val_accuracy: 0.1926\n",
            "Epoch 5/100\n",
            "\n",
            "Epoch 00005: val_loss improved from 3.39128 to 3.22441, saving model to checkpoints/VGGNet16_SGD_DropOut\n",
            "312/312 - 25s - loss: 3.3555 - accuracy: 0.1999 - val_loss: 3.2244 - val_accuracy: 0.2249\n",
            "Epoch 6/100\n",
            "\n",
            "Epoch 00006: val_loss improved from 3.22441 to 3.15631, saving model to checkpoints/VGGNet16_SGD_DropOut\n",
            "312/312 - 25s - loss: 3.2590 - accuracy: 0.2145 - val_loss: 3.1563 - val_accuracy: 0.2335\n",
            "Epoch 7/100\n",
            "\n",
            "Epoch 00007: val_loss improved from 3.15631 to 3.09750, saving model to checkpoints/VGGNet16_SGD_DropOut\n",
            "312/312 - 25s - loss: 3.1725 - accuracy: 0.2310 - val_loss: 3.0975 - val_accuracy: 0.2523\n",
            "Epoch 8/100\n",
            "\n",
            "Epoch 00008: val_loss did not improve from 3.09750\n",
            "312/312 - 25s - loss: 3.1014 - accuracy: 0.2431 - val_loss: 3.1226 - val_accuracy: 0.2492\n",
            "Epoch 9/100\n",
            "\n",
            "Epoch 00009: val_loss improved from 3.09750 to 3.03261, saving model to checkpoints/VGGNet16_SGD_DropOut\n",
            "312/312 - 25s - loss: 3.0284 - accuracy: 0.2590 - val_loss: 3.0326 - val_accuracy: 0.2621\n",
            "Epoch 10/100\n",
            "\n",
            "Epoch 00010: val_loss improved from 3.03261 to 2.96173, saving model to checkpoints/VGGNet16_SGD_DropOut\n",
            "312/312 - 25s - loss: 2.9644 - accuracy: 0.2697 - val_loss: 2.9617 - val_accuracy: 0.2709\n",
            "Epoch 11/100\n",
            "\n",
            "Epoch 00011: val_loss did not improve from 2.96173\n",
            "312/312 - 25s - loss: 2.9074 - accuracy: 0.2800 - val_loss: 2.9764 - val_accuracy: 0.2682\n",
            "Epoch 12/100\n",
            "\n",
            "Epoch 00012: val_loss improved from 2.96173 to 2.85738, saving model to checkpoints/VGGNet16_SGD_DropOut\n",
            "312/312 - 25s - loss: 2.8461 - accuracy: 0.2917 - val_loss: 2.8574 - val_accuracy: 0.2940\n",
            "Epoch 13/100\n",
            "\n",
            "Epoch 00013: val_loss improved from 2.85738 to 2.74848, saving model to checkpoints/VGGNet16_SGD_DropOut\n",
            "312/312 - 25s - loss: 2.7910 - accuracy: 0.3025 - val_loss: 2.7485 - val_accuracy: 0.3189\n",
            "Epoch 14/100\n",
            "\n",
            "Epoch 00014: val_loss did not improve from 2.74848\n",
            "312/312 - 25s - loss: 2.7409 - accuracy: 0.3138 - val_loss: 2.8547 - val_accuracy: 0.2995\n",
            "Epoch 15/100\n",
            "\n",
            "Epoch 00015: val_loss improved from 2.74848 to 2.71371, saving model to checkpoints/VGGNet16_SGD_DropOut\n",
            "312/312 - 25s - loss: 2.6921 - accuracy: 0.3226 - val_loss: 2.7137 - val_accuracy: 0.3262\n",
            "Epoch 16/100\n",
            "\n",
            "Epoch 00016: val_loss improved from 2.71371 to 2.68303, saving model to checkpoints/VGGNet16_SGD_DropOut\n",
            "312/312 - 25s - loss: 2.6441 - accuracy: 0.3303 - val_loss: 2.6830 - val_accuracy: 0.3311\n",
            "Epoch 17/100\n",
            "\n",
            "Epoch 00017: val_loss improved from 2.68303 to 2.68082, saving model to checkpoints/VGGNet16_SGD_DropOut\n",
            "312/312 - 25s - loss: 2.6000 - accuracy: 0.3433 - val_loss: 2.6808 - val_accuracy: 0.3282\n",
            "Epoch 18/100\n",
            "\n",
            "Epoch 00018: val_loss improved from 2.68082 to 2.63650, saving model to checkpoints/VGGNet16_SGD_DropOut\n",
            "312/312 - 25s - loss: 2.5572 - accuracy: 0.3507 - val_loss: 2.6365 - val_accuracy: 0.3379\n",
            "Epoch 19/100\n",
            "\n",
            "Epoch 00019: val_loss did not improve from 2.63650\n",
            "312/312 - 25s - loss: 2.5100 - accuracy: 0.3620 - val_loss: 2.7030 - val_accuracy: 0.3254\n",
            "Epoch 20/100\n",
            "\n",
            "Epoch 00020: val_loss did not improve from 2.63650\n",
            "312/312 - 25s - loss: 2.4743 - accuracy: 0.3674 - val_loss: 2.6410 - val_accuracy: 0.3391\n",
            "Epoch 21/100\n",
            "\n",
            "Epoch 00021: val_loss improved from 2.63650 to 2.53174, saving model to checkpoints/VGGNet16_SGD_DropOut\n",
            "312/312 - 24s - loss: 2.4327 - accuracy: 0.3725 - val_loss: 2.5317 - val_accuracy: 0.3622\n",
            "Epoch 22/100\n",
            "\n",
            "Epoch 00022: val_loss improved from 2.53174 to 2.50836, saving model to checkpoints/VGGNet16_SGD_DropOut\n",
            "312/312 - 25s - loss: 2.4039 - accuracy: 0.3864 - val_loss: 2.5084 - val_accuracy: 0.3650\n",
            "Epoch 23/100\n",
            "\n",
            "Epoch 00023: val_loss did not improve from 2.50836\n",
            "312/312 - 24s - loss: 2.3647 - accuracy: 0.3902 - val_loss: 2.6428 - val_accuracy: 0.3428\n",
            "Epoch 24/100\n",
            "\n",
            "Epoch 00024: val_loss did not improve from 2.50836\n",
            "312/312 - 24s - loss: 2.3344 - accuracy: 0.3954 - val_loss: 2.5394 - val_accuracy: 0.3634\n",
            "Epoch 25/100\n",
            "\n",
            "Epoch 00025: val_loss did not improve from 2.50836\n",
            "312/312 - 24s - loss: 2.2855 - accuracy: 0.4100 - val_loss: 2.5708 - val_accuracy: 0.3583\n",
            "Epoch 26/100\n",
            "\n",
            "Epoch 00026: val_loss did not improve from 2.50836\n",
            "312/312 - 25s - loss: 2.2583 - accuracy: 0.4125 - val_loss: 2.5986 - val_accuracy: 0.3525\n",
            "Epoch 27/100\n",
            "\n",
            "Epoch 00027: val_loss improved from 2.50836 to 2.43983, saving model to checkpoints/VGGNet16_SGD_DropOut\n",
            "312/312 - 25s - loss: 2.2309 - accuracy: 0.4199 - val_loss: 2.4398 - val_accuracy: 0.3779\n",
            "Epoch 28/100\n",
            "\n",
            "Epoch 00028: val_loss did not improve from 2.43983\n",
            "312/312 - 25s - loss: 2.1960 - accuracy: 0.4282 - val_loss: 2.5116 - val_accuracy: 0.3790\n",
            "Epoch 29/100\n",
            "\n",
            "Epoch 00029: val_loss did not improve from 2.43983\n",
            "312/312 - 25s - loss: 2.1661 - accuracy: 0.4329 - val_loss: 2.5468 - val_accuracy: 0.3669\n",
            "Epoch 30/100\n",
            "\n",
            "Epoch 00030: val_loss did not improve from 2.43983\n",
            "312/312 - 25s - loss: 2.1346 - accuracy: 0.4385 - val_loss: 2.4564 - val_accuracy: 0.3859\n",
            "Epoch 31/100\n",
            "\n",
            "Epoch 00031: val_loss did not improve from 2.43983\n",
            "312/312 - 25s - loss: 2.1032 - accuracy: 0.4494 - val_loss: 2.6235 - val_accuracy: 0.3501\n",
            "Epoch 32/100\n",
            "\n",
            "Epoch 00032: val_loss did not improve from 2.43983\n",
            "312/312 - 25s - loss: 2.0731 - accuracy: 0.4549 - val_loss: 2.4576 - val_accuracy: 0.3790\n",
            "Epoch 33/100\n",
            "\n",
            "Epoch 00033: val_loss did not improve from 2.43983\n",
            "312/312 - 24s - loss: 2.0422 - accuracy: 0.4596 - val_loss: 2.4535 - val_accuracy: 0.3845\n",
            "Epoch 34/100\n",
            "\n",
            "Epoch 00034: val_loss did not improve from 2.43983\n",
            "312/312 - 24s - loss: 2.0205 - accuracy: 0.4665 - val_loss: 2.5976 - val_accuracy: 0.3580\n",
            "Epoch 35/100\n",
            "\n",
            "Epoch 00035: val_loss improved from 2.43983 to 2.41835, saving model to checkpoints/VGGNet16_SGD_DropOut\n",
            "312/312 - 25s - loss: 1.9929 - accuracy: 0.4701 - val_loss: 2.4184 - val_accuracy: 0.3962\n",
            "Epoch 36/100\n",
            "\n",
            "Epoch 00036: val_loss improved from 2.41835 to 2.36706, saving model to checkpoints/VGGNet16_SGD_DropOut\n",
            "312/312 - 25s - loss: 1.9627 - accuracy: 0.4773 - val_loss: 2.3671 - val_accuracy: 0.4059\n",
            "Epoch 37/100\n",
            "\n",
            "Epoch 00037: val_loss improved from 2.36706 to 2.32389, saving model to checkpoints/VGGNet16_SGD_DropOut\n",
            "312/312 - 25s - loss: 1.9438 - accuracy: 0.4850 - val_loss: 2.3239 - val_accuracy: 0.4089\n",
            "Epoch 38/100\n",
            "\n",
            "Epoch 00038: val_loss did not improve from 2.32389\n",
            "312/312 - 25s - loss: 1.9172 - accuracy: 0.4907 - val_loss: 2.4297 - val_accuracy: 0.3898\n",
            "Epoch 39/100\n",
            "\n",
            "Epoch 00039: val_loss did not improve from 2.32389\n",
            "312/312 - 25s - loss: 1.8931 - accuracy: 0.4938 - val_loss: 2.4014 - val_accuracy: 0.3994\n",
            "Epoch 40/100\n",
            "\n",
            "Epoch 00040: val_loss did not improve from 2.32389\n",
            "312/312 - 25s - loss: 1.8516 - accuracy: 0.5029 - val_loss: 2.4129 - val_accuracy: 0.4001\n",
            "Epoch 41/100\n",
            "\n",
            "Epoch 00041: val_loss improved from 2.32389 to 2.30937, saving model to checkpoints/VGGNet16_SGD_DropOut\n",
            "312/312 - 25s - loss: 1.8437 - accuracy: 0.5041 - val_loss: 2.3094 - val_accuracy: 0.4191\n",
            "Epoch 42/100\n",
            "\n",
            "Epoch 00042: val_loss did not improve from 2.30937\n",
            "312/312 - 25s - loss: 1.8057 - accuracy: 0.5138 - val_loss: 2.5622 - val_accuracy: 0.3802\n",
            "Epoch 43/100\n",
            "\n",
            "Epoch 00043: val_loss did not improve from 2.30937\n",
            "312/312 - 25s - loss: 1.7901 - accuracy: 0.5186 - val_loss: 2.3739 - val_accuracy: 0.4108\n",
            "Epoch 44/100\n",
            "\n",
            "Epoch 00044: val_loss did not improve from 2.30937\n",
            "312/312 - 25s - loss: 1.7545 - accuracy: 0.5271 - val_loss: 2.5104 - val_accuracy: 0.3838\n",
            "Epoch 45/100\n",
            "\n",
            "Epoch 00045: val_loss improved from 2.30937 to 2.28999, saving model to checkpoints/VGGNet16_SGD_DropOut\n",
            "312/312 - 25s - loss: 1.7416 - accuracy: 0.5296 - val_loss: 2.2900 - val_accuracy: 0.4327\n",
            "Epoch 46/100\n",
            "\n",
            "Epoch 00046: val_loss improved from 2.28999 to 2.27081, saving model to checkpoints/VGGNet16_SGD_DropOut\n",
            "312/312 - 25s - loss: 1.7184 - accuracy: 0.5348 - val_loss: 2.2708 - val_accuracy: 0.4329\n",
            "Epoch 47/100\n",
            "\n",
            "Epoch 00047: val_loss did not improve from 2.27081\n",
            "312/312 - 25s - loss: 1.6928 - accuracy: 0.5388 - val_loss: 2.4674 - val_accuracy: 0.3905\n",
            "Epoch 48/100\n",
            "\n",
            "Epoch 00048: val_loss did not improve from 2.27081\n",
            "312/312 - 25s - loss: 1.6729 - accuracy: 0.5427 - val_loss: 2.4768 - val_accuracy: 0.4036\n",
            "Epoch 49/100\n",
            "\n",
            "Epoch 00049: val_loss did not improve from 2.27081\n",
            "312/312 - 25s - loss: 1.6519 - accuracy: 0.5471 - val_loss: 2.2714 - val_accuracy: 0.4325\n",
            "Epoch 50/100\n",
            "\n",
            "Epoch 00050: val_loss did not improve from 2.27081\n",
            "312/312 - 25s - loss: 1.6247 - accuracy: 0.5552 - val_loss: 2.3525 - val_accuracy: 0.4123\n",
            "Epoch 51/100\n",
            "\n",
            "Epoch 00051: val_loss did not improve from 2.27081\n",
            "312/312 - 25s - loss: 1.5913 - accuracy: 0.5626 - val_loss: 2.3262 - val_accuracy: 0.4269\n",
            "Epoch 52/100\n",
            "\n",
            "Epoch 00052: val_loss did not improve from 2.27081\n",
            "312/312 - 25s - loss: 1.5817 - accuracy: 0.5629 - val_loss: 2.2851 - val_accuracy: 0.4355\n",
            "Epoch 53/100\n",
            "\n",
            "Epoch 00053: val_loss did not improve from 2.27081\n",
            "312/312 - 25s - loss: 1.5614 - accuracy: 0.5725 - val_loss: 2.3611 - val_accuracy: 0.4204\n",
            "Epoch 54/100\n",
            "\n",
            "Epoch 00054: val_loss did not improve from 2.27081\n",
            "312/312 - 25s - loss: 1.5325 - accuracy: 0.5778 - val_loss: 2.3514 - val_accuracy: 0.4224\n",
            "Epoch 55/100\n",
            "\n",
            "Epoch 00055: val_loss did not improve from 2.27081\n",
            "312/312 - 24s - loss: 1.5201 - accuracy: 0.5784 - val_loss: 2.3632 - val_accuracy: 0.4254\n",
            "Epoch 56/100\n",
            "\n",
            "Epoch 00056: val_loss did not improve from 2.27081\n",
            "312/312 - 25s - loss: 1.4984 - accuracy: 0.5862 - val_loss: 2.4230 - val_accuracy: 0.4116\n"
          ],
          "name": "stdout"
        }
      ]
    },
    {
      "cell_type": "code",
      "metadata": {
        "id": "EY9_x2J2fdXq",
        "outputId": "6d0d1920-5713-4f8e-8ef1-28b82b002f96",
        "colab": {
          "base_uri": "https://localhost:8080/",
          "height": 295
        }
      },
      "source": [
        "#Plot the Training and Validation accuracy v/s Epochs\n",
        "#history.keys() = ['accuracy', 'loss', 'val_accuracy', 'val_loss']\n",
        "\n",
        "plt.plot(history.history['accuracy'])\n",
        "plt.plot(history.history['val_accuracy'])\n",
        "plt.title('Model accuracy')\n",
        "plt.ylabel('Accuracy')\n",
        "plt.xlabel('Epochs')\n",
        "plt.legend(['train', 'validation'], loc='upper left')\n",
        "plt.show()"
      ],
      "execution_count": null,
      "outputs": [
        {
          "output_type": "display_data",
          "data": {
            "image/png": "[encoded data removed]",
            "text/plain": [
              "<Figure size 432x288 with 1 Axes>"
            ]
          },
          "metadata": {
            "tags": [],
            "needs_background": "light"
          }
        }
      ]
    },
    {
      "cell_type": "code",
      "metadata": {
        "id": "dqb8z1-SffJj",
        "outputId": "622770d4-a103-4771-afca-c4bc551ccccc",
        "colab": {
          "base_uri": "https://localhost:8080/",
          "height": 295
        }
      },
      "source": [
        "#Plot the Training and Validation loss v/s Epochs\n",
        "\n",
        "plt.plot(history.history['loss'])\n",
        "plt.plot(history.history['val_loss'])\n",
        "plt.title('Model loss')\n",
        "plt.ylabel('Loss')\n",
        "plt.xlabel('Epochs')\n",
        "plt.legend(['train', 'validation'], loc='upper left')\n",
        "plt.show()"
      ],
      "execution_count": null,
      "outputs": [
        {
          "output_type": "display_data",
          "data": {
            "image/png": "[encoded data removed]",
            "text/plain": [
              "<Figure size 432x288 with 1 Axes>"
            ]
          },
          "metadata": {
            "tags": [],
            "needs_background": "light"
          }
        }
      ]
    },
    {
      "cell_type": "code",
      "metadata": {
        "id": "nMJqdVasfhEI",
        "outputId": "1e8ee371-35c3-4dff-b789-2c77c31040b7",
        "colab": {
          "base_uri": "https://localhost:8080/",
          "height": 105
        }
      },
      "source": [
        "#Testing the model using the best weights of the model\n",
        "\n",
        "model_test = createModel()\n",
        "model_test.load_weights(checkpoint_path)\n",
        "loss, acc = model_test.evaluate(x_test,  y_test, verbose=2)\n",
        "# print(loss, acc)\n",
        "\n",
        "# predict classes for test set\n",
        "predict_y_test = model.predict_classes(x_test, verbose=0)"
      ],
      "execution_count": null,
      "outputs": [
        {
          "output_type": "stream",
          "text": [
            "313/313 - 2s - loss: 2.2484 - accuracy: 0.4423\n",
            "WARNING:tensorflow:From <ipython-input-12-fab0d2a21a6c>:9: Sequential.predict_classes (from tensorflow.python.keras.engine.sequential) is deprecated and will be removed after 2021-01-01.\n",
            "Instructions for updating:\n",
            "Please use instead:* `np.argmax(model.predict(x), axis=-1)`,   if your model does multi-class classification   (e.g. if it uses a `softmax` last-layer activation).* `(model.predict(x) > 0.5).astype(\"int32\")`,   if your model does binary classification   (e.g. if it uses a `sigmoid` last-layer activation).\n"
          ],
          "name": "stdout"
        }
      ]
    },
    {
      "cell_type": "code",
      "metadata": {
        "id": "KgY08tc1fimf",
        "outputId": "2625d318-0b79-40cb-f96d-a83d2deec200",
        "colab": {
          "base_uri": "https://localhost:8080/",
          "height": 187
        }
      },
      "source": [
        "#Precision, recall and accuracy of the model on test data\n",
        " \n",
        "# accuracy: (tp + tn) / (p + n)\n",
        "accuracy = accuracy_score(y_test_o, predict_y_test)\n",
        "print('Accuracy: %f' % accuracy)\n",
        "\n",
        "# precision tp / (tp + fp)\n",
        "precision = precision_score(y_test_o, predict_y_test, average='macro')\n",
        "print('Precision: %f' % precision)\n",
        "\n",
        "# recall: tp / (tp + fn)\n",
        "recall = recall_score(y_test_o, predict_y_test, average='macro')\n",
        "print('Recall: %f' % recall)\n",
        "\n",
        "# Confusion matrix\n",
        "confusion_matrix_ = confusion_matrix(y_test_o, predict_y_test)\n",
        "print(confusion_matrix_)"
      ],
      "execution_count": null,
      "outputs": [
        {
          "output_type": "stream",
          "text": [
            "Accuracy: 0.426700\n",
            "Precision: 0.468314\n",
            "Recall: 0.426700\n",
            "[[69  2  0 ...  0  0  0]\n",
            " [ 0 60  0 ...  1  0  0]\n",
            " [ 0  2 34 ...  1  3  0]\n",
            " ...\n",
            " [ 0  0  0 ... 46  0  0]\n",
            " [ 0  1  4 ...  2 11  3]\n",
            " [ 0  0  1 ...  0  0 30]]\n"
          ],
          "name": "stdout"
        }
      ]
    },
    {
      "cell_type": "code",
      "metadata": {
        "id": "4P5o0tY9HMWd",
        "outputId": "6bde7d01-0c42-4d7b-afb6-ff059756152d",
        "colab": {
          "base_uri": "https://localhost:8080/",
          "height": 271
        }
      },
      "source": [
        "import seaborn as sb\n",
        "heat_map = sb.heatmap(confusion_matrix_)\n",
        "plt.show()"
      ],
      "execution_count": null,
      "outputs": [
        {
          "output_type": "display_data",
          "data": {
            "image/png": "[encoded data removed]",
            "text/plain": [
              "<Figure size 432x288 with 2 Axes>"
            ]
          },
          "metadata": {
            "tags": [],
            "needs_background": "light"
          }
        }
      ]
    }
  ]
}