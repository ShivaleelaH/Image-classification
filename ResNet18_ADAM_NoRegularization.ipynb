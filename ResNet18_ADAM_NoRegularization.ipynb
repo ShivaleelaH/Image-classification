{
  "nbformat": 4,
  "nbformat_minor": 0,
  "metadata": {
    "colab": {
      "name": "ResNet18_ADAM_NoRegularization.ipynb",
      "provenance": [],
      "collapsed_sections": []
    },
    "kernelspec": {
      "name": "python3",
      "display_name": "Python 3"
    },
    "accelerator": "GPU"
  },
  "cells": [
    {
      "cell_type": "markdown",
      "metadata": {
        "id": "x-LgQXIHgpA0"
      },
      "source": [
        "*   Network     : ResNet18\n",
        "*   Optimizer   : ADAM\n",
        "*   Regularizer : No regularization\n",
        "\n",
        "Ref for code: https://github.com/priya-dwivedi/Deep-Learning/blob/master/resnet_keras/Residual_Networks_yourself.ipynb"
      ]
    },
    {
      "cell_type": "code",
      "metadata": {
        "id": "vL0jNqO3grc-"
      },
      "source": [
        "from __future__ import print_function\n",
        "\n",
        "import keras\n",
        "from keras import optimizers\n",
        "from keras import backend as K\n",
        "from keras import regularizers\n",
        "from keras import callbacks\n",
        "\n",
        "from keras.applications.imagenet_utils import preprocess_input\n",
        "from keras.datasets import cifar100\n",
        "from keras.initializers import glorot_uniform\n",
        "from keras.layers.core import Lambda\n",
        "from keras.layers import Input, Add, Dense, Activation, ZeroPadding2D, BatchNormalization, Flatten, Conv2D, AveragePooling2D, MaxPooling2D, GlobalMaxPooling2D\n",
        "from keras.models import Model, load_model\n",
        "from keras.preprocessing.image import ImageDataGenerator\n",
        "from keras.utils import layer_utils, data_utils, vis_utils, plot_model #data_utils.get_file #vis_utils.model_to_dot\n",
        "\n",
        "import numpy as np\n",
        "import pydot\n",
        "import scipy.misc\n",
        "import matplotlib.pyplot as plt\n",
        "import tensorflow as tf\n",
        "\n",
        "from IPython.display import SVG\n",
        "from sklearn.model_selection import train_test_split\n",
        "from sklearn.metrics import accuracy_score, precision_score, recall_score, confusion_matrix, classification_report\n",
        "from matplotlib.pyplot import imshow\n",
        "%matplotlib inline\n",
        "\n",
        "import keras.backend as K\n",
        "K.set_image_data_format('channels_last')\n",
        "K.set_learning_phase(1)"
      ],
      "execution_count": null,
      "outputs": []
    },
    {
      "cell_type": "code",
      "metadata": {
        "id": "-oT7DkGcgupd"
      },
      "source": [
        "#Loading cifar100 dataset and dividing into Train, Validation and Test sets\n",
        "\n",
        "(X_train, Y_train), (x_test, y_test_o) = cifar100.load_data()\n",
        "\n",
        "X_train = X_train.astype('float32')\n",
        "x_test = x_test.astype('float32')\n",
        "\n",
        "x_train, x_validation, y_train, y_validation = train_test_split(X_train, Y_train, test_size=0.2, random_state=42)\n",
        "\n",
        "y_train = keras.utils.to_categorical(y_train, 100)\n",
        "y_validation = keras.utils.to_categorical(y_validation, 100)\n",
        "y_test = keras.utils.to_categorical(y_test_o, 100)"
      ],
      "execution_count": null,
      "outputs": []
    },
    {
      "cell_type": "code",
      "metadata": {
        "id": "noh3oRUcgwWm"
      },
      "source": [
        "#Definition of hyper parameters and other characteristics of the network like the activation functions\n",
        "\n",
        "num_classes = 100\n",
        "weight_decay = 0.0005\n",
        "x_shape = [32,32,3]\n",
        "\n",
        "conv_activation_func = 'elu'\n",
        "\n",
        "batch_size = 32\n",
        "maxepoches = 100\n",
        "l_rate = 0.0001\n",
        "lr_decay = 1e-6\n",
        "# lr_drop = 20"
      ],
      "execution_count": null,
      "outputs": []
    },
    {
      "cell_type": "code",
      "metadata": {
        "id": "daATFJ1IgyXf"
      },
      "source": [
        "def identity_block(X, f, filters):\n",
        "    # Retrieve Filters\n",
        "    F1, F2 = filters\n",
        "    \n",
        "    # Save the input value to add back to the main path. \n",
        "    X_shortcut = X\n",
        "    \n",
        "    # First component of main path\n",
        "    X = Conv2D(filters = F1, kernel_size = (3, 3), strides = (1,1), padding = 'same')(X)\n",
        "    X = Activation(conv_activation_func)(X)\n",
        "\n",
        "    # Second component of main path \n",
        "    X = Conv2D(filters = F2, kernel_size = (3, 3), strides = (1,1), padding = 'same')(X)\n",
        "    X = Activation(conv_activation_func)(X)\n",
        "\n",
        "    # Final step: Add shortcut value to main path, and pass it through a RELU activation \n",
        "    X = Add()([X, X_shortcut])\n",
        "    X = Activation(conv_activation_func)(X)\n",
        "       \n",
        "    return X"
      ],
      "execution_count": null,
      "outputs": []
    },
    {
      "cell_type": "code",
      "metadata": {
        "id": "HfHYwzG7g0EO"
      },
      "source": [
        "def convolutional_block(X, f, filters, s = 2):\n",
        "    # Retrieve Filters\n",
        "    F1, F2 = filters\n",
        "    \n",
        "    # Save the input value\n",
        "    X_shortcut = X\n",
        "\n",
        "    ##### MAIN PATH #####\n",
        "    # First component of main path \n",
        "    X = Conv2D(F1, (3, 3), strides = (s,s), padding='same')(X)\n",
        "    X = Activation(conv_activation_func)(X)\n",
        "\n",
        "    # Second component of main path\n",
        "    X = Conv2D(filters = F2, kernel_size = (3, 3), strides = (1,1), padding = 'same')(X)\n",
        "    X = Activation(conv_activation_func)(X)\n",
        "\n",
        "    ##### SHORTCUT PATH #### \n",
        "    X_shortcut = Conv2D(filters = F2, kernel_size = (3, 3), strides = (s,s), padding = 'same')(X_shortcut)\n",
        "\n",
        "    # Final step: Add shortcut value to main path, and pass it through a RELU activation \n",
        "    X = Add()([X, X_shortcut])\n",
        "    X = Activation(conv_activation_func)(X)\n",
        "    \n",
        "    return X"
      ],
      "execution_count": null,
      "outputs": []
    },
    {
      "cell_type": "code",
      "metadata": {
        "id": "JXYwrsJHg13k"
      },
      "source": [
        "def ResNet18(input_shape=(32, 32, 3), classes=100):\n",
        "    # Define the input as a tensor with shape input_shape\n",
        "    X_input = Input(input_shape)\n",
        "\n",
        "    # Zero-Padding\n",
        "    X = ZeroPadding2D((3, 3))(X_input)\n",
        "\n",
        "    # Stage 1\n",
        "    X = Conv2D(32, (3, 3), strides=(2, 2), padding='same')(X)\n",
        "    X = Activation(conv_activation_func)(X)\n",
        "    X = MaxPooling2D((3, 3), strides=(2, 2))(X)\n",
        "\n",
        "    # Stage 2\n",
        "    X = convolutional_block(X, f=3, filters=[64, 64], s=1)\n",
        "    X = identity_block(X, 3, [64, 64])\n",
        "\n",
        "    # Stage 3\n",
        "    X = convolutional_block(X, f = 3, filters = [128, 128], s = 2)\n",
        "    X = identity_block(X, 3, [128, 128])\n",
        "\n",
        "    # Stage 4\n",
        "    X = convolutional_block(X, f = 3, filters = [256, 256], s = 2)\n",
        "    X = identity_block(X, 3, [256, 256])\n",
        "\n",
        "    # Stage 5\n",
        "    X = convolutional_block(X, f = 3, filters = [512, 512], s = 2)\n",
        "    X = identity_block(X, 3, [512, 512])\n",
        "\n",
        "    # AVGPOOL\n",
        "    X = AveragePooling2D((2,2))(X)\n",
        "\n",
        "    # output layer\n",
        "    X = Flatten()(X)\n",
        "    X = Dense(classes, activation='softmax')(X)\n",
        "    \n",
        "    # Create model\n",
        "    model = Model(inputs = X_input, outputs = X)\n",
        "\n",
        "    return model"
      ],
      "execution_count": null,
      "outputs": []
    },
    {
      "cell_type": "code",
      "metadata": {
        "id": "7iukmVXZg3_m"
      },
      "source": [
        "model = ResNet18(input_shape = (32, 32, 3), classes = 100)"
      ],
      "execution_count": null,
      "outputs": []
    },
    {
      "cell_type": "code",
      "metadata": {
        "id": "W7D8hRTog5iG"
      },
      "source": [
        "#Definition of ADAM optimizer\n",
        "adam = optimizers.Adam(learning_rate=l_rate)\n",
        "\n",
        "#Compiling the model\n",
        "model.compile(loss='categorical_crossentropy', optimizer=adam, metrics=['accuracy'])"
      ],
      "execution_count": null,
      "outputs": []
    },
    {
      "cell_type": "code",
      "metadata": {
        "id": "dibkYG1ThEqg"
      },
      "source": [
        "#data augmentation\n",
        "datagen = ImageDataGenerator(\n",
        "    featurewise_center=False,  # set input mean to 0 over the dataset\n",
        "    samplewise_center=False,  # set each sample mean to 0\n",
        "    featurewise_std_normalization=False,  # divide inputs by std of the dataset\n",
        "    samplewise_std_normalization=False,  # divide each input by its std\n",
        "    zca_whitening=False,  # apply ZCA whitening\n",
        "    rotation_range=15,  # randomly rotate images in the range (degrees, 0 to 180)\n",
        "    width_shift_range=0.1,  # randomly shift images horizontally (fraction of total width)\n",
        "    height_shift_range=0.1,  # randomly shift images vertically (fraction of total height)\n",
        "    horizontal_flip=True,  # randomly flip images\n",
        "    vertical_flip=False)  # randomly flip images\n",
        "# (std, mean, and principal components if ZCA whitening is applied).\n",
        "datagen.fit(x_train)"
      ],
      "execution_count": null,
      "outputs": []
    },
    {
      "cell_type": "code",
      "metadata": {
        "id": "euXU7BFIhGdG"
      },
      "source": [
        "#Defintion of callbacks with EarlyStopping \n",
        "\n",
        "callback = callbacks.EarlyStopping(monitor='val_loss', patience=10)"
      ],
      "execution_count": null,
      "outputs": []
    },
    {
      "cell_type": "code",
      "metadata": {
        "id": "ndqtAyfYhNAK"
      },
      "source": [
        "#Definition of saving the best weights of the model with ModelCheckpoint\n",
        "\n",
        "checkpoint_path = \"checkpoints\"\n",
        "checkpoint = callbacks.ModelCheckpoint(filepath=checkpoint_path, monitor='val_loss', save_best_only=True, save_weights_only=True, verbose=1, mode='min')"
      ],
      "execution_count": null,
      "outputs": []
    },
    {
      "cell_type": "code",
      "metadata": {
        "id": "ENIyzCNKhOoL",
        "outputId": "4bf2eda5-d2c6-4f1c-8429-2808b7c54e9e",
        "colab": {
          "base_uri": "https://localhost:8080/",
          "height": 1000
        }
      },
      "source": [
        "#Training the model in the training dataset\n",
        "\n",
        "history = model.fit(datagen.flow(x_train, y_train), epochs = maxepoches, batch_size = batch_size, validation_data=(x_validation, y_validation), callbacks=[callback, checkpoint])\n",
        "model.save_weights('ResNet18_ADAM_NoRegularization.h5')"
      ],
      "execution_count": null,
      "outputs": [
        {
          "output_type": "stream",
          "text": [
            "Epoch 1/100\n",
            "1248/1250 [============================>.] - ETA: 0s - loss: 3.8180 - accuracy: 0.1365\n",
            "Epoch 00001: val_loss improved from inf to 3.32110, saving model to checkpoints\n",
            "1250/1250 [==============================] - 33s 27ms/step - loss: 3.8177 - accuracy: 0.1365 - val_loss: 3.3211 - val_accuracy: 0.2025\n",
            "Epoch 2/100\n",
            "1250/1250 [==============================] - ETA: 0s - loss: 3.1366 - accuracy: 0.2316\n",
            "Epoch 00002: val_loss improved from 3.32110 to 2.88553, saving model to checkpoints\n",
            "1250/1250 [==============================] - 33s 26ms/step - loss: 3.1366 - accuracy: 0.2316 - val_loss: 2.8855 - val_accuracy: 0.2838\n",
            "Epoch 3/100\n",
            "1248/1250 [============================>.] - ETA: 0s - loss: 2.8661 - accuracy: 0.2823\n",
            "Epoch 00003: val_loss did not improve from 2.88553\n",
            "1250/1250 [==============================] - 32s 26ms/step - loss: 2.8662 - accuracy: 0.2822 - val_loss: 2.9157 - val_accuracy: 0.2831\n",
            "Epoch 4/100\n",
            "1249/1250 [============================>.] - ETA: 0s - loss: 2.6615 - accuracy: 0.3221\n",
            "Epoch 00004: val_loss improved from 2.88553 to 2.70431, saving model to checkpoints\n",
            "1250/1250 [==============================] - 32s 26ms/step - loss: 2.6617 - accuracy: 0.3221 - val_loss: 2.7043 - val_accuracy: 0.3169\n",
            "Epoch 5/100\n",
            "1248/1250 [============================>.] - ETA: 0s - loss: 2.4800 - accuracy: 0.3604\n",
            "Epoch 00005: val_loss improved from 2.70431 to 2.57570, saving model to checkpoints\n",
            "1250/1250 [==============================] - 33s 26ms/step - loss: 2.4802 - accuracy: 0.3603 - val_loss: 2.5757 - val_accuracy: 0.3510\n",
            "Epoch 6/100\n",
            "1250/1250 [==============================] - ETA: 0s - loss: 2.3152 - accuracy: 0.3970\n",
            "Epoch 00006: val_loss improved from 2.57570 to 2.52272, saving model to checkpoints\n",
            "1250/1250 [==============================] - 33s 27ms/step - loss: 2.3152 - accuracy: 0.3970 - val_loss: 2.5227 - val_accuracy: 0.3668\n",
            "Epoch 7/100\n",
            "1250/1250 [==============================] - ETA: 0s - loss: 2.1629 - accuracy: 0.4274\n",
            "Epoch 00007: val_loss improved from 2.52272 to 2.50005, saving model to checkpoints\n",
            "1250/1250 [==============================] - 33s 27ms/step - loss: 2.1629 - accuracy: 0.4274 - val_loss: 2.5001 - val_accuracy: 0.3684\n",
            "Epoch 8/100\n",
            "1250/1250 [==============================] - ETA: 0s - loss: 2.0216 - accuracy: 0.4574\n",
            "Epoch 00008: val_loss did not improve from 2.50005\n",
            "1250/1250 [==============================] - 33s 27ms/step - loss: 2.0216 - accuracy: 0.4574 - val_loss: 2.5609 - val_accuracy: 0.3683\n",
            "Epoch 9/100\n",
            "1250/1250 [==============================] - ETA: 0s - loss: 1.8702 - accuracy: 0.4897\n",
            "Epoch 00009: val_loss improved from 2.50005 to 2.39386, saving model to checkpoints\n",
            "1250/1250 [==============================] - 33s 27ms/step - loss: 1.8702 - accuracy: 0.4897 - val_loss: 2.3939 - val_accuracy: 0.3932\n",
            "Epoch 10/100\n",
            "1250/1250 [==============================] - ETA: 0s - loss: 1.7237 - accuracy: 0.5246\n",
            "Epoch 00010: val_loss did not improve from 2.39386\n",
            "1250/1250 [==============================] - 32s 26ms/step - loss: 1.7237 - accuracy: 0.5246 - val_loss: 2.4440 - val_accuracy: 0.3921\n",
            "Epoch 11/100\n",
            "1248/1250 [============================>.] - ETA: 0s - loss: 1.5918 - accuracy: 0.5526\n",
            "Epoch 00011: val_loss did not improve from 2.39386\n",
            "1250/1250 [==============================] - 32s 26ms/step - loss: 1.5920 - accuracy: 0.5526 - val_loss: 2.4730 - val_accuracy: 0.3991\n",
            "Epoch 12/100\n",
            "1248/1250 [============================>.] - ETA: 0s - loss: 1.4647 - accuracy: 0.5871\n",
            "Epoch 00012: val_loss did not improve from 2.39386\n",
            "1250/1250 [==============================] - 32s 26ms/step - loss: 1.4651 - accuracy: 0.5871 - val_loss: 2.4362 - val_accuracy: 0.4092\n",
            "Epoch 13/100\n",
            "1249/1250 [============================>.] - ETA: 0s - loss: 1.3330 - accuracy: 0.6217\n",
            "Epoch 00013: val_loss did not improve from 2.39386\n",
            "1250/1250 [==============================] - 32s 26ms/step - loss: 1.3332 - accuracy: 0.6216 - val_loss: 2.4848 - val_accuracy: 0.4120\n",
            "Epoch 14/100\n",
            "1248/1250 [============================>.] - ETA: 0s - loss: 1.2099 - accuracy: 0.6506\n",
            "Epoch 00014: val_loss did not improve from 2.39386\n",
            "1250/1250 [==============================] - 32s 25ms/step - loss: 1.2102 - accuracy: 0.6506 - val_loss: 2.5824 - val_accuracy: 0.4073\n",
            "Epoch 15/100\n",
            "1250/1250 [==============================] - ETA: 0s - loss: 1.0926 - accuracy: 0.6810\n",
            "Epoch 00015: val_loss did not improve from 2.39386\n",
            "1250/1250 [==============================] - 32s 25ms/step - loss: 1.0926 - accuracy: 0.6810 - val_loss: 2.6029 - val_accuracy: 0.4108\n",
            "Epoch 16/100\n",
            "1248/1250 [============================>.] - ETA: 0s - loss: 0.9982 - accuracy: 0.7058\n",
            "Epoch 00016: val_loss did not improve from 2.39386\n",
            "1250/1250 [==============================] - 32s 25ms/step - loss: 0.9978 - accuracy: 0.7058 - val_loss: 2.7030 - val_accuracy: 0.3991\n",
            "Epoch 17/100\n",
            "1250/1250 [==============================] - ETA: 0s - loss: 0.8944 - accuracy: 0.7343\n",
            "Epoch 00017: val_loss did not improve from 2.39386\n",
            "1250/1250 [==============================] - 32s 25ms/step - loss: 0.8944 - accuracy: 0.7343 - val_loss: 2.7570 - val_accuracy: 0.4112\n",
            "Epoch 18/100\n",
            "1250/1250 [==============================] - ETA: 0s - loss: 0.8113 - accuracy: 0.7555\n",
            "Epoch 00018: val_loss did not improve from 2.39386\n",
            "1250/1250 [==============================] - 32s 25ms/step - loss: 0.8113 - accuracy: 0.7555 - val_loss: 2.7743 - val_accuracy: 0.4086\n",
            "Epoch 19/100\n",
            "1248/1250 [============================>.] - ETA: 0s - loss: 0.7354 - accuracy: 0.7778\n",
            "Epoch 00019: val_loss did not improve from 2.39386\n",
            "1250/1250 [==============================] - 32s 26ms/step - loss: 0.7351 - accuracy: 0.7779 - val_loss: 2.8661 - val_accuracy: 0.4069\n"
          ],
          "name": "stdout"
        }
      ]
    },
    {
      "cell_type": "code",
      "metadata": {
        "id": "cQA86NerhRL-",
        "outputId": "4aa04942-0215-45bb-a0fe-ecbb272b6cee",
        "colab": {
          "base_uri": "https://localhost:8080/",
          "height": 295
        }
      },
      "source": [
        "#Plot the Training and Validation accuracy v/s Epochs\n",
        "#history.keys() = ['accuracy', 'loss', 'val_accuracy', 'val_loss']\n",
        "\n",
        "plt.plot(history.history['accuracy'])\n",
        "plt.plot(history.history['val_accuracy'])\n",
        "plt.title('Model accuracy')\n",
        "plt.ylabel('Accuracy')\n",
        "plt.xlabel('Epochs')\n",
        "plt.legend(['train', 'validation'], loc='upper left')\n",
        "plt.show()"
      ],
      "execution_count": null,
      "outputs": [
        {
          "output_type": "display_data",
          "data": {
            "image/png": "[encoded data removed]",
            "text/plain": [
              "<Figure size 432x288 with 1 Axes>"
            ]
          },
          "metadata": {
            "tags": [],
            "needs_background": "light"
          }
        }
      ]
    },
    {
      "cell_type": "code",
      "metadata": {
        "id": "arg8FiXOhTE3",
        "outputId": "1b0f2cba-8418-46a0-a16a-63cbf89c3ef2",
        "colab": {
          "base_uri": "https://localhost:8080/",
          "height": 295
        }
      },
      "source": [
        "#Plot the Training and Validation loss v/s Epochs\n",
        "\n",
        "plt.plot(history.history['loss'])\n",
        "plt.plot(history.history['val_loss'])\n",
        "plt.title('Model loss')\n",
        "plt.ylabel('Loss')\n",
        "plt.xlabel('Epochs')\n",
        "plt.legend(['train', 'validation'], loc='upper left')\n",
        "plt.show()"
      ],
      "execution_count": null,
      "outputs": [
        {
          "output_type": "display_data",
          "data": {
            "image/png": "[encoded data removed]",
            "text/plain": [
              "<Figure size 432x288 with 1 Axes>"
            ]
          },
          "metadata": {
            "tags": [],
            "needs_background": "light"
          }
        }
      ]
    },
    {
      "cell_type": "code",
      "metadata": {
        "id": "QJ91KdhIhUur",
        "outputId": "f1e7143e-5a57-4faf-f105-b305ebd6d7ca",
        "colab": {
          "base_uri": "https://localhost:8080/",
          "height": 34
        }
      },
      "source": [
        "#Testing the model using the best weights of the model\n",
        "\n",
        "model_test = ResNet18(input_shape = (32, 32, 3), classes = 100)\n",
        "model_test.compile(loss='categorical_crossentropy', optimizer='adam', metrics=['accuracy'])\n",
        "\n",
        "model_test.load_weights('./ResNet18_ADAM_NoRegularization.h5')\n",
        "loss, acc = model_test.evaluate(x_test,  y_test, verbose=2)\n",
        "\n",
        "predict_y_test_o = model_test.predict(x_test, verbose=0)"
      ],
      "execution_count": null,
      "outputs": [
        {
          "output_type": "stream",
          "text": [
            "313/313 - 2s - loss: 2.8119 - accuracy: 0.4220\n"
          ],
          "name": "stdout"
        }
      ]
    },
    {
      "cell_type": "code",
      "metadata": {
        "id": "-RwAtjWUhWba",
        "outputId": "52459802-162c-4eb9-c342-14439e32fd22",
        "colab": {
          "base_uri": "https://localhost:8080/",
          "height": 187
        }
      },
      "source": [
        "# #Precision, recall and accuracy of the model on test data\n",
        "predict_y_test = np.argmax(predict_y_test_o, axis=1)\n",
        "\n",
        "# accuracy: (tp + tn) / (p + n)\n",
        "accuracy = accuracy_score(y_test_o, predict_y_test)\n",
        "print('Accuracy: %f' % accuracy)\n",
        "\n",
        "# precision tp / (tp + fp)\n",
        "precision = precision_score(y_test_o, predict_y_test, average='macro')\n",
        "print('Precision: %f' % precision)\n",
        "\n",
        "# recall: tp / (tp + fn)\n",
        "recall = recall_score(y_test_o, predict_y_test, average='macro')\n",
        "print('Recall: %f' % recall)\n",
        "\n",
        "# Confusion matrix\n",
        "confusion_matrix_ = confusion_matrix(y_test_o, predict_y_test)\n",
        "print(confusion_matrix_)"
      ],
      "execution_count": null,
      "outputs": [
        {
          "output_type": "stream",
          "text": [
            "Accuracy: 0.422000\n",
            "Precision: 0.442704\n",
            "Recall: 0.422000\n",
            "[[69  1  0 ...  0  1  0]\n",
            " [ 1 61  0 ...  0  0  0]\n",
            " [ 0  0 20 ...  0  5  0]\n",
            " ...\n",
            " [ 0  1  0 ... 44  2  0]\n",
            " [ 0  1  0 ...  1 26  0]\n",
            " [ 0  0  0 ...  0  0 29]]\n"
          ],
          "name": "stdout"
        }
      ]
    },
    {
      "cell_type": "code",
      "metadata": {
        "id": "W-OqEGRDhYNf",
        "outputId": "3344c2bf-f707-4a74-96bf-79bc2cd018d8",
        "colab": {
          "base_uri": "https://localhost:8080/",
          "height": 271
        }
      },
      "source": [
        "import seaborn as sb\n",
        "heat_map = sb.heatmap(confusion_matrix_)\n",
        "plt.show()"
      ],
      "execution_count": null,
      "outputs": [
        {
          "output_type": "display_data",
          "data": {
            "image/png": "[encoded data removed]",
            "text/plain": [
              "<Figure size 432x288 with 2 Axes>"
            ]
          },
          "metadata": {
            "tags": [],
            "needs_background": "light"
          }
        }
      ]
    }
  ]
}