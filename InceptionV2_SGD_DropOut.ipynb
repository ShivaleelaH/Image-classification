{
  "nbformat": 4,
  "nbformat_minor": 0,
  "metadata": {
    "colab": {
      "name": "InceptionV2_SGD_DropOut.ipynb",
      "provenance": []
    },
    "kernelspec": {
      "name": "python3",
      "display_name": "Python 3"
    },
    "accelerator": "GPU"
  },
  "cells": [
    {
      "cell_type": "markdown",
      "metadata": {
        "id": "LO8zfRdLtN35"
      },
      "source": [
        "*   Network     : Inception v2\n",
        "*   Optimizer   : SGD\n",
        "*   Regularizer : Dropout\n",
        "\n",
        "Ref for code: https://arxiv.org/pdf/1512.00567v3.pdf"
      ]
    },
    {
      "cell_type": "code",
      "metadata": {
        "id": "Uu8NvO9AtQh9",
        "outputId": "0d048847-6f49-41ea-a71f-98830af9b0c8",
        "colab": {
          "base_uri": "https://localhost:8080/",
          "height": 88
        }
      },
      "source": [
        "from __future__ import print_function\n",
        "\n",
        "import keras\n",
        "from keras import optimizers\n",
        "from keras import backend as K\n",
        "from keras import regularizers\n",
        "from keras import callbacks\n",
        "\n",
        "from keras.applications.imagenet_utils import preprocess_input\n",
        "from keras.datasets import cifar100\n",
        "from keras.initializers import glorot_uniform\n",
        "from keras.layers.core import Lambda\n",
        "from keras.layers import Input, Add, Dense, Activation, ZeroPadding2D, BatchNormalization, Flatten, Conv2D, AveragePooling2D, MaxPooling2D, GlobalMaxPooling2D, concatenate, Dropout\n",
        "from keras.models import Model, load_model, Sequential\n",
        "from keras.preprocessing.image import ImageDataGenerator\n",
        "from keras.utils import layer_utils, data_utils, vis_utils, plot_model #data_utils.get_file #vis_utils.model_to_dot\n",
        "\n",
        "import numpy as np\n",
        "import pydot\n",
        "import scipy.misc\n",
        "import matplotlib.pyplot as plt\n",
        "import tensorflow as tf\n",
        "\n",
        "from IPython.display import SVG\n",
        "from sklearn.model_selection import train_test_split\n",
        "from sklearn.metrics import accuracy_score, precision_score, recall_score, confusion_matrix, classification_report\n",
        "from matplotlib.pyplot import imshow\n",
        "%matplotlib inline\n",
        "\n",
        "import keras.backend as K\n",
        "K.set_image_data_format('channels_last')\n",
        "K.set_learning_phase(1)"
      ],
      "execution_count": 1,
      "outputs": [
        {
          "output_type": "stream",
          "text": [
            "WARNING:tensorflow:From <ipython-input-1-07f2f95eb5eb>:32: set_learning_phase (from tensorflow.python.keras.backend) is deprecated and will be removed after 2020-10-11.\n",
            "Instructions for updating:\n",
            "Simply pass a True/False value to the `training` argument of the `__call__` method of your layer or model.\n"
          ],
          "name": "stdout"
        }
      ]
    },
    {
      "cell_type": "code",
      "metadata": {
        "id": "uqLTNgPutVLX"
      },
      "source": [
        "#Loading cifar100 dataset and dividing into Train, Validation and Test sets\n",
        "\n",
        "(X_train, Y_train), (x_test, y_test_o) = cifar100.load_data()\n",
        "\n",
        "X_train = X_train.astype('float32')\n",
        "x_test = x_test.astype('float32')\n",
        "\n",
        "x_train, x_validation, y_train, y_validation = train_test_split(X_train, Y_train, test_size=0.2, random_state=42)\n",
        "\n",
        "y_train = keras.utils.to_categorical(y_train, 100)\n",
        "y_validation = keras.utils.to_categorical(y_validation, 100)\n",
        "y_test = keras.utils.to_categorical(y_test_o, 100)"
      ],
      "execution_count": 2,
      "outputs": []
    },
    {
      "cell_type": "code",
      "metadata": {
        "id": "jHhzLmWJtW36"
      },
      "source": [
        "weight_decay = 0.0005\n",
        "num_of_classes = 100\n",
        "conv_activation_func = 'elu'\n",
        "\n",
        "l_rate = 0.1\n",
        "batch_size = 128\n",
        "maxepoches = 40\n",
        "lr_decay = 1e-6"
      ],
      "execution_count": 3,
      "outputs": []
    },
    {
      "cell_type": "code",
      "metadata": {
        "id": "WOCnGyYKtYto"
      },
      "source": [
        "def inceptionv2(input):\n",
        "    model = Sequential()\n",
        "\n",
        "    ##### MAIN LAYER #####\n",
        "    main = Conv2D(64, (3, 3), strides=(2,2), padding='same',activation=conv_activation_func)(input)\n",
        "    main = Conv2D(64, (3, 3), strides = (1,1), padding='same', activation=conv_activation_func)(main)\n",
        "    main = Conv2D(64, (3, 3), strides = (1,1), padding='same', activation=conv_activation_func)(main)\n",
        "\n",
        "    main = MaxPooling2D(pool_size=(2, 2))(main)\n",
        "\n",
        "    main = Conv2D(64, (3, 3), strides = (1,1), padding='same', activation=conv_activation_func)(main)\n",
        "    main = Conv2D(64, (3, 3), strides = (2,2), padding='same', activation=conv_activation_func)(main)\n",
        "    main = Conv2D(64, (3, 3), strides = (1,1), padding='same', activation=conv_activation_func)(main)\n",
        "\n",
        "    ######Inception module A#####\n",
        "    main = inception_A(main)\n",
        "    main = inception_A(main)\n",
        "    main = inception_A(main)\n",
        "\n",
        "    ######Inception module B#####\n",
        "    main = inception_B(main)\n",
        "    main = inception_B(main)\n",
        "    main = inception_B(main)\n",
        "    main = inception_B(main)\n",
        "    main = inception_B(main)\n",
        "\n",
        "    ######Inception module C#####\n",
        "    main = inception_C(main)\n",
        "    main = inception_C(main)\n",
        "\n",
        "    main = AveragePooling2D(pool_size=(3, 3))(main)\n",
        "\n",
        "    main = Flatten()(main)\n",
        "    dense = Dense(10, activation='linear')(main)\n",
        "    dense = Dropout(0.2)(dense)\n",
        "    output = Dense(num_of_classes, activation='softmax')(dense)\n",
        "    return output"
      ],
      "execution_count": 9,
      "outputs": []
    },
    {
      "cell_type": "code",
      "metadata": {
        "id": "_C4ETPH5taXf"
      },
      "source": [
        "def inception_A(input):\n",
        "  pll1 = Conv2D(64, (1,1), padding='same', activation=conv_activation_func)(input)\n",
        "  pll1 = Conv2D(64, (3,3), padding='same', activation=conv_activation_func)(pll1)\n",
        "  pll1 = Conv2D(64, (3,3), padding='same', activation=conv_activation_func)(pll1)\n",
        "\n",
        "  pll2 = Conv2D(64, (1,1), padding='same', activation=conv_activation_func)(input)\n",
        "  pll2 = Conv2D(64, (3,3), padding='same', activation=conv_activation_func)(pll2)\n",
        "  \n",
        "  pll3 = MaxPooling2D((3,3), strides=(1,1), padding='same')(input)\n",
        "\n",
        "  pll3 = Conv2D(64, (1,1), padding='same', activation=conv_activation_func)(pll3)\n",
        "  \n",
        "  pll4 = Conv2D(64, (1,1), padding='same', activation=conv_activation_func)(input)\n",
        "\n",
        "  output = keras.layers.concatenate([pll1, pll2, pll3, pll4], axis=3)\n",
        "\n",
        "  return output"
      ],
      "execution_count": 10,
      "outputs": []
    },
    {
      "cell_type": "code",
      "metadata": {
        "id": "tKp67ydGtb2-"
      },
      "source": [
        "def inception_B(input):\n",
        "  pll1 = Conv2D(64, (1,1), padding='same', activation=conv_activation_func)(input)\n",
        "  pll1 = Conv2D(64, (1,3), padding='same', activation=conv_activation_func)(pll1)\n",
        "  pll1 = Conv2D(64, (3,1), padding='same', activation=conv_activation_func)(pll1)\n",
        "  pll1 = Conv2D(64, (1,3), padding='same', activation=conv_activation_func)(pll1)\n",
        "  pll1 = Conv2D(64, (3,1), padding='same', activation=conv_activation_func)(pll1)\n",
        "\n",
        "  pll2 = Conv2D(64, (1,1), padding='same', activation=conv_activation_func)(input) \n",
        "  pll2 = Conv2D(64, (1,3), padding='same', activation=conv_activation_func)(pll2)\n",
        "  pll2 = Conv2D(64, (3,1), padding='same', activation=conv_activation_func)(pll2)\n",
        "\n",
        "  pll3 = MaxPooling2D((3,3), strides=(1,1), padding='same')(input)\n",
        "  \n",
        "  pll3 = Conv2D(64, (1,1), padding='same', activation=conv_activation_func)(pll3)\n",
        "\n",
        "  pll4 = Conv2D(64, (1,1), padding='same', activation=conv_activation_func)(input)\n",
        "\n",
        "  output = keras.layers.concatenate([pll1, pll2, pll3, pll4], axis = 3)\n",
        "\n",
        "  return output"
      ],
      "execution_count": 11,
      "outputs": []
    },
    {
      "cell_type": "code",
      "metadata": {
        "id": "uikMAag5tdd_"
      },
      "source": [
        "def inception_C(input):\n",
        "  pll1 = Conv2D(64, (1,1), padding='same', activation=conv_activation_func)(input)\n",
        "  pll1 = Conv2D(64, (3,3), padding='same', activation=conv_activation_func)(pll1)\n",
        "\n",
        "  pll1_a = Conv2D(64, (1,1), padding='same', activation=conv_activation_func)(pll1)\n",
        "  pll1_b = Conv2D(64, (3,3), padding='same', activation=conv_activation_func)(pll1)\n",
        "\n",
        "  pll2 = Conv2D(64, (1,1), padding='same', activation=conv_activation_func)(input)\n",
        "  \n",
        "  pll2_a = Conv2D(64, (1,3), padding='same', activation=conv_activation_func)(pll2)\n",
        "  pll2_b = Conv2D(64, (3,1), padding='same', activation=conv_activation_func)(pll2)\n",
        "\n",
        "  pll3 = MaxPooling2D((3,3), strides=(1,1), padding='same')(input)\n",
        "  pll3 = Conv2D(64, (1,1), padding='same', activation=conv_activation_func)(pll3)\n",
        "\n",
        "  pll4 = Conv2D(64, (1,1), padding='same', activation=conv_activation_func)(input)\n",
        "\n",
        "  output = concatenate([pll1_a, pll1_b, pll2_a, pll2_b, pll3, pll4], axis=3)\n",
        "  return output"
      ],
      "execution_count": 12,
      "outputs": []
    },
    {
      "cell_type": "code",
      "metadata": {
        "id": "csYVBY97tfLR"
      },
      "source": [
        "#Definition of SGD optimizer\n",
        "sgd = optimizers.SGD(learning_rate=l_rate)#, decay=lr_decay,momentum=0.9, nesterov=True)\n",
        "\n",
        "input = Input(shape=(32, 32, 3))\n",
        "output = inceptionv2(input)\n",
        "\n",
        "model = Model([input], output)\n",
        "model.compile(loss='categorical_crossentropy', optimizer=sgd, metrics=['accuracy'])"
      ],
      "execution_count": 13,
      "outputs": []
    },
    {
      "cell_type": "code",
      "metadata": {
        "id": "mE4to_xstgrt"
      },
      "source": [
        "#data augmentation\n",
        "datagen = ImageDataGenerator(\n",
        "    featurewise_center=False,  # set input mean to 0 over the dataset\n",
        "    samplewise_center=False,  # set each sample mean to 0\n",
        "    featurewise_std_normalization=False,  # divide inputs by std of the dataset\n",
        "    samplewise_std_normalization=False,  # divide each input by its std\n",
        "    zca_whitening=False,  # apply ZCA whitening\n",
        "    rotation_range=15,  # randomly rotate images in the range (degrees, 0 to 180)\n",
        "    width_shift_range=0.1,  # randomly shift images horizontally (fraction of total width)\n",
        "    height_shift_range=0.1,  # randomly shift images vertically (fraction of total height)\n",
        "    horizontal_flip=True,  # randomly flip images\n",
        "    vertical_flip=False)  # randomly flip images\n",
        "# (std, mean, and principal components if ZCA whitening is applied).\n",
        "datagen.fit(x_train)"
      ],
      "execution_count": 14,
      "outputs": []
    },
    {
      "cell_type": "code",
      "metadata": {
        "id": "tmA2hX-7tiR8",
        "outputId": "9376c0cd-e68f-4442-8f71-de72802188e8",
        "colab": {
          "base_uri": "https://localhost:8080/",
          "height": 1000
        }
      },
      "source": [
        "#Defintion of callbacks with EarlyStopping \n",
        "callback = callbacks.EarlyStopping(monitor='val_loss', patience=10)\n",
        "\n",
        "#Definition of saving the best weights of the model with ModelCheckpoint\n",
        "checkpoint_path = \"checkpoints\"\n",
        "checkpoint = callbacks.ModelCheckpoint(filepath=checkpoint_path, monitor='val_loss', save_best_only=True, save_weights_only=True, verbose=1, mode='min')\n",
        "\n",
        "#Training the model in the training dataset\n",
        "history = model.fit(x_train, y_train, epochs = maxepoches, batch_size = batch_size, validation_data=(x_validation, y_validation), callbacks=[callback, checkpoint])\n",
        "model.save_weights('InceptionV2_SGD_DropOut.h5')"
      ],
      "execution_count": 15,
      "outputs": [
        {
          "output_type": "stream",
          "text": [
            "Epoch 1/40\n",
            "313/313 [==============================] - ETA: 0s - loss: 4.5858 - accuracy: 0.0162\n",
            "Epoch 00001: val_loss improved from inf to 4.46568, saving model to checkpoints\n",
            "313/313 [==============================] - 11s 36ms/step - loss: 4.5858 - accuracy: 0.0162 - val_loss: 4.4657 - val_accuracy: 0.0289\n",
            "Epoch 2/40\n",
            "313/313 [==============================] - ETA: 0s - loss: 4.3895 - accuracy: 0.0308\n",
            "Epoch 00002: val_loss improved from 4.46568 to 4.30760, saving model to checkpoints\n",
            "313/313 [==============================] - 10s 33ms/step - loss: 4.3895 - accuracy: 0.0308 - val_loss: 4.3076 - val_accuracy: 0.0316\n",
            "Epoch 3/40\n",
            "313/313 [==============================] - ETA: 0s - loss: 4.2200 - accuracy: 0.0483\n",
            "Epoch 00003: val_loss improved from 4.30760 to 4.03951, saving model to checkpoints\n",
            "313/313 [==============================] - 10s 33ms/step - loss: 4.2200 - accuracy: 0.0483 - val_loss: 4.0395 - val_accuracy: 0.0676\n",
            "Epoch 4/40\n",
            "313/313 [==============================] - ETA: 0s - loss: 4.0651 - accuracy: 0.0656\n",
            "Epoch 00004: val_loss improved from 4.03951 to 4.02655, saving model to checkpoints\n",
            "313/313 [==============================] - 10s 33ms/step - loss: 4.0651 - accuracy: 0.0656 - val_loss: 4.0266 - val_accuracy: 0.0763\n",
            "Epoch 5/40\n",
            "313/313 [==============================] - ETA: 0s - loss: 3.9318 - accuracy: 0.0846\n",
            "Epoch 00005: val_loss improved from 4.02655 to 3.79695, saving model to checkpoints\n",
            "313/313 [==============================] - 10s 33ms/step - loss: 3.9318 - accuracy: 0.0846 - val_loss: 3.7969 - val_accuracy: 0.1077\n",
            "Epoch 6/40\n",
            "313/313 [==============================] - ETA: 0s - loss: 3.8087 - accuracy: 0.1040\n",
            "Epoch 00006: val_loss did not improve from 3.79695\n",
            "313/313 [==============================] - 10s 32ms/step - loss: 3.8087 - accuracy: 0.1040 - val_loss: 3.8728 - val_accuracy: 0.0936\n",
            "Epoch 7/40\n",
            "313/313 [==============================] - ETA: 0s - loss: 3.7137 - accuracy: 0.1213\n",
            "Epoch 00007: val_loss improved from 3.79695 to 3.58623, saving model to checkpoints\n",
            "313/313 [==============================] - 10s 33ms/step - loss: 3.7137 - accuracy: 0.1213 - val_loss: 3.5862 - val_accuracy: 0.1418\n",
            "Epoch 8/40\n",
            "313/313 [==============================] - ETA: 0s - loss: 3.6069 - accuracy: 0.1379\n",
            "Epoch 00008: val_loss did not improve from 3.58623\n",
            "313/313 [==============================] - 10s 32ms/step - loss: 3.6069 - accuracy: 0.1379 - val_loss: 3.6380 - val_accuracy: 0.1234\n",
            "Epoch 9/40\n",
            "313/313 [==============================] - ETA: 0s - loss: 3.5125 - accuracy: 0.1553\n",
            "Epoch 00009: val_loss improved from 3.58623 to 3.42583, saving model to checkpoints\n",
            "313/313 [==============================] - 10s 32ms/step - loss: 3.5125 - accuracy: 0.1553 - val_loss: 3.4258 - val_accuracy: 0.1714\n",
            "Epoch 10/40\n",
            "313/313 [==============================] - ETA: 0s - loss: 3.4288 - accuracy: 0.1705\n",
            "Epoch 00010: val_loss did not improve from 3.42583\n",
            "313/313 [==============================] - 10s 32ms/step - loss: 3.4288 - accuracy: 0.1705 - val_loss: 3.5121 - val_accuracy: 0.1578\n",
            "Epoch 11/40\n",
            "313/313 [==============================] - ETA: 0s - loss: 3.3508 - accuracy: 0.1812\n",
            "Epoch 00011: val_loss improved from 3.42583 to 3.32640, saving model to checkpoints\n",
            "313/313 [==============================] - 10s 33ms/step - loss: 3.3508 - accuracy: 0.1812 - val_loss: 3.3264 - val_accuracy: 0.1869\n",
            "Epoch 12/40\n",
            "313/313 [==============================] - ETA: 0s - loss: 3.2826 - accuracy: 0.1962\n",
            "Epoch 00012: val_loss improved from 3.32640 to 3.32289, saving model to checkpoints\n",
            "313/313 [==============================] - 10s 33ms/step - loss: 3.2826 - accuracy: 0.1962 - val_loss: 3.3229 - val_accuracy: 0.1943\n",
            "Epoch 13/40\n",
            "313/313 [==============================] - ETA: 0s - loss: 3.2223 - accuracy: 0.2060\n",
            "Epoch 00013: val_loss did not improve from 3.32289\n",
            "313/313 [==============================] - 10s 33ms/step - loss: 3.2223 - accuracy: 0.2060 - val_loss: 3.5082 - val_accuracy: 0.1718\n",
            "Epoch 14/40\n",
            "313/313 [==============================] - ETA: 0s - loss: 3.1651 - accuracy: 0.2170\n",
            "Epoch 00014: val_loss did not improve from 3.32289\n",
            "313/313 [==============================] - 10s 32ms/step - loss: 3.1651 - accuracy: 0.2170 - val_loss: 3.4047 - val_accuracy: 0.1846\n",
            "Epoch 15/40\n",
            "313/313 [==============================] - ETA: 0s - loss: 3.1093 - accuracy: 0.2274\n",
            "Epoch 00015: val_loss improved from 3.32289 to 3.19884, saving model to checkpoints\n",
            "313/313 [==============================] - 10s 33ms/step - loss: 3.1093 - accuracy: 0.2274 - val_loss: 3.1988 - val_accuracy: 0.2168\n",
            "Epoch 16/40\n",
            "313/313 [==============================] - ETA: 0s - loss: 3.0533 - accuracy: 0.2357\n",
            "Epoch 00016: val_loss did not improve from 3.19884\n",
            "313/313 [==============================] - 10s 32ms/step - loss: 3.0533 - accuracy: 0.2357 - val_loss: 3.3163 - val_accuracy: 0.2051\n",
            "Epoch 17/40\n",
            "313/313 [==============================] - ETA: 0s - loss: 2.9991 - accuracy: 0.2461\n",
            "Epoch 00017: val_loss improved from 3.19884 to 3.18421, saving model to checkpoints\n",
            "313/313 [==============================] - 10s 33ms/step - loss: 2.9991 - accuracy: 0.2461 - val_loss: 3.1842 - val_accuracy: 0.2195\n",
            "Epoch 18/40\n",
            "313/313 [==============================] - ETA: 0s - loss: 2.9576 - accuracy: 0.2540\n",
            "Epoch 00018: val_loss did not improve from 3.18421\n",
            "313/313 [==============================] - 10s 32ms/step - loss: 2.9576 - accuracy: 0.2540 - val_loss: 3.2058 - val_accuracy: 0.2270\n",
            "Epoch 19/40\n",
            "313/313 [==============================] - ETA: 0s - loss: 2.9270 - accuracy: 0.2587\n",
            "Epoch 00019: val_loss improved from 3.18421 to 3.15310, saving model to checkpoints\n",
            "313/313 [==============================] - 10s 33ms/step - loss: 2.9270 - accuracy: 0.2587 - val_loss: 3.1531 - val_accuracy: 0.2281\n",
            "Epoch 20/40\n",
            "313/313 [==============================] - ETA: 0s - loss: 2.8603 - accuracy: 0.2720\n",
            "Epoch 00020: val_loss improved from 3.15310 to 3.14075, saving model to checkpoints\n",
            "313/313 [==============================] - 10s 33ms/step - loss: 2.8603 - accuracy: 0.2720 - val_loss: 3.1407 - val_accuracy: 0.2463\n",
            "Epoch 21/40\n",
            "313/313 [==============================] - ETA: 0s - loss: 2.8345 - accuracy: 0.2789\n",
            "Epoch 00021: val_loss did not improve from 3.14075\n",
            "313/313 [==============================] - 10s 32ms/step - loss: 2.8345 - accuracy: 0.2789 - val_loss: 3.3521 - val_accuracy: 0.1950\n",
            "Epoch 22/40\n",
            "313/313 [==============================] - ETA: 0s - loss: 2.7945 - accuracy: 0.2855\n",
            "Epoch 00022: val_loss improved from 3.14075 to 3.08776, saving model to checkpoints\n",
            "313/313 [==============================] - 10s 33ms/step - loss: 2.7945 - accuracy: 0.2855 - val_loss: 3.0878 - val_accuracy: 0.2457\n",
            "Epoch 23/40\n",
            "313/313 [==============================] - ETA: 0s - loss: 2.7460 - accuracy: 0.2912\n",
            "Epoch 00023: val_loss did not improve from 3.08776\n",
            "313/313 [==============================] - 10s 32ms/step - loss: 2.7460 - accuracy: 0.2912 - val_loss: 3.2612 - val_accuracy: 0.2234\n",
            "Epoch 24/40\n",
            "313/313 [==============================] - ETA: 0s - loss: 2.7291 - accuracy: 0.2957\n",
            "Epoch 00024: val_loss did not improve from 3.08776\n",
            "313/313 [==============================] - 10s 32ms/step - loss: 2.7291 - accuracy: 0.2957 - val_loss: 3.2337 - val_accuracy: 0.2331\n",
            "Epoch 25/40\n",
            "313/313 [==============================] - ETA: 0s - loss: 2.7042 - accuracy: 0.3031\n",
            "Epoch 00025: val_loss did not improve from 3.08776\n",
            "313/313 [==============================] - 10s 32ms/step - loss: 2.7042 - accuracy: 0.3031 - val_loss: 3.1420 - val_accuracy: 0.2463\n",
            "Epoch 26/40\n",
            "313/313 [==============================] - ETA: 0s - loss: 2.6707 - accuracy: 0.3119\n",
            "Epoch 00026: val_loss did not improve from 3.08776\n",
            "313/313 [==============================] - 10s 32ms/step - loss: 2.6707 - accuracy: 0.3119 - val_loss: 3.1299 - val_accuracy: 0.2534\n",
            "Epoch 27/40\n",
            "313/313 [==============================] - ETA: 0s - loss: 2.6489 - accuracy: 0.3158\n",
            "Epoch 00027: val_loss did not improve from 3.08776\n",
            "313/313 [==============================] - 10s 32ms/step - loss: 2.6489 - accuracy: 0.3158 - val_loss: 3.4064 - val_accuracy: 0.2284\n",
            "Epoch 28/40\n",
            "313/313 [==============================] - ETA: 0s - loss: 2.6179 - accuracy: 0.3216\n",
            "Epoch 00028: val_loss did not improve from 3.08776\n",
            "313/313 [==============================] - 10s 33ms/step - loss: 2.6179 - accuracy: 0.3216 - val_loss: 3.1952 - val_accuracy: 0.2509\n",
            "Epoch 29/40\n",
            "313/313 [==============================] - ETA: 0s - loss: 2.5728 - accuracy: 0.3309\n",
            "Epoch 00029: val_loss improved from 3.08776 to 3.01178, saving model to checkpoints\n",
            "313/313 [==============================] - 10s 33ms/step - loss: 2.5728 - accuracy: 0.3309 - val_loss: 3.0118 - val_accuracy: 0.2710\n",
            "Epoch 30/40\n",
            "313/313 [==============================] - ETA: 0s - loss: 2.5694 - accuracy: 0.3275\n",
            "Epoch 00030: val_loss did not improve from 3.01178\n",
            "313/313 [==============================] - 10s 32ms/step - loss: 2.5694 - accuracy: 0.3275 - val_loss: 3.1878 - val_accuracy: 0.2552\n",
            "Epoch 31/40\n",
            "313/313 [==============================] - ETA: 0s - loss: 2.5485 - accuracy: 0.3367\n",
            "Epoch 00031: val_loss did not improve from 3.01178\n",
            "313/313 [==============================] - 10s 33ms/step - loss: 2.5485 - accuracy: 0.3367 - val_loss: 3.2248 - val_accuracy: 0.2453\n",
            "Epoch 32/40\n",
            "313/313 [==============================] - ETA: 0s - loss: 2.5274 - accuracy: 0.3352\n",
            "Epoch 00032: val_loss did not improve from 3.01178\n",
            "313/313 [==============================] - 10s 33ms/step - loss: 2.5274 - accuracy: 0.3352 - val_loss: 3.1299 - val_accuracy: 0.2480\n",
            "Epoch 33/40\n",
            "313/313 [==============================] - ETA: 0s - loss: 2.4979 - accuracy: 0.3476\n",
            "Epoch 00033: val_loss did not improve from 3.01178\n",
            "313/313 [==============================] - 10s 33ms/step - loss: 2.4979 - accuracy: 0.3476 - val_loss: 3.1517 - val_accuracy: 0.2563\n",
            "Epoch 34/40\n",
            "313/313 [==============================] - ETA: 0s - loss: 2.4834 - accuracy: 0.3470\n",
            "Epoch 00034: val_loss did not improve from 3.01178\n",
            "313/313 [==============================] - 10s 33ms/step - loss: 2.4834 - accuracy: 0.3470 - val_loss: 3.2303 - val_accuracy: 0.2377\n",
            "Epoch 35/40\n",
            "313/313 [==============================] - ETA: 0s - loss: 2.4572 - accuracy: 0.3505\n",
            "Epoch 00035: val_loss did not improve from 3.01178\n",
            "313/313 [==============================] - 10s 33ms/step - loss: 2.4572 - accuracy: 0.3505 - val_loss: 3.0368 - val_accuracy: 0.2775\n",
            "Epoch 36/40\n",
            "313/313 [==============================] - ETA: 0s - loss: 2.4333 - accuracy: 0.3599\n",
            "Epoch 00036: val_loss did not improve from 3.01178\n",
            "313/313 [==============================] - 10s 32ms/step - loss: 2.4333 - accuracy: 0.3599 - val_loss: 3.4207 - val_accuracy: 0.2191\n",
            "Epoch 37/40\n",
            "313/313 [==============================] - ETA: 0s - loss: 2.4223 - accuracy: 0.3607\n",
            "Epoch 00037: val_loss did not improve from 3.01178\n",
            "313/313 [==============================] - 10s 33ms/step - loss: 2.4223 - accuracy: 0.3607 - val_loss: 3.3985 - val_accuracy: 0.2388\n",
            "Epoch 38/40\n",
            "313/313 [==============================] - ETA: 0s - loss: 2.4004 - accuracy: 0.3665\n",
            "Epoch 00038: val_loss did not improve from 3.01178\n",
            "313/313 [==============================] - 10s 33ms/step - loss: 2.4004 - accuracy: 0.3665 - val_loss: 3.1589 - val_accuracy: 0.2686\n",
            "Epoch 39/40\n",
            "313/313 [==============================] - ETA: 0s - loss: 2.3802 - accuracy: 0.3710\n",
            "Epoch 00039: val_loss did not improve from 3.01178\n",
            "313/313 [==============================] - 10s 33ms/step - loss: 2.3802 - accuracy: 0.3710 - val_loss: 3.3729 - val_accuracy: 0.2447\n"
          ],
          "name": "stdout"
        }
      ]
    },
    {
      "cell_type": "code",
      "metadata": {
        "id": "s3maHBBktoqZ",
        "outputId": "f8c810ea-1a9e-47f5-9d0c-e24defa3f6a0",
        "colab": {
          "base_uri": "https://localhost:8080/",
          "height": 295
        }
      },
      "source": [
        "#Plot the Training and Validation accuracy v/s Epochs\n",
        "#history.keys() = ['accuracy', 'loss', 'val_accuracy', 'val_loss']\n",
        "\n",
        "plt.plot(history.history['accuracy'])\n",
        "plt.plot(history.history['val_accuracy'])\n",
        "plt.title('Model accuracy')\n",
        "plt.ylabel('Accuracy')\n",
        "plt.xlabel('Epochs')\n",
        "plt.legend(['train', 'validation'], loc='upper left')\n",
        "plt.show()"
      ],
      "execution_count": 16,
      "outputs": [
        {
          "output_type": "display_data",
          "data": {
            "image/png": "[encoded data removed]",
            "text/plain": [
              "<Figure size 432x288 with 1 Axes>"
            ]
          },
          "metadata": {
            "tags": [],
            "needs_background": "light"
          }
        }
      ]
    },
    {
      "cell_type": "code",
      "metadata": {
        "id": "ptPRhPE_tqI0",
        "outputId": "9fc05a2c-ae65-4019-a8e5-37ff24512dfb",
        "colab": {
          "base_uri": "https://localhost:8080/",
          "height": 295
        }
      },
      "source": [
        "#Plot the Training and Validation loss v/s Epochs\n",
        "\n",
        "plt.plot(history.history['loss'])\n",
        "plt.plot(history.history['val_loss'])\n",
        "plt.title('Model loss')\n",
        "plt.ylabel('Loss')\n",
        "plt.xlabel('Epochs')\n",
        "plt.legend(['train', 'validation'], loc='upper left')\n",
        "plt.show()"
      ],
      "execution_count": 17,
      "outputs": [
        {
          "output_type": "display_data",
          "data": {
            "image/png": "[encoded data removed]",
            "text/plain": [
              "<Figure size 432x288 with 1 Axes>"
            ]
          },
          "metadata": {
            "tags": [],
            "needs_background": "light"
          }
        }
      ]
    },
    {
      "cell_type": "code",
      "metadata": {
        "id": "WDcQ3yxHtrrK",
        "outputId": "a946b0dc-0592-4c4f-f037-6c1b35f3b830",
        "colab": {
          "base_uri": "https://localhost:8080/",
          "height": 34
        }
      },
      "source": [
        "#Testing the model using the best weights of the model\n",
        "\n",
        "model.load_weights('./InceptionV2_SGD_DropOut.h5')\n",
        "loss, acc = model.evaluate(x_test,  y_test, verbose=2)\n",
        "\n",
        "predict_y_test_o = model.predict(x_test, verbose=0)"
      ],
      "execution_count": 18,
      "outputs": [
        {
          "output_type": "stream",
          "text": [
            "313/313 - 2s - loss: 3.4039 - accuracy: 0.2430\n"
          ],
          "name": "stdout"
        }
      ]
    },
    {
      "cell_type": "code",
      "metadata": {
        "id": "OnZQwM2ttxtp",
        "outputId": "81fdedf3-9e8e-42f1-bb22-94b4568d3450",
        "colab": {
          "base_uri": "https://localhost:8080/",
          "height": 187
        }
      },
      "source": [
        "# #Precision, recall and accuracy of the model on test data\n",
        "predict_y_test = np.argmax(predict_y_test_o, axis=1)\n",
        "\n",
        "# accuracy: (tp + tn) / (p + n)\n",
        "accuracy = accuracy_score(y_test_o, predict_y_test)\n",
        "print('Accuracy: %f' % accuracy)\n",
        "\n",
        "# precision tp / (tp + fp)\n",
        "precision = precision_score(y_test_o, predict_y_test, average='macro')\n",
        "print('Precision: %f' % precision)\n",
        "\n",
        "# recall: tp / (tp + fn)\n",
        "recall = recall_score(y_test_o, predict_y_test, average='macro')\n",
        "print('Recall: %f' % recall)\n",
        "\n",
        "# Confusion matrix\n",
        "confusion_matrix_ = confusion_matrix(y_test_o, predict_y_test)\n",
        "print(confusion_matrix_)"
      ],
      "execution_count": 19,
      "outputs": [
        {
          "output_type": "stream",
          "text": [
            "Accuracy: 0.243000\n",
            "Precision: 0.277225\n",
            "Recall: 0.243000\n",
            "[[24  9  0 ...  0  0  1]\n",
            " [ 0 64  0 ...  0  0  1]\n",
            " [ 0  4  3 ...  0 12  2]\n",
            " ...\n",
            " [ 0 10  0 ... 12  0  3]\n",
            " [ 0  6  0 ...  1 20  2]\n",
            " [ 0  5  0 ...  0  0 28]]\n"
          ],
          "name": "stdout"
        }
      ]
    },
    {
      "cell_type": "code",
      "metadata": {
        "id": "BStGVfzmtzi2",
        "outputId": "20fdcf4d-0f2e-48df-de8b-2e049b3a5f81",
        "colab": {
          "base_uri": "https://localhost:8080/",
          "height": 271
        }
      },
      "source": [
        "import seaborn as sb\n",
        "heat_map = sb.heatmap(confusion_matrix_)\n",
        "plt.show()"
      ],
      "execution_count": 20,
      "outputs": [
        {
          "output_type": "display_data",
          "data": {
            "image/png": "[encoded data removed]",
            "text/plain": [
              "<Figure size 432x288 with 2 Axes>"
            ]
          },
          "metadata": {
            "tags": [],
            "needs_background": "light"
          }
        }
      ]
    },
    {
      "cell_type": "code",
      "metadata": {
        "id": "JvH8W0Jfv1rw"
      },
      "source": [
        ""
      ],
      "execution_count": null,
      "outputs": []
    }
  ]
}