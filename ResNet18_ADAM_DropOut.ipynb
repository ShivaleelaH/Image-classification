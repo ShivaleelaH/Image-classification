{
  "nbformat": 4,
  "nbformat_minor": 0,
  "metadata": {
    "colab": {
      "name": "ResNet18_ADAM_DropOut.ipynb",
      "provenance": [],
      "collapsed_sections": []
    },
    "kernelspec": {
      "name": "python3",
      "display_name": "Python 3"
    },
    "accelerator": "GPU"
  },
  "cells": [
    {
      "cell_type": "markdown",
      "metadata": {
        "id": "rOM54GsstOT2"
      },
      "source": [
        "*   Network     : ResNet18\n",
        "*   Optimizer   : ADAM\n",
        "*   Regularizer : DropOut\n",
        "\n",
        "Ref for code: https://github.com/priya-dwivedi/Deep-Learning/blob/master/resnet_keras/Residual_Networks_yourself.ipynb"
      ]
    },
    {
      "cell_type": "code",
      "metadata": {
        "id": "bfqSkzhDtXnu",
        "outputId": "8dd4483e-38fa-40ba-caf9-e4d9cc3fd6a1",
        "colab": {
          "base_uri": "https://localhost:8080/",
          "height": 88
        }
      },
      "source": [
        "from __future__ import print_function\n",
        "\n",
        "import keras\n",
        "from keras import optimizers\n",
        "from keras import backend as K\n",
        "from keras import regularizers\n",
        "from keras import callbacks\n",
        "\n",
        "from keras.applications.imagenet_utils import preprocess_input\n",
        "from keras.datasets import cifar100\n",
        "from keras.initializers import glorot_uniform\n",
        "from keras.layers.core import Lambda\n",
        "from keras.layers import Input, Add, Dense, Activation, ZeroPadding2D, BatchNormalization, Flatten, Conv2D, AveragePooling2D, MaxPooling2D, GlobalMaxPooling2D, Dropout\n",
        "from keras.models import Model, load_model\n",
        "from keras.preprocessing.image import ImageDataGenerator\n",
        "from keras.utils import layer_utils, data_utils, vis_utils, plot_model #data_utils.get_file #vis_utils.model_to_dot\n",
        "\n",
        "import numpy as np\n",
        "import pydot\n",
        "import scipy.misc\n",
        "import matplotlib.pyplot as plt\n",
        "import tensorflow as tf\n",
        "\n",
        "from IPython.display import SVG\n",
        "from sklearn.model_selection import train_test_split\n",
        "from sklearn.metrics import accuracy_score, precision_score, recall_score, confusion_matrix, classification_report\n",
        "from matplotlib.pyplot import imshow\n",
        "%matplotlib inline\n",
        "\n",
        "import keras.backend as K\n",
        "K.set_image_data_format('channels_last')\n",
        "K.set_learning_phase(1)"
      ],
      "execution_count": 1,
      "outputs": [
        {
          "output_type": "stream",
          "text": [
            "WARNING:tensorflow:From <ipython-input-1-02aca86b3411>:32: set_learning_phase (from tensorflow.python.keras.backend) is deprecated and will be removed after 2020-10-11.\n",
            "Instructions for updating:\n",
            "Simply pass a True/False value to the `training` argument of the `__call__` method of your layer or model.\n"
          ],
          "name": "stdout"
        }
      ]
    },
    {
      "cell_type": "code",
      "metadata": {
        "id": "baqSCCULtatN",
        "outputId": "d376b6c8-527d-4ceb-a9f5-b6a669519594",
        "colab": {
          "base_uri": "https://localhost:8080/",
          "height": 51
        }
      },
      "source": [
        "#Loading cifar100 dataset and dividing into Train, Validation and Test sets\n",
        "\n",
        "(X_train, Y_train), (x_test, y_test_o) = cifar100.load_data()\n",
        "\n",
        "X_train = X_train.astype('float32')\n",
        "x_test = x_test.astype('float32')\n",
        "\n",
        "x_train, x_validation, y_train, y_validation = train_test_split(X_train, Y_train, test_size=0.2, random_state=42)\n",
        "\n",
        "y_train = keras.utils.to_categorical(y_train, 100)\n",
        "y_validation = keras.utils.to_categorical(y_validation, 100)\n",
        "y_test = keras.utils.to_categorical(y_test_o, 100)"
      ],
      "execution_count": 2,
      "outputs": [
        {
          "output_type": "stream",
          "text": [
            "Downloading data from https://www.cs.toronto.edu/~kriz/cifar-100-python.tar.gz\n",
            "169009152/169001437 [==============================] - 6s 0us/step\n"
          ],
          "name": "stdout"
        }
      ]
    },
    {
      "cell_type": "code",
      "metadata": {
        "id": "qLYh3gdctcOF"
      },
      "source": [
        "#Definition of hyper parameters and other characteristics of the network like the activation functions\n",
        "\n",
        "num_classes = 100\n",
        "weight_decay = 0.0005\n",
        "x_shape = [32,32,3]\n",
        "\n",
        "conv_activation_func = 'elu'\n",
        "\n",
        "batch_size = 32\n",
        "maxepoches = 100\n",
        "l_rate = 0.0001\n",
        "lr_decay = 1e-6\n",
        "# lr_drop = 20"
      ],
      "execution_count": 3,
      "outputs": []
    },
    {
      "cell_type": "code",
      "metadata": {
        "id": "91BVGgXTtd2y"
      },
      "source": [
        "def identity_block(X, f, filters):\n",
        "    # Retrieve Filters\n",
        "    F1, F2 = filters\n",
        "    \n",
        "    # Save the input value to add back to the main path. \n",
        "    X_shortcut = X\n",
        "    \n",
        "    # First component of main path\n",
        "    X = Conv2D(filters = F1, kernel_size = (3, 3), strides = (1,1), padding = 'same')(X)\n",
        "    X = Activation(conv_activation_func)(X)\n",
        "\n",
        "    # Second component of main path \n",
        "    X = Conv2D(filters = F2, kernel_size = (3, 3), strides = (1,1), padding = 'same')(X)\n",
        "    X = Activation(conv_activation_func)(X)\n",
        "\n",
        "    # Final step: Add shortcut value to main path, and pass it through a RELU activation \n",
        "    X = Add()([X, X_shortcut])\n",
        "    X = Activation(conv_activation_func)(X)\n",
        "       \n",
        "    return X"
      ],
      "execution_count": 4,
      "outputs": []
    },
    {
      "cell_type": "code",
      "metadata": {
        "id": "knMGDnd_tfzR"
      },
      "source": [
        "def convolutional_block(X, f, filters, s = 2):\n",
        "    # Retrieve Filters\n",
        "    F1, F2 = filters\n",
        "    \n",
        "    # Save the input value\n",
        "    X_shortcut = X\n",
        "\n",
        "    ##### MAIN PATH #####\n",
        "    # First component of main path \n",
        "    X = Conv2D(F1, (3, 3), strides = (s,s), padding='same')(X)\n",
        "    X = Activation(conv_activation_func)(X)\n",
        "\n",
        "    # Second component of main path\n",
        "    X = Conv2D(filters = F2, kernel_size = (3, 3), strides = (1,1), padding = 'same')(X)\n",
        "    X = Activation(conv_activation_func)(X)\n",
        "\n",
        "    ##### SHORTCUT PATH #### \n",
        "    X_shortcut = Conv2D(filters = F2, kernel_size = (3, 3), strides = (s,s), padding = 'same')(X_shortcut)\n",
        "\n",
        "    # Final step: Add shortcut value to main path, and pass it through a RELU activation \n",
        "    X = Add()([X, X_shortcut])\n",
        "    X = Activation(conv_activation_func)(X)\n",
        "    \n",
        "    return X"
      ],
      "execution_count": 5,
      "outputs": []
    },
    {
      "cell_type": "code",
      "metadata": {
        "id": "r6SzU0y7tioA"
      },
      "source": [
        "def ResNet18(input_shape=(32, 32, 3), classes=100):\n",
        "    # Define the input as a tensor with shape input_shape\n",
        "    X_input = Input(input_shape)\n",
        "\n",
        "    # Zero-Padding\n",
        "    X = ZeroPadding2D((3, 3))(X_input)\n",
        "\n",
        "    # Stage 1\n",
        "    X = Conv2D(32, (3, 3), strides=(2, 2), padding='same')(X)\n",
        "    X = Activation(conv_activation_func)(X)\n",
        "    X = MaxPooling2D((3, 3), strides=(2, 2))(X)\n",
        "\n",
        "    # Stage 2\n",
        "    X = convolutional_block(X, f=3, filters=[64, 64], s=1)\n",
        "    X = identity_block(X, 3, [64, 64])\n",
        "\n",
        "    # Stage 3\n",
        "    X = convolutional_block(X, f = 3, filters = [128, 128], s = 2)\n",
        "    X = identity_block(X, 3, [128, 128])\n",
        "\n",
        "    # Stage 4\n",
        "    X = convolutional_block(X, f = 3, filters = [256, 256], s = 2)\n",
        "    X = identity_block(X, 3, [256, 256])\n",
        "\n",
        "    # Stage 5\n",
        "    X = convolutional_block(X, f = 3, filters = [512, 512], s = 2)\n",
        "    X = identity_block(X, 3, [512, 512])\n",
        "\n",
        "    # AVGPOOL\n",
        "    X = AveragePooling2D((2,2))(X)\n",
        "\n",
        "    # output layer\n",
        "    X = Flatten()(X)\n",
        "    X = Dropout(0.2)(X)\n",
        "    X = Dense(classes, activation='softmax')(X)\n",
        "    \n",
        "    # Create model\n",
        "    model = Model(inputs = X_input, outputs = X)\n",
        "\n",
        "    return model"
      ],
      "execution_count": 6,
      "outputs": []
    },
    {
      "cell_type": "code",
      "metadata": {
        "id": "dHtheEVZttFn"
      },
      "source": [
        "model = ResNet18(input_shape = (32, 32, 3), classes = 100)"
      ],
      "execution_count": 7,
      "outputs": []
    },
    {
      "cell_type": "code",
      "metadata": {
        "id": "TNIhkRgctvub"
      },
      "source": [
        "#Definition of ADAM optimizer\n",
        "adam = optimizers.Adam(learning_rate=l_rate)#, clipnorm=1.0)\n",
        "\n",
        "#Compiling the model\n",
        "model.compile(loss='categorical_crossentropy', optimizer=adam, metrics=['accuracy'])"
      ],
      "execution_count": 8,
      "outputs": []
    },
    {
      "cell_type": "code",
      "metadata": {
        "id": "7dEibM7ctyn_"
      },
      "source": [
        "#data augmentation\n",
        "datagen = ImageDataGenerator(\n",
        "    featurewise_center=False,  # set input mean to 0 over the dataset\n",
        "    samplewise_center=False,  # set each sample mean to 0\n",
        "    featurewise_std_normalization=False,  # divide inputs by std of the dataset\n",
        "    samplewise_std_normalization=False,  # divide each input by its std\n",
        "    zca_whitening=False,  # apply ZCA whitening\n",
        "    rotation_range=15,  # randomly rotate images in the range (degrees, 0 to 180)\n",
        "    width_shift_range=0.1,  # randomly shift images horizontally (fraction of total width)\n",
        "    height_shift_range=0.1,  # randomly shift images vertically (fraction of total height)\n",
        "    horizontal_flip=True,  # randomly flip images\n",
        "    vertical_flip=False)  # randomly flip images\n",
        "# (std, mean, and principal components if ZCA whitening is applied).\n",
        "datagen.fit(x_train)"
      ],
      "execution_count": 9,
      "outputs": []
    },
    {
      "cell_type": "code",
      "metadata": {
        "id": "JC-D7Zn5t0T8"
      },
      "source": [
        "#Defintion of callbacks with EarlyStopping \n",
        "\n",
        "callback = callbacks.EarlyStopping(monitor='val_loss', patience=10)"
      ],
      "execution_count": 10,
      "outputs": []
    },
    {
      "cell_type": "code",
      "metadata": {
        "id": "q_cxx_8kt1vd"
      },
      "source": [
        "#Definition of saving the best weights of the model with ModelCheckpoint\n",
        "\n",
        "checkpoint_path = \"checkpoints\"\n",
        "checkpoint = callbacks.ModelCheckpoint(filepath=checkpoint_path, monitor='val_loss', save_best_only=True, save_weights_only=True, verbose=1, mode='min')"
      ],
      "execution_count": 11,
      "outputs": []
    },
    {
      "cell_type": "code",
      "metadata": {
        "id": "lfHMs2A1t3RQ",
        "outputId": "ca93c171-fbcb-44cb-c872-cd74f3dd661f",
        "colab": {
          "base_uri": "https://localhost:8080/",
          "height": 1000
        }
      },
      "source": [
        "#Training the model in the training dataset\n",
        "\n",
        "history = model.fit(datagen.flow(x_train, y_train), epochs = maxepoches, batch_size = batch_size, validation_data=(x_validation, y_validation), callbacks=[callback, checkpoint])\n",
        "model.save_weights('ResNet18_ADAM_DropOut.h5')"
      ],
      "execution_count": 12,
      "outputs": [
        {
          "output_type": "stream",
          "text": [
            "Epoch 1/100\n",
            "1248/1250 [============================>.] - ETA: 0s - loss: 3.8855 - accuracy: 0.1285\n",
            "Epoch 00001: val_loss improved from inf to 3.25317, saving model to checkpoints\n",
            "1250/1250 [==============================] - 32s 26ms/step - loss: 3.8851 - accuracy: 0.1286 - val_loss: 3.2532 - val_accuracy: 0.2131\n",
            "Epoch 2/100\n",
            "1248/1250 [============================>.] - ETA: 0s - loss: 3.2131 - accuracy: 0.2201\n",
            "Epoch 00002: val_loss improved from 3.25317 to 2.96138, saving model to checkpoints\n",
            "1250/1250 [==============================] - 32s 26ms/step - loss: 3.2129 - accuracy: 0.2202 - val_loss: 2.9614 - val_accuracy: 0.2637\n",
            "Epoch 3/100\n",
            "1248/1250 [============================>.] - ETA: 0s - loss: 2.9566 - accuracy: 0.2715\n",
            "Epoch 00003: val_loss improved from 2.96138 to 2.82869, saving model to checkpoints\n",
            "1250/1250 [==============================] - 32s 25ms/step - loss: 2.9561 - accuracy: 0.2715 - val_loss: 2.8287 - val_accuracy: 0.2923\n",
            "Epoch 4/100\n",
            "1249/1250 [============================>.] - ETA: 0s - loss: 2.7548 - accuracy: 0.3066\n",
            "Epoch 00004: val_loss improved from 2.82869 to 2.70643, saving model to checkpoints\n",
            "1250/1250 [==============================] - 32s 26ms/step - loss: 2.7549 - accuracy: 0.3067 - val_loss: 2.7064 - val_accuracy: 0.3186\n",
            "Epoch 5/100\n",
            "1249/1250 [============================>.] - ETA: 0s - loss: 2.5952 - accuracy: 0.3369\n",
            "Epoch 00005: val_loss improved from 2.70643 to 2.68753, saving model to checkpoints\n",
            "1250/1250 [==============================] - 32s 26ms/step - loss: 2.5950 - accuracy: 0.3369 - val_loss: 2.6875 - val_accuracy: 0.3344\n",
            "Epoch 6/100\n",
            "1249/1250 [============================>.] - ETA: 0s - loss: 2.4463 - accuracy: 0.3676\n",
            "Epoch 00006: val_loss improved from 2.68753 to 2.53614, saving model to checkpoints\n",
            "1250/1250 [==============================] - 33s 26ms/step - loss: 2.4463 - accuracy: 0.3675 - val_loss: 2.5361 - val_accuracy: 0.3539\n",
            "Epoch 7/100\n",
            "1250/1250 [==============================] - ETA: 0s - loss: 2.2980 - accuracy: 0.4022\n",
            "Epoch 00007: val_loss improved from 2.53614 to 2.51799, saving model to checkpoints\n",
            "1250/1250 [==============================] - 33s 26ms/step - loss: 2.2980 - accuracy: 0.4022 - val_loss: 2.5180 - val_accuracy: 0.3649\n",
            "Epoch 8/100\n",
            "1250/1250 [==============================] - ETA: 0s - loss: 2.1666 - accuracy: 0.4288\n",
            "Epoch 00008: val_loss improved from 2.51799 to 2.45812, saving model to checkpoints\n",
            "1250/1250 [==============================] - 32s 26ms/step - loss: 2.1666 - accuracy: 0.4288 - val_loss: 2.4581 - val_accuracy: 0.3788\n",
            "Epoch 9/100\n",
            "1249/1250 [============================>.] - ETA: 0s - loss: 2.0331 - accuracy: 0.4541\n",
            "Epoch 00009: val_loss improved from 2.45812 to 2.42931, saving model to checkpoints\n",
            "1250/1250 [==============================] - 33s 26ms/step - loss: 2.0329 - accuracy: 0.4542 - val_loss: 2.4293 - val_accuracy: 0.3858\n",
            "Epoch 10/100\n",
            "1248/1250 [============================>.] - ETA: 0s - loss: 1.9213 - accuracy: 0.4785\n",
            "Epoch 00010: val_loss improved from 2.42931 to 2.37685, saving model to checkpoints\n",
            "1250/1250 [==============================] - 33s 26ms/step - loss: 1.9216 - accuracy: 0.4785 - val_loss: 2.3768 - val_accuracy: 0.3991\n",
            "Epoch 11/100\n",
            "1250/1250 [==============================] - ETA: 0s - loss: 1.7998 - accuracy: 0.5082\n",
            "Epoch 00011: val_loss improved from 2.37685 to 2.32935, saving model to checkpoints\n",
            "1250/1250 [==============================] - 33s 26ms/step - loss: 1.7998 - accuracy: 0.5082 - val_loss: 2.3294 - val_accuracy: 0.4163\n",
            "Epoch 12/100\n",
            "1250/1250 [==============================] - ETA: 0s - loss: 1.6770 - accuracy: 0.5371\n",
            "Epoch 00012: val_loss did not improve from 2.32935\n",
            "1250/1250 [==============================] - 33s 26ms/step - loss: 1.6770 - accuracy: 0.5371 - val_loss: 2.4397 - val_accuracy: 0.4071\n",
            "Epoch 13/100\n",
            "1248/1250 [============================>.] - ETA: 0s - loss: 1.5713 - accuracy: 0.5612\n",
            "Epoch 00013: val_loss did not improve from 2.32935\n",
            "1250/1250 [==============================] - 32s 26ms/step - loss: 1.5711 - accuracy: 0.5612 - val_loss: 2.5301 - val_accuracy: 0.3896\n",
            "Epoch 14/100\n",
            "1250/1250 [==============================] - ETA: 0s - loss: 1.4628 - accuracy: 0.5854\n",
            "Epoch 00014: val_loss did not improve from 2.32935\n",
            "1250/1250 [==============================] - 32s 26ms/step - loss: 1.4628 - accuracy: 0.5854 - val_loss: 2.4160 - val_accuracy: 0.4174\n",
            "Epoch 15/100\n",
            "1248/1250 [============================>.] - ETA: 0s - loss: 1.3649 - accuracy: 0.6134\n",
            "Epoch 00015: val_loss did not improve from 2.32935\n",
            "1250/1250 [==============================] - 32s 26ms/step - loss: 1.3648 - accuracy: 0.6134 - val_loss: 2.4689 - val_accuracy: 0.4106\n",
            "Epoch 16/100\n",
            "1248/1250 [============================>.] - ETA: 0s - loss: 1.2690 - accuracy: 0.6370\n",
            "Epoch 00016: val_loss did not improve from 2.32935\n",
            "1250/1250 [==============================] - 32s 26ms/step - loss: 1.2692 - accuracy: 0.6370 - val_loss: 2.4252 - val_accuracy: 0.4292\n",
            "Epoch 17/100\n",
            "1249/1250 [============================>.] - ETA: 0s - loss: 1.1812 - accuracy: 0.6561\n",
            "Epoch 00017: val_loss did not improve from 2.32935\n",
            "1250/1250 [==============================] - 32s 26ms/step - loss: 1.1813 - accuracy: 0.6561 - val_loss: 2.5222 - val_accuracy: 0.4142\n",
            "Epoch 18/100\n",
            "1250/1250 [==============================] - ETA: 0s - loss: 1.0752 - accuracy: 0.6872\n",
            "Epoch 00018: val_loss did not improve from 2.32935\n",
            "1250/1250 [==============================] - 32s 26ms/step - loss: 1.0752 - accuracy: 0.6872 - val_loss: 2.5836 - val_accuracy: 0.4092\n",
            "Epoch 19/100\n",
            "1249/1250 [============================>.] - ETA: 0s - loss: 1.0044 - accuracy: 0.7061\n",
            "Epoch 00019: val_loss did not improve from 2.32935\n",
            "1250/1250 [==============================] - 32s 26ms/step - loss: 1.0043 - accuracy: 0.7061 - val_loss: 2.5299 - val_accuracy: 0.4250\n",
            "Epoch 20/100\n",
            "1248/1250 [============================>.] - ETA: 0s - loss: 0.9312 - accuracy: 0.7251\n",
            "Epoch 00020: val_loss did not improve from 2.32935\n",
            "1250/1250 [==============================] - 32s 26ms/step - loss: 0.9311 - accuracy: 0.7252 - val_loss: 2.6159 - val_accuracy: 0.4252\n",
            "Epoch 21/100\n",
            "1250/1250 [==============================] - ETA: 0s - loss: 0.8808 - accuracy: 0.7376\n",
            "Epoch 00021: val_loss did not improve from 2.32935\n",
            "1250/1250 [==============================] - 33s 26ms/step - loss: 0.8808 - accuracy: 0.7376 - val_loss: 2.6154 - val_accuracy: 0.4260\n"
          ],
          "name": "stdout"
        }
      ]
    },
    {
      "cell_type": "code",
      "metadata": {
        "id": "bBijbKhct5tB",
        "outputId": "d18a916a-f191-47d7-92db-63930529f1b7",
        "colab": {
          "base_uri": "https://localhost:8080/",
          "height": 295
        }
      },
      "source": [
        "#Plot the Training and Validation accuracy v/s Epochs\n",
        "#history.keys() = ['accuracy', 'loss', 'val_accuracy', 'val_loss']\n",
        "\n",
        "plt.plot(history.history['accuracy'])\n",
        "plt.plot(history.history['val_accuracy'])\n",
        "plt.title('Model accuracy')\n",
        "plt.ylabel('Accuracy')\n",
        "plt.xlabel('Epochs')\n",
        "plt.legend(['train', 'validation'], loc='upper left')\n",
        "plt.show()"
      ],
      "execution_count": 13,
      "outputs": [
        {
          "output_type": "display_data",
          "data": {
            "image/png": "[encoded data removed]",
            "text/plain": [
              "<Figure size 432x288 with 1 Axes>"
            ]
          },
          "metadata": {
            "tags": [],
            "needs_background": "light"
          }
        }
      ]
    },
    {
      "cell_type": "code",
      "metadata": {
        "id": "pNEtN76Lt7XU",
        "outputId": "21c917b7-ff04-4505-fba9-649c50e3f676",
        "colab": {
          "base_uri": "https://localhost:8080/",
          "height": 295
        }
      },
      "source": [
        "#Plot the Training and Validation loss v/s Epochs\n",
        "\n",
        "plt.plot(history.history['loss'])\n",
        "plt.plot(history.history['val_loss'])\n",
        "plt.title('Model loss')\n",
        "plt.ylabel('Loss')\n",
        "plt.xlabel('Epochs')\n",
        "plt.legend(['train', 'validation'], loc='upper left')\n",
        "plt.show()"
      ],
      "execution_count": 14,
      "outputs": [
        {
          "output_type": "display_data",
          "data": {
            "image/png": "[encoded data removed]",
            "text/plain": [
              "<Figure size 432x288 with 1 Axes>"
            ]
          },
          "metadata": {
            "tags": [],
            "needs_background": "light"
          }
        }
      ]
    },
    {
      "cell_type": "code",
      "metadata": {
        "id": "0DWUWmnCt8_T",
        "outputId": "90707d54-0a9f-43ba-d8fe-836f78707e78",
        "colab": {
          "base_uri": "https://localhost:8080/",
          "height": 34
        }
      },
      "source": [
        "#Testing the model using the best weights of the model\n",
        "\n",
        "model_test = ResNet18(input_shape = (32, 32, 3), classes = 100)\n",
        "model_test.compile(loss='categorical_crossentropy', optimizer='adam', metrics=['accuracy'])\n",
        "\n",
        "model_test.load_weights('./ResNet18_ADAM_DropOut.h5')\n",
        "loss, acc = model_test.evaluate(x_test,  y_test, verbose=2)\n",
        "\n",
        "predict_y_test_o = model_test.predict(x_test, verbose=0)"
      ],
      "execution_count": 15,
      "outputs": [
        {
          "output_type": "stream",
          "text": [
            "313/313 - 2s - loss: 2.5998 - accuracy: 0.4364\n"
          ],
          "name": "stdout"
        }
      ]
    },
    {
      "cell_type": "code",
      "metadata": {
        "id": "F7cGj9sit-0p",
        "outputId": "4913a7e0-861e-4aa2-b7e7-369db4d3438a",
        "colab": {
          "base_uri": "https://localhost:8080/",
          "height": 187
        }
      },
      "source": [
        "# #Precision, recall and accuracy of the model on test data\n",
        "predict_y_test = np.argmax(predict_y_test_o, axis=1)\n",
        "\n",
        "# accuracy: (tp + tn) / (p + n)\n",
        "accuracy = accuracy_score(y_test_o, predict_y_test)\n",
        "print('Accuracy: %f' % accuracy)\n",
        "\n",
        "# precision tp / (tp + fp)\n",
        "precision = precision_score(y_test_o, predict_y_test, average='macro')\n",
        "print('Precision: %f' % precision)\n",
        "\n",
        "# recall: tp / (tp + fn)\n",
        "recall = recall_score(y_test_o, predict_y_test, average='macro')\n",
        "print('Recall: %f' % recall)\n",
        "\n",
        "# Confusion matrix\n",
        "confusion_matrix_ = confusion_matrix(y_test_o, predict_y_test)\n",
        "print(confusion_matrix_)"
      ],
      "execution_count": 16,
      "outputs": [
        {
          "output_type": "stream",
          "text": [
            "Accuracy: 0.436400\n",
            "Precision: 0.444581\n",
            "Recall: 0.436400\n",
            "[[75  1  1 ...  0  0  0]\n",
            " [ 0 63  1 ...  0  1  0]\n",
            " [ 1  2 35 ...  0  1  1]\n",
            " ...\n",
            " [ 0  0  0 ... 41  0  0]\n",
            " [ 0  2  4 ...  0 20  0]\n",
            " [ 0  0  0 ...  0  0 44]]\n"
          ],
          "name": "stdout"
        }
      ]
    },
    {
      "cell_type": "code",
      "metadata": {
        "id": "rHbsXFVtuAWb",
        "outputId": "13bfdc6e-0fc7-4155-dcec-aef3c35133b8",
        "colab": {
          "base_uri": "https://localhost:8080/",
          "height": 272
        }
      },
      "source": [
        "import seaborn as sb\n",
        "heat_map = sb.heatmap(confusion_matrix_)\n",
        "plt.show()"
      ],
      "execution_count": 17,
      "outputs": [
        {
          "output_type": "display_data",
          "data": {
            "image/png": "[encoded data removed]",
            "text/plain": [
              "<Figure size 432x288 with 2 Axes>"
            ]
          },
          "metadata": {
            "tags": [],
            "needs_background": "light"
          }
        }
      ]
    },
    {
      "cell_type": "code",
      "metadata": {
        "id": "EP1z8Birl1mF"
      },
      "source": [
        ""
      ],
      "execution_count": 17,
      "outputs": []
    }
  ]
}