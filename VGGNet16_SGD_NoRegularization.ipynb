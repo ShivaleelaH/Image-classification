{
  "nbformat": 4,
  "nbformat_minor": 0,
  "metadata": {
    "colab": {
      "name": "VGGNet16_SGD_NoRegularization.ipynb",
      "provenance": [],
      "collapsed_sections": []
    },
    "kernelspec": {
      "name": "python3",
      "display_name": "Python 3"
    },
    "accelerator": "GPU"
  },
  "cells": [
    {
      "cell_type": "markdown",
      "metadata": {
        "id": "-l0zSkoxa8zg"
      },
      "source": [
        "*   Network     : VGG16\n",
        "*   Optimizer   : SGD\n",
        "*   Regularizer : No regularization\n",
        "\n",
        "Ref for code: https://github.com/geifmany/cifar-vgg/blob/master/cifar100vgg.py"
      ]
    },
    {
      "cell_type": "code",
      "metadata": {
        "id": "IjcbWcyEa6wL"
      },
      "source": [
        "from __future__ import print_function\n",
        "\n",
        "import keras\n",
        "from keras import optimizers\n",
        "from keras import backend as K\n",
        "from keras import regularizers\n",
        "from keras import callbacks\n",
        "\n",
        "from keras.datasets import cifar100\n",
        "from keras.layers.core import Lambda\n",
        "from keras.layers import Dense, Dropout, Activation, Flatten, Conv2D, MaxPooling2D, BatchNormalization, LeakyReLU\n",
        "from keras.models import Sequential\n",
        "from keras.preprocessing.image import ImageDataGenerator\n",
        "\n",
        "from sklearn.model_selection import train_test_split\n",
        "from sklearn.metrics import accuracy_score, precision_score, recall_score, confusion_matrix, classification_report\n",
        "\n",
        "import numpy as np\n",
        "import matplotlib.pyplot as plt"
      ],
      "execution_count": null,
      "outputs": []
    },
    {
      "cell_type": "code",
      "metadata": {
        "id": "cXlccLKebkGe"
      },
      "source": [
        "#Loading cifar100 dataset and dividing into Train, Validation and Test sets\n",
        "\n",
        "(X_train, Y_train), (x_test, y_test_o) = cifar100.load_data()\n",
        "\n",
        "X_train = X_train.astype('float32')\n",
        "x_test = x_test.astype('float32')\n",
        "\n",
        "x_train, x_validation, y_train, y_validation = train_test_split(X_train, Y_train, test_size=0.2, random_state=42)\n",
        "\n",
        "y_train = keras.utils.to_categorical(y_train, 100)\n",
        "y_validation = keras.utils.to_categorical(y_validation, 100)\n",
        "y_test = keras.utils.to_categorical(y_test_o, 100)"
      ],
      "execution_count": null,
      "outputs": []
    },
    {
      "cell_type": "code",
      "metadata": {
        "id": "Lquv0qexcAe5"
      },
      "source": [
        "#Definition of hyper parameters and other characteristics of the network like the activation functions\n",
        "\n",
        "num_classes = 100\n",
        "weight_decay = 0.0005\n",
        "x_shape = [32,32,3]\n",
        "\n",
        "conv_activation_func = 'elu'\n",
        "dense_activation_func = 'elu'\n",
        "ouput_activation_func = 'softmax'\n",
        "\n",
        "batch_size = 128\n",
        "maxepoches = 100\n",
        "l_rate = 0.01\n",
        "# lr_decay = 1e-6\n",
        "# lr_drop = 20"
      ],
      "execution_count": null,
      "outputs": []
    },
    {
      "cell_type": "code",
      "metadata": {
        "id": "i9T-S8kKcei7"
      },
      "source": [
        "#Model definition of VGG16\n",
        "def createModel():\n",
        "  model = Sequential()\n",
        "  weight_decay = 0.0005 #Hyper parameter\n",
        "\n",
        "  model.add(Conv2D(64, (3, 3), padding='same', input_shape=x_shape))\n",
        "  model.add(Activation(conv_activation_func))\n",
        "\n",
        "  model.add(Conv2D(64, (3, 3), padding='same'))\n",
        "  model.add(Activation(conv_activation_func))\n",
        "\n",
        "  model.add(MaxPooling2D(pool_size=(2, 2), strides=2))\n",
        "\n",
        "  model.add(Conv2D(128, (3, 3), padding='same'))\n",
        "  model.add(Activation(conv_activation_func))\n",
        "\n",
        "  model.add(Conv2D(128, (3, 3), padding='same'))\n",
        "  model.add(Activation(conv_activation_func))\n",
        "\n",
        "  model.add(MaxPooling2D(pool_size=(2, 2), strides=2))\n",
        "\n",
        "  model.add(Conv2D(256, (3, 3), padding='same'))\n",
        "  model.add(Activation(conv_activation_func))\n",
        "\n",
        "  model.add(Conv2D(256, (3, 3), padding='same'))\n",
        "  model.add(Activation(conv_activation_func))\n",
        "\n",
        "  model.add(Conv2D(256, (3, 3), padding='same'))\n",
        "  model.add(Activation(conv_activation_func))\n",
        "\n",
        "  model.add(MaxPooling2D(pool_size=(2, 2), strides=2))\n",
        "\n",
        "  model.add(Conv2D(512, (3, 3), padding='same'))\n",
        "  model.add(Activation(conv_activation_func))\n",
        "\n",
        "  model.add(Conv2D(512, (3, 3), padding='same'))\n",
        "  model.add(Activation(conv_activation_func))\n",
        "\n",
        "  model.add(Conv2D(512, (3, 3), padding='same'))\n",
        "  model.add(Activation(conv_activation_func))\n",
        "\n",
        "  model.add(MaxPooling2D(pool_size=(2, 2), strides=2))\n",
        "\n",
        "  # model.add(Conv2D(512, (3, 3), padding='same'))\n",
        "  # model.add(Activation(conv_activation_func))\n",
        "\n",
        "  # model.add(Conv2D(512, (3, 3), padding='same'))\n",
        "  # model.add(Activation(conv_activation_func))\n",
        "\n",
        "  # model.add(Conv2D(512, (3, 3), padding='same'))\n",
        "  # model.add(Activation(conv_activation_func))\n",
        "\n",
        "  # model.add(MaxPooling2D(pool_size=(2, 2), strides=2))\n",
        "\n",
        "  model.add(Flatten())\n",
        "\n",
        "  model.add(Dense(512))\n",
        "  model.add(Activation(dense_activation_func))\n",
        "\n",
        "  model.add(Dense(512))\n",
        "  model.add(Activation(dense_activation_func))\n",
        "\n",
        "  model.add(Dense(num_classes))\n",
        "  model.add(Activation(ouput_activation_func))\n",
        "\n",
        "  #Definition of SGD optimizer\n",
        "  # sgd = optimizers.SGD(lr=l_rate, decay=lr_decay, momentum=0.9, nesterov=True)\n",
        "  sgd = optimizers.SGD(learning_rate=l_rate)\n",
        "\n",
        "  #Compiling the model\n",
        "  model.compile(loss='categorical_crossentropy', optimizer=sgd, metrics=['accuracy'])\n",
        "\n",
        "  return model"
      ],
      "execution_count": null,
      "outputs": []
    },
    {
      "cell_type": "code",
      "metadata": {
        "id": "GqRA-q7-r4lg"
      },
      "source": [
        "#data augmentation\n",
        "datagen = ImageDataGenerator(\n",
        "    featurewise_center=False,  # set input mean to 0 over the dataset\n",
        "    samplewise_center=False,  # set each sample mean to 0\n",
        "    featurewise_std_normalization=False,  # divide inputs by std of the dataset\n",
        "    samplewise_std_normalization=False,  # divide each input by its std\n",
        "    zca_whitening=False,  # apply ZCA whitening\n",
        "    rotation_range=15,  # randomly rotate images in the range (degrees, 0 to 180)\n",
        "    width_shift_range=0.1,  # randomly shift images horizontally (fraction of total width)\n",
        "    height_shift_range=0.1,  # randomly shift images vertically (fraction of total height)\n",
        "    horizontal_flip=True,  # randomly flip images\n",
        "    vertical_flip=False)  # randomly flip images\n",
        "# (std, mean, and principal components if ZCA whitening is applied).\n",
        "datagen.fit(x_train)"
      ],
      "execution_count": null,
      "outputs": []
    },
    {
      "cell_type": "code",
      "metadata": {
        "id": "-ftWzTS_p6qw"
      },
      "source": [
        "#Creating an instance of the model\n",
        "\n",
        "model = createModel()"
      ],
      "execution_count": null,
      "outputs": []
    },
    {
      "cell_type": "code",
      "metadata": {
        "id": "4WcsAtGdkutI"
      },
      "source": [
        "#Defintion of callbacks with EarlyStopping \n",
        "\n",
        "callback = callbacks.EarlyStopping(monitor='val_loss', patience=10)"
      ],
      "execution_count": null,
      "outputs": []
    },
    {
      "cell_type": "code",
      "metadata": {
        "id": "U3bOWudPrem7"
      },
      "source": [
        "#Definition of saving the best weights of the model with ModelCheckpoint\n",
        "\n",
        "checkpoint_path = \"checkpoints/VGGNet16_SGD_NoRegularization\"\n",
        "checkpoint = callbacks.ModelCheckpoint(filepath=checkpoint_path, monitor='val_loss', save_best_only=True, save_weights_only=True, verbose=1, mode='min')\n",
        "# checkpoint = callbacks.ModelCheckpoint('VGGNet16_SGD_NoRegularization.h5', monitor='val_loss', save_best_only=True, save_weights_only=True, verbose=1, mode='auto')"
      ],
      "execution_count": null,
      "outputs": []
    },
    {
      "cell_type": "code",
      "metadata": {
        "id": "6ftZ1ouBfPBE",
        "outputId": "e70b1ac5-762d-4eda-d4ee-03c9cba5c791",
        "colab": {
          "base_uri": "https://localhost:8080/",
          "height": 1000
        }
      },
      "source": [
        "#Training the model in the training dataset\n",
        "\n",
        "history = model.fit(datagen.flow(x_train, y_train,\n",
        "                                         batch_size=batch_size),\n",
        "                            steps_per_epoch=x_train.shape[0] // batch_size,\n",
        "                            epochs=maxepoches,\n",
        "                            validation_data=(x_validation, y_validation),callbacks=[callback, checkpoint],verbose=2)\n",
        "\n",
        "# history = model.fit(x_train, y_train, steps_per_epoch=x_train.shape[0] // batch_size, epochs=maxepoches, validation_data=(x_validation, y_validation), callbacks=[callback, checkpoint])\n",
        "model.save_weights('VGGNet16_SGD_NoRegularization.h5')"
      ],
      "execution_count": null,
      "outputs": [
        {
          "output_type": "stream",
          "text": [
            "Epoch 1/100\n",
            "\n",
            "Epoch 00001: val_loss improved from inf to 3.77034, saving model to checkpoints/VGGNet16_SGD_NoRegularization\n",
            "312/312 - 23s - loss: 4.1662 - accuracy: 0.0722 - val_loss: 3.7703 - val_accuracy: 0.1226\n",
            "Epoch 2/100\n",
            "\n",
            "Epoch 00002: val_loss improved from 3.77034 to 3.28177, saving model to checkpoints/VGGNet16_SGD_NoRegularization\n",
            "312/312 - 23s - loss: 3.5928 - accuracy: 0.1562 - val_loss: 3.2818 - val_accuracy: 0.2067\n",
            "Epoch 3/100\n",
            "\n",
            "Epoch 00003: val_loss improved from 3.28177 to 3.10986, saving model to checkpoints/VGGNet16_SGD_NoRegularization\n",
            "312/312 - 23s - loss: 3.2867 - accuracy: 0.2087 - val_loss: 3.1099 - val_accuracy: 0.2432\n",
            "Epoch 4/100\n",
            "\n",
            "Epoch 00004: val_loss improved from 3.10986 to 2.89091, saving model to checkpoints/VGGNet16_SGD_NoRegularization\n",
            "312/312 - 23s - loss: 3.0618 - accuracy: 0.2499 - val_loss: 2.8909 - val_accuracy: 0.2825\n",
            "Epoch 5/100\n",
            "\n",
            "Epoch 00005: val_loss improved from 2.89091 to 2.79816, saving model to checkpoints/VGGNet16_SGD_NoRegularization\n",
            "312/312 - 23s - loss: 2.8825 - accuracy: 0.2875 - val_loss: 2.7982 - val_accuracy: 0.2996\n",
            "Epoch 6/100\n",
            "\n",
            "Epoch 00006: val_loss improved from 2.79816 to 2.78444, saving model to checkpoints/VGGNet16_SGD_NoRegularization\n",
            "312/312 - 22s - loss: 2.7313 - accuracy: 0.3140 - val_loss: 2.7844 - val_accuracy: 0.3056\n",
            "Epoch 7/100\n",
            "\n",
            "Epoch 00007: val_loss improved from 2.78444 to 2.52999, saving model to checkpoints/VGGNet16_SGD_NoRegularization\n",
            "312/312 - 22s - loss: 2.5852 - accuracy: 0.3426 - val_loss: 2.5300 - val_accuracy: 0.3615\n",
            "Epoch 8/100\n",
            "\n",
            "Epoch 00008: val_loss did not improve from 2.52999\n",
            "312/312 - 22s - loss: 2.4690 - accuracy: 0.3675 - val_loss: 2.5723 - val_accuracy: 0.3479\n",
            "Epoch 9/100\n",
            "\n",
            "Epoch 00009: val_loss improved from 2.52999 to 2.38832, saving model to checkpoints/VGGNet16_SGD_NoRegularization\n",
            "312/312 - 22s - loss: 2.3499 - accuracy: 0.3939 - val_loss: 2.3883 - val_accuracy: 0.3930\n",
            "Epoch 10/100\n",
            "\n",
            "Epoch 00010: val_loss improved from 2.38832 to 2.32301, saving model to checkpoints/VGGNet16_SGD_NoRegularization\n",
            "312/312 - 22s - loss: 2.2506 - accuracy: 0.4151 - val_loss: 2.3230 - val_accuracy: 0.4039\n",
            "Epoch 11/100\n",
            "\n",
            "Epoch 00011: val_loss improved from 2.32301 to 2.28708, saving model to checkpoints/VGGNet16_SGD_NoRegularization\n",
            "312/312 - 22s - loss: 2.1367 - accuracy: 0.4387 - val_loss: 2.2871 - val_accuracy: 0.4124\n",
            "Epoch 12/100\n",
            "\n",
            "Epoch 00012: val_loss improved from 2.28708 to 2.28487, saving model to checkpoints/VGGNet16_SGD_NoRegularization\n",
            "312/312 - 22s - loss: 2.0630 - accuracy: 0.4552 - val_loss: 2.2849 - val_accuracy: 0.4101\n",
            "Epoch 13/100\n",
            "\n",
            "Epoch 00013: val_loss improved from 2.28487 to 2.19497, saving model to checkpoints/VGGNet16_SGD_NoRegularization\n",
            "312/312 - 22s - loss: 1.9605 - accuracy: 0.4787 - val_loss: 2.1950 - val_accuracy: 0.4284\n",
            "Epoch 14/100\n",
            "\n",
            "Epoch 00014: val_loss improved from 2.19497 to 2.14692, saving model to checkpoints/VGGNet16_SGD_NoRegularization\n",
            "312/312 - 22s - loss: 1.8827 - accuracy: 0.4947 - val_loss: 2.1469 - val_accuracy: 0.4431\n",
            "Epoch 15/100\n",
            "\n",
            "Epoch 00015: val_loss did not improve from 2.14692\n",
            "312/312 - 22s - loss: 1.8077 - accuracy: 0.5123 - val_loss: 2.2697 - val_accuracy: 0.4224\n",
            "Epoch 16/100\n",
            "\n",
            "Epoch 00016: val_loss improved from 2.14692 to 2.04237, saving model to checkpoints/VGGNet16_SGD_NoRegularization\n",
            "312/312 - 22s - loss: 1.7281 - accuracy: 0.5314 - val_loss: 2.0424 - val_accuracy: 0.4682\n",
            "Epoch 17/100\n",
            "\n",
            "Epoch 00017: val_loss did not improve from 2.04237\n",
            "312/312 - 22s - loss: 1.6542 - accuracy: 0.5470 - val_loss: 2.0906 - val_accuracy: 0.4526\n",
            "Epoch 18/100\n",
            "\n",
            "Epoch 00018: val_loss did not improve from 2.04237\n",
            "312/312 - 22s - loss: 1.5969 - accuracy: 0.5609 - val_loss: 2.1551 - val_accuracy: 0.4550\n",
            "Epoch 19/100\n",
            "\n",
            "Epoch 00019: val_loss did not improve from 2.04237\n",
            "312/312 - 22s - loss: 1.5285 - accuracy: 0.5756 - val_loss: 2.1507 - val_accuracy: 0.4579\n",
            "Epoch 20/100\n",
            "\n",
            "Epoch 00020: val_loss did not improve from 2.04237\n",
            "312/312 - 22s - loss: 1.4494 - accuracy: 0.5959 - val_loss: 2.1506 - val_accuracy: 0.4608\n",
            "Epoch 21/100\n",
            "\n",
            "Epoch 00021: val_loss did not improve from 2.04237\n",
            "312/312 - 22s - loss: 1.3907 - accuracy: 0.6075 - val_loss: 2.1034 - val_accuracy: 0.4706\n",
            "Epoch 22/100\n",
            "\n",
            "Epoch 00022: val_loss did not improve from 2.04237\n",
            "312/312 - 22s - loss: 1.3257 - accuracy: 0.6262 - val_loss: 2.1471 - val_accuracy: 0.4619\n",
            "Epoch 23/100\n",
            "\n",
            "Epoch 00023: val_loss did not improve from 2.04237\n",
            "312/312 - 22s - loss: 1.2698 - accuracy: 0.6394 - val_loss: 2.0915 - val_accuracy: 0.4730\n",
            "Epoch 24/100\n",
            "\n",
            "Epoch 00024: val_loss did not improve from 2.04237\n",
            "312/312 - 22s - loss: 1.2122 - accuracy: 0.6551 - val_loss: 2.0521 - val_accuracy: 0.4854\n",
            "Epoch 25/100\n",
            "\n",
            "Epoch 00025: val_loss did not improve from 2.04237\n",
            "312/312 - 22s - loss: 1.1607 - accuracy: 0.6648 - val_loss: 2.1353 - val_accuracy: 0.4721\n",
            "Epoch 26/100\n",
            "\n",
            "Epoch 00026: val_loss did not improve from 2.04237\n",
            "312/312 - 22s - loss: 1.1054 - accuracy: 0.6835 - val_loss: 2.1478 - val_accuracy: 0.4779\n"
          ],
          "name": "stdout"
        }
      ]
    },
    {
      "cell_type": "code",
      "metadata": {
        "id": "ZbJn2pLofiI4",
        "outputId": "135026ef-037f-4ace-e09d-b30cf7dfbcc6",
        "colab": {
          "base_uri": "https://localhost:8080/",
          "height": 295
        }
      },
      "source": [
        "#Plot the Training and Validation accuracy v/s Epochs\n",
        "#history.keys() = ['accuracy', 'loss', 'val_accuracy', 'val_loss']\n",
        "\n",
        "plt.plot(history.history['accuracy'])\n",
        "plt.plot(history.history['val_accuracy'])\n",
        "plt.title('Model accuracy')\n",
        "plt.ylabel('Accuracy')\n",
        "plt.xlabel('Epochs')\n",
        "plt.legend(['train', 'validation'], loc='upper left')\n",
        "plt.show()"
      ],
      "execution_count": null,
      "outputs": [
        {
          "output_type": "display_data",
          "data": {
            "image/png": "[encoded data removed]",
            "text/plain": [
              "<Figure size 432x288 with 1 Axes>"
            ]
          },
          "metadata": {
            "tags": [],
            "needs_background": "light"
          }
        }
      ]
    },
    {
      "cell_type": "code",
      "metadata": {
        "id": "cJJEroWEuPv_",
        "outputId": "ae3f7bcb-5fef-4b40-967e-b855648055ca",
        "colab": {
          "base_uri": "https://localhost:8080/",
          "height": 295
        }
      },
      "source": [
        "#Plot the Training and Validation loss v/s Epochs\n",
        "\n",
        "plt.plot(history.history['loss'])\n",
        "plt.plot(history.history['val_loss'])\n",
        "plt.title('Model loss')\n",
        "plt.ylabel('Loss')\n",
        "plt.xlabel('Epochs')\n",
        "plt.legend(['train', 'validation'], loc='upper left')\n",
        "plt.show()"
      ],
      "execution_count": null,
      "outputs": [
        {
          "output_type": "display_data",
          "data": {
            "image/png": "[encoded data removed]",
            "text/plain": [
              "<Figure size 432x288 with 1 Axes>"
            ]
          },
          "metadata": {
            "tags": [],
            "needs_background": "light"
          }
        }
      ]
    },
    {
      "cell_type": "code",
      "metadata": {
        "id": "HUs89-B1gHGU",
        "outputId": "67135439-54b3-4e58-8cd7-1a6e10452d57",
        "colab": {
          "base_uri": "https://localhost:8080/",
          "height": 105
        }
      },
      "source": [
        "#Testing the model using the best weights of the model\n",
        "import os\n",
        "model_test = createModel()\n",
        "model_test.load_weights('./VGGNet16_SGD_NoRegularization.h5')\n",
        "# model_test.load_weights(checkpoint_path)\n",
        "# model_test.load_weights('VGGNet16_SGD_NoRegularization.h5')\n",
        "loss, acc = model_test.evaluate(x_test,  y_test, verbose=2)\n",
        "# print(loss, acc)\n",
        "\n",
        "# predict classes for test set\n",
        "predict_y_test = model_test.predict_classes(x_test, verbose=0)"
      ],
      "execution_count": null,
      "outputs": [
        {
          "output_type": "stream",
          "text": [
            "313/313 - 2s - loss: 2.1024 - accuracy: 0.4973\n",
            "WARNING:tensorflow:From <ipython-input-21-620ffefc97dc>:11: Sequential.predict_classes (from tensorflow.python.keras.engine.sequential) is deprecated and will be removed after 2021-01-01.\n",
            "Instructions for updating:\n",
            "Please use instead:* `np.argmax(model.predict(x), axis=-1)`,   if your model does multi-class classification   (e.g. if it uses a `softmax` last-layer activation).* `(model.predict(x) > 0.5).astype(\"int32\")`,   if your model does binary classification   (e.g. if it uses a `sigmoid` last-layer activation).\n"
          ],
          "name": "stdout"
        }
      ]
    },
    {
      "cell_type": "code",
      "metadata": {
        "id": "9WS7PSCvgenX",
        "outputId": "28883a03-cfbd-4edd-8147-12066de9ab81",
        "colab": {
          "base_uri": "https://localhost:8080/",
          "height": 187
        }
      },
      "source": [
        "#Precision, recall and accuracy of the model on test data\n",
        " \n",
        "# accuracy: (tp + tn) / (p + n)\n",
        "accuracy = accuracy_score(y_test_o, predict_y_test)\n",
        "print('Accuracy: %f' % accuracy)\n",
        "\n",
        "# precision tp / (tp + fp)\n",
        "precision = precision_score(y_test_o, predict_y_test, average='macro')\n",
        "print('Precision: %f' % precision)\n",
        "\n",
        "# recall: tp / (tp + fn)\n",
        "recall = recall_score(y_test_o, predict_y_test, average='macro')\n",
        "print('Recall: %f' % recall)\n",
        "\n",
        "# Confusion matrix\n",
        "confusion_matrix_ = confusion_matrix(y_test_o, predict_y_test)\n",
        "print(confusion_matrix_)"
      ],
      "execution_count": null,
      "outputs": [
        {
          "output_type": "stream",
          "text": [
            "Accuracy: 0.497300\n",
            "Precision: 0.526244\n",
            "Recall: 0.497300\n",
            "[[75  0  1 ...  0  0  0]\n",
            " [ 0 57  0 ...  1  0  3]\n",
            " [ 1  0 39 ...  0  6  0]\n",
            " ...\n",
            " [ 0  1  0 ... 52  0  0]\n",
            " [ 0  1  6 ...  1 33  1]\n",
            " [ 0  0  0 ...  0  0 47]]\n"
          ],
          "name": "stdout"
        }
      ]
    },
    {
      "cell_type": "code",
      "metadata": {
        "id": "0abxTPSake3-",
        "outputId": "d9f1487d-b8aa-4a19-8fe6-a56f91aafd5b",
        "colab": {
          "base_uri": "https://localhost:8080/",
          "height": 271
        }
      },
      "source": [
        "import seaborn as sb\n",
        "heat_map = sb.heatmap(confusion_matrix_)\n",
        "plt.show()"
      ],
      "execution_count": null,
      "outputs": [
        {
          "output_type": "display_data",
          "data": {
            "image/png": "[encoded data removed]",
            "text/plain": [
              "<Figure size 432x288 with 2 Axes>"
            ]
          },
          "metadata": {
            "tags": [],
            "needs_background": "light"
          }
        }
      ]
    },
    {
      "cell_type": "code",
      "metadata": {
        "id": "otrHr-pPwpFu"
      },
      "source": [
        ""
      ],
      "execution_count": null,
      "outputs": []
    }
  ]
}